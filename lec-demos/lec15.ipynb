{
 "cells": [
  {
   "cell_type": "markdown",
   "metadata": {},
   "source": [
    "<h1> Lecture 15 \n",
    "\n",
    "Data Science 8, Summer 2021 </h1>"
   ]
  },
  {
   "cell_type": "markdown",
   "metadata": {},
   "source": [
    "<h3>\n",
    "<b>\n",
    "<ul>\n",
    "<li>Hypothesis Testing and $p$-values   </li><br>\n",
    "            \n",
    "<li>Making Decisions with Incomplete Information  </li><br>\n",
    "\n",
    "<li>Error Probabilities  </li><br>\n",
    "</ul>\n",
    "</b>\n",
    "</h3>"
   ]
  },
  {
   "cell_type": "code",
   "execution_count": 1,
   "metadata": {},
   "outputs": [],
   "source": [
    "from datascience import *\n",
    "import numpy as np\n",
    "import warnings\n",
    "warnings.filterwarnings(\"ignore\")\n",
    "\n",
    "%matplotlib inline\n",
    "import matplotlib.pyplot as plots\n",
    "plots.style.use('fivethirtyeight')\n",
    "plots.rcParams[\"patch.force_edgecolor\"] = True\n",
    "\n",
    "#The following allows porting images into a Markdown window\n",
    "from IPython.display import Image"
   ]
  },
  {
   "cell_type": "markdown",
   "metadata": {},
   "source": [
    "## The GSI's Defense ##"
   ]
  },
  {
   "cell_type": "code",
   "execution_count": 2,
   "metadata": {
    "scrolled": true
   },
   "outputs": [
    {
     "data": {
      "text/html": [
       "<table border=\"1\" class=\"dataframe\">\n",
       "    <thead>\n",
       "        <tr>\n",
       "            <th>Section</th> <th>Midterm</th>\n",
       "        </tr>\n",
       "    </thead>\n",
       "    <tbody>\n",
       "        <tr>\n",
       "            <td>1      </td> <td>22     </td>\n",
       "        </tr>\n",
       "        <tr>\n",
       "            <td>2      </td> <td>12     </td>\n",
       "        </tr>\n",
       "        <tr>\n",
       "            <td>2      </td> <td>23     </td>\n",
       "        </tr>\n",
       "        <tr>\n",
       "            <td>2      </td> <td>14     </td>\n",
       "        </tr>\n",
       "        <tr>\n",
       "            <td>1      </td> <td>20     </td>\n",
       "        </tr>\n",
       "        <tr>\n",
       "            <td>3      </td> <td>25     </td>\n",
       "        </tr>\n",
       "        <tr>\n",
       "            <td>4      </td> <td>19     </td>\n",
       "        </tr>\n",
       "        <tr>\n",
       "            <td>1      </td> <td>24     </td>\n",
       "        </tr>\n",
       "        <tr>\n",
       "            <td>5      </td> <td>8      </td>\n",
       "        </tr>\n",
       "        <tr>\n",
       "            <td>6      </td> <td>14     </td>\n",
       "        </tr>\n",
       "    </tbody>\n",
       "</table>\n",
       "<p>... (349 rows omitted)</p>"
      ],
      "text/plain": [
       "Section | Midterm\n",
       "1       | 22\n",
       "2       | 12\n",
       "2       | 23\n",
       "2       | 14\n",
       "1       | 20\n",
       "3       | 25\n",
       "4       | 19\n",
       "1       | 24\n",
       "5       | 8\n",
       "6       | 14\n",
       "... (349 rows omitted)"
      ]
     },
     "execution_count": 2,
     "metadata": {},
     "output_type": "execute_result"
    }
   ],
   "source": [
    "scores = Table.read_table('scores_by_section.csv')\n",
    "scores"
   ]
  },
  {
   "cell_type": "markdown",
   "metadata": {},
   "source": [
    "<h3> Headcounts of each of the twelve sections</h3>"
   ]
  },
  {
   "cell_type": "code",
   "execution_count": 3,
   "metadata": {},
   "outputs": [
    {
     "data": {
      "text/html": [
       "<table border=\"1\" class=\"dataframe\">\n",
       "    <thead>\n",
       "        <tr>\n",
       "            <th>Section</th> <th>count</th>\n",
       "        </tr>\n",
       "    </thead>\n",
       "    <tbody>\n",
       "        <tr>\n",
       "            <td>1      </td> <td>32   </td>\n",
       "        </tr>\n",
       "        <tr>\n",
       "            <td>2      </td> <td>32   </td>\n",
       "        </tr>\n",
       "        <tr>\n",
       "            <td>3      </td> <td>27   </td>\n",
       "        </tr>\n",
       "        <tr>\n",
       "            <td>4      </td> <td>30   </td>\n",
       "        </tr>\n",
       "        <tr>\n",
       "            <td>5      </td> <td>33   </td>\n",
       "        </tr>\n",
       "        <tr>\n",
       "            <td>6      </td> <td>32   </td>\n",
       "        </tr>\n",
       "        <tr>\n",
       "            <td>7      </td> <td>24   </td>\n",
       "        </tr>\n",
       "        <tr>\n",
       "            <td>8      </td> <td>29   </td>\n",
       "        </tr>\n",
       "        <tr>\n",
       "            <td>9      </td> <td>30   </td>\n",
       "        </tr>\n",
       "        <tr>\n",
       "            <td>10     </td> <td>34   </td>\n",
       "        </tr>\n",
       "        <tr>\n",
       "            <td>11     </td> <td>26   </td>\n",
       "        </tr>\n",
       "        <tr>\n",
       "            <td>12     </td> <td>30   </td>\n",
       "        </tr>\n",
       "    </tbody>\n",
       "</table>"
      ],
      "text/plain": [
       "<IPython.core.display.HTML object>"
      ]
     },
     "metadata": {},
     "output_type": "display_data"
    }
   ],
   "source": [
    "# Recall that if we don't pass to the group method anything other than the \n",
    "# column label, it will simply return headcounts for each category.\n",
    "# Here the categories are the section numbers. \n",
    "section_headcounts = scores.group('Section')\n",
    "section_headcounts.show()"
   ]
  },
  {
   "cell_type": "markdown",
   "metadata": {},
   "source": [
    "<h3>Compute the average score for each section</h3>"
   ]
  },
  {
   "cell_type": "code",
   "execution_count": 4,
   "metadata": {},
   "outputs": [
    {
     "data": {
      "text/html": [
       "<table border=\"1\" class=\"dataframe\">\n",
       "    <thead>\n",
       "        <tr>\n",
       "            <th>Section</th> <th>Midterm average</th>\n",
       "        </tr>\n",
       "    </thead>\n",
       "    <tbody>\n",
       "        <tr>\n",
       "            <td>1      </td> <td>15.5938        </td>\n",
       "        </tr>\n",
       "        <tr>\n",
       "            <td>2      </td> <td>15.125         </td>\n",
       "        </tr>\n",
       "        <tr>\n",
       "            <td>3      </td> <td>13.6667        </td>\n",
       "        </tr>\n",
       "        <tr>\n",
       "            <td>4      </td> <td>14.7667        </td>\n",
       "        </tr>\n",
       "        <tr>\n",
       "            <td>5      </td> <td>17.4545        </td>\n",
       "        </tr>\n",
       "        <tr>\n",
       "            <td>6      </td> <td>15.0312        </td>\n",
       "        </tr>\n",
       "        <tr>\n",
       "            <td>7      </td> <td>16.625         </td>\n",
       "        </tr>\n",
       "        <tr>\n",
       "            <td>8      </td> <td>16.3103        </td>\n",
       "        </tr>\n",
       "        <tr>\n",
       "            <td>9      </td> <td>14.5667        </td>\n",
       "        </tr>\n",
       "        <tr>\n",
       "            <td>10     </td> <td>15.2353        </td>\n",
       "        </tr>\n",
       "        <tr>\n",
       "            <td>11     </td> <td>15.8077        </td>\n",
       "        </tr>\n",
       "        <tr>\n",
       "            <td>12     </td> <td>15.7333        </td>\n",
       "        </tr>\n",
       "    </tbody>\n",
       "</table>"
      ],
      "text/plain": [
       "<IPython.core.display.HTML object>"
      ]
     },
     "metadata": {},
     "output_type": "display_data"
    }
   ],
   "source": [
    "# Pass on the function np.average as a second argument, and \n",
    "# the group method will return the average score for each section.\n",
    "section_averages = scores.group('Section', np.average)\n",
    "section_averages.show()"
   ]
  },
  {
   "cell_type": "markdown",
   "metadata": {},
   "source": [
    "<h4>Section 3's Midterm Average</h4>\n",
    "\n",
    "This is our observed test statistic."
   ]
  },
  {
   "cell_type": "code",
   "execution_count": 5,
   "metadata": {},
   "outputs": [
    {
     "data": {
      "text/plain": [
       "13.666666666666666"
      ]
     },
     "execution_count": 5,
     "metadata": {},
     "output_type": "execute_result"
    }
   ],
   "source": [
    "observed_average = section_averages.column('Midterm average').item(2) \n",
    "observed_average"
   ]
  },
  {
   "cell_type": "markdown",
   "metadata": {},
   "source": [
    "<h4>Section 3's Population (Head Count)</h4>\n",
    "\n",
    "This is our sample size. "
   ]
  },
  {
   "cell_type": "code",
   "execution_count": 6,
   "metadata": {},
   "outputs": [
    {
     "data": {
      "text/plain": [
       "27"
      ]
     },
     "execution_count": 6,
     "metadata": {},
     "output_type": "execute_result"
    }
   ],
   "source": [
    "sample_size = section_headcounts.column('count').item(2)\n",
    "sample_size"
   ]
  },
  {
   "cell_type": "code",
   "execution_count": 7,
   "metadata": {
    "scrolled": true
   },
   "outputs": [
    {
     "data": {
      "text/html": [
       "<table border=\"1\" class=\"dataframe\">\n",
       "    <thead>\n",
       "        <tr>\n",
       "            <th>Section</th> <th>Midterm</th>\n",
       "        </tr>\n",
       "    </thead>\n",
       "    <tbody>\n",
       "        <tr>\n",
       "            <td>10     </td> <td>9      </td>\n",
       "        </tr>\n",
       "        <tr>\n",
       "            <td>8      </td> <td>19     </td>\n",
       "        </tr>\n",
       "        <tr>\n",
       "            <td>5      </td> <td>10     </td>\n",
       "        </tr>\n",
       "        <tr>\n",
       "            <td>4      </td> <td>15     </td>\n",
       "        </tr>\n",
       "        <tr>\n",
       "            <td>9      </td> <td>16     </td>\n",
       "        </tr>\n",
       "        <tr>\n",
       "            <td>9      </td> <td>17     </td>\n",
       "        </tr>\n",
       "        <tr>\n",
       "            <td>7      </td> <td>10     </td>\n",
       "        </tr>\n",
       "        <tr>\n",
       "            <td>8      </td> <td>16     </td>\n",
       "        </tr>\n",
       "        <tr>\n",
       "            <td>9      </td> <td>4      </td>\n",
       "        </tr>\n",
       "        <tr>\n",
       "            <td>8      </td> <td>19     </td>\n",
       "        </tr>\n",
       "    </tbody>\n",
       "</table>\n",
       "<p>... (17 rows omitted)</p>"
      ],
      "text/plain": [
       "Section | Midterm\n",
       "10      | 9\n",
       "8       | 19\n",
       "5       | 10\n",
       "4       | 15\n",
       "9       | 16\n",
       "9       | 17\n",
       "7       | 10\n",
       "8       | 16\n",
       "9       | 4\n",
       "8       | 19\n",
       "... (17 rows omitted)"
      ]
     },
     "execution_count": 7,
     "metadata": {},
     "output_type": "execute_result"
    }
   ],
   "source": [
    "# In our random selection, we do NOT want to select the same student \n",
    "# more than once.  So, we must sample withOUT replacement.\n",
    "random_sample = scores.sample(sample_size, with_replacement=False)\n",
    "random_sample"
   ]
  },
  {
   "cell_type": "markdown",
   "metadata": {},
   "source": [
    "<h4>Random Sample's Average Score: <br>\n",
    "    \n",
    "This is our Simulated Test Statistic</h3>"
   ]
  },
  {
   "cell_type": "code",
   "execution_count": 8,
   "metadata": {},
   "outputs": [
    {
     "data": {
      "text/plain": [
       "15.592592592592593"
      ]
     },
     "execution_count": 8,
     "metadata": {},
     "output_type": "execute_result"
    }
   ],
   "source": [
    "random_sample_average_score = np.average(random_sample.column('Midterm'))\n",
    "random_sample_average_score\n",
    "# If you wish to round, uncomment the line below\n",
    "#np.round(random_sample_average_score,2)"
   ]
  },
  {
   "cell_type": "markdown",
   "metadata": {},
   "source": [
    "<h4>Compare with the observed statistic&mdash;average of scores in Sec. 3</h4>"
   ]
  },
  {
   "cell_type": "code",
   "execution_count": 9,
   "metadata": {},
   "outputs": [
    {
     "data": {
      "text/plain": [
       "13.666666666666666"
      ]
     },
     "execution_count": 9,
     "metadata": {},
     "output_type": "execute_result"
    }
   ],
   "source": [
    "observed_average\n",
    "# If you wish to round, uncomment the line below\n",
    "#np.round(observed_average,2)"
   ]
  },
  {
   "cell_type": "markdown",
   "metadata": {},
   "source": [
    "<h4>Doesn't look very far, but we still don't know what \"far\" means here.</h4>"
   ]
  },
  {
   "cell_type": "markdown",
   "metadata": {},
   "source": [
    "<h3>Define a function that does the following:</h3><br>\n",
    "\n",
    "<h4>Creates a random sample of size <tt>sample_size</tt> from the roster,  <br>\n",
    "\n",
    "and computes a section average score.<br>\n",
    "\n",
    "Each run of this function constitutes one \"trial.\"</h4>"
   ]
  },
  {
   "cell_type": "code",
   "execution_count": 10,
   "metadata": {},
   "outputs": [],
   "source": [
    "# Simulate one value of the test statistic \n",
    "# under the hypothesis that the section is like a random sample from the class\n",
    "\n",
    "def random_sample_midterm_avg(sample_size):\n",
    "    random_sample = scores.sample(sample_size, with_replacement = False)\n",
    "    return np.average(random_sample.column('Midterm'))"
   ]
  },
  {
   "cell_type": "markdown",
   "metadata": {},
   "source": [
    "<h4>Let's run the cell a few times to check if it's generating varying numbers.</h4>"
   ]
  },
  {
   "cell_type": "code",
   "execution_count": 11,
   "metadata": {},
   "outputs": [
    {
     "data": {
      "text/plain": [
       "14.037037037037036"
      ]
     },
     "execution_count": 11,
     "metadata": {},
     "output_type": "execute_result"
    }
   ],
   "source": [
    "random_sample_midterm_avg(sample_size)"
   ]
  },
  {
   "cell_type": "markdown",
   "metadata": {},
   "source": [
    "<h3>The next cell runs the \"trial\" many, many times&mdash;in fact, <tt>num_simulations</tt> times.</h3>"
   ]
  },
  {
   "cell_type": "code",
   "execution_count": 12,
   "metadata": {},
   "outputs": [],
   "source": [
    "# Simulate 50,000 copies of the test statistic\n",
    "\n",
    "num_simulations= 50000\n",
    "\n",
    "# Create an empty array that will ultimately contain \n",
    "# the sample average for each of the trials.\n",
    "sample_averages = make_array()\n",
    "\n",
    "for i in np.arange(num_simulations):\n",
    "    new_sample_average=random_sample_midterm_avg(sample_size)\n",
    "    sample_averages = np.append(sample_averages, new_sample_average)    "
   ]
  },
  {
   "cell_type": "markdown",
   "metadata": {},
   "source": [
    "<h3> Our Decision: </h3>\n",
    "\n",
    "<h3>Compare the simulated distribution of the statistic and the actual, observed statistic </h3>"
   ]
  },
  {
   "cell_type": "markdown",
   "metadata": {},
   "source": [
    "<h4>Create a table containing the sample averages.</h4>"
   ]
  },
  {
   "cell_type": "code",
   "execution_count": 13,
   "metadata": {},
   "outputs": [
    {
     "data": {
      "text/html": [
       "<table border=\"1\" class=\"dataframe\">\n",
       "    <thead>\n",
       "        <tr>\n",
       "            <th>Random Sample Average</th>\n",
       "        </tr>\n",
       "    </thead>\n",
       "    <tbody>\n",
       "        <tr>\n",
       "            <td>13.7778              </td>\n",
       "        </tr>\n",
       "        <tr>\n",
       "            <td>14.3333              </td>\n",
       "        </tr>\n",
       "        <tr>\n",
       "            <td>13.6296              </td>\n",
       "        </tr>\n",
       "        <tr>\n",
       "            <td>14.9259              </td>\n",
       "        </tr>\n",
       "        <tr>\n",
       "            <td>15.2593              </td>\n",
       "        </tr>\n",
       "        <tr>\n",
       "            <td>12.5556              </td>\n",
       "        </tr>\n",
       "        <tr>\n",
       "            <td>14.7778              </td>\n",
       "        </tr>\n",
       "        <tr>\n",
       "            <td>16.1111              </td>\n",
       "        </tr>\n",
       "        <tr>\n",
       "            <td>15.5185              </td>\n",
       "        </tr>\n",
       "        <tr>\n",
       "            <td>14.4815              </td>\n",
       "        </tr>\n",
       "    </tbody>\n",
       "</table>\n",
       "<p>... (49990 rows omitted)</p>"
      ],
      "text/plain": [
       "Random Sample Average\n",
       "13.7778\n",
       "14.3333\n",
       "13.6296\n",
       "14.9259\n",
       "15.2593\n",
       "12.5556\n",
       "14.7778\n",
       "16.1111\n",
       "15.5185\n",
       "14.4815\n",
       "... (49990 rows omitted)"
      ]
     },
     "execution_count": 13,
     "metadata": {},
     "output_type": "execute_result"
    }
   ],
   "source": [
    "averages_table = Table().with_column('Random Sample Average', sample_averages)\n",
    "averages_table"
   ]
  },
  {
   "cell_type": "markdown",
   "metadata": {},
   "source": [
    "<h4>Plot a histogram of the sample averages<br>\n",
    "\n",
    "    \n",
    "</h4>"
   ]
  },
  {
   "cell_type": "code",
   "execution_count": 14,
   "metadata": {
    "scrolled": false
   },
   "outputs": [
    {
     "data": {
      "image/png": "[encoded data removed]",
      "text/plain": [
       "<Figure size 432x288 with 1 Axes>"
      ]
     },
     "metadata": {},
     "output_type": "display_data"
    }
   ],
   "source": [
    "averages_table.hist(bins = 20)\n",
    "# Plot a red dot of size 120, at vertical coordinate -0.01, \n",
    "# which is just under the horizontal axis\n",
    "plots.scatter(observed_average, -0.01, color='red', s=120);"
   ]
  },
  {
   "cell_type": "markdown",
   "metadata": {},
   "source": [
    "<h3>Question: Does Sec. 3's average (red dot) seem very different from the rest of the sections?</h3>"
   ]
  },
  {
   "cell_type": "markdown",
   "metadata": {},
   "source": [
    "<h4> How many of our sample averages (simulated) are less than, or equal to, the observed average? </h4>"
   ]
  },
  {
   "cell_type": "code",
   "execution_count": 15,
   "metadata": {
    "scrolled": true
   },
   "outputs": [
    {
     "data": {
      "text/plain": [
       "array([False, False,  True, ..., False, False, False])"
      ]
     },
     "execution_count": 15,
     "metadata": {},
     "output_type": "execute_result"
    }
   ],
   "source": [
    "sample_averages <= observed_average"
   ]
  },
  {
   "cell_type": "code",
   "execution_count": 16,
   "metadata": {},
   "outputs": [
    {
     "data": {
      "text/plain": [
       "2771"
      ]
     },
     "execution_count": 16,
     "metadata": {},
     "output_type": "execute_result"
    }
   ],
   "source": [
    "tail_head_count = np.count_nonzero(sample_averages <= observed_average)\n",
    "tail_head_count"
   ]
  },
  {
   "cell_type": "markdown",
   "metadata": {},
   "source": [
    "<h4>The tail probability is the ratio of the tail head count over <tt>num_simulations</tt>, the total number of samples (trials).<br><br> \n",
    "\n",
    "The tail probability is also called the $p$-value.<br><br> \n",
    "    It's the probability of obtaining results <u>at least as extreme</u> as the observed value.</h4>"
   ]
  },
  {
   "cell_type": "code",
   "execution_count": 17,
   "metadata": {},
   "outputs": [
    {
     "data": {
      "text/plain": [
       "0.05542"
      ]
     },
     "execution_count": 17,
     "metadata": {},
     "output_type": "execute_result"
    }
   ],
   "source": [
    "# (1) Calculate the p-value: simulation area beyond observed value\n",
    "tail_probability = tail_head_count/num_simulations\n",
    "tail_probability"
   ]
  },
  {
   "cell_type": "markdown",
   "metadata": {},
   "source": [
    "<h3>This is NOT less than 5%.  So, the GSI's assertion is supported by the data.</h3>"
   ]
  },
  {
   "cell_type": "code",
   "execution_count": 18,
   "metadata": {},
   "outputs": [
    {
     "data": {
      "text/plain": [
       "0.05542"
      ]
     },
     "execution_count": 18,
     "metadata": {},
     "output_type": "execute_result"
    }
   ],
   "source": [
    "# (1) Calculate the p-value: simulation area beyond observed value\n",
    "np.count_nonzero(sample_averages <= observed_average) / num_simulations\n",
    "# (2) See if this is less than 5%"
   ]
  },
  {
   "cell_type": "markdown",
   "metadata": {},
   "source": [
    "<h3>Where is the 5% cutoff?</h3>"
   ]
  },
  {
   "cell_type": "code",
   "execution_count": 19,
   "metadata": {},
   "outputs": [
    {
     "data": {
      "text/html": [
       "<table border=\"1\" class=\"dataframe\">\n",
       "    <thead>\n",
       "        <tr>\n",
       "            <th>Random Sample Average</th>\n",
       "        </tr>\n",
       "    </thead>\n",
       "    <tbody>\n",
       "        <tr>\n",
       "            <td>13.7778              </td>\n",
       "        </tr>\n",
       "        <tr>\n",
       "            <td>14.3333              </td>\n",
       "        </tr>\n",
       "        <tr>\n",
       "            <td>13.6296              </td>\n",
       "        </tr>\n",
       "        <tr>\n",
       "            <td>14.9259              </td>\n",
       "        </tr>\n",
       "        <tr>\n",
       "            <td>15.2593              </td>\n",
       "        </tr>\n",
       "        <tr>\n",
       "            <td>12.5556              </td>\n",
       "        </tr>\n",
       "        <tr>\n",
       "            <td>14.7778              </td>\n",
       "        </tr>\n",
       "        <tr>\n",
       "            <td>16.1111              </td>\n",
       "        </tr>\n",
       "        <tr>\n",
       "            <td>15.5185              </td>\n",
       "        </tr>\n",
       "        <tr>\n",
       "            <td>14.4815              </td>\n",
       "        </tr>\n",
       "    </tbody>\n",
       "</table>\n",
       "<p>... (49990 rows omitted)</p>"
      ],
      "text/plain": [
       "Random Sample Average\n",
       "13.7778\n",
       "14.3333\n",
       "13.6296\n",
       "14.9259\n",
       "15.2593\n",
       "12.5556\n",
       "14.7778\n",
       "16.1111\n",
       "15.5185\n",
       "14.4815\n",
       "... (49990 rows omitted)"
      ]
     },
     "execution_count": 19,
     "metadata": {},
     "output_type": "execute_result"
    }
   ],
   "source": [
    "# Recall the Averages Table\n",
    "averages_table"
   ]
  },
  {
   "cell_type": "markdown",
   "metadata": {},
   "source": [
    "<h4>Sort the table from low to high values:</h4>"
   ]
  },
  {
   "cell_type": "code",
   "execution_count": 20,
   "metadata": {},
   "outputs": [
    {
     "data": {
      "text/html": [
       "<table border=\"1\" class=\"dataframe\">\n",
       "    <thead>\n",
       "        <tr>\n",
       "            <th>Random Sample Average</th>\n",
       "        </tr>\n",
       "    </thead>\n",
       "    <tbody>\n",
       "        <tr>\n",
       "            <td>10.7037              </td>\n",
       "        </tr>\n",
       "        <tr>\n",
       "            <td>10.8148              </td>\n",
       "        </tr>\n",
       "        <tr>\n",
       "            <td>10.8889              </td>\n",
       "        </tr>\n",
       "        <tr>\n",
       "            <td>11.1481              </td>\n",
       "        </tr>\n",
       "        <tr>\n",
       "            <td>11.1852              </td>\n",
       "        </tr>\n",
       "        <tr>\n",
       "            <td>11.2222              </td>\n",
       "        </tr>\n",
       "        <tr>\n",
       "            <td>11.2222              </td>\n",
       "        </tr>\n",
       "        <tr>\n",
       "            <td>11.2222              </td>\n",
       "        </tr>\n",
       "        <tr>\n",
       "            <td>11.2593              </td>\n",
       "        </tr>\n",
       "        <tr>\n",
       "            <td>11.2593              </td>\n",
       "        </tr>\n",
       "    </tbody>\n",
       "</table>\n",
       "<p>... (49990 rows omitted)</p>"
      ],
      "text/plain": [
       "Random Sample Average\n",
       "10.7037\n",
       "10.8148\n",
       "10.8889\n",
       "11.1481\n",
       "11.1852\n",
       "11.2222\n",
       "11.2222\n",
       "11.2222\n",
       "11.2593\n",
       "11.2593\n",
       "... (49990 rows omitted)"
      ]
     },
     "execution_count": 20,
     "metadata": {},
     "output_type": "execute_result"
    }
   ],
   "source": [
    "sorted_averages_table = averages_table.sort(0)\n",
    "sorted_averages_table"
   ]
  },
  {
   "cell_type": "markdown",
   "metadata": {},
   "source": [
    "<h4>Grab the boundary value <u>beyond</u> which the tail probability $<$ 0.05 (5%):</h4>"
   ]
  },
  {
   "cell_type": "code",
   "execution_count": 21,
   "metadata": {},
   "outputs": [
    {
     "data": {
      "text/plain": [
       "13.62962962962963"
      ]
     },
     "execution_count": 21,
     "metadata": {},
     "output_type": "execute_result"
    }
   ],
   "source": [
    "# (1) Find simulated value corresponding to 5% of 50,000 = 2500\n",
    "five_percent_point = sorted_averages_table.column(0).item(2500)\n",
    "five_percent_point"
   ]
  },
  {
   "cell_type": "markdown",
   "metadata": {},
   "source": [
    "If Sec. 3's average score (i.e., observed value) had been lower than the 5%-point above, it would have contradicted the GSI's claim."
   ]
  },
  {
   "cell_type": "code",
   "execution_count": 22,
   "metadata": {},
   "outputs": [
    {
     "data": {
      "text/plain": [
       "13.666666666666666"
      ]
     },
     "execution_count": 22,
     "metadata": {},
     "output_type": "execute_result"
    }
   ],
   "source": [
    "# (2) See if this value is greater than observed value\n",
    "observed_average"
   ]
  },
  {
   "cell_type": "markdown",
   "metadata": {},
   "source": [
    "<h2>It was close, but the GSI Wins by scraping by!<br><br>\n",
    "I still would NOT want to be in that GSI's section!</h2>"
   ]
  },
  {
   "cell_type": "markdown",
   "metadata": {},
   "source": [
    "### Visual Representation"
   ]
  },
  {
   "cell_type": "code",
   "execution_count": 23,
   "metadata": {},
   "outputs": [
    {
     "data": {
      "image/png": "[encoded data removed]",
      "text/plain": [
       "<Figure size 432x288 with 1 Axes>"
      ]
     },
     "metadata": {},
     "output_type": "display_data"
    }
   ],
   "source": [
    "averages_table.hist(bins = 20)\n",
    "# Plot a gold-colored vertical line, of thickness 2, \n",
    "# at horizontal coordinate equal to the \n",
    "# five_percent_point (which is 13.63), \n",
    "# from vertical coordinate 0 to 35 (%/unit) (0 to 0.35)\n",
    "plots.plot([five_percent_point, five_percent_point], [0, 0.35], color='gold', lw=2)\n",
    "\n",
    "# Give the plot a title\n",
    "plots.title('Area to the left of the gold line is 5%');\n",
    "\n",
    "# Plot a red dot of size 120, at vertical coordinate -0.01, \n",
    "# which is just under the horizontal axis\n",
    "plots.scatter(observed_average, -0.01, color='red', s=120);"
   ]
  },
  {
   "cell_type": "markdown",
   "metadata": {},
   "source": [
    "<h3>QUESTION: Did Sec. 3's average score fall in the 5% tail?</h3>"
   ]
  }
 ],
 "metadata": {
  "anaconda-cloud": {},
  "kernelspec": {
   "display_name": "Python 3 (ipykernel)",
   "language": "python",
   "name": "python3"
  },
  "language_info": {
   "codemirror_mode": {
    "name": "ipython",
    "version": 3
   },
   "file_extension": ".py",
   "mimetype": "text/x-python",
   "name": "python",
   "nbconvert_exporter": "python",
   "pygments_lexer": "ipython3",
   "version": "3.8.10"
  }
 },
 "nbformat": 4,
 "nbformat_minor": 1
}
