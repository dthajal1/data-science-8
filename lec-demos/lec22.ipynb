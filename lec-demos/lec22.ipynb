{
 "cells": [
  {
   "cell_type": "markdown",
   "metadata": {},
   "source": [
    "<h1> Lecture 22\n",
    "\n",
    "Data Science 8, Summer 2021 </h1>"
   ]
  },
  {
   "cell_type": "markdown",
   "metadata": {},
   "source": [
    "<h3>\n",
    "<b>\n",
    "<ul>\n",
    "<li>Distributions  </li><br>\n",
    "    <ul> \n",
    "        <li>Measures of Centrality: Mean and Median</li><br>\n",
    "        <li>Measures of Spread: Variance and Standard Deviation</li>\n",
    "    </ul>\n",
    "</ul>\n",
    "</b>\n",
    "</h3>"
   ]
  },
  {
   "cell_type": "code",
   "execution_count": 1,
   "metadata": {},
   "outputs": [],
   "source": [
    "from datascience import *\n",
    "import numpy as np\n",
    "import warnings\n",
    "warnings.filterwarnings(\"ignore\")\n",
    "\n",
    "%matplotlib inline\n",
    "import matplotlib.pyplot as plots\n",
    "plots.style.use('fivethirtyeight')\n",
    "plots.rcParams[\"patch.force_edgecolor\"] = True\n",
    "\n",
    "#The following allows porting images into a Markdown window\n",
    "#Syntax: ![title](image_name.png)\n",
    "from IPython.display import Image"
   ]
  },
  {
   "cell_type": "markdown",
   "metadata": {},
   "source": [
    "# Center"
   ]
  },
  {
   "cell_type": "markdown",
   "metadata": {},
   "source": [
    "### Average (Mean)"
   ]
  },
  {
   "cell_type": "markdown",
   "metadata": {},
   "source": [
    "There are many different ways we can calculate the mean"
   ]
  },
  {
   "cell_type": "code",
   "execution_count": 2,
   "metadata": {},
   "outputs": [
    {
     "data": {
      "text/plain": [
       "array([2, 3, 3, 9])"
      ]
     },
     "execution_count": 2,
     "metadata": {},
     "output_type": "execute_result"
    }
   ],
   "source": [
    "values = make_array(2, 3, 3, 9)\n",
    "values"
   ]
  },
  {
   "cell_type": "code",
   "execution_count": 3,
   "metadata": {},
   "outputs": [
    {
     "data": {
      "text/plain": [
       "4.25"
      ]
     },
     "execution_count": 3,
     "metadata": {},
     "output_type": "execute_result"
    }
   ],
   "source": [
    "sum(values)/len(values)"
   ]
  },
  {
   "cell_type": "code",
   "execution_count": 4,
   "metadata": {},
   "outputs": [
    {
     "data": {
      "text/plain": [
       "4.25"
      ]
     },
     "execution_count": 4,
     "metadata": {},
     "output_type": "execute_result"
    }
   ],
   "source": [
    "np.average(values)"
   ]
  },
  {
   "cell_type": "code",
   "execution_count": 5,
   "metadata": {},
   "outputs": [
    {
     "data": {
      "text/plain": [
       "4.25"
      ]
     },
     "execution_count": 5,
     "metadata": {},
     "output_type": "execute_result"
    }
   ],
   "source": [
    "np.mean(values)"
   ]
  },
  {
   "cell_type": "code",
   "execution_count": 6,
   "metadata": {},
   "outputs": [
    {
     "data": {
      "text/plain": [
       "4.25"
      ]
     },
     "execution_count": 6,
     "metadata": {},
     "output_type": "execute_result"
    }
   ],
   "source": [
    "(2 + 3 + 3 + 9)/4"
   ]
  },
  {
   "cell_type": "code",
   "execution_count": 7,
   "metadata": {},
   "outputs": [
    {
     "data": {
      "text/plain": [
       "4.25"
      ]
     },
     "execution_count": 7,
     "metadata": {},
     "output_type": "execute_result"
    }
   ],
   "source": [
    "2*(1/4) + 3*(2/4) + 9*(1/4)"
   ]
  },
  {
   "cell_type": "code",
   "execution_count": 8,
   "metadata": {},
   "outputs": [
    {
     "data": {
      "text/html": [
       "<table border=\"1\" class=\"dataframe\">\n",
       "    <thead>\n",
       "        <tr>\n",
       "            <th>value</th>\n",
       "        </tr>\n",
       "    </thead>\n",
       "    <tbody>\n",
       "        <tr>\n",
       "            <td>2    </td>\n",
       "        </tr>\n",
       "        <tr>\n",
       "            <td>3    </td>\n",
       "        </tr>\n",
       "        <tr>\n",
       "            <td>3    </td>\n",
       "        </tr>\n",
       "        <tr>\n",
       "            <td>9    </td>\n",
       "        </tr>\n",
       "    </tbody>\n",
       "</table>"
      ],
      "text/plain": [
       "value\n",
       "2\n",
       "3\n",
       "3\n",
       "9"
      ]
     },
     "execution_count": 8,
     "metadata": {},
     "output_type": "execute_result"
    }
   ],
   "source": [
    "values_table = Table().with_columns('value', values)\n",
    "values_table"
   ]
  },
  {
   "cell_type": "code",
   "execution_count": 9,
   "metadata": {},
   "outputs": [
    {
     "data": {
      "image/png": "[encoded data removed]",
      "text/plain": [
       "<Figure size 432x288 with 1 Axes>"
      ]
     },
     "metadata": {},
     "output_type": "display_data"
    }
   ],
   "source": [
    "bins_for_display = np.arange(0.5, 10.6, 1)\n",
    "values_table.hist('value', bins = bins_for_display)"
   ]
  },
  {
   "cell_type": "code",
   "execution_count": 10,
   "metadata": {},
   "outputs": [],
   "source": [
    "## Make array of 10 2s, 20 3s, and 10 9s\n",
    "\n",
    "new_vals = make_array(2, 2, 2, 2, 2, 2, 2, 2, 2, 2,\n",
    "                      3, 3, 3, 3, 3, 3, 3, 3, 3, 3, 3, 3, 3, 3, 3, 3, 3, 3, 3, 3,\n",
    "                      9, 9, 9, 9, 9, 9, 9, 9, 9, 9)"
   ]
  },
  {
   "cell_type": "code",
   "execution_count": 11,
   "metadata": {
    "scrolled": false
   },
   "outputs": [
    {
     "data": {
      "image/png": "[encoded data removed]",
      "text/plain": [
       "<Figure size 432x288 with 1 Axes>"
      ]
     },
     "metadata": {},
     "output_type": "display_data"
    }
   ],
   "source": [
    "Table().with_column('value', new_vals).hist(bins = bins_for_display)"
   ]
  },
  {
   "cell_type": "code",
   "execution_count": 12,
   "metadata": {},
   "outputs": [
    {
     "data": {
      "text/plain": [
       "4.25"
      ]
     },
     "execution_count": 12,
     "metadata": {},
     "output_type": "execute_result"
    }
   ],
   "source": [
    "np.average(values)"
   ]
  },
  {
   "cell_type": "code",
   "execution_count": 13,
   "metadata": {},
   "outputs": [
    {
     "data": {
      "text/plain": [
       "4.25"
      ]
     },
     "execution_count": 13,
     "metadata": {},
     "output_type": "execute_result"
    }
   ],
   "source": [
    "# Multiplying numerator and denominator by 10 didn't affect the mean\n",
    "np.average(new_vals)"
   ]
  },
  {
   "cell_type": "markdown",
   "metadata": {},
   "source": [
    "### Median"
   ]
  },
  {
   "cell_type": "code",
   "execution_count": 14,
   "metadata": {},
   "outputs": [
    {
     "data": {
      "text/plain": [
       "array([2, 3, 3, 9])"
      ]
     },
     "execution_count": 14,
     "metadata": {},
     "output_type": "execute_result"
    }
   ],
   "source": [
    "values"
   ]
  },
  {
   "cell_type": "code",
   "execution_count": 15,
   "metadata": {},
   "outputs": [
    {
     "data": {
      "text/plain": [
       "3"
      ]
     },
     "execution_count": 15,
     "metadata": {},
     "output_type": "execute_result"
    }
   ],
   "source": [
    "percentile(50, values)"
   ]
  },
  {
   "cell_type": "code",
   "execution_count": 16,
   "metadata": {},
   "outputs": [
    {
     "data": {
      "text/plain": [
       "3.0"
      ]
     },
     "execution_count": 16,
     "metadata": {},
     "output_type": "execute_result"
    }
   ],
   "source": [
    "np.median(values)"
   ]
  },
  {
   "cell_type": "markdown",
   "metadata": {},
   "source": [
    "# Spread"
   ]
  },
  {
   "cell_type": "code",
   "execution_count": 17,
   "metadata": {},
   "outputs": [],
   "source": [
    "array1 = make_array(0,0,0,0,0,10,10,10,10,10) #five 0s, five 10s\n",
    "array2 = make_array(5,5,5,5,5,5,5,5,5,5) #ten 5s\n",
    "array3 = make_array(0,2,3,4,5,5,6,7,8,10)"
   ]
  },
  {
   "cell_type": "code",
   "execution_count": 18,
   "metadata": {},
   "outputs": [],
   "source": [
    "example_table = Table().with_columns(\"Array 1\", array1,\n",
    "                    \"Array 2\", array2,\n",
    "                    \"Array 3\", array3)"
   ]
  },
  {
   "cell_type": "code",
   "execution_count": 19,
   "metadata": {},
   "outputs": [
    {
     "data": {
      "image/png": "[encoded data removed]",
      "text/plain": [
       "<Figure size 432x288 with 1 Axes>"
      ]
     },
     "metadata": {},
     "output_type": "display_data"
    }
   ],
   "source": [
    "example_table.hist(\"Array 1\")"
   ]
  },
  {
   "cell_type": "code",
   "execution_count": 20,
   "metadata": {},
   "outputs": [
    {
     "data": {
      "image/png": "[encoded data removed]",
      "text/plain": [
       "<Figure size 432x288 with 1 Axes>"
      ]
     },
     "metadata": {},
     "output_type": "display_data"
    }
   ],
   "source": [
    "example_table.hist(\"Array 2\")"
   ]
  },
  {
   "cell_type": "code",
   "execution_count": 21,
   "metadata": {
    "scrolled": false
   },
   "outputs": [
    {
     "data": {
      "image/png": "[encoded data removed]",
      "text/plain": [
       "<Figure size 432x288 with 1 Axes>"
      ]
     },
     "metadata": {},
     "output_type": "display_data"
    }
   ],
   "source": [
    "example_table.hist(\"Array 3\")"
   ]
  },
  {
   "cell_type": "markdown",
   "metadata": {},
   "source": [
    "Mean and range for all 3 arrays doesn't tell us much about the shape of the distribution"
   ]
  },
  {
   "cell_type": "markdown",
   "metadata": {},
   "source": [
    "## Standard Deviation ##"
   ]
  },
  {
   "cell_type": "code",
   "execution_count": 22,
   "metadata": {},
   "outputs": [
    {
     "data": {
      "text/html": [
       "<table border=\"1\" class=\"dataframe\">\n",
       "    <thead>\n",
       "        <tr>\n",
       "            <th>Value</th>\n",
       "        </tr>\n",
       "    </thead>\n",
       "    <tbody>\n",
       "        <tr>\n",
       "            <td>2    </td>\n",
       "        </tr>\n",
       "        <tr>\n",
       "            <td>3    </td>\n",
       "        </tr>\n",
       "        <tr>\n",
       "            <td>3    </td>\n",
       "        </tr>\n",
       "        <tr>\n",
       "            <td>9    </td>\n",
       "        </tr>\n",
       "    </tbody>\n",
       "</table>"
      ],
      "text/plain": [
       "Value\n",
       "2\n",
       "3\n",
       "3\n",
       "9"
      ]
     },
     "execution_count": 22,
     "metadata": {},
     "output_type": "execute_result"
    }
   ],
   "source": [
    "sd_table = Table().with_columns('Value', values)\n",
    "sd_table"
   ]
  },
  {
   "cell_type": "code",
   "execution_count": 23,
   "metadata": {},
   "outputs": [
    {
     "data": {
      "text/plain": [
       "4.25"
      ]
     },
     "execution_count": 23,
     "metadata": {},
     "output_type": "execute_result"
    }
   ],
   "source": [
    "average_value = np.average(sd_table.column(0))\n",
    "average_value"
   ]
  },
  {
   "cell_type": "markdown",
   "metadata": {},
   "source": [
    "How far away from the mean is each of these values?"
   ]
  },
  {
   "cell_type": "code",
   "execution_count": 24,
   "metadata": {},
   "outputs": [
    {
     "data": {
      "text/html": [
       "<table border=\"1\" class=\"dataframe\">\n",
       "    <thead>\n",
       "        <tr>\n",
       "            <th>Value</th> <th>Deviation</th>\n",
       "        </tr>\n",
       "    </thead>\n",
       "    <tbody>\n",
       "        <tr>\n",
       "            <td>2    </td> <td>-2.25    </td>\n",
       "        </tr>\n",
       "        <tr>\n",
       "            <td>3    </td> <td>-1.25    </td>\n",
       "        </tr>\n",
       "        <tr>\n",
       "            <td>3    </td> <td>-1.25    </td>\n",
       "        </tr>\n",
       "        <tr>\n",
       "            <td>9    </td> <td>4.75     </td>\n",
       "        </tr>\n",
       "    </tbody>\n",
       "</table>"
      ],
      "text/plain": [
       "Value | Deviation\n",
       "2     | -2.25\n",
       "3     | -1.25\n",
       "3     | -1.25\n",
       "9     | 4.75"
      ]
     },
     "execution_count": 24,
     "metadata": {},
     "output_type": "execute_result"
    }
   ],
   "source": [
    "deviations = values - average_value\n",
    "sd_table = sd_table.with_column('Deviation', deviations)\n",
    "sd_table"
   ]
  },
  {
   "cell_type": "code",
   "execution_count": 25,
   "metadata": {},
   "outputs": [
    {
     "data": {
      "text/plain": [
       "0.0"
      ]
     },
     "execution_count": 25,
     "metadata": {},
     "output_type": "execute_result"
    }
   ],
   "source": [
    "sum(deviations)"
   ]
  },
  {
   "cell_type": "code",
   "execution_count": 26,
   "metadata": {},
   "outputs": [
    {
     "data": {
      "text/html": [
       "<table border=\"1\" class=\"dataframe\">\n",
       "    <thead>\n",
       "        <tr>\n",
       "            <th>Value</th> <th>Deviation</th> <th>Squared Deviation</th>\n",
       "        </tr>\n",
       "    </thead>\n",
       "    <tbody>\n",
       "        <tr>\n",
       "            <td>2    </td> <td>-2.25    </td> <td>5.0625           </td>\n",
       "        </tr>\n",
       "        <tr>\n",
       "            <td>3    </td> <td>-1.25    </td> <td>1.5625           </td>\n",
       "        </tr>\n",
       "        <tr>\n",
       "            <td>3    </td> <td>-1.25    </td> <td>1.5625           </td>\n",
       "        </tr>\n",
       "        <tr>\n",
       "            <td>9    </td> <td>4.75     </td> <td>22.5625          </td>\n",
       "        </tr>\n",
       "    </tbody>\n",
       "</table>"
      ],
      "text/plain": [
       "Value | Deviation | Squared Deviation\n",
       "2     | -2.25     | 5.0625\n",
       "3     | -1.25     | 1.5625\n",
       "3     | -1.25     | 1.5625\n",
       "9     | 4.75      | 22.5625"
      ]
     },
     "execution_count": 26,
     "metadata": {},
     "output_type": "execute_result"
    }
   ],
   "source": [
    "sd_table = sd_table.with_columns('Squared Deviation', deviations ** 2)\n",
    "sd_table"
   ]
  },
  {
   "cell_type": "code",
   "execution_count": 27,
   "metadata": {},
   "outputs": [
    {
     "data": {
      "text/plain": [
       "7.6875"
      ]
     },
     "execution_count": 27,
     "metadata": {},
     "output_type": "execute_result"
    }
   ],
   "source": [
    "# Variance of the data\n",
    "\n",
    "variance = np.mean(sd_table.column('Squared Deviation'))\n",
    "variance"
   ]
  },
  {
   "cell_type": "code",
   "execution_count": 28,
   "metadata": {},
   "outputs": [
    {
     "data": {
      "text/plain": [
       "2.7726341266023544"
      ]
     },
     "execution_count": 28,
     "metadata": {},
     "output_type": "execute_result"
    }
   ],
   "source": [
    "# Standard Deviation (SD) is the square root of the variance\n",
    "\n",
    "sd = variance ** 0.5\n",
    "sd"
   ]
  },
  {
   "cell_type": "code",
   "execution_count": 29,
   "metadata": {},
   "outputs": [
    {
     "data": {
      "text/plain": [
       "2.7726341266023544"
      ]
     },
     "execution_count": 29,
     "metadata": {},
     "output_type": "execute_result"
    }
   ],
   "source": [
    "np.std(values)"
   ]
  },
  {
   "cell_type": "code",
   "execution_count": 30,
   "metadata": {},
   "outputs": [
    {
     "data": {
      "text/plain": [
       "5.0"
      ]
     },
     "execution_count": 30,
     "metadata": {},
     "output_type": "execute_result"
    }
   ],
   "source": [
    "np.std(array1)"
   ]
  },
  {
   "cell_type": "code",
   "execution_count": 31,
   "metadata": {},
   "outputs": [
    {
     "data": {
      "text/plain": [
       "0.0"
      ]
     },
     "execution_count": 31,
     "metadata": {},
     "output_type": "execute_result"
    }
   ],
   "source": [
    "np.std(array2)"
   ]
  },
  {
   "cell_type": "code",
   "execution_count": 32,
   "metadata": {},
   "outputs": [
    {
     "data": {
      "text/plain": [
       "2.792848008753788"
      ]
     },
     "execution_count": 32,
     "metadata": {},
     "output_type": "execute_result"
    }
   ],
   "source": [
    "np.std(array3)"
   ]
  },
  {
   "cell_type": "markdown",
   "metadata": {},
   "source": [
    "## Chebyshev's Bound"
   ]
  },
  {
   "cell_type": "code",
   "execution_count": 33,
   "metadata": {
    "scrolled": true
   },
   "outputs": [
    {
     "data": {
      "text/html": [
       "<table border=\"1\" class=\"dataframe\">\n",
       "    <thead>\n",
       "        <tr>\n",
       "            <th>Birth Weight</th> <th>Gestational Days</th> <th>Maternal Age</th> <th>Maternal Height</th> <th>Maternal Pregnancy Weight</th> <th>Maternal Smoker</th>\n",
       "        </tr>\n",
       "    </thead>\n",
       "    <tbody>\n",
       "        <tr>\n",
       "            <td>120         </td> <td>284             </td> <td>27          </td> <td>62             </td> <td>100                      </td> <td>False          </td>\n",
       "        </tr>\n",
       "        <tr>\n",
       "            <td>113         </td> <td>282             </td> <td>33          </td> <td>64             </td> <td>135                      </td> <td>False          </td>\n",
       "        </tr>\n",
       "        <tr>\n",
       "            <td>128         </td> <td>279             </td> <td>28          </td> <td>64             </td> <td>115                      </td> <td>True           </td>\n",
       "        </tr>\n",
       "    </tbody>\n",
       "</table>\n",
       "<p>... (1171 rows omitted)</p>"
      ],
      "text/plain": [
       "<IPython.core.display.HTML object>"
      ]
     },
     "metadata": {},
     "output_type": "display_data"
    }
   ],
   "source": [
    "births = Table.read_table('baby.csv')\n",
    "births.show(3)"
   ]
  },
  {
   "cell_type": "code",
   "execution_count": 34,
   "metadata": {
    "scrolled": false
   },
   "outputs": [
    {
     "data": {
      "image/png": "[encoded data removed]",
      "text/plain": [
       "<Figure size 432x1440 with 5 Axes>"
      ]
     },
     "metadata": {},
     "output_type": "display_data"
    }
   ],
   "source": [
    "births.drop('Maternal Smoker').hist(overlay = False)"
   ]
  },
  {
   "cell_type": "code",
   "execution_count": 35,
   "metadata": {},
   "outputs": [
    {
     "data": {
      "text/plain": [
       "(128.48, 20.73, 125.0, 125)"
      ]
     },
     "execution_count": 35,
     "metadata": {},
     "output_type": "execute_result"
    }
   ],
   "source": [
    "mpw = births.column('Maternal Pregnancy Weight')\n",
    "mean = np.mean(mpw)\n",
    "sd = np.std(mpw)\n",
    "median_numpy=np.median(mpw)\n",
    "median_percentile_50=percentile(50,mpw)\n",
    "np.round(mean,2), np.round(sd,2), median_numpy, median_percentile_50"
   ]
  },
  {
   "cell_type": "code",
   "execution_count": 36,
   "metadata": {},
   "outputs": [],
   "source": [
    "within_3_SDs = births.where(\n",
    "    'Maternal Pregnancy Weight', \n",
    "    are.between(mean - 3*sd, mean + 3*sd))"
   ]
  },
  {
   "cell_type": "code",
   "execution_count": 37,
   "metadata": {},
   "outputs": [
    {
     "data": {
      "text/plain": [
       "0.9863713798977853"
      ]
     },
     "execution_count": 37,
     "metadata": {},
     "output_type": "execute_result"
    }
   ],
   "source": [
    "# Proportion within 3 SDs of the mean\n",
    "\n",
    "within_3_SDs.num_rows / births.num_rows"
   ]
  },
  {
   "cell_type": "code",
   "execution_count": 38,
   "metadata": {},
   "outputs": [
    {
     "data": {
      "text/plain": [
       "0.8888888888888888"
      ]
     },
     "execution_count": 38,
     "metadata": {},
     "output_type": "execute_result"
    }
   ],
   "source": [
    "# Chebyshev's bound: \n",
    "# The proportion we calculated above should be at least\n",
    "\n",
    "1 - 1/(3**2)"
   ]
  },
  {
   "cell_type": "code",
   "execution_count": 39,
   "metadata": {},
   "outputs": [
    {
     "data": {
      "text/plain": [
       "('Birth Weight',\n",
       " 'Gestational Days',\n",
       " 'Maternal Age',\n",
       " 'Maternal Height',\n",
       " 'Maternal Pregnancy Weight',\n",
       " 'Maternal Smoker')"
      ]
     },
     "execution_count": 39,
     "metadata": {},
     "output_type": "execute_result"
    }
   ],
   "source": [
    "births.labels"
   ]
  },
  {
   "cell_type": "code",
   "execution_count": 40,
   "metadata": {},
   "outputs": [
    {
     "name": "stdout",
     "output_type": "stream",
     "text": [
      "\n",
      "Birth Weight\n",
      "Average plus or minus 2 SDs: 94.89 % of the data\n",
      "Average plus or minus 3 SDs: 99.57 % of the data\n",
      "Average plus or minus 4 SDs: 100.0 % of the data\n",
      "Average plus or minus 5 SDs: 100.0 % of the data\n",
      "\n",
      "Gestational Days\n",
      "Average plus or minus 2 SDs: 93.78 % of the data\n",
      "Average plus or minus 3 SDs: 98.64 % of the data\n",
      "Average plus or minus 4 SDs: 99.57 % of the data\n",
      "Average plus or minus 5 SDs: 99.83 % of the data\n",
      "\n",
      "Maternal Age\n",
      "Average plus or minus 2 SDs: 94.89 % of the data\n",
      "Average plus or minus 3 SDs: 99.91 % of the data\n",
      "Average plus or minus 4 SDs: 100.0 % of the data\n",
      "Average plus or minus 5 SDs: 100.0 % of the data\n",
      "\n",
      "Maternal Height\n",
      "Average plus or minus 2 SDs: 97.19 % of the data\n",
      "Average plus or minus 3 SDs: 99.66 % of the data\n",
      "Average plus or minus 4 SDs: 99.91 % of the data\n",
      "Average plus or minus 5 SDs: 100.0 % of the data\n",
      "\n",
      "Maternal Pregnancy Weight\n",
      "Average plus or minus 2 SDs: 95.06 % of the data\n",
      "Average plus or minus 3 SDs: 98.64 % of the data\n",
      "Average plus or minus 4 SDs: 99.49 % of the data\n",
      "Average plus or minus 5 SDs: 99.91 % of the data\n",
      "\n",
      "Maternal Smoker\n",
      "Average plus or minus 2 SDs: 100.0 % of the data\n",
      "Average plus or minus 3 SDs: 100.0 % of the data\n",
      "Average plus or minus 4 SDs: 100.0 % of the data\n",
      "Average plus or minus 5 SDs: 100.0 % of the data\n"
     ]
    }
   ],
   "source": [
    "# See if Chebyshev's bounds work for distributions with various shapes\n",
    "\n",
    "for feature in births.labels:\n",
    "    values = births.column(feature)\n",
    "    mean = np.mean(values)\n",
    "    sd = np.std(values)\n",
    "    print()\n",
    "    print(feature)\n",
    "    for z in make_array(2, 3, 4, 5):\n",
    "        chosen = births.where(feature, are.between(mean - z*sd, mean + z*sd))\n",
    "        proportion = chosen.num_rows / births.num_rows\n",
    "        percent = round(proportion * 100, 2)\n",
    "        print('Average plus or minus', z, 'SDs:', percent, '% of the data')"
   ]
  },
  {
   "cell_type": "markdown",
   "metadata": {},
   "source": [
    "## Standard Units ##"
   ]
  },
  {
   "cell_type": "code",
   "execution_count": 41,
   "metadata": {},
   "outputs": [],
   "source": [
    "def standard_units(x):\n",
    "    \"\"\"Convert array x to standard units.\"\"\"\n",
    "    return (x - np.mean(x)) / np.std(x)"
   ]
  },
  {
   "cell_type": "code",
   "execution_count": 42,
   "metadata": {},
   "outputs": [],
   "source": [
    "ages = births.column('Maternal Age')"
   ]
  },
  {
   "cell_type": "code",
   "execution_count": 43,
   "metadata": {},
   "outputs": [],
   "source": [
    "ages_standard_units = standard_units(ages)"
   ]
  },
  {
   "cell_type": "code",
   "execution_count": 44,
   "metadata": {},
   "outputs": [
    {
     "data": {
      "text/plain": [
       "(-7.868020072300939e-17, 1.0)"
      ]
     },
     "execution_count": 44,
     "metadata": {},
     "output_type": "execute_result"
    }
   ],
   "source": [
    "np.mean(ages_standard_units), np.std(ages_standard_units)"
   ]
  },
  {
   "cell_type": "markdown",
   "metadata": {},
   "source": [
    "## Discussion Question"
   ]
  },
  {
   "cell_type": "code",
   "execution_count": 45,
   "metadata": {
    "scrolled": true
   },
   "outputs": [
    {
     "data": {
      "text/html": [
       "<table border=\"1\" class=\"dataframe\">\n",
       "    <thead>\n",
       "        <tr>\n",
       "            <th>Age in Years</th> <th>Age in Standard Units</th>\n",
       "        </tr>\n",
       "    </thead>\n",
       "    <tbody>\n",
       "        <tr>\n",
       "            <td>27          </td> <td>-0.0392546           </td>\n",
       "        </tr>\n",
       "        <tr>\n",
       "            <td>33          </td> <td>0.992496             </td>\n",
       "        </tr>\n",
       "        <tr>\n",
       "            <td>28          </td> <td>0.132704             </td>\n",
       "        </tr>\n",
       "        <tr>\n",
       "            <td>23          </td> <td>-0.727088            </td>\n",
       "        </tr>\n",
       "        <tr>\n",
       "            <td>25          </td> <td>-0.383171            </td>\n",
       "        </tr>\n",
       "        <tr>\n",
       "            <td>33          </td> <td>0.992496             </td>\n",
       "        </tr>\n",
       "        <tr>\n",
       "            <td>23          </td> <td>-0.727088            </td>\n",
       "        </tr>\n",
       "        <tr>\n",
       "            <td>25          </td> <td>-0.383171            </td>\n",
       "        </tr>\n",
       "        <tr>\n",
       "            <td>30          </td> <td>0.476621             </td>\n",
       "        </tr>\n",
       "        <tr>\n",
       "            <td>27          </td> <td>-0.0392546           </td>\n",
       "        </tr>\n",
       "    </tbody>\n",
       "</table>\n",
       "<p>... (1164 rows omitted)</p>"
      ],
      "text/plain": [
       "Age in Years | Age in Standard Units\n",
       "27           | -0.0392546\n",
       "33           | 0.992496\n",
       "28           | 0.132704\n",
       "23           | -0.727088\n",
       "25           | -0.383171\n",
       "33           | 0.992496\n",
       "23           | -0.727088\n",
       "25           | -0.383171\n",
       "30           | 0.476621\n",
       "27           | -0.0392546\n",
       "... (1164 rows omitted)"
      ]
     },
     "execution_count": 45,
     "metadata": {},
     "output_type": "execute_result"
    }
   ],
   "source": [
    "both = Table().with_columns(\n",
    "    'Age in Years', ages,\n",
    "    'Age in Standard Units', ages_standard_units\n",
    ")\n",
    "both"
   ]
  },
  {
   "cell_type": "code",
   "execution_count": 46,
   "metadata": {},
   "outputs": [
    {
     "data": {
      "image/png": "[encoded data removed]",
      "text/plain": [
       "<Figure size 432x576 with 2 Axes>"
      ]
     },
     "metadata": {},
     "output_type": "display_data"
    }
   ],
   "source": [
    "both.hist(overlay = False)"
   ]
  },
  {
   "cell_type": "code",
   "execution_count": 47,
   "metadata": {},
   "outputs": [
    {
     "data": {
      "text/plain": [
       "(27.228279386712096, 5.815360404190897)"
      ]
     },
     "execution_count": 47,
     "metadata": {},
     "output_type": "execute_result"
    }
   ],
   "source": [
    "np.mean(ages), np.std(ages)"
   ]
  },
  {
   "cell_type": "code",
   "execution_count": 48,
   "metadata": {
    "scrolled": true
   },
   "outputs": [
    {
     "data": {
      "image/png": "[encoded data removed]",
      "text/plain": [
       "<Figure size 432x288 with 1 Axes>"
      ]
     },
     "metadata": {},
     "output_type": "display_data"
    }
   ],
   "source": [
    "both.hist('Age in Years', bins = np.arange(15, 46, 2))"
   ]
  },
  {
   "cell_type": "code",
   "execution_count": 49,
   "metadata": {},
   "outputs": [
    {
     "data": {
      "image/png": "[encoded data removed]",
      "text/plain": [
       "<Figure size 432x288 with 1 Axes>"
      ]
     },
     "metadata": {},
     "output_type": "display_data"
    }
   ],
   "source": [
    "both.hist('Age in Standard Units', bins = np.arange(-2.2, 3.4, 0.35))\n",
    "plots.xlim(-2, 3.1);"
   ]
  },
  {
   "cell_type": "markdown",
   "metadata": {},
   "source": [
    "## The SD and Bell Shaped Curves"
   ]
  },
  {
   "cell_type": "code",
   "execution_count": 50,
   "metadata": {},
   "outputs": [
    {
     "data": {
      "image/png": "[encoded data removed]",
      "text/plain": [
       "<Figure size 432x288 with 1 Axes>"
      ]
     },
     "metadata": {},
     "output_type": "display_data"
    }
   ],
   "source": [
    "births.hist('Maternal Height', bins = np.arange(56.5, 72.6, 1))"
   ]
  },
  {
   "cell_type": "code",
   "execution_count": 51,
   "metadata": {},
   "outputs": [
    {
     "data": {
      "text/plain": [
       "(64.04940374787053, 2.5250254409674375)"
      ]
     },
     "execution_count": 51,
     "metadata": {},
     "output_type": "execute_result"
    }
   ],
   "source": [
    "heights = births.column('Maternal Height')\n",
    "np.mean(heights), np.std(heights)"
   ]
  },
  {
   "cell_type": "code",
   "execution_count": 52,
   "metadata": {},
   "outputs": [
    {
     "data": {
      "text/plain": [
       "(66.57442918883797, 61.52437830690309)"
      ]
     },
     "execution_count": 52,
     "metadata": {},
     "output_type": "execute_result"
    }
   ],
   "source": [
    "np.mean(heights) + np.std(heights), np.mean(heights) - np.std(heights)"
   ]
  },
  {
   "cell_type": "code",
   "execution_count": null,
   "metadata": {},
   "outputs": [],
   "source": []
  }
 ],
 "metadata": {
  "anaconda-cloud": {},
  "kernelspec": {
   "display_name": "Python 3 (ipykernel)",
   "language": "python",
   "name": "python3"
  },
  "language_info": {
   "codemirror_mode": {
    "name": "ipython",
    "version": 3
   },
   "file_extension": ".py",
   "mimetype": "text/x-python",
   "name": "python",
   "nbconvert_exporter": "python",
   "pygments_lexer": "ipython3",
   "version": "3.8.10"
  }
 },
 "nbformat": 4,
 "nbformat_minor": 1
}
