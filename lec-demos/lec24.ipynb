{
 "cells": [
  {
   "cell_type": "markdown",
   "metadata": {},
   "source": [
    "<h1> Lecture 24A\n",
    "\n",
    "Data Science 8, Summer 2021 </h1>"
   ]
  },
  {
   "cell_type": "code",
   "execution_count": 1,
   "metadata": {},
   "outputs": [],
   "source": [
    "from datascience import *\n",
    "import numpy as np\n",
    "import warnings\n",
    "warnings.filterwarnings(\"ignore\")\n",
    "\n",
    "%matplotlib inline\n",
    "import matplotlib.pyplot as plots\n",
    "plots.style.use('fivethirtyeight')\n",
    "plots.rcParams[\"patch.force_edgecolor\"] = True\n",
    "\n",
    "#The following allows porting images into a Markdown window\n",
    "#Syntax: ![title](image_name.png)\n",
    "from IPython.display import Image"
   ]
  },
  {
   "cell_type": "markdown",
   "metadata": {
    "collapsed": true
   },
   "source": [
    "<h2> Central Limit Theorem </h2>"
   ]
  },
  {
   "cell_type": "code",
   "execution_count": 2,
   "metadata": {
    "scrolled": true
   },
   "outputs": [
    {
     "data": {
      "text/html": [
       "<table border=\"1\" class=\"dataframe\">\n",
       "    <thead>\n",
       "        <tr>\n",
       "            <th>Row</th> <th>Date</th> <th>Flight Number</th> <th>Destination</th> <th>Delay</th>\n",
       "        </tr>\n",
       "    </thead>\n",
       "    <tbody>\n",
       "        <tr>\n",
       "            <td>0   </td> <td>6/1/15</td> <td>73           </td> <td>HNL        </td> <td>257  </td>\n",
       "        </tr>\n",
       "        <tr>\n",
       "            <td>1   </td> <td>6/1/15</td> <td>217          </td> <td>EWR        </td> <td>28   </td>\n",
       "        </tr>\n",
       "        <tr>\n",
       "            <td>2   </td> <td>6/1/15</td> <td>237          </td> <td>STL        </td> <td>-3   </td>\n",
       "        </tr>\n",
       "        <tr>\n",
       "            <td>3   </td> <td>6/1/15</td> <td>250          </td> <td>SAN        </td> <td>0    </td>\n",
       "        </tr>\n",
       "        <tr>\n",
       "            <td>4   </td> <td>6/1/15</td> <td>267          </td> <td>PHL        </td> <td>64   </td>\n",
       "        </tr>\n",
       "        <tr>\n",
       "            <td>5   </td> <td>6/1/15</td> <td>273          </td> <td>SEA        </td> <td>-6   </td>\n",
       "        </tr>\n",
       "        <tr>\n",
       "            <td>6   </td> <td>6/1/15</td> <td>278          </td> <td>SEA        </td> <td>-8   </td>\n",
       "        </tr>\n",
       "        <tr>\n",
       "            <td>7   </td> <td>6/1/15</td> <td>292          </td> <td>EWR        </td> <td>12   </td>\n",
       "        </tr>\n",
       "        <tr>\n",
       "            <td>8   </td> <td>6/1/15</td> <td>300          </td> <td>HNL        </td> <td>20   </td>\n",
       "        </tr>\n",
       "        <tr>\n",
       "            <td>9   </td> <td>6/1/15</td> <td>317          </td> <td>IND        </td> <td>-10  </td>\n",
       "        </tr>\n",
       "    </tbody>\n",
       "</table>\n",
       "<p>... (13815 rows omitted)</p>"
      ],
      "text/plain": [
       "Row  | Date   | Flight Number | Destination | Delay\n",
       "0    | 6/1/15 | 73            | HNL         | 257\n",
       "1    | 6/1/15 | 217           | EWR         | 28\n",
       "2    | 6/1/15 | 237           | STL         | -3\n",
       "3    | 6/1/15 | 250           | SAN         | 0\n",
       "4    | 6/1/15 | 267           | PHL         | 64\n",
       "5    | 6/1/15 | 273           | SEA         | -6\n",
       "6    | 6/1/15 | 278           | SEA         | -8\n",
       "7    | 6/1/15 | 292           | EWR         | 12\n",
       "8    | 6/1/15 | 300           | HNL         | 20\n",
       "9    | 6/1/15 | 317           | IND         | -10\n",
       "... (13815 rows omitted)"
      ]
     },
     "execution_count": 2,
     "metadata": {},
     "output_type": "execute_result"
    }
   ],
   "source": [
    "united = Table.read_table('united.csv')\n",
    "united_bins = np.arange(-20, 301, 10)\n",
    "united"
   ]
  },
  {
   "cell_type": "code",
   "execution_count": 3,
   "metadata": {
    "scrolled": true
   },
   "outputs": [
    {
     "data": {
      "image/png": "[encoded data removed]",
      "text/plain": [
       "<Figure size 432x288 with 1 Axes>"
      ]
     },
     "metadata": {},
     "output_type": "display_data"
    }
   ],
   "source": [
    "united.hist('Delay', bins=united_bins)"
   ]
  },
  {
   "cell_type": "markdown",
   "metadata": {},
   "source": [
    "Compute the Median, Mean, and Standard Deviation of the Delays"
   ]
  },
  {
   "cell_type": "code",
   "execution_count": 4,
   "metadata": {
    "scrolled": true
   },
   "outputs": [
    {
     "name": "stdout",
     "output_type": "stream",
     "text": [
      "Median Delay: 2\n",
      "Mean Delay: 16.66\n",
      "Delay Standard Deviation: 39.48\n"
     ]
    }
   ],
   "source": [
    "delays = united.column('Delay')\n",
    "delay_median = percentile(50, delays)\n",
    "delay_mean = np.mean(delays)\n",
    "delay_sd = np.std(delays)\n",
    "print('Median Delay:', np.round(delay_median,2))\n",
    "print('Mean Delay:', np.round(delay_mean,2))\n",
    "print('Delay Standard Deviation:', np.round(delay_sd,2))"
   ]
  },
  {
   "cell_type": "markdown",
   "metadata": {},
   "source": [
    "Assume that we don't have practical access to the complete data. We'll only sample the data. \n",
    "\n",
    "Let's generate a sample of flights and find the mean delay in that sample (which we'll call the sample mean). The Sample Mean is an estimate of the population mean (i.e., true mean flight delay of all flights)."
   ]
  },
  {
   "cell_type": "code",
   "execution_count": 5,
   "metadata": {},
   "outputs": [],
   "source": [
    "def one_sample_mean(sample_size):\n",
    "    \"\"\" \n",
    "    Takes a sample from the population of flights \n",
    "    and computes its mean\n",
    "    \"\"\"\n",
    "    # Recall that the \"sample\" method without an \n",
    "    # argument performs the sampling with replacement\n",
    "    sampled_flights = united.sample(sample_size)\n",
    "    return np.mean(sampled_flights.column('Delay'))"
   ]
  },
  {
   "cell_type": "markdown",
   "metadata": {},
   "source": [
    "Run the function `one_sample_mean` several times:"
   ]
  },
  {
   "cell_type": "code",
   "execution_count": 6,
   "metadata": {},
   "outputs": [
    {
     "data": {
      "text/plain": [
       "16.3825"
      ]
     },
     "execution_count": 6,
     "metadata": {},
     "output_type": "execute_result"
    }
   ],
   "source": [
    "one_sample_mean(400)"
   ]
  },
  {
   "cell_type": "markdown",
   "metadata": {},
   "source": [
    "Slides: Distribution of sample mean"
   ]
  },
  {
   "cell_type": "markdown",
   "metadata": {},
   "source": [
    "<h3>Question: How many possible random samples are there?</h3>\n",
    "\n",
    "<h4>In how many possible ways can we draw a sample of size <tt>sample_size=100</tt> from the data set?\n",
    "</h4>"
   ]
  },
  {
   "cell_type": "markdown",
   "metadata": {},
   "source": [
    "Total number of flights in our data set (total population size):"
   ]
  },
  {
   "cell_type": "code",
   "execution_count": 7,
   "metadata": {},
   "outputs": [
    {
     "data": {
      "text/plain": [
       "13825"
      ]
     },
     "execution_count": 7,
     "metadata": {},
     "output_type": "execute_result"
    }
   ],
   "source": [
    "united.num_rows"
   ]
  },
  {
   "cell_type": "markdown",
   "metadata": {},
   "source": [
    "For each flight we draw, we have 100 possibilities (recall that we sample with replacement):"
   ]
  },
  {
   "cell_type": "code",
   "execution_count": 8,
   "metadata": {
    "scrolled": true
   },
   "outputs": [
    {
     "data": {
      "text/plain": [
       "1165504615418237494349615885011805820520566729506417030256012982835521101389289581506235141816629947536725096544602733133107053753073943300297773225614255185451716371701575964369001765160460588336757167411656514145375086808526538359315710549541088092844181050829772823311457655911418600856861473091769868254342788739800237506723607294430619482503424038624026101052634369335293806901887592175626195967197418212890625"
      ]
     },
     "execution_count": 8,
     "metadata": {},
     "output_type": "execute_result"
    }
   ],
   "source": [
    "# How many possible sample means are there?\n",
    "united.num_rows ** 100"
   ]
  },
  {
   "cell_type": "markdown",
   "metadata": {},
   "source": [
    "<h4>How many random samples can we get of size <tt>sample_size=400</tt>?</h4>"
   ]
  },
  {
   "cell_type": "code",
   "execution_count": 9,
   "metadata": {
    "scrolled": true
   },
   "outputs": [
    {
     "data": {
      "text/plain": [
       "1845253300060122534684058597421182951017338738756884128476156537109395559702295050837795610986469015706417701209704203890696502616877632733167737247128710898267622177602279004150237321497531712957437744194467949953310673085563343687922543234838511385550568262088418334016217887061735745358842456577208939555740404373614633941136938352510678553686140728842897559436843191863609514780562396147921834537075860636817493656816017587537752125750151805566479543166742758254440594398100342650860455445795087942680221047750947255562969782801791748639952850756659518870235020316513575934561122027710440608023538776721761349403194150575014182981349346980577699633375066811153948871815566280319121565243984196831524157664160526536071758298269096548661601001356951548310460921171197940711389849058290284443729287317331793254191518876765178731748453564076631795997590039640387156475975294002056115371653663653810384491550154761367793765502453546587829476276348569091617961438914859251316410793595152416543512156519176222525375686012456475153300949448237257016682314992901731108854714280100481240308330277787527057569352848422077629847824096271549220911775951976626139238541198474345951971545910182363395101363835800498012434345133091636761182032795746446844142448244919867423330981077698924182274597759026544920974656341161972764585310457415429622273840896606709916142504003925039710004668567134806122448204818515414944603415501242828559573349452338412633791865156682427204248905349875523364526656394479383566492244844079971495826454577423053062574743146215624961827622221237394742408158154755584214993725965536145817076603276572256684406880822280072607100009918212890625"
      ]
     },
     "execution_count": 9,
     "metadata": {},
     "output_type": "execute_result"
    }
   ],
   "source": [
    "# How many possible sample means are there?\n",
    "united.num_rows ** 400"
   ]
  },
  {
   "cell_type": "markdown",
   "metadata": {},
   "source": [
    "Far too many samples to enumerate them all!  So while there *is* a well-defined distribution given by all possible sample means from all samples, it is too hard to compute it exactly.  Instead, we approximate this distribution by drawing 10,000 samples from it (which is much smaller than the ridiculous number above!).  We then draw the histogram of the sample means of those 10,000 samples."
   ]
  },
  {
   "cell_type": "markdown",
   "metadata": {},
   "source": [
    "In particular, to understand the variability of the Sample Mean, let's\n",
    "1. run a large number of trials; that is, take a large number of samples of identical size (e.g., sample_size=400)\n",
    "2. compute the mean of each sample (called the \"Sample Mean\")\n",
    "3. observe the distribution of these sample means."
   ]
  },
  {
   "cell_type": "markdown",
   "metadata": {},
   "source": [
    "Run a large number of trials and compute the mean of each sample"
   ]
  },
  {
   "cell_type": "code",
   "execution_count": 10,
   "metadata": {},
   "outputs": [],
   "source": [
    "def many_sample_means(sample_size,num_simulations):\n",
    "    \"\"\"Approximate the distribution of the sample mean\"\"\"\n",
    "    means = make_array()\n",
    "    for i in np.arange(num_simulations):\n",
    "        mean = one_sample_mean(sample_size)\n",
    "        means = np.append(means, mean)\n",
    "    return means"
   ]
  },
  {
   "cell_type": "markdown",
   "metadata": {},
   "source": [
    "Let's look at a sample size = 100 with 10000 replications"
   ]
  },
  {
   "cell_type": "code",
   "execution_count": 11,
   "metadata": {},
   "outputs": [],
   "source": [
    "sample_means_100_10000 = many_sample_means(100,10000)"
   ]
  },
  {
   "cell_type": "code",
   "execution_count": 12,
   "metadata": {
    "scrolled": true
   },
   "outputs": [
    {
     "data": {
      "text/plain": [
       "array([13.1 , 18.85, 19.92, ..., 18.57, 11.4 , 23.01])"
      ]
     },
     "execution_count": 12,
     "metadata": {},
     "output_type": "execute_result"
    }
   ],
   "source": [
    "sample_means_100_10000"
   ]
  },
  {
   "cell_type": "code",
   "execution_count": 13,
   "metadata": {},
   "outputs": [
    {
     "data": {
      "text/plain": [
       "10000"
      ]
     },
     "execution_count": 13,
     "metadata": {},
     "output_type": "execute_result"
    }
   ],
   "source": [
    "len(sample_means_100_10000)"
   ]
  },
  {
   "cell_type": "code",
   "execution_count": 14,
   "metadata": {
    "scrolled": false
   },
   "outputs": [
    {
     "name": "stdout",
     "output_type": "stream",
     "text": [
      "Population Mean: 16.66\n",
      "Sample Mean: 16.69\n"
     ]
    },
    {
     "data": {
      "image/png": "[encoded data removed]",
      "text/plain": [
       "<Figure size 432x288 with 1 Axes>"
      ]
     },
     "metadata": {},
     "output_type": "display_data"
    }
   ],
   "source": [
    "sample_means_100_10000_table = Table().with_column(\n",
    "    'Mean of 100 flight delays', sample_means_100_10000)\n",
    "\n",
    "sample_means_100_10000_table.hist(bins=20)\n",
    "\n",
    "print('Population Mean:', np.round(delay_mean,2))\n",
    "print('Sample Mean:', np.round(np.mean(sample_means_100_10000),2))"
   ]
  },
  {
   "cell_type": "markdown",
   "metadata": {},
   "source": [
    "<h3>Now let's look at the distribution's dependence on sample size.</h3>\n",
    "    \n",
    "What if each sample population contains 400 flights?"
   ]
  },
  {
   "cell_type": "code",
   "execution_count": 15,
   "metadata": {
    "scrolled": false
   },
   "outputs": [
    {
     "name": "stdout",
     "output_type": "stream",
     "text": [
      "Population Average: 16.66\n",
      "Sample Mean: 16.64\n"
     ]
    },
    {
     "data": {
      "image/png": "[encoded data removed]",
      "text/plain": [
       "<Figure size 432x288 with 1 Axes>"
      ]
     },
     "metadata": {},
     "output_type": "display_data"
    }
   ],
   "source": [
    "sample_means_400_10000 = many_sample_means(400,10000)\n",
    "sample_means_400_10000_table = Table().with_column(\n",
    "    'Mean of 400 flight delays', sample_means_400_10000)\n",
    "\n",
    "sample_means_400_10000_table.hist(bins=20)\n",
    "print('Population Average:', np.round(delay_mean,2))\n",
    "print('Sample Mean:', np.round(np.mean(sample_means_400_10000),2))"
   ]
  },
  {
   "cell_type": "markdown",
   "metadata": {},
   "source": [
    "Now do the same with a sample size of 900 flights."
   ]
  },
  {
   "cell_type": "code",
   "execution_count": 16,
   "metadata": {
    "scrolled": false
   },
   "outputs": [
    {
     "name": "stdout",
     "output_type": "stream",
     "text": [
      "Population Average: 16.66\n",
      "Sample Mean: 16.66\n"
     ]
    },
    {
     "data": {
      "image/png": "[encoded data removed]",
      "text/plain": [
       "<Figure size 432x288 with 1 Axes>"
      ]
     },
     "metadata": {},
     "output_type": "display_data"
    }
   ],
   "source": [
    "sample_means_900_10000 = many_sample_means(900,10000)\n",
    "sample_means_900_10000_table = Table().with_column(\n",
    "    'Mean of 900 flight delays', sample_means_900_10000).hist(bins=20)\n",
    "\n",
    "print('Population Average:', np.round(delay_mean,2))\n",
    "print('Sample Mean:', np.round(np.mean(sample_means_900_10000),2))"
   ]
  },
  {
   "cell_type": "code",
   "execution_count": 17,
   "metadata": {
    "scrolled": true
   },
   "outputs": [
    {
     "data": {
      "text/html": [
       "<table border=\"1\" class=\"dataframe\">\n",
       "    <thead>\n",
       "        <tr>\n",
       "            <th>Mean of 100 flight delays</th> <th>Mean of 400 flight delays</th>\n",
       "        </tr>\n",
       "    </thead>\n",
       "    <tbody>\n",
       "        <tr>\n",
       "            <td>13.1                     </td> <td>16.2625                  </td>\n",
       "        </tr>\n",
       "        <tr>\n",
       "            <td>18.85                    </td> <td>18.635                   </td>\n",
       "        </tr>\n",
       "        <tr>\n",
       "            <td>19.92                    </td> <td>18.635                   </td>\n",
       "        </tr>\n",
       "        <tr>\n",
       "            <td>11.69                    </td> <td>19.655                   </td>\n",
       "        </tr>\n",
       "        <tr>\n",
       "            <td>17.64                    </td> <td>18.18                    </td>\n",
       "        </tr>\n",
       "        <tr>\n",
       "            <td>18.33                    </td> <td>13.2225                  </td>\n",
       "        </tr>\n",
       "        <tr>\n",
       "            <td>15.88                    </td> <td>18.215                   </td>\n",
       "        </tr>\n",
       "        <tr>\n",
       "            <td>12.43                    </td> <td>15.4075                  </td>\n",
       "        </tr>\n",
       "        <tr>\n",
       "            <td>18.52                    </td> <td>15.3025                  </td>\n",
       "        </tr>\n",
       "        <tr>\n",
       "            <td>12.66                    </td> <td>18.44                    </td>\n",
       "        </tr>\n",
       "    </tbody>\n",
       "</table>\n",
       "<p>... (9990 rows omitted)</p>"
      ],
      "text/plain": [
       "Mean of 100 flight delays | Mean of 400 flight delays\n",
       "13.1                      | 16.2625\n",
       "18.85                     | 18.635\n",
       "19.92                     | 18.635\n",
       "11.69                     | 19.655\n",
       "17.64                     | 18.18\n",
       "18.33                     | 13.2225\n",
       "15.88                     | 18.215\n",
       "12.43                     | 15.4075\n",
       "18.52                     | 15.3025\n",
       "12.66                     | 18.44\n",
       "... (9990 rows omitted)"
      ]
     },
     "execution_count": 17,
     "metadata": {},
     "output_type": "execute_result"
    }
   ],
   "source": [
    "sample_means_100_400_900_table = Table().with_columns(\n",
    "    'Mean of 100 flight delays', sample_means_100_10000,\n",
    "    'Mean of 400 flight delays', sample_means_400_10000)#,\n",
    "    #'Mean of 900 flight delays', sample_means_900_10000)\n",
    "sample_means_100_400_900_table"
   ]
  },
  {
   "cell_type": "markdown",
   "metadata": {},
   "source": [
    "<h4>For comparison, superimpose the histograms for sample sizes 100, 400, and 900:</h4>"
   ]
  },
  {
   "cell_type": "code",
   "execution_count": 18,
   "metadata": {
    "scrolled": true
   },
   "outputs": [
    {
     "data": {
      "image/png": "[encoded data removed]",
      "text/plain": [
       "<Figure size 432x288 with 1 Axes>"
      ]
     },
     "metadata": {},
     "output_type": "display_data"
    }
   ],
   "source": [
    "sample_means_100_400_900_table.hist(bins=20)"
   ]
  },
  {
   "cell_type": "markdown",
   "metadata": {},
   "source": [
    "Let's interpret the picture above?\n",
    "Think in terms of \"center of mass\" and spread.\n",
    "Where is our mean?\n",
    "What does this tell you about the effect of increasing the sample size?"
   ]
  },
  {
   "cell_type": "markdown",
   "metadata": {},
   "source": [
    "Slides: specifying distribution"
   ]
  },
  {
   "cell_type": "markdown",
   "metadata": {},
   "source": [
    "<h3>Quantifying the effect of sample size on spread:</h3>"
   ]
  },
  {
   "cell_type": "code",
   "execution_count": 19,
   "metadata": {
    "scrolled": true
   },
   "outputs": [
    {
     "name": "stdout",
     "output_type": "stream",
     "text": [
      "Sample size:  100\n",
      "Population mean: 16.658155515370705\n",
      "Average of sample means:  16.691853\n",
      "Population SD: 39.480199851609314\n",
      "SD of sample means: 3.9709313537747035\n"
     ]
    },
    {
     "data": {
      "text/plain": [
       "Text(0.5, 1.0, 'Sample Size 100')"
      ]
     },
     "execution_count": 19,
     "metadata": {},
     "output_type": "execute_result"
    },
    {
     "data": {
      "image/png": "[encoded data removed]",
      "text/plain": [
       "<Figure size 432x288 with 1 Axes>"
      ]
     },
     "metadata": {},
     "output_type": "display_data"
    }
   ],
   "source": [
    "sample_size = 100\n",
    "print(\"Sample size: \", sample_size)\n",
    "print(\"Population mean:\", delay_mean)\n",
    "print(\"Average of sample means: \", np.mean(sample_means_100_10000))\n",
    "print(\"Population SD:\", delay_sd)\n",
    "print(\"SD of sample means:\", np.std(sample_means_100_10000))\n",
    "\n",
    "# Plot a histogram of the sample means\n",
    "sample_means_100_10000_table.hist(bins=20)\n",
    "plots.xlabel('Sample Means')\n",
    "plots.title('Sample Size ' + str(sample_size))"
   ]
  },
  {
   "cell_type": "code",
   "execution_count": 20,
   "metadata": {},
   "outputs": [
    {
     "data": {
      "text/plain": [
       "9.923995561416692"
      ]
     },
     "execution_count": 20,
     "metadata": {},
     "output_type": "execute_result"
    }
   ],
   "source": [
    "39.480199851609314/3.978256500345849"
   ]
  },
  {
   "cell_type": "code",
   "execution_count": 21,
   "metadata": {
    "scrolled": false
   },
   "outputs": [
    {
     "name": "stdout",
     "output_type": "stream",
     "text": [
      "Sample size:  400\n",
      "Population mean: 16.658155515370705\n",
      "Average of sample means:  16.6423065\n",
      "Population SD: 39.480199851609314\n",
      "SD of sample means: 1.9776872683282738\n"
     ]
    },
    {
     "data": {
      "text/plain": [
       "Text(0.5, 1.0, 'Sample Size 400')"
      ]
     },
     "execution_count": 21,
     "metadata": {},
     "output_type": "execute_result"
    },
    {
     "data": {
      "image/png": "[encoded data removed]",
      "text/plain": [
       "<Figure size 432x288 with 1 Axes>"
      ]
     },
     "metadata": {},
     "output_type": "display_data"
    }
   ],
   "source": [
    "sample_size = 400\n",
    "print(\"Sample size: \", sample_size)\n",
    "print(\"Population mean:\", delay_mean)\n",
    "print(\"Average of sample means: \", np.mean(sample_means_400_10000))\n",
    "print(\"Population SD:\", delay_sd)\n",
    "print(\"SD of sample means:\", np.std(sample_means_400_10000))\n",
    "\n",
    "\n",
    "sample_means_400_10000_table.hist(bins=20)\n",
    "plots.xlabel('Sample Means')\n",
    "plots.title('Sample Size ' + str(sample_size))"
   ]
  },
  {
   "cell_type": "code",
   "execution_count": 22,
   "metadata": {},
   "outputs": [
    {
     "data": {
      "text/plain": [
       "20.082531088466954"
      ]
     },
     "execution_count": 22,
     "metadata": {},
     "output_type": "execute_result"
    }
   ],
   "source": [
    "39.480199851609314/1.9658976091057616"
   ]
  },
  {
   "cell_type": "markdown",
   "metadata": {},
   "source": [
    "Are we noticing a pattern here? What do we expect to get for population SD / SD of sample means for sample of size 900?"
   ]
  },
  {
   "cell_type": "code",
   "execution_count": 23,
   "metadata": {},
   "outputs": [
    {
     "name": "stdout",
     "output_type": "stream",
     "text": [
      "Sample size:  900\n",
      "Population mean: 16.658155515370705\n",
      "Average of sample means:  16.66205177777778\n",
      "Population SD: 39.480199851609314\n",
      "SD of sample means: 1.3131097405402863\n"
     ]
    },
    {
     "data": {
      "text/plain": [
       "Text(0.5, 1.0, 'Sample Size 900')"
      ]
     },
     "execution_count": 23,
     "metadata": {},
     "output_type": "execute_result"
    },
    {
     "data": {
      "image/png": "[encoded data removed]",
      "text/plain": [
       "<Figure size 432x288 with 1 Axes>"
      ]
     },
     "metadata": {},
     "output_type": "display_data"
    }
   ],
   "source": [
    "sample_size = 900\n",
    "print(\"Sample size: \", sample_size)\n",
    "print(\"Population mean:\", delay_mean)\n",
    "print(\"Average of sample means: \", np.mean(sample_means_900_10000))\n",
    "print(\"Population SD:\", delay_sd)\n",
    "print(\"SD of sample means:\", np.std(sample_means_900_10000))\n",
    "\n",
    "Table().with_column(\n",
    "    'Mean of 900 flight delays', sample_means_900_10000).hist(bins=20)\n",
    "plots.xlabel('Sample Means')\n",
    "plots.title('Sample Size ' + str(sample_size))"
   ]
  },
  {
   "cell_type": "code",
   "execution_count": 24,
   "metadata": {},
   "outputs": [
    {
     "data": {
      "text/plain": [
       "30.13398160164293"
      ]
     },
     "execution_count": 24,
     "metadata": {},
     "output_type": "execute_result"
    }
   ],
   "source": [
    "39.480199851609314/1.31015543758933"
   ]
  },
  {
   "cell_type": "markdown",
   "metadata": {},
   "source": [
    "Let's make this a function"
   ]
  },
  {
   "cell_type": "code",
   "execution_count": 25,
   "metadata": {},
   "outputs": [],
   "source": [
    "\"\"\"Empirical distribution of random sample means\"\"\"\n",
    "\n",
    "def plot_and_summarize_sample_means(sample_size,num_simulations):\n",
    "    sample_means = many_sample_means(sample_size,num_simulations)\n",
    "    sample_means_table = Table().with_column('Sample Means', sample_means)\n",
    "    \n",
    "    # Print some information about the distribution of the sample means\n",
    "    print(\"Sample size: \", sample_size)\n",
    "    print(\"Population mean:\", delay_mean)\n",
    "    print(\"Average of sample means: \", np.mean(sample_means))\n",
    "    print(\"Population SD:\", delay_sd)\n",
    "    print(\"SD of sample means:\", np.std(sample_means))\n",
    "\n",
    "    # Plot a histogram of the sample means\n",
    "    sample_means_table.hist(bins=20)\n",
    "    plots.xlabel('Sample Means')\n",
    "    plots.title('Sample Size ' + str(sample_size))"
   ]
  },
  {
   "cell_type": "code",
   "execution_count": 26,
   "metadata": {
    "scrolled": false
   },
   "outputs": [
    {
     "name": "stdout",
     "output_type": "stream",
     "text": [
      "Sample size:  100\n",
      "Population mean: 16.658155515370705\n",
      "Average of sample means:  16.600754\n",
      "Population SD: 39.480199851609314\n",
      "SD of sample means: 3.941864103629652\n"
     ]
    },
    {
     "data": {
      "image/png": "[encoded data removed]",
      "text/plain": [
       "<Figure size 432x288 with 1 Axes>"
      ]
     },
     "metadata": {},
     "output_type": "display_data"
    }
   ],
   "source": [
    "plot_and_summarize_sample_means(100,10000)"
   ]
  },
  {
   "cell_type": "markdown",
   "metadata": {},
   "source": [
    "<h3>Now let's see the effect of increasing the number of trials&mdash;that is, the number of samples that we take&mdash;for a specified sample size (e.g., <tt>sample_size=400</tt>):</h3>"
   ]
  },
  {
   "cell_type": "markdown",
   "metadata": {},
   "source": [
    "Slides: Variability of the sample mean"
   ]
  },
  {
   "cell_type": "markdown",
   "metadata": {},
   "source": [
    "<h4>Sample Size=400<br>\n",
    "Number of Trials=10</h4>"
   ]
  },
  {
   "cell_type": "code",
   "execution_count": 27,
   "metadata": {
    "scrolled": true
   },
   "outputs": [
    {
     "name": "stdout",
     "output_type": "stream",
     "text": [
      "Population Average: 16.66\n",
      "Sample Average: 15.69\n"
     ]
    },
    {
     "data": {
      "image/png": "[encoded data removed]",
      "text/plain": [
       "<Figure size 432x288 with 1 Axes>"
      ]
     },
     "metadata": {},
     "output_type": "display_data"
    }
   ],
   "source": [
    "sample_means_400_10 = many_sample_means(400,10)\n",
    "Table().with_column(\n",
    "    'Mean of 400 flight delays', sample_means_400_10).hist(bins=20)\n",
    "\n",
    "print('Population Average:', np.round(delay_mean,2))\n",
    "print('Sample Average:', np.round(np.mean(sample_means_400_10),2))"
   ]
  },
  {
   "cell_type": "markdown",
   "metadata": {},
   "source": [
    "<h4>Sample Size=400<br>\n",
    "Number of Trials=50</h4>"
   ]
  },
  {
   "cell_type": "code",
   "execution_count": 28,
   "metadata": {
    "scrolled": true
   },
   "outputs": [
    {
     "name": "stdout",
     "output_type": "stream",
     "text": [
      "Population Average: 16.66\n",
      "Sample Average: 16.92\n"
     ]
    },
    {
     "data": {
      "image/png": "[encoded data removed]",
      "text/plain": [
       "<Figure size 432x288 with 1 Axes>"
      ]
     },
     "metadata": {},
     "output_type": "display_data"
    }
   ],
   "source": [
    "sample_means_400_50 = many_sample_means(400,50)\n",
    "Table().with_column(\n",
    "    'Mean of 400 flight delays', sample_means_400_50).hist(bins=20)\n",
    "\n",
    "print('Population Average:', np.round(delay_mean,2))\n",
    "print('Sample Average:', np.round(np.mean(sample_means_400_50),2))"
   ]
  },
  {
   "cell_type": "markdown",
   "metadata": {},
   "source": [
    "<h4>Sample Size=400<br>\n",
    "Number of Trials=100</h4>"
   ]
  },
  {
   "cell_type": "code",
   "execution_count": 29,
   "metadata": {
    "scrolled": true
   },
   "outputs": [
    {
     "name": "stdout",
     "output_type": "stream",
     "text": [
      "Population Average: 16.66\n",
      "Sample Average: 16.42\n"
     ]
    },
    {
     "data": {
      "image/png": "[encoded data removed]",
      "text/plain": [
       "<Figure size 432x288 with 1 Axes>"
      ]
     },
     "metadata": {},
     "output_type": "display_data"
    }
   ],
   "source": [
    "sample_means_400_100 = many_sample_means(400,100)\n",
    "Table().with_column(\n",
    "    'Mean of 400 flight delays', sample_means_400_100).hist(bins=20)\n",
    "\n",
    "print('Population Average:', np.round(delay_mean,2))\n",
    "print('Sample Average:', np.round(np.mean(sample_means_400_100),2))"
   ]
  },
  {
   "cell_type": "markdown",
   "metadata": {},
   "source": [
    "<h4>Sample Size=400<br>\n",
    "Number of Trials=1,000</h4>"
   ]
  },
  {
   "cell_type": "code",
   "execution_count": 30,
   "metadata": {
    "scrolled": true
   },
   "outputs": [
    {
     "name": "stdout",
     "output_type": "stream",
     "text": [
      "Population Average: 16.66\n",
      "Sample Average: 16.71\n"
     ]
    },
    {
     "data": {
      "image/png": "[encoded data removed]",
      "text/plain": [
       "<Figure size 432x288 with 1 Axes>"
      ]
     },
     "metadata": {},
     "output_type": "display_data"
    }
   ],
   "source": [
    "sample_means_400_1000 = many_sample_means(400,1000)\n",
    "Table().with_column(\n",
    "    'Mean of 400 flight delays', sample_means_400_1000).hist(bins=20)\n",
    "\n",
    "print('Population Average:', np.round(delay_mean,2))\n",
    "print('Sample Average:', np.round(np.mean(sample_means_400_1000),2))"
   ]
  },
  {
   "cell_type": "markdown",
   "metadata": {},
   "source": [
    "<h4>Sample Size=400<br>\n",
    "Number of Trials=10,000</h4>"
   ]
  },
  {
   "cell_type": "code",
   "execution_count": 31,
   "metadata": {
    "scrolled": true
   },
   "outputs": [
    {
     "name": "stdout",
     "output_type": "stream",
     "text": [
      "Population Average: 16.66\n",
      "Sample Average: 16.63\n"
     ]
    },
    {
     "data": {
      "image/png": "[encoded data removed]",
      "text/plain": [
       "<Figure size 432x288 with 1 Axes>"
      ]
     },
     "metadata": {},
     "output_type": "display_data"
    }
   ],
   "source": [
    "sample_means_400_10000 = many_sample_means(400,10000)\n",
    "Table().with_column(\n",
    "    'Mean of 400 flight delays', sample_means_400_10000).hist(bins=20)\n",
    "\n",
    "print('Population Average:', np.round(delay_mean,2))\n",
    "print('Sample Average:', np.round(np.mean(sample_means_400_10000),2))"
   ]
  },
  {
   "cell_type": "markdown",
   "metadata": {},
   "source": [
    "<h4>Sample Size=400<br>\n",
    "Number of Trials=50,000</h4>"
   ]
  },
  {
   "cell_type": "code",
   "execution_count": 32,
   "metadata": {
    "scrolled": true
   },
   "outputs": [
    {
     "name": "stdout",
     "output_type": "stream",
     "text": [
      "Population Average: 16.66\n",
      "Sample Average: 16.66\n"
     ]
    },
    {
     "data": {
      "image/png": "[encoded data removed]",
      "text/plain": [
       "<Figure size 432x288 with 1 Axes>"
      ]
     },
     "metadata": {},
     "output_type": "display_data"
    }
   ],
   "source": [
    "sample_means_400_50000 = many_sample_means(400,50000)\n",
    "Table().with_column(\n",
    "    'Mean of 400 flight delays', sample_means_400_50000).hist(bins=20)\n",
    "\n",
    "print('Population Average:', np.round(delay_mean,2))\n",
    "print('Sample Average:', np.round(np.mean(sample_means_400_50000),2))"
   ]
  },
  {
   "cell_type": "markdown",
   "metadata": {},
   "source": [
    "<h1> Lecture 24B\n",
    "\n",
    "Data Science 8, Summer 2021 </h1>"
   ]
  },
  {
   "cell_type": "code",
   "execution_count": 33,
   "metadata": {},
   "outputs": [],
   "source": [
    "from datascience import *\n",
    "import numpy as np\n",
    "import warnings\n",
    "warnings.filterwarnings(\"ignore\")\n",
    "\n",
    "%matplotlib inline\n",
    "import matplotlib.pyplot as plots\n",
    "plots.style.use('fivethirtyeight')\n",
    "plots.rcParams[\"patch.force_edgecolor\"] = True\n",
    "\n",
    "#The following allows porting images into a Markdown window\n",
    "#Syntax: ![title](image_name.png)\n",
    "from IPython.display import Image"
   ]
  },
  {
   "cell_type": "markdown",
   "metadata": {},
   "source": [
    "## SD of 0/1 Distribution ##\n",
    "\n",
    "<h4>Play with the <tt>number_of_ones</tt> in the cell below&mdash;by trying integers between 0 and 100&mdash;and see how it affects the variance and standard deviation.<br><br>\n",
    "\n",
    "Compare Variance and SD values for 0 and 100, 1 and 9, 2 and 8, ...</h4>"
   ]
  },
  {
   "cell_type": "code",
   "execution_count": 34,
   "metadata": {},
   "outputs": [
    {
     "name": "stdout",
     "output_type": "stream",
     "text": [
      "Variance: 0.25\n",
      "Standard Deviation: 0.5\n"
     ]
    },
    {
     "data": {
      "text/plain": [
       "array([1., 1., 1., 1., 1., 1., 1., 1., 1., 1., 1., 1., 1., 1., 1., 1., 1.,\n",
       "       1., 1., 1., 1., 1., 1., 1., 1., 1., 1., 1., 1., 1., 1., 1., 1., 1.,\n",
       "       1., 1., 1., 1., 1., 1., 1., 1., 1., 1., 1., 1., 1., 1., 1., 1., 0.,\n",
       "       0., 0., 0., 0., 0., 0., 0., 0., 0., 0., 0., 0., 0., 0., 0., 0., 0.,\n",
       "       0., 0., 0., 0., 0., 0., 0., 0., 0., 0., 0., 0., 0., 0., 0., 0., 0.,\n",
       "       0., 0., 0., 0., 0., 0., 0., 0., 0., 0., 0., 0., 0., 0., 0.])"
      ]
     },
     "execution_count": 34,
     "metadata": {},
     "output_type": "execute_result"
    }
   ],
   "source": [
    "# Population of size 10\n",
    "\n",
    "number_of_ones = 50\n",
    "zero_one_population = np.append(np.ones(number_of_ones), np.zeros(100 - number_of_ones))\n",
    "\n",
    "print('Variance:', np.round(np.var(zero_one_population),4))\n",
    "print('Standard Deviation:', np.round(np.std(zero_one_population),4))\n",
    "\n",
    "zero_one_population"
   ]
  },
  {
   "cell_type": "markdown",
   "metadata": {},
   "source": [
    "<h4> Let's make a graph with proportion of ones on the $x$-axis and SD on the $y$-axis:</h4>\n",
    "\n",
    "<h5>Step 1: Define a function that does two things: <br>\n",
    "<ul>\n",
    "<li> Create an array of size 100, consisting of a specified number of ones, and each of the remaining elements equal to zero; and </li><br>\n",
    "<li> Return the Standard Deviation of the values in the array.\n",
    "</ul>   \n",
    "</h5> "
   ]
  },
  {
   "cell_type": "code",
   "execution_count": 35,
   "metadata": {},
   "outputs": [],
   "source": [
    "def sd_of_zero_one_population(number_of_ones):\n",
    "    \"\"\"SD of a population with num_ones ones and (100 - num_ones) zeros\"\"\"\n",
    "    zero_one_population = np.append(np.ones(number_of_ones), \n",
    "                                    np.zeros(100 - number_of_ones))\n",
    "    return np.std(zero_one_population)"
   ]
  },
  {
   "cell_type": "markdown",
   "metadata": {},
   "source": [
    "<h5>Step 2: Create a table of two columns, where<br>\n",
    "<ul>\n",
    "<li> the first column contains the array of ones and zeros constructed above; and</li><br>\n",
    "<li> the second column denotes the fraction (proportion) of ones in the array.</li>\n",
    "</ul>\n",
    "</h5>"
   ]
  },
  {
   "cell_type": "code",
   "execution_count": 36,
   "metadata": {},
   "outputs": [
    {
     "data": {
      "text/html": [
       "<table border=\"1\" class=\"dataframe\">\n",
       "    <thead>\n",
       "        <tr>\n",
       "            <th>Number of Ones</th> <th>Proportion of Ones</th>\n",
       "        </tr>\n",
       "    </thead>\n",
       "    <tbody>\n",
       "        <tr>\n",
       "            <td>0             </td> <td>0                 </td>\n",
       "        </tr>\n",
       "        <tr>\n",
       "            <td>1             </td> <td>0.01              </td>\n",
       "        </tr>\n",
       "        <tr>\n",
       "            <td>2             </td> <td>0.02              </td>\n",
       "        </tr>\n",
       "        <tr>\n",
       "            <td>3             </td> <td>0.03              </td>\n",
       "        </tr>\n",
       "        <tr>\n",
       "            <td>4             </td> <td>0.04              </td>\n",
       "        </tr>\n",
       "        <tr>\n",
       "            <td>5             </td> <td>0.05              </td>\n",
       "        </tr>\n",
       "        <tr>\n",
       "            <td>6             </td> <td>0.06              </td>\n",
       "        </tr>\n",
       "        <tr>\n",
       "            <td>7             </td> <td>0.07              </td>\n",
       "        </tr>\n",
       "        <tr>\n",
       "            <td>8             </td> <td>0.08              </td>\n",
       "        </tr>\n",
       "        <tr>\n",
       "            <td>9             </td> <td>0.09              </td>\n",
       "        </tr>\n",
       "        <tr>\n",
       "            <td>10            </td> <td>0.1               </td>\n",
       "        </tr>\n",
       "        <tr>\n",
       "            <td>11            </td> <td>0.11              </td>\n",
       "        </tr>\n",
       "        <tr>\n",
       "            <td>12            </td> <td>0.12              </td>\n",
       "        </tr>\n",
       "        <tr>\n",
       "            <td>13            </td> <td>0.13              </td>\n",
       "        </tr>\n",
       "        <tr>\n",
       "            <td>14            </td> <td>0.14              </td>\n",
       "        </tr>\n",
       "        <tr>\n",
       "            <td>15            </td> <td>0.15              </td>\n",
       "        </tr>\n",
       "        <tr>\n",
       "            <td>16            </td> <td>0.16              </td>\n",
       "        </tr>\n",
       "        <tr>\n",
       "            <td>17            </td> <td>0.17              </td>\n",
       "        </tr>\n",
       "        <tr>\n",
       "            <td>18            </td> <td>0.18              </td>\n",
       "        </tr>\n",
       "        <tr>\n",
       "            <td>19            </td> <td>0.19              </td>\n",
       "        </tr>\n",
       "        <tr>\n",
       "            <td>20            </td> <td>0.2               </td>\n",
       "        </tr>\n",
       "        <tr>\n",
       "            <td>21            </td> <td>0.21              </td>\n",
       "        </tr>\n",
       "        <tr>\n",
       "            <td>22            </td> <td>0.22              </td>\n",
       "        </tr>\n",
       "        <tr>\n",
       "            <td>23            </td> <td>0.23              </td>\n",
       "        </tr>\n",
       "        <tr>\n",
       "            <td>24            </td> <td>0.24              </td>\n",
       "        </tr>\n",
       "        <tr>\n",
       "            <td>25            </td> <td>0.25              </td>\n",
       "        </tr>\n",
       "        <tr>\n",
       "            <td>26            </td> <td>0.26              </td>\n",
       "        </tr>\n",
       "        <tr>\n",
       "            <td>27            </td> <td>0.27              </td>\n",
       "        </tr>\n",
       "        <tr>\n",
       "            <td>28            </td> <td>0.28              </td>\n",
       "        </tr>\n",
       "        <tr>\n",
       "            <td>29            </td> <td>0.29              </td>\n",
       "        </tr>\n",
       "        <tr>\n",
       "            <td>30            </td> <td>0.3               </td>\n",
       "        </tr>\n",
       "        <tr>\n",
       "            <td>31            </td> <td>0.31              </td>\n",
       "        </tr>\n",
       "        <tr>\n",
       "            <td>32            </td> <td>0.32              </td>\n",
       "        </tr>\n",
       "        <tr>\n",
       "            <td>33            </td> <td>0.33              </td>\n",
       "        </tr>\n",
       "        <tr>\n",
       "            <td>34            </td> <td>0.34              </td>\n",
       "        </tr>\n",
       "        <tr>\n",
       "            <td>35            </td> <td>0.35              </td>\n",
       "        </tr>\n",
       "        <tr>\n",
       "            <td>36            </td> <td>0.36              </td>\n",
       "        </tr>\n",
       "        <tr>\n",
       "            <td>37            </td> <td>0.37              </td>\n",
       "        </tr>\n",
       "        <tr>\n",
       "            <td>38            </td> <td>0.38              </td>\n",
       "        </tr>\n",
       "        <tr>\n",
       "            <td>39            </td> <td>0.39              </td>\n",
       "        </tr>\n",
       "        <tr>\n",
       "            <td>40            </td> <td>0.4               </td>\n",
       "        </tr>\n",
       "        <tr>\n",
       "            <td>41            </td> <td>0.41              </td>\n",
       "        </tr>\n",
       "        <tr>\n",
       "            <td>42            </td> <td>0.42              </td>\n",
       "        </tr>\n",
       "        <tr>\n",
       "            <td>43            </td> <td>0.43              </td>\n",
       "        </tr>\n",
       "        <tr>\n",
       "            <td>44            </td> <td>0.44              </td>\n",
       "        </tr>\n",
       "        <tr>\n",
       "            <td>45            </td> <td>0.45              </td>\n",
       "        </tr>\n",
       "        <tr>\n",
       "            <td>46            </td> <td>0.46              </td>\n",
       "        </tr>\n",
       "        <tr>\n",
       "            <td>47            </td> <td>0.47              </td>\n",
       "        </tr>\n",
       "        <tr>\n",
       "            <td>48            </td> <td>0.48              </td>\n",
       "        </tr>\n",
       "        <tr>\n",
       "            <td>49            </td> <td>0.49              </td>\n",
       "        </tr>\n",
       "        <tr>\n",
       "            <td>50            </td> <td>0.5               </td>\n",
       "        </tr>\n",
       "        <tr>\n",
       "            <td>51            </td> <td>0.51              </td>\n",
       "        </tr>\n",
       "        <tr>\n",
       "            <td>52            </td> <td>0.52              </td>\n",
       "        </tr>\n",
       "        <tr>\n",
       "            <td>53            </td> <td>0.53              </td>\n",
       "        </tr>\n",
       "        <tr>\n",
       "            <td>54            </td> <td>0.54              </td>\n",
       "        </tr>\n",
       "        <tr>\n",
       "            <td>55            </td> <td>0.55              </td>\n",
       "        </tr>\n",
       "        <tr>\n",
       "            <td>56            </td> <td>0.56              </td>\n",
       "        </tr>\n",
       "        <tr>\n",
       "            <td>57            </td> <td>0.57              </td>\n",
       "        </tr>\n",
       "        <tr>\n",
       "            <td>58            </td> <td>0.58              </td>\n",
       "        </tr>\n",
       "        <tr>\n",
       "            <td>59            </td> <td>0.59              </td>\n",
       "        </tr>\n",
       "        <tr>\n",
       "            <td>60            </td> <td>0.6               </td>\n",
       "        </tr>\n",
       "        <tr>\n",
       "            <td>61            </td> <td>0.61              </td>\n",
       "        </tr>\n",
       "        <tr>\n",
       "            <td>62            </td> <td>0.62              </td>\n",
       "        </tr>\n",
       "        <tr>\n",
       "            <td>63            </td> <td>0.63              </td>\n",
       "        </tr>\n",
       "        <tr>\n",
       "            <td>64            </td> <td>0.64              </td>\n",
       "        </tr>\n",
       "        <tr>\n",
       "            <td>65            </td> <td>0.65              </td>\n",
       "        </tr>\n",
       "        <tr>\n",
       "            <td>66            </td> <td>0.66              </td>\n",
       "        </tr>\n",
       "        <tr>\n",
       "            <td>67            </td> <td>0.67              </td>\n",
       "        </tr>\n",
       "        <tr>\n",
       "            <td>68            </td> <td>0.68              </td>\n",
       "        </tr>\n",
       "        <tr>\n",
       "            <td>69            </td> <td>0.69              </td>\n",
       "        </tr>\n",
       "        <tr>\n",
       "            <td>70            </td> <td>0.7               </td>\n",
       "        </tr>\n",
       "        <tr>\n",
       "            <td>71            </td> <td>0.71              </td>\n",
       "        </tr>\n",
       "        <tr>\n",
       "            <td>72            </td> <td>0.72              </td>\n",
       "        </tr>\n",
       "        <tr>\n",
       "            <td>73            </td> <td>0.73              </td>\n",
       "        </tr>\n",
       "        <tr>\n",
       "            <td>74            </td> <td>0.74              </td>\n",
       "        </tr>\n",
       "        <tr>\n",
       "            <td>75            </td> <td>0.75              </td>\n",
       "        </tr>\n",
       "        <tr>\n",
       "            <td>76            </td> <td>0.76              </td>\n",
       "        </tr>\n",
       "        <tr>\n",
       "            <td>77            </td> <td>0.77              </td>\n",
       "        </tr>\n",
       "        <tr>\n",
       "            <td>78            </td> <td>0.78              </td>\n",
       "        </tr>\n",
       "        <tr>\n",
       "            <td>79            </td> <td>0.79              </td>\n",
       "        </tr>\n",
       "        <tr>\n",
       "            <td>80            </td> <td>0.8               </td>\n",
       "        </tr>\n",
       "        <tr>\n",
       "            <td>81            </td> <td>0.81              </td>\n",
       "        </tr>\n",
       "        <tr>\n",
       "            <td>82            </td> <td>0.82              </td>\n",
       "        </tr>\n",
       "        <tr>\n",
       "            <td>83            </td> <td>0.83              </td>\n",
       "        </tr>\n",
       "        <tr>\n",
       "            <td>84            </td> <td>0.84              </td>\n",
       "        </tr>\n",
       "        <tr>\n",
       "            <td>85            </td> <td>0.85              </td>\n",
       "        </tr>\n",
       "        <tr>\n",
       "            <td>86            </td> <td>0.86              </td>\n",
       "        </tr>\n",
       "        <tr>\n",
       "            <td>87            </td> <td>0.87              </td>\n",
       "        </tr>\n",
       "        <tr>\n",
       "            <td>88            </td> <td>0.88              </td>\n",
       "        </tr>\n",
       "        <tr>\n",
       "            <td>89            </td> <td>0.89              </td>\n",
       "        </tr>\n",
       "        <tr>\n",
       "            <td>90            </td> <td>0.9               </td>\n",
       "        </tr>\n",
       "        <tr>\n",
       "            <td>91            </td> <td>0.91              </td>\n",
       "        </tr>\n",
       "        <tr>\n",
       "            <td>92            </td> <td>0.92              </td>\n",
       "        </tr>\n",
       "        <tr>\n",
       "            <td>93            </td> <td>0.93              </td>\n",
       "        </tr>\n",
       "        <tr>\n",
       "            <td>94            </td> <td>0.94              </td>\n",
       "        </tr>\n",
       "        <tr>\n",
       "            <td>95            </td> <td>0.95              </td>\n",
       "        </tr>\n",
       "        <tr>\n",
       "            <td>96            </td> <td>0.96              </td>\n",
       "        </tr>\n",
       "        <tr>\n",
       "            <td>97            </td> <td>0.97              </td>\n",
       "        </tr>\n",
       "        <tr>\n",
       "            <td>98            </td> <td>0.98              </td>\n",
       "        </tr>\n",
       "        <tr>\n",
       "            <td>99            </td> <td>0.99              </td>\n",
       "        </tr>\n",
       "        <tr>\n",
       "            <td>100           </td> <td>1                 </td>\n",
       "        </tr>\n",
       "    </tbody>\n",
       "</table>"
      ],
      "text/plain": [
       "<IPython.core.display.HTML object>"
      ]
     },
     "metadata": {},
     "output_type": "display_data"
    }
   ],
   "source": [
    "possible_ones = np.arange(101)\n",
    "zero_one_pop = Table().with_columns(\n",
    "    'Number of Ones', possible_ones,\n",
    "    'Proportion of Ones', possible_ones / 100\n",
    ")\n",
    "zero_one_pop.show()"
   ]
  },
  {
   "cell_type": "markdown",
   "metadata": {},
   "source": [
    "<h5>Step 3: Add a column of Standard Deviations computed from the second column of the table above:</h5>"
   ]
  },
  {
   "cell_type": "code",
   "execution_count": 37,
   "metadata": {},
   "outputs": [
    {
     "data": {
      "text/html": [
       "<table border=\"1\" class=\"dataframe\">\n",
       "    <thead>\n",
       "        <tr>\n",
       "            <th>Number of Ones</th> <th>Proportion of Ones</th> <th>SD</th>\n",
       "        </tr>\n",
       "    </thead>\n",
       "    <tbody>\n",
       "        <tr>\n",
       "            <td>0             </td> <td>0                 </td> <td>0        </td>\n",
       "        </tr>\n",
       "        <tr>\n",
       "            <td>1             </td> <td>0.01              </td> <td>0.0994987</td>\n",
       "        </tr>\n",
       "        <tr>\n",
       "            <td>2             </td> <td>0.02              </td> <td>0.14     </td>\n",
       "        </tr>\n",
       "        <tr>\n",
       "            <td>3             </td> <td>0.03              </td> <td>0.170587 </td>\n",
       "        </tr>\n",
       "        <tr>\n",
       "            <td>4             </td> <td>0.04              </td> <td>0.195959 </td>\n",
       "        </tr>\n",
       "        <tr>\n",
       "            <td>5             </td> <td>0.05              </td> <td>0.217945 </td>\n",
       "        </tr>\n",
       "        <tr>\n",
       "            <td>6             </td> <td>0.06              </td> <td>0.237487 </td>\n",
       "        </tr>\n",
       "        <tr>\n",
       "            <td>7             </td> <td>0.07              </td> <td>0.255147 </td>\n",
       "        </tr>\n",
       "        <tr>\n",
       "            <td>8             </td> <td>0.08              </td> <td>0.271293 </td>\n",
       "        </tr>\n",
       "        <tr>\n",
       "            <td>9             </td> <td>0.09              </td> <td>0.286182 </td>\n",
       "        </tr>\n",
       "        <tr>\n",
       "            <td>10            </td> <td>0.1               </td> <td>0.3      </td>\n",
       "        </tr>\n",
       "        <tr>\n",
       "            <td>11            </td> <td>0.11              </td> <td>0.31289  </td>\n",
       "        </tr>\n",
       "        <tr>\n",
       "            <td>12            </td> <td>0.12              </td> <td>0.324962 </td>\n",
       "        </tr>\n",
       "        <tr>\n",
       "            <td>13            </td> <td>0.13              </td> <td>0.336303 </td>\n",
       "        </tr>\n",
       "        <tr>\n",
       "            <td>14            </td> <td>0.14              </td> <td>0.346987 </td>\n",
       "        </tr>\n",
       "        <tr>\n",
       "            <td>15            </td> <td>0.15              </td> <td>0.357071 </td>\n",
       "        </tr>\n",
       "        <tr>\n",
       "            <td>16            </td> <td>0.16              </td> <td>0.366606 </td>\n",
       "        </tr>\n",
       "        <tr>\n",
       "            <td>17            </td> <td>0.17              </td> <td>0.375633 </td>\n",
       "        </tr>\n",
       "        <tr>\n",
       "            <td>18            </td> <td>0.18              </td> <td>0.384187 </td>\n",
       "        </tr>\n",
       "        <tr>\n",
       "            <td>19            </td> <td>0.19              </td> <td>0.392301 </td>\n",
       "        </tr>\n",
       "        <tr>\n",
       "            <td>20            </td> <td>0.2               </td> <td>0.4      </td>\n",
       "        </tr>\n",
       "        <tr>\n",
       "            <td>21            </td> <td>0.21              </td> <td>0.407308 </td>\n",
       "        </tr>\n",
       "        <tr>\n",
       "            <td>22            </td> <td>0.22              </td> <td>0.414246 </td>\n",
       "        </tr>\n",
       "        <tr>\n",
       "            <td>23            </td> <td>0.23              </td> <td>0.420833 </td>\n",
       "        </tr>\n",
       "        <tr>\n",
       "            <td>24            </td> <td>0.24              </td> <td>0.427083 </td>\n",
       "        </tr>\n",
       "        <tr>\n",
       "            <td>25            </td> <td>0.25              </td> <td>0.433013 </td>\n",
       "        </tr>\n",
       "        <tr>\n",
       "            <td>26            </td> <td>0.26              </td> <td>0.438634 </td>\n",
       "        </tr>\n",
       "        <tr>\n",
       "            <td>27            </td> <td>0.27              </td> <td>0.443959 </td>\n",
       "        </tr>\n",
       "        <tr>\n",
       "            <td>28            </td> <td>0.28              </td> <td>0.448999 </td>\n",
       "        </tr>\n",
       "        <tr>\n",
       "            <td>29            </td> <td>0.29              </td> <td>0.453762 </td>\n",
       "        </tr>\n",
       "        <tr>\n",
       "            <td>30            </td> <td>0.3               </td> <td>0.458258 </td>\n",
       "        </tr>\n",
       "        <tr>\n",
       "            <td>31            </td> <td>0.31              </td> <td>0.462493 </td>\n",
       "        </tr>\n",
       "        <tr>\n",
       "            <td>32            </td> <td>0.32              </td> <td>0.466476 </td>\n",
       "        </tr>\n",
       "        <tr>\n",
       "            <td>33            </td> <td>0.33              </td> <td>0.470213 </td>\n",
       "        </tr>\n",
       "        <tr>\n",
       "            <td>34            </td> <td>0.34              </td> <td>0.473709 </td>\n",
       "        </tr>\n",
       "        <tr>\n",
       "            <td>35            </td> <td>0.35              </td> <td>0.47697  </td>\n",
       "        </tr>\n",
       "        <tr>\n",
       "            <td>36            </td> <td>0.36              </td> <td>0.48     </td>\n",
       "        </tr>\n",
       "        <tr>\n",
       "            <td>37            </td> <td>0.37              </td> <td>0.482804 </td>\n",
       "        </tr>\n",
       "        <tr>\n",
       "            <td>38            </td> <td>0.38              </td> <td>0.485386 </td>\n",
       "        </tr>\n",
       "        <tr>\n",
       "            <td>39            </td> <td>0.39              </td> <td>0.48775  </td>\n",
       "        </tr>\n",
       "        <tr>\n",
       "            <td>40            </td> <td>0.4               </td> <td>0.489898 </td>\n",
       "        </tr>\n",
       "        <tr>\n",
       "            <td>41            </td> <td>0.41              </td> <td>0.491833 </td>\n",
       "        </tr>\n",
       "        <tr>\n",
       "            <td>42            </td> <td>0.42              </td> <td>0.493559 </td>\n",
       "        </tr>\n",
       "        <tr>\n",
       "            <td>43            </td> <td>0.43              </td> <td>0.495076 </td>\n",
       "        </tr>\n",
       "        <tr>\n",
       "            <td>44            </td> <td>0.44              </td> <td>0.496387 </td>\n",
       "        </tr>\n",
       "        <tr>\n",
       "            <td>45            </td> <td>0.45              </td> <td>0.497494 </td>\n",
       "        </tr>\n",
       "        <tr>\n",
       "            <td>46            </td> <td>0.46              </td> <td>0.498397 </td>\n",
       "        </tr>\n",
       "        <tr>\n",
       "            <td>47            </td> <td>0.47              </td> <td>0.499099 </td>\n",
       "        </tr>\n",
       "        <tr>\n",
       "            <td>48            </td> <td>0.48              </td> <td>0.4996   </td>\n",
       "        </tr>\n",
       "        <tr>\n",
       "            <td>49            </td> <td>0.49              </td> <td>0.4999   </td>\n",
       "        </tr>\n",
       "        <tr>\n",
       "            <td>50            </td> <td>0.5               </td> <td>0.5      </td>\n",
       "        </tr>\n",
       "        <tr>\n",
       "            <td>51            </td> <td>0.51              </td> <td>0.4999   </td>\n",
       "        </tr>\n",
       "        <tr>\n",
       "            <td>52            </td> <td>0.52              </td> <td>0.4996   </td>\n",
       "        </tr>\n",
       "        <tr>\n",
       "            <td>53            </td> <td>0.53              </td> <td>0.499099 </td>\n",
       "        </tr>\n",
       "        <tr>\n",
       "            <td>54            </td> <td>0.54              </td> <td>0.498397 </td>\n",
       "        </tr>\n",
       "        <tr>\n",
       "            <td>55            </td> <td>0.55              </td> <td>0.497494 </td>\n",
       "        </tr>\n",
       "        <tr>\n",
       "            <td>56            </td> <td>0.56              </td> <td>0.496387 </td>\n",
       "        </tr>\n",
       "        <tr>\n",
       "            <td>57            </td> <td>0.57              </td> <td>0.495076 </td>\n",
       "        </tr>\n",
       "        <tr>\n",
       "            <td>58            </td> <td>0.58              </td> <td>0.493559 </td>\n",
       "        </tr>\n",
       "        <tr>\n",
       "            <td>59            </td> <td>0.59              </td> <td>0.491833 </td>\n",
       "        </tr>\n",
       "        <tr>\n",
       "            <td>60            </td> <td>0.6               </td> <td>0.489898 </td>\n",
       "        </tr>\n",
       "        <tr>\n",
       "            <td>61            </td> <td>0.61              </td> <td>0.48775  </td>\n",
       "        </tr>\n",
       "        <tr>\n",
       "            <td>62            </td> <td>0.62              </td> <td>0.485386 </td>\n",
       "        </tr>\n",
       "        <tr>\n",
       "            <td>63            </td> <td>0.63              </td> <td>0.482804 </td>\n",
       "        </tr>\n",
       "        <tr>\n",
       "            <td>64            </td> <td>0.64              </td> <td>0.48     </td>\n",
       "        </tr>\n",
       "        <tr>\n",
       "            <td>65            </td> <td>0.65              </td> <td>0.47697  </td>\n",
       "        </tr>\n",
       "        <tr>\n",
       "            <td>66            </td> <td>0.66              </td> <td>0.473709 </td>\n",
       "        </tr>\n",
       "        <tr>\n",
       "            <td>67            </td> <td>0.67              </td> <td>0.470213 </td>\n",
       "        </tr>\n",
       "        <tr>\n",
       "            <td>68            </td> <td>0.68              </td> <td>0.466476 </td>\n",
       "        </tr>\n",
       "        <tr>\n",
       "            <td>69            </td> <td>0.69              </td> <td>0.462493 </td>\n",
       "        </tr>\n",
       "        <tr>\n",
       "            <td>70            </td> <td>0.7               </td> <td>0.458258 </td>\n",
       "        </tr>\n",
       "        <tr>\n",
       "            <td>71            </td> <td>0.71              </td> <td>0.453762 </td>\n",
       "        </tr>\n",
       "        <tr>\n",
       "            <td>72            </td> <td>0.72              </td> <td>0.448999 </td>\n",
       "        </tr>\n",
       "        <tr>\n",
       "            <td>73            </td> <td>0.73              </td> <td>0.443959 </td>\n",
       "        </tr>\n",
       "        <tr>\n",
       "            <td>74            </td> <td>0.74              </td> <td>0.438634 </td>\n",
       "        </tr>\n",
       "        <tr>\n",
       "            <td>75            </td> <td>0.75              </td> <td>0.433013 </td>\n",
       "        </tr>\n",
       "        <tr>\n",
       "            <td>76            </td> <td>0.76              </td> <td>0.427083 </td>\n",
       "        </tr>\n",
       "        <tr>\n",
       "            <td>77            </td> <td>0.77              </td> <td>0.420833 </td>\n",
       "        </tr>\n",
       "        <tr>\n",
       "            <td>78            </td> <td>0.78              </td> <td>0.414246 </td>\n",
       "        </tr>\n",
       "        <tr>\n",
       "            <td>79            </td> <td>0.79              </td> <td>0.407308 </td>\n",
       "        </tr>\n",
       "        <tr>\n",
       "            <td>80            </td> <td>0.8               </td> <td>0.4      </td>\n",
       "        </tr>\n",
       "        <tr>\n",
       "            <td>81            </td> <td>0.81              </td> <td>0.392301 </td>\n",
       "        </tr>\n",
       "        <tr>\n",
       "            <td>82            </td> <td>0.82              </td> <td>0.384187 </td>\n",
       "        </tr>\n",
       "        <tr>\n",
       "            <td>83            </td> <td>0.83              </td> <td>0.375633 </td>\n",
       "        </tr>\n",
       "        <tr>\n",
       "            <td>84            </td> <td>0.84              </td> <td>0.366606 </td>\n",
       "        </tr>\n",
       "        <tr>\n",
       "            <td>85            </td> <td>0.85              </td> <td>0.357071 </td>\n",
       "        </tr>\n",
       "        <tr>\n",
       "            <td>86            </td> <td>0.86              </td> <td>0.346987 </td>\n",
       "        </tr>\n",
       "        <tr>\n",
       "            <td>87            </td> <td>0.87              </td> <td>0.336303 </td>\n",
       "        </tr>\n",
       "        <tr>\n",
       "            <td>88            </td> <td>0.88              </td> <td>0.324962 </td>\n",
       "        </tr>\n",
       "        <tr>\n",
       "            <td>89            </td> <td>0.89              </td> <td>0.31289  </td>\n",
       "        </tr>\n",
       "        <tr>\n",
       "            <td>90            </td> <td>0.9               </td> <td>0.3      </td>\n",
       "        </tr>\n",
       "        <tr>\n",
       "            <td>91            </td> <td>0.91              </td> <td>0.286182 </td>\n",
       "        </tr>\n",
       "        <tr>\n",
       "            <td>92            </td> <td>0.92              </td> <td>0.271293 </td>\n",
       "        </tr>\n",
       "        <tr>\n",
       "            <td>93            </td> <td>0.93              </td> <td>0.255147 </td>\n",
       "        </tr>\n",
       "        <tr>\n",
       "            <td>94            </td> <td>0.94              </td> <td>0.237487 </td>\n",
       "        </tr>\n",
       "        <tr>\n",
       "            <td>95            </td> <td>0.95              </td> <td>0.217945 </td>\n",
       "        </tr>\n",
       "        <tr>\n",
       "            <td>96            </td> <td>0.96              </td> <td>0.195959 </td>\n",
       "        </tr>\n",
       "        <tr>\n",
       "            <td>97            </td> <td>0.97              </td> <td>0.170587 </td>\n",
       "        </tr>\n",
       "        <tr>\n",
       "            <td>98            </td> <td>0.98              </td> <td>0.14     </td>\n",
       "        </tr>\n",
       "        <tr>\n",
       "            <td>99            </td> <td>0.99              </td> <td>0.0994987</td>\n",
       "        </tr>\n",
       "        <tr>\n",
       "            <td>100           </td> <td>1                 </td> <td>0        </td>\n",
       "        </tr>\n",
       "    </tbody>\n",
       "</table>"
      ],
      "text/plain": [
       "<IPython.core.display.HTML object>"
      ]
     },
     "metadata": {},
     "output_type": "display_data"
    }
   ],
   "source": [
    "sds = zero_one_pop.apply(sd_of_zero_one_population, 'Number of Ones')\n",
    "zero_one_pop = zero_one_pop.with_column('SD', sds)\n",
    "zero_one_pop.show()"
   ]
  },
  {
   "cell_type": "markdown",
   "metadata": {},
   "source": [
    "<h4>Question: What are your observations of the SD as a function of the Proportion of Ones?</h4>"
   ]
  },
  {
   "cell_type": "code",
   "execution_count": 38,
   "metadata": {},
   "outputs": [
    {
     "data": {
      "image/png": "[encoded data removed]",
      "text/plain": [
       "<Figure size 432x432 with 1 Axes>"
      ]
     },
     "metadata": {},
     "output_type": "display_data"
    }
   ],
   "source": [
    "zero_one_pop.plot('Proportion of Ones', 'SD')"
   ]
  },
  {
   "cell_type": "code",
   "execution_count": 39,
   "metadata": {},
   "outputs": [],
   "source": [
    "## Slides"
   ]
  }
 ],
 "metadata": {
  "anaconda-cloud": {},
  "kernelspec": {
   "display_name": "Python 3 (ipykernel)",
   "language": "python",
   "name": "python3"
  },
  "language_info": {
   "codemirror_mode": {
    "name": "ipython",
    "version": 3
   },
   "file_extension": ".py",
   "mimetype": "text/x-python",
   "name": "python",
   "nbconvert_exporter": "python",
   "pygments_lexer": "ipython3",
   "version": "3.8.10"
  }
 },
 "nbformat": 4,
 "nbformat_minor": 1
}
