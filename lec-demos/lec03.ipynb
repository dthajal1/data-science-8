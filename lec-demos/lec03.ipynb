{
 "cells": [
  {
   "cell_type": "code",
   "execution_count": 1,
   "metadata": {},
   "outputs": [],
   "source": [
    "# Run first cell"
   ]
  },
  {
   "cell_type": "code",
   "execution_count": 2,
   "metadata": {},
   "outputs": [],
   "source": [
    "from datascience import *\n",
    "import numpy as np\n",
    "\n",
    "%matplotlib inline\n",
    "import matplotlib.pyplot as plots\n",
    "plots.style.use('fivethirtyeight')"
   ]
  },
  {
   "cell_type": "markdown",
   "metadata": {},
   "source": [
    "## Review of Tables ##"
   ]
  },
  {
   "cell_type": "code",
   "execution_count": 3,
   "metadata": {},
   "outputs": [
    {
     "data": {
      "text/html": [
       "<table border=\"1\" class=\"dataframe\">\n",
       "    <thead>\n",
       "        <tr>\n",
       "            <th>PLAYER</th> <th>POSITION</th> <th>TEAM</th> <th>SALARY</th> <th>AGE</th>\n",
       "        </tr>\n",
       "    </thead>\n",
       "    <tbody>\n",
       "        <tr>\n",
       "            <td>Danilo Gallinari </td> <td>PF      </td> <td>ATL </td> <td>19.5   </td> <td>32  </td>\n",
       "        </tr>\n",
       "        <tr>\n",
       "            <td>Bogdan Bogdanovic</td> <td>SG      </td> <td>ATL </td> <td>18     </td> <td>28  </td>\n",
       "        </tr>\n",
       "        <tr>\n",
       "            <td>Clint Capela     </td> <td>C       </td> <td>ATL </td> <td>16     </td> <td>26  </td>\n",
       "        </tr>\n",
       "        <tr>\n",
       "            <td>Tony Snell       </td> <td>SG      </td> <td>ATL </td> <td>12.1786</td> <td>28  </td>\n",
       "        </tr>\n",
       "        <tr>\n",
       "            <td>Louis Williams   </td> <td>SG      </td> <td>ATL </td> <td>8      </td> <td>33  </td>\n",
       "        </tr>\n",
       "        <tr>\n",
       "            <td>De'Andre Hunter  </td> <td>SF      </td> <td>ATL </td> <td>7.422  </td> <td>22  </td>\n",
       "        </tr>\n",
       "        <tr>\n",
       "            <td>Trae Young       </td> <td>PG      </td> <td>ATL </td> <td>6.5718 </td> <td>22  </td>\n",
       "        </tr>\n",
       "        <tr>\n",
       "            <td>Onyeka Okongwu   </td> <td>PF      </td> <td>ATL </td> <td>5.81364</td> <td>19  </td>\n",
       "        </tr>\n",
       "        <tr>\n",
       "            <td>Kris Dunn        </td> <td>PG      </td> <td>ATL </td> <td>4.767  </td> <td>26  </td>\n",
       "        </tr>\n",
       "        <tr>\n",
       "            <td>Cam Reddish      </td> <td>SF      </td> <td>ATL </td> <td>4.458  </td> <td>21  </td>\n",
       "        </tr>\n",
       "    </tbody>\n",
       "</table>\n",
       "<p>... (503 rows omitted)</p>"
      ],
      "text/plain": [
       "PLAYER            | POSITION | TEAM | SALARY  | AGE\n",
       "Danilo Gallinari  | PF       | ATL  | 19.5    | 32\n",
       "Bogdan Bogdanovic | SG       | ATL  | 18      | 28\n",
       "Clint Capela      | C        | ATL  | 16      | 26\n",
       "Tony Snell        | SG       | ATL  | 12.1786 | 28\n",
       "Louis Williams    | SG       | ATL  | 8       | 33\n",
       "De'Andre Hunter   | SF       | ATL  | 7.422   | 22\n",
       "Trae Young        | PG       | ATL  | 6.5718  | 22\n",
       "Onyeka Okongwu    | PF       | ATL  | 5.81364 | 19\n",
       "Kris Dunn         | PG       | ATL  | 4.767   | 26\n",
       "Cam Reddish       | SF       | ATL  | 4.458   | 21\n",
       "... (503 rows omitted)"
      ]
     },
     "execution_count": 3,
     "metadata": {},
     "output_type": "execute_result"
    }
   ],
   "source": [
    "# Load nba table\n",
    "nba = Table.read_table('nba_salaries.csv').relabeled(3, 'SALARY')\n",
    "nba"
   ]
  },
  {
   "cell_type": "code",
   "execution_count": 4,
   "metadata": {},
   "outputs": [],
   "source": [
    "# Makes a new table only with rows where the 'POSITION' is 'PG'\n",
    "point_guards = nba.where('POSITION', 'PG')"
   ]
  },
  {
   "cell_type": "code",
   "execution_count": 5,
   "metadata": {},
   "outputs": [
    {
     "data": {
      "text/html": [
       "<table border=\"1\" class=\"dataframe\">\n",
       "    <thead>\n",
       "        <tr>\n",
       "            <th>PLAYER</th> <th>POSITION</th> <th>TEAM</th> <th>SALARY</th> <th>AGE</th>\n",
       "        </tr>\n",
       "    </thead>\n",
       "    <tbody>\n",
       "        <tr>\n",
       "            <td>Trae Young       </td> <td>PG      </td> <td>ATL </td> <td>6.5718  </td> <td>22  </td>\n",
       "        </tr>\n",
       "        <tr>\n",
       "            <td>Kris Dunn        </td> <td>PG      </td> <td>ATL </td> <td>4.767   </td> <td>26  </td>\n",
       "        </tr>\n",
       "        <tr>\n",
       "            <td>Brandon Goodwin  </td> <td>PG      </td> <td>ATL </td> <td>1.70159 </td> <td>24  </td>\n",
       "        </tr>\n",
       "        <tr>\n",
       "            <td>Kyrie Irving     </td> <td>PG      </td> <td>BKN </td> <td>33.3291 </td> <td>28  </td>\n",
       "        </tr>\n",
       "        <tr>\n",
       "            <td>Spencer Dinwiddie</td> <td>PG      </td> <td>BKN </td> <td>11.454  </td> <td>27  </td>\n",
       "        </tr>\n",
       "        <tr>\n",
       "            <td>Landry Shamet    </td> <td>PG      </td> <td>BKN </td> <td>2.09004 </td> <td>23  </td>\n",
       "        </tr>\n",
       "        <tr>\n",
       "            <td>Mike James       </td> <td>PG      </td> <td>BKN </td> <td>0.09902 </td> <td>30  </td>\n",
       "        </tr>\n",
       "        <tr>\n",
       "            <td>Mike James       </td> <td>PG      </td> <td>BKN </td> <td>0.09902 </td> <td>30  </td>\n",
       "        </tr>\n",
       "        <tr>\n",
       "            <td>Mike James       </td> <td>PG      </td> <td>BKN </td> <td>0.039608</td> <td>30  </td>\n",
       "        </tr>\n",
       "        <tr>\n",
       "            <td>Kemba Walker     </td> <td>PG      </td> <td>BOS </td> <td>34.3791 </td> <td>30  </td>\n",
       "        </tr>\n",
       "    </tbody>\n",
       "</table>\n",
       "<p>... (95 rows omitted)</p>"
      ],
      "text/plain": [
       "PLAYER            | POSITION | TEAM | SALARY   | AGE\n",
       "Trae Young        | PG       | ATL  | 6.5718   | 22\n",
       "Kris Dunn         | PG       | ATL  | 4.767    | 26\n",
       "Brandon Goodwin   | PG       | ATL  | 1.70159  | 24\n",
       "Kyrie Irving      | PG       | BKN  | 33.3291  | 28\n",
       "Spencer Dinwiddie | PG       | BKN  | 11.454   | 27\n",
       "Landry Shamet     | PG       | BKN  | 2.09004  | 23\n",
       "Mike James        | PG       | BKN  | 0.09902  | 30\n",
       "Mike James        | PG       | BKN  | 0.09902  | 30\n",
       "Mike James        | PG       | BKN  | 0.039608 | 30\n",
       "Kemba Walker      | PG       | BOS  | 34.3791  | 30\n",
       "... (95 rows omitted)"
      ]
     },
     "execution_count": 5,
     "metadata": {},
     "output_type": "execute_result"
    }
   ],
   "source": [
    "point_guards"
   ]
  },
  {
   "cell_type": "code",
   "execution_count": 6,
   "metadata": {},
   "outputs": [
    {
     "data": {
      "text/html": [
       "<table border=\"1\" class=\"dataframe\">\n",
       "    <thead>\n",
       "        <tr>\n",
       "            <th>PLAYER</th> <th>TEAM</th> <th>SALARY</th> <th>AGE</th>\n",
       "        </tr>\n",
       "    </thead>\n",
       "    <tbody>\n",
       "        <tr>\n",
       "            <td>Trae Young       </td> <td>ATL </td> <td>6.5718  </td> <td>22  </td>\n",
       "        </tr>\n",
       "        <tr>\n",
       "            <td>Kris Dunn        </td> <td>ATL </td> <td>4.767   </td> <td>26  </td>\n",
       "        </tr>\n",
       "        <tr>\n",
       "            <td>Brandon Goodwin  </td> <td>ATL </td> <td>1.70159 </td> <td>24  </td>\n",
       "        </tr>\n",
       "        <tr>\n",
       "            <td>Kyrie Irving     </td> <td>BKN </td> <td>33.3291 </td> <td>28  </td>\n",
       "        </tr>\n",
       "        <tr>\n",
       "            <td>Spencer Dinwiddie</td> <td>BKN </td> <td>11.454  </td> <td>27  </td>\n",
       "        </tr>\n",
       "        <tr>\n",
       "            <td>Landry Shamet    </td> <td>BKN </td> <td>2.09004 </td> <td>23  </td>\n",
       "        </tr>\n",
       "        <tr>\n",
       "            <td>Mike James       </td> <td>BKN </td> <td>0.09902 </td> <td>30  </td>\n",
       "        </tr>\n",
       "        <tr>\n",
       "            <td>Mike James       </td> <td>BKN </td> <td>0.09902 </td> <td>30  </td>\n",
       "        </tr>\n",
       "        <tr>\n",
       "            <td>Mike James       </td> <td>BKN </td> <td>0.039608</td> <td>30  </td>\n",
       "        </tr>\n",
       "        <tr>\n",
       "            <td>Kemba Walker     </td> <td>BOS </td> <td>34.3791 </td> <td>30  </td>\n",
       "        </tr>\n",
       "    </tbody>\n",
       "</table>\n",
       "<p>... (95 rows omitted)</p>"
      ],
      "text/plain": [
       "PLAYER            | TEAM | SALARY   | AGE\n",
       "Trae Young        | ATL  | 6.5718   | 22\n",
       "Kris Dunn         | ATL  | 4.767    | 26\n",
       "Brandon Goodwin   | ATL  | 1.70159  | 24\n",
       "Kyrie Irving      | BKN  | 33.3291  | 28\n",
       "Spencer Dinwiddie | BKN  | 11.454   | 27\n",
       "Landry Shamet     | BKN  | 2.09004  | 23\n",
       "Mike James        | BKN  | 0.09902  | 30\n",
       "Mike James        | BKN  | 0.09902  | 30\n",
       "Mike James        | BKN  | 0.039608 | 30\n",
       "Kemba Walker      | BOS  | 34.3791  | 30\n",
       "... (95 rows omitted)"
      ]
     },
     "execution_count": 6,
     "metadata": {},
     "output_type": "execute_result"
    }
   ],
   "source": [
    "# Remove the 'POSITION' column in the table\n",
    "point_guards.drop('POSITION')"
   ]
  },
  {
   "cell_type": "code",
   "execution_count": 7,
   "metadata": {},
   "outputs": [
    {
     "data": {
      "text/html": [
       "<table border=\"1\" class=\"dataframe\">\n",
       "    <thead>\n",
       "        <tr>\n",
       "            <th>PLAYER</th> <th>POSITION</th> <th>TEAM</th> <th>SALARY</th> <th>AGE</th>\n",
       "        </tr>\n",
       "    </thead>\n",
       "    <tbody>\n",
       "        <tr>\n",
       "            <td>Trae Young       </td> <td>PG      </td> <td>ATL </td> <td>6.5718  </td> <td>22  </td>\n",
       "        </tr>\n",
       "        <tr>\n",
       "            <td>Kris Dunn        </td> <td>PG      </td> <td>ATL </td> <td>4.767   </td> <td>26  </td>\n",
       "        </tr>\n",
       "        <tr>\n",
       "            <td>Brandon Goodwin  </td> <td>PG      </td> <td>ATL </td> <td>1.70159 </td> <td>24  </td>\n",
       "        </tr>\n",
       "        <tr>\n",
       "            <td>Kyrie Irving     </td> <td>PG      </td> <td>BKN </td> <td>33.3291 </td> <td>28  </td>\n",
       "        </tr>\n",
       "        <tr>\n",
       "            <td>Spencer Dinwiddie</td> <td>PG      </td> <td>BKN </td> <td>11.454  </td> <td>27  </td>\n",
       "        </tr>\n",
       "        <tr>\n",
       "            <td>Landry Shamet    </td> <td>PG      </td> <td>BKN </td> <td>2.09004 </td> <td>23  </td>\n",
       "        </tr>\n",
       "        <tr>\n",
       "            <td>Mike James       </td> <td>PG      </td> <td>BKN </td> <td>0.09902 </td> <td>30  </td>\n",
       "        </tr>\n",
       "        <tr>\n",
       "            <td>Mike James       </td> <td>PG      </td> <td>BKN </td> <td>0.09902 </td> <td>30  </td>\n",
       "        </tr>\n",
       "        <tr>\n",
       "            <td>Mike James       </td> <td>PG      </td> <td>BKN </td> <td>0.039608</td> <td>30  </td>\n",
       "        </tr>\n",
       "        <tr>\n",
       "            <td>Kemba Walker     </td> <td>PG      </td> <td>BOS </td> <td>34.3791 </td> <td>30  </td>\n",
       "        </tr>\n",
       "    </tbody>\n",
       "</table>\n",
       "<p>... (95 rows omitted)</p>"
      ],
      "text/plain": [
       "PLAYER            | POSITION | TEAM | SALARY   | AGE\n",
       "Trae Young        | PG       | ATL  | 6.5718   | 22\n",
       "Kris Dunn         | PG       | ATL  | 4.767    | 26\n",
       "Brandon Goodwin   | PG       | ATL  | 1.70159  | 24\n",
       "Kyrie Irving      | PG       | BKN  | 33.3291  | 28\n",
       "Spencer Dinwiddie | PG       | BKN  | 11.454   | 27\n",
       "Landry Shamet     | PG       | BKN  | 2.09004  | 23\n",
       "Mike James        | PG       | BKN  | 0.09902  | 30\n",
       "Mike James        | PG       | BKN  | 0.09902  | 30\n",
       "Mike James        | PG       | BKN  | 0.039608 | 30\n",
       "Kemba Walker      | PG       | BOS  | 34.3791  | 30\n",
       "... (95 rows omitted)"
      ]
     },
     "execution_count": 7,
     "metadata": {},
     "output_type": "execute_result"
    }
   ],
   "source": [
    "point_guards"
   ]
  },
  {
   "cell_type": "code",
   "execution_count": 8,
   "metadata": {},
   "outputs": [
    {
     "data": {
      "text/html": [
       "<table border=\"1\" class=\"dataframe\">\n",
       "    <thead>\n",
       "        <tr>\n",
       "            <th>PLAYER</th> <th>TEAM</th> <th>SALARY</th> <th>AGE</th>\n",
       "        </tr>\n",
       "    </thead>\n",
       "    <tbody>\n",
       "        <tr>\n",
       "            <td>Trae Young       </td> <td>ATL </td> <td>6.5718  </td> <td>22  </td>\n",
       "        </tr>\n",
       "        <tr>\n",
       "            <td>Kris Dunn        </td> <td>ATL </td> <td>4.767   </td> <td>26  </td>\n",
       "        </tr>\n",
       "        <tr>\n",
       "            <td>Brandon Goodwin  </td> <td>ATL </td> <td>1.70159 </td> <td>24  </td>\n",
       "        </tr>\n",
       "        <tr>\n",
       "            <td>Kyrie Irving     </td> <td>BKN </td> <td>33.3291 </td> <td>28  </td>\n",
       "        </tr>\n",
       "        <tr>\n",
       "            <td>Spencer Dinwiddie</td> <td>BKN </td> <td>11.454  </td> <td>27  </td>\n",
       "        </tr>\n",
       "        <tr>\n",
       "            <td>Landry Shamet    </td> <td>BKN </td> <td>2.09004 </td> <td>23  </td>\n",
       "        </tr>\n",
       "        <tr>\n",
       "            <td>Mike James       </td> <td>BKN </td> <td>0.09902 </td> <td>30  </td>\n",
       "        </tr>\n",
       "        <tr>\n",
       "            <td>Mike James       </td> <td>BKN </td> <td>0.09902 </td> <td>30  </td>\n",
       "        </tr>\n",
       "        <tr>\n",
       "            <td>Mike James       </td> <td>BKN </td> <td>0.039608</td> <td>30  </td>\n",
       "        </tr>\n",
       "        <tr>\n",
       "            <td>Kemba Walker     </td> <td>BOS </td> <td>34.3791 </td> <td>30  </td>\n",
       "        </tr>\n",
       "    </tbody>\n",
       "</table>\n",
       "<p>... (95 rows omitted)</p>"
      ],
      "text/plain": [
       "PLAYER            | TEAM | SALARY   | AGE\n",
       "Trae Young        | ATL  | 6.5718   | 22\n",
       "Kris Dunn         | ATL  | 4.767    | 26\n",
       "Brandon Goodwin   | ATL  | 1.70159  | 24\n",
       "Kyrie Irving      | BKN  | 33.3291  | 28\n",
       "Spencer Dinwiddie | BKN  | 11.454   | 27\n",
       "Landry Shamet     | BKN  | 2.09004  | 23\n",
       "Mike James        | BKN  | 0.09902  | 30\n",
       "Mike James        | BKN  | 0.09902  | 30\n",
       "Mike James        | BKN  | 0.039608 | 30\n",
       "Kemba Walker      | BOS  | 34.3791  | 30\n",
       "... (95 rows omitted)"
      ]
     },
     "execution_count": 8,
     "metadata": {},
     "output_type": "execute_result"
    }
   ],
   "source": [
    "# Modify point_guards to remove the 'POSITION' column in the table\n",
    "point_guards = point_guards.drop('POSITION')\n",
    "point_guards"
   ]
  },
  {
   "cell_type": "code",
   "execution_count": 9,
   "metadata": {},
   "outputs": [
    {
     "data": {
      "text/html": [
       "<table border=\"1\" class=\"dataframe\">\n",
       "    <thead>\n",
       "        <tr>\n",
       "            <th>PLAYER</th> <th>TEAM</th> <th>SALARY</th> <th>AGE</th>\n",
       "        </tr>\n",
       "    </thead>\n",
       "    <tbody>\n",
       "        <tr>\n",
       "            <td>Stephen Curry          </td> <td>GSW </td> <td>43.0064 </td> <td>32  </td>\n",
       "        </tr>\n",
       "        <tr>\n",
       "            <td>Chris Paul             </td> <td>PHX </td> <td>41.3588 </td> <td>35  </td>\n",
       "        </tr>\n",
       "        <tr>\n",
       "            <td>Russell Westbrook      </td> <td>WAS </td> <td>41.3588 </td> <td>31  </td>\n",
       "        </tr>\n",
       "        <tr>\n",
       "            <td>John Wall              </td> <td>HOU </td> <td>41.2549 </td> <td>30  </td>\n",
       "        </tr>\n",
       "        <tr>\n",
       "            <td>Mike Conley            </td> <td>UTH </td> <td>34.5021 </td> <td>32  </td>\n",
       "        </tr>\n",
       "        <tr>\n",
       "            <td>Kemba Walker           </td> <td>BOS </td> <td>34.3791 </td> <td>30  </td>\n",
       "        </tr>\n",
       "        <tr>\n",
       "            <td>Kyrie Irving           </td> <td>BKN </td> <td>33.3291 </td> <td>28  </td>\n",
       "        </tr>\n",
       "        <tr>\n",
       "            <td>Damian Lillard         </td> <td>POR </td> <td>31.627  </td> <td>30  </td>\n",
       "        </tr>\n",
       "        <tr>\n",
       "            <td>Ben Simmons            </td> <td>PHI </td> <td>30.5592 </td> <td>24  </td>\n",
       "        </tr>\n",
       "        <tr>\n",
       "            <td>Kyle Lowry             </td> <td>TOR </td> <td>30      </td> <td>34  </td>\n",
       "        </tr>\n",
       "        <tr>\n",
       "            <td>Jamal Murray           </td> <td>DEN </td> <td>27.285  </td> <td>23  </td>\n",
       "        </tr>\n",
       "        <tr>\n",
       "            <td>Fred VanVleet          </td> <td>TOR </td> <td>21.25   </td> <td>26  </td>\n",
       "        </tr>\n",
       "        <tr>\n",
       "            <td>Malcolm Brogdon        </td> <td>IND </td> <td>20.7    </td> <td>27  </td>\n",
       "        </tr>\n",
       "        <tr>\n",
       "            <td>Terry Rozier           </td> <td>CHA </td> <td>18.9    </td> <td>26  </td>\n",
       "        </tr>\n",
       "        <tr>\n",
       "            <td>Goran Dragic           </td> <td>MIA </td> <td>18      </td> <td>34  </td>\n",
       "        </tr>\n",
       "        <tr>\n",
       "            <td>Ricky Rubio            </td> <td>MIN </td> <td>17      </td> <td>29  </td>\n",
       "        </tr>\n",
       "        <tr>\n",
       "            <td>Eric Bledsoe           </td> <td>NOP </td> <td>16.875  </td> <td>30  </td>\n",
       "        </tr>\n",
       "        <tr>\n",
       "            <td>Dennis Schröder        </td> <td>LAL </td> <td>15.5    </td> <td>27  </td>\n",
       "        </tr>\n",
       "        <tr>\n",
       "            <td>Dejounte Murray        </td> <td>SAS </td> <td>14.286  </td> <td>24  </td>\n",
       "        </tr>\n",
       "        <tr>\n",
       "            <td>Patrick Beverley       </td> <td>LAC </td> <td>13.3333 </td> <td>32  </td>\n",
       "        </tr>\n",
       "        <tr>\n",
       "            <td>Patrick Mills          </td> <td>SAS </td> <td>13.2857 </td> <td>32  </td>\n",
       "        </tr>\n",
       "        <tr>\n",
       "            <td>Marcus Smart           </td> <td>BOS </td> <td>12.9464 </td> <td>26  </td>\n",
       "        </tr>\n",
       "        <tr>\n",
       "            <td>Cory Joseph            </td> <td>DET </td> <td>12.6    </td> <td>29  </td>\n",
       "        </tr>\n",
       "        <tr>\n",
       "            <td>Markelle Fultz         </td> <td>ORL </td> <td>12.2887 </td> <td>22  </td>\n",
       "        </tr>\n",
       "        <tr>\n",
       "            <td>Jordan Clarkson        </td> <td>UTH </td> <td>11.5    </td> <td>28  </td>\n",
       "        </tr>\n",
       "        <tr>\n",
       "            <td>Spencer Dinwiddie      </td> <td>BKN </td> <td>11.454  </td> <td>27  </td>\n",
       "        </tr>\n",
       "        <tr>\n",
       "            <td>Lonzo Ball             </td> <td>NOP </td> <td>11.0038 </td> <td>22  </td>\n",
       "        </tr>\n",
       "        <tr>\n",
       "            <td>George Hill            </td> <td>PHI </td> <td>9.5906  </td> <td>34  </td>\n",
       "        </tr>\n",
       "        <tr>\n",
       "            <td>Ja Morant              </td> <td>MEM </td> <td>9.1668  </td> <td>21  </td>\n",
       "        </tr>\n",
       "        <tr>\n",
       "            <td>Dante Exum             </td> <td>HOU </td> <td>9.1     </td> <td>25  </td>\n",
       "        </tr>\n",
       "        <tr>\n",
       "            <td>Delon Wright           </td> <td>SAC </td> <td>9       </td> <td>28  </td>\n",
       "        </tr>\n",
       "        <tr>\n",
       "            <td>De'Aaron Fox           </td> <td>SAC </td> <td>8.09963 </td> <td>22  </td>\n",
       "        </tr>\n",
       "        <tr>\n",
       "            <td>Luka Doncic            </td> <td>DAL </td> <td>8.04936 </td> <td>21  </td>\n",
       "        </tr>\n",
       "        <tr>\n",
       "            <td>Tyus Jones             </td> <td>MEM </td> <td>7.9651  </td> <td>24  </td>\n",
       "        </tr>\n",
       "        <tr>\n",
       "            <td>LaMelo Ball            </td> <td>CHA </td> <td>7.83996 </td> <td>19  </td>\n",
       "        </tr>\n",
       "        <tr>\n",
       "            <td>Derrick Rose           </td> <td>NYK </td> <td>7.68293 </td> <td>31  </td>\n",
       "        </tr>\n",
       "        <tr>\n",
       "            <td>Rajon Rondo            </td> <td>LAC </td> <td>7.5     </td> <td>34  </td>\n",
       "        </tr>\n",
       "        <tr>\n",
       "            <td>Darius Garland         </td> <td>CLE </td> <td>6.72072 </td> <td>20  </td>\n",
       "        </tr>\n",
       "        <tr>\n",
       "            <td>D.J. Augustin          </td> <td>HOU </td> <td>6.66667 </td> <td>32  </td>\n",
       "        </tr>\n",
       "        <tr>\n",
       "            <td>Trae Young             </td> <td>ATL </td> <td>6.5718  </td> <td>22  </td>\n",
       "        </tr>\n",
       "        <tr>\n",
       "            <td>Frank Ntilikina        </td> <td>NYK </td> <td>6.17658 </td> <td>22  </td>\n",
       "        </tr>\n",
       "        <tr>\n",
       "            <td>Ishmael Smith          </td> <td>WAS </td> <td>6       </td> <td>32  </td>\n",
       "        </tr>\n",
       "        <tr>\n",
       "            <td>Jr. Dennis Smith Jr.   </td> <td>DET </td> <td>5.68668 </td> <td>22  </td>\n",
       "        </tr>\n",
       "        <tr>\n",
       "            <td>Avery Bradley          </td> <td>HOU </td> <td>5.635   </td> <td>29  </td>\n",
       "        </tr>\n",
       "        <tr>\n",
       "            <td>Coby White             </td> <td>CHI </td> <td>5.57268 </td> <td>20  </td>\n",
       "        </tr>\n",
       "        <tr>\n",
       "            <td>Killian Hayes          </td> <td>DET </td> <td>5.30712 </td> <td>19  </td>\n",
       "        </tr>\n",
       "        <tr>\n",
       "            <td>Collin Sexton          </td> <td>CLE </td> <td>4.99188 </td> <td>21  </td>\n",
       "        </tr>\n",
       "        <tr>\n",
       "            <td>Kris Dunn              </td> <td>ATL </td> <td>4.767   </td> <td>26  </td>\n",
       "        </tr>\n",
       "        <tr>\n",
       "            <td>Elfrid Payton          </td> <td>NYK </td> <td>4.767   </td> <td>26  </td>\n",
       "        </tr>\n",
       "        <tr>\n",
       "            <td>Shai Gilgeous-Alexander</td> <td>OKC </td> <td>4.14132 </td> <td>22  </td>\n",
       "        </tr>\n",
       "        <tr>\n",
       "            <td>Jevon Carter           </td> <td>PHX </td> <td>3.925   </td> <td>25  </td>\n",
       "        </tr>\n",
       "        <tr>\n",
       "            <td>Tyrese Haliburton      </td> <td>SAC </td> <td>3.83184 </td> <td>20  </td>\n",
       "        </tr>\n",
       "        <tr>\n",
       "            <td>Jr. Kira Lewis Jr.     </td> <td>NOP </td> <td>3.6402  </td> <td>19  </td>\n",
       "        </tr>\n",
       "        <tr>\n",
       "            <td>Derrick White          </td> <td>SAS </td> <td>3.51628 </td> <td>26  </td>\n",
       "        </tr>\n",
       "        <tr>\n",
       "            <td>T.J. McConnell         </td> <td>IND </td> <td>3.5     </td> <td>28  </td>\n",
       "        </tr>\n",
       "        <tr>\n",
       "            <td>Luca Vildoza           </td> <td>NYK </td> <td>3.5     </td> <td>25  </td>\n",
       "        </tr>\n",
       "        <tr>\n",
       "            <td>Michael Carter-Williams</td> <td>ORL </td> <td>3.3     </td> <td>28  </td>\n",
       "        </tr>\n",
       "        <tr>\n",
       "            <td>Cole Anthony           </td> <td>ORL </td> <td>3.28512 </td> <td>20  </td>\n",
       "        </tr>\n",
       "        <tr>\n",
       "            <td>Facundo Campazzo       </td> <td>DEN </td> <td>3.1     </td> <td>0   </td>\n",
       "        </tr>\n",
       "        <tr>\n",
       "            <td>Ryan Arcidiacono       </td> <td>CHI </td> <td>3       </td> <td>26  </td>\n",
       "        </tr>\n",
       "        <tr>\n",
       "            <td>Trey Burke             </td> <td>DAL </td> <td>3       </td> <td>27  </td>\n",
       "        </tr>\n",
       "        <tr>\n",
       "            <td>Tyrese Maxey           </td> <td>PHI </td> <td>2.47884 </td> <td>19  </td>\n",
       "        </tr>\n",
       "        <tr>\n",
       "            <td>Aaron Holiday          </td> <td>IND </td> <td>2.34564 </td> <td>24  </td>\n",
       "        </tr>\n",
       "        <tr>\n",
       "            <td>Reggie Jackson         </td> <td>LAC </td> <td>2.33159 </td> <td>30  </td>\n",
       "        </tr>\n",
       "        <tr>\n",
       "            <td>Ty Jerome              </td> <td>OKC </td> <td>2.30304 </td> <td>23  </td>\n",
       "        </tr>\n",
       "        <tr>\n",
       "            <td>Brad Wanamaker         </td> <td>CHA </td> <td>2.25    </td> <td>31  </td>\n",
       "        </tr>\n",
       "        <tr>\n",
       "            <td>RJ Hampton             </td> <td>ORL </td> <td>2.19348 </td> <td>19  </td>\n",
       "        </tr>\n",
       "        <tr>\n",
       "            <td>Matthew Dellavedova    </td> <td>CLE </td> <td>2.17432 </td> <td>30  </td>\n",
       "        </tr>\n",
       "        <tr>\n",
       "            <td>Edmond Sumner          </td> <td>IND </td> <td>2.16    </td> <td>24  </td>\n",
       "        </tr>\n",
       "        <tr>\n",
       "            <td>Landry Shamet          </td> <td>BKN </td> <td>2.09004 </td> <td>23  </td>\n",
       "        </tr>\n",
       "        <tr>\n",
       "            <td>Payton Pritchard       </td> <td>BOS </td> <td>2.0358  </td> <td>22  </td>\n",
       "        </tr>\n",
       "        <tr>\n",
       "            <td>Theo Maledon           </td> <td>OKC </td> <td>2       </td> <td>19  </td>\n",
       "        </tr>\n",
       "        <tr>\n",
       "            <td>Cameron Payne          </td> <td>PHX </td> <td>1.97701 </td> <td>26  </td>\n",
       "        </tr>\n",
       "        <tr>\n",
       "            <td>Malachi Flynn          </td> <td>TOR </td> <td>1.9506  </td> <td>22  </td>\n",
       "        </tr>\n",
       "        <tr>\n",
       "            <td>Raul Neto              </td> <td>WAS </td> <td>1.88287 </td> <td>28  </td>\n",
       "        </tr>\n",
       "        <tr>\n",
       "            <td>P.J. Dozier            </td> <td>DEN </td> <td>1.7628  </td> <td>23  </td>\n",
       "        </tr>\n",
       "        <tr>\n",
       "            <td>Monte Morris           </td> <td>DEN </td> <td>1.72371 </td> <td>25  </td>\n",
       "        </tr>\n",
       "        <tr>\n",
       "            <td>Brandon Goodwin        </td> <td>ATL </td> <td>1.70159 </td> <td>24  </td>\n",
       "        </tr>\n",
       "        <tr>\n",
       "            <td>Devonte' Graham        </td> <td>CHA </td> <td>1.66386 </td> <td>25  </td>\n",
       "        </tr>\n",
       "        <tr>\n",
       "            <td>Jalen Brunson          </td> <td>DAL </td> <td>1.66386 </td> <td>24  </td>\n",
       "        </tr>\n",
       "        <tr>\n",
       "            <td>Carsen Edwards         </td> <td>BOS </td> <td>1.51798 </td> <td>22  </td>\n",
       "        </tr>\n",
       "        <tr>\n",
       "            <td>Tyrell Terry           </td> <td>DAL </td> <td>1.28985 </td> <td>20  </td>\n",
       "        </tr>\n",
       "        <tr>\n",
       "            <td>Tre Jones              </td> <td>SAS </td> <td>0.89831 </td> <td>20  </td>\n",
       "        </tr>\n",
       "        <tr>\n",
       "            <td>Jeff Teague            </td> <td>MIL </td> <td>0.808073</td> <td>32  </td>\n",
       "        </tr>\n",
       "        <tr>\n",
       "            <td>Tim Frazier            </td> <td>MEM </td> <td>0.296616</td> <td>29  </td>\n",
       "        </tr>\n",
       "        <tr>\n",
       "            <td>Austin Rivers          </td> <td>DEN </td> <td>0.270142</td> <td>28  </td>\n",
       "        </tr>\n",
       "        <tr>\n",
       "            <td>Yogi Ferrell           </td> <td>LAC </td> <td>0.214169</td> <td>27  </td>\n",
       "        </tr>\n",
       "        <tr>\n",
       "            <td>Austin Rivers          </td> <td>DEN </td> <td>0.158907</td> <td>28  </td>\n",
       "        </tr>\n",
       "        <tr>\n",
       "            <td>Isaiah Thomas          </td> <td>NOP </td> <td>0.158907</td> <td>31  </td>\n",
       "        </tr>\n",
       "        <tr>\n",
       "            <td>Tim Frazier            </td> <td>MEM </td> <td>0.128963</td> <td>29  </td>\n",
       "        </tr>\n",
       "        <tr>\n",
       "            <td>Tim Frazier            </td> <td>MEM </td> <td>0.128963</td> <td>29  </td>\n",
       "        </tr>\n",
       "        <tr>\n",
       "            <td>Quinn Cook             </td> <td>CLE </td> <td>0.118983</td> <td>27  </td>\n",
       "        </tr>\n",
       "        <tr>\n",
       "            <td>Quinn Cook             </td> <td>CLE </td> <td>0.118983</td> <td>27  </td>\n",
       "        </tr>\n",
       "        <tr>\n",
       "            <td>Yogi Ferrell           </td> <td>CLE </td> <td>0.118983</td> <td>27  </td>\n",
       "        </tr>\n",
       "        <tr>\n",
       "            <td>II Gary Payton II      </td> <td>GSW </td> <td>0.118983</td> <td>27  </td>\n",
       "        </tr>\n",
       "        <tr>\n",
       "            <td>II Gary Payton II      </td> <td>GSW </td> <td>0.118983</td> <td>27  </td>\n",
       "        </tr>\n",
       "        <tr>\n",
       "            <td>Yogi Ferrell           </td> <td>LAC </td> <td>0.118983</td> <td>27  </td>\n",
       "        </tr>\n",
       "        <tr>\n",
       "            <td>Mike James             </td> <td>BKN </td> <td>0.09902 </td> <td>30  </td>\n",
       "        </tr>\n",
       "        <tr>\n",
       "            <td>Mike James             </td> <td>BKN </td> <td>0.09902 </td> <td>30  </td>\n",
       "        </tr>\n",
       "        <tr>\n",
       "            <td>Jared Harper           </td> <td>NYK </td> <td>0.09902 </td> <td>23  </td>\n",
       "        </tr>\n",
       "        <tr>\n",
       "            <td>Justin Robinson        </td> <td>OKC </td> <td>0.09902 </td> <td>22  </td>\n",
       "        </tr>\n",
       "        <tr>\n",
       "            <td>Justin Robinson        </td> <td>OKC </td> <td>0.09902 </td> <td>22  </td>\n",
       "        </tr>\n",
       "        <tr>\n",
       "            <td>Devin Cannady          </td> <td>ORL </td> <td>0.061528</td> <td>24  </td>\n",
       "        </tr>\n",
       "        <tr>\n",
       "            <td>Mike James             </td> <td>BKN </td> <td>0.039608</td> <td>30  </td>\n",
       "        </tr>\n",
       "        <tr>\n",
       "            <td>II Gary Payton II      </td> <td>GSW </td> <td>0.011898</td> <td>27  </td>\n",
       "        </tr>\n",
       "    </tbody>\n",
       "</table>"
      ],
      "text/plain": [
       "<IPython.core.display.HTML object>"
      ]
     },
     "metadata": {},
     "output_type": "display_data"
    }
   ],
   "source": [
    "# Sort 'SALARY' column of point_guards with the PG the largest salary at the top\n",
    "point_guards.sort('SALARY', descending=True).show()"
   ]
  },
  {
   "cell_type": "code",
   "execution_count": 10,
   "metadata": {},
   "outputs": [
    {
     "data": {
      "text/html": [
       "<table border=\"1\" class=\"dataframe\">\n",
       "    <thead>\n",
       "        <tr>\n",
       "            <th>PLAYER</th> <th>TEAM</th> <th>SALARY</th> <th>AGE</th>\n",
       "        </tr>\n",
       "    </thead>\n",
       "    <tbody>\n",
       "        <tr>\n",
       "            <td>Stephen Curry    </td> <td>GSW </td> <td>43.0064</td> <td>32  </td>\n",
       "        </tr>\n",
       "        <tr>\n",
       "            <td>Chris Paul       </td> <td>PHX </td> <td>41.3588</td> <td>35  </td>\n",
       "        </tr>\n",
       "        <tr>\n",
       "            <td>Russell Westbrook</td> <td>WAS </td> <td>41.3588</td> <td>31  </td>\n",
       "        </tr>\n",
       "        <tr>\n",
       "            <td>John Wall        </td> <td>HOU </td> <td>41.2549</td> <td>30  </td>\n",
       "        </tr>\n",
       "        <tr>\n",
       "            <td>Mike Conley      </td> <td>UTH </td> <td>34.5021</td> <td>32  </td>\n",
       "        </tr>\n",
       "        <tr>\n",
       "            <td>Kemba Walker     </td> <td>BOS </td> <td>34.3791</td> <td>30  </td>\n",
       "        </tr>\n",
       "        <tr>\n",
       "            <td>Kyrie Irving     </td> <td>BKN </td> <td>33.3291</td> <td>28  </td>\n",
       "        </tr>\n",
       "        <tr>\n",
       "            <td>Damian Lillard   </td> <td>POR </td> <td>31.627 </td> <td>30  </td>\n",
       "        </tr>\n",
       "        <tr>\n",
       "            <td>Ben Simmons      </td> <td>PHI </td> <td>30.5592</td> <td>24  </td>\n",
       "        </tr>\n",
       "        <tr>\n",
       "            <td>Kyle Lowry       </td> <td>TOR </td> <td>30     </td> <td>34  </td>\n",
       "        </tr>\n",
       "        <tr>\n",
       "            <td>Jamal Murray     </td> <td>DEN </td> <td>27.285 </td> <td>23  </td>\n",
       "        </tr>\n",
       "        <tr>\n",
       "            <td>Fred VanVleet    </td> <td>TOR </td> <td>21.25  </td> <td>26  </td>\n",
       "        </tr>\n",
       "        <tr>\n",
       "            <td>Malcolm Brogdon  </td> <td>IND </td> <td>20.7   </td> <td>27  </td>\n",
       "        </tr>\n",
       "        <tr>\n",
       "            <td>Terry Rozier     </td> <td>CHA </td> <td>18.9   </td> <td>26  </td>\n",
       "        </tr>\n",
       "        <tr>\n",
       "            <td>Goran Dragic     </td> <td>MIA </td> <td>18     </td> <td>34  </td>\n",
       "        </tr>\n",
       "    </tbody>\n",
       "</table>\n",
       "<p>... (90 rows omitted)</p>"
      ],
      "text/plain": [
       "<IPython.core.display.HTML object>"
      ]
     },
     "metadata": {},
     "output_type": "display_data"
    }
   ],
   "source": [
    "point_guards.sort('SALARY', descending=True).show(15)"
   ]
  },
  {
   "cell_type": "code",
   "execution_count": 11,
   "metadata": {},
   "outputs": [],
   "source": [
    "# Questions?"
   ]
  },
  {
   "cell_type": "code",
   "execution_count": 12,
   "metadata": {},
   "outputs": [
    {
     "ename": "ValueError",
     "evalue": "label \"position\" not in labels ('PLAYER', 'POSITION', 'TEAM', 'SALARY', 'AGE')",
     "output_type": "error",
     "traceback": [
      "\u001b[0;31m---------------------------------------------------------------------------\u001b[0m",
      "\u001b[0;31mValueError\u001b[0m                                Traceback (most recent call last)",
      "\u001b[0;32m/tmp/ipykernel_134/3125235011.py\u001b[0m in \u001b[0;36m<module>\u001b[0;34m\u001b[0m\n\u001b[1;32m      1\u001b[0m \u001b[0;31m# ERROR\u001b[0m\u001b[0;34m\u001b[0m\u001b[0;34m\u001b[0m\u001b[0;34m\u001b[0m\u001b[0m\n\u001b[1;32m      2\u001b[0m \u001b[0;31m# Does capitalization matter?\u001b[0m\u001b[0;34m\u001b[0m\u001b[0;34m\u001b[0m\u001b[0;34m\u001b[0m\u001b[0m\n\u001b[0;32m----> 3\u001b[0;31m \u001b[0mnba\u001b[0m\u001b[0;34m.\u001b[0m\u001b[0mwhere\u001b[0m\u001b[0;34m(\u001b[0m\u001b[0;34m'position'\u001b[0m\u001b[0;34m,\u001b[0m \u001b[0;34m'PG'\u001b[0m\u001b[0;34m)\u001b[0m\u001b[0;34m\u001b[0m\u001b[0;34m\u001b[0m\u001b[0m\n\u001b[0m",
      "\u001b[0;32m/opt/conda/lib/python3.8/site-packages/datascience/tables.py\u001b[0m in \u001b[0;36mwhere\u001b[0;34m(self, column_or_label, value_or_predicate, other)\u001b[0m\n\u001b[1;32m   1334\u001b[0m         \u001b[0mColor\u001b[0m \u001b[0;34m|\u001b[0m \u001b[0mShape\u001b[0m \u001b[0;34m|\u001b[0m \u001b[0mAmount\u001b[0m \u001b[0;34m|\u001b[0m \u001b[0mPrice\u001b[0m\u001b[0;34m\u001b[0m\u001b[0;34m\u001b[0m\u001b[0m\n\u001b[1;32m   1335\u001b[0m         \"\"\"\n\u001b[0;32m-> 1336\u001b[0;31m         \u001b[0mcolumn\u001b[0m \u001b[0;34m=\u001b[0m \u001b[0mself\u001b[0m\u001b[0;34m.\u001b[0m\u001b[0m_get_column\u001b[0m\u001b[0;34m(\u001b[0m\u001b[0mcolumn_or_label\u001b[0m\u001b[0;34m)\u001b[0m\u001b[0;34m\u001b[0m\u001b[0;34m\u001b[0m\u001b[0m\n\u001b[0m\u001b[1;32m   1337\u001b[0m         \u001b[0;32mif\u001b[0m \u001b[0mother\u001b[0m \u001b[0;32mis\u001b[0m \u001b[0;32mnot\u001b[0m \u001b[0;32mNone\u001b[0m\u001b[0;34m:\u001b[0m\u001b[0;34m\u001b[0m\u001b[0;34m\u001b[0m\u001b[0m\n\u001b[1;32m   1338\u001b[0m             \u001b[0;32massert\u001b[0m \u001b[0mcallable\u001b[0m\u001b[0;34m(\u001b[0m\u001b[0mvalue_or_predicate\u001b[0m\u001b[0;34m)\u001b[0m\u001b[0;34m,\u001b[0m \u001b[0;34m\"Predicate required for 3-arg where\"\u001b[0m\u001b[0;34m\u001b[0m\u001b[0;34m\u001b[0m\u001b[0m\n",
      "\u001b[0;32m/opt/conda/lib/python3.8/site-packages/datascience/tables.py\u001b[0m in \u001b[0;36m_get_column\u001b[0;34m(self, column_or_label)\u001b[0m\n\u001b[1;32m   1995\u001b[0m             \u001b[0;32mreturn\u001b[0m \u001b[0mself\u001b[0m\u001b[0;34m[\u001b[0m\u001b[0mc\u001b[0m\u001b[0;34m]\u001b[0m\u001b[0;34m\u001b[0m\u001b[0;34m\u001b[0m\u001b[0m\n\u001b[1;32m   1996\u001b[0m         \u001b[0;32melif\u001b[0m \u001b[0misinstance\u001b[0m\u001b[0;34m(\u001b[0m\u001b[0mc\u001b[0m\u001b[0;34m,\u001b[0m \u001b[0mstr\u001b[0m\u001b[0;34m)\u001b[0m\u001b[0;34m:\u001b[0m\u001b[0;34m\u001b[0m\u001b[0;34m\u001b[0m\u001b[0m\n\u001b[0;32m-> 1997\u001b[0;31m             \u001b[0;32mraise\u001b[0m \u001b[0mValueError\u001b[0m\u001b[0;34m(\u001b[0m\u001b[0;34m'label \"{}\" not in labels {}'\u001b[0m\u001b[0;34m.\u001b[0m\u001b[0mformat\u001b[0m\u001b[0;34m(\u001b[0m\u001b[0mc\u001b[0m\u001b[0;34m,\u001b[0m \u001b[0mself\u001b[0m\u001b[0;34m.\u001b[0m\u001b[0mlabels\u001b[0m\u001b[0;34m)\u001b[0m\u001b[0;34m)\u001b[0m\u001b[0;34m\u001b[0m\u001b[0;34m\u001b[0m\u001b[0m\n\u001b[0m\u001b[1;32m   1998\u001b[0m         \u001b[0;32melse\u001b[0m\u001b[0;34m:\u001b[0m\u001b[0;34m\u001b[0m\u001b[0;34m\u001b[0m\u001b[0m\n\u001b[1;32m   1999\u001b[0m             \u001b[0;32massert\u001b[0m \u001b[0mlen\u001b[0m\u001b[0;34m(\u001b[0m\u001b[0mc\u001b[0m\u001b[0;34m)\u001b[0m \u001b[0;34m==\u001b[0m \u001b[0mself\u001b[0m\u001b[0;34m.\u001b[0m\u001b[0mnum_rows\u001b[0m\u001b[0;34m,\u001b[0m \u001b[0;34m'column length mismatch'\u001b[0m\u001b[0;34m\u001b[0m\u001b[0;34m\u001b[0m\u001b[0m\n",
      "\u001b[0;31mValueError\u001b[0m: label \"position\" not in labels ('PLAYER', 'POSITION', 'TEAM', 'SALARY', 'AGE')"
     ]
    }
   ],
   "source": [
    "# ERROR\n",
    "# Does capitalization matter?\n",
    "nba.where('position', 'PG')"
   ]
  },
  {
   "cell_type": "code",
   "execution_count": 13,
   "metadata": {},
   "outputs": [
    {
     "ename": "ValueError",
     "evalue": "label \"POSITION\" not in labels ('PLAYER', 'TEAM', 'SALARY', 'AGE')",
     "output_type": "error",
     "traceback": [
      "\u001b[0;31m---------------------------------------------------------------------------\u001b[0m",
      "\u001b[0;31mValueError\u001b[0m                                Traceback (most recent call last)",
      "\u001b[0;32m/tmp/ipykernel_134/2286606904.py\u001b[0m in \u001b[0;36m<module>\u001b[0;34m\u001b[0m\n\u001b[1;32m      1\u001b[0m \u001b[0;31m# ERROR\u001b[0m\u001b[0;34m\u001b[0m\u001b[0;34m\u001b[0m\u001b[0;34m\u001b[0m\u001b[0m\n\u001b[1;32m      2\u001b[0m \u001b[0;31m# What happens if you try to use a column that isn't in the table anymore?\u001b[0m\u001b[0;34m\u001b[0m\u001b[0;34m\u001b[0m\u001b[0;34m\u001b[0m\u001b[0m\n\u001b[0;32m----> 3\u001b[0;31m \u001b[0mnba\u001b[0m\u001b[0;34m.\u001b[0m\u001b[0mdrop\u001b[0m\u001b[0;34m(\u001b[0m\u001b[0;34m'POSITION'\u001b[0m\u001b[0;34m)\u001b[0m\u001b[0;34m.\u001b[0m\u001b[0mwhere\u001b[0m\u001b[0;34m(\u001b[0m\u001b[0;34m'POSITION'\u001b[0m\u001b[0;34m,\u001b[0m \u001b[0;34m'PG'\u001b[0m\u001b[0;34m)\u001b[0m\u001b[0;34m\u001b[0m\u001b[0;34m\u001b[0m\u001b[0m\n\u001b[0m",
      "\u001b[0;32m/opt/conda/lib/python3.8/site-packages/datascience/tables.py\u001b[0m in \u001b[0;36mwhere\u001b[0;34m(self, column_or_label, value_or_predicate, other)\u001b[0m\n\u001b[1;32m   1334\u001b[0m         \u001b[0mColor\u001b[0m \u001b[0;34m|\u001b[0m \u001b[0mShape\u001b[0m \u001b[0;34m|\u001b[0m \u001b[0mAmount\u001b[0m \u001b[0;34m|\u001b[0m \u001b[0mPrice\u001b[0m\u001b[0;34m\u001b[0m\u001b[0;34m\u001b[0m\u001b[0m\n\u001b[1;32m   1335\u001b[0m         \"\"\"\n\u001b[0;32m-> 1336\u001b[0;31m         \u001b[0mcolumn\u001b[0m \u001b[0;34m=\u001b[0m \u001b[0mself\u001b[0m\u001b[0;34m.\u001b[0m\u001b[0m_get_column\u001b[0m\u001b[0;34m(\u001b[0m\u001b[0mcolumn_or_label\u001b[0m\u001b[0;34m)\u001b[0m\u001b[0;34m\u001b[0m\u001b[0;34m\u001b[0m\u001b[0m\n\u001b[0m\u001b[1;32m   1337\u001b[0m         \u001b[0;32mif\u001b[0m \u001b[0mother\u001b[0m \u001b[0;32mis\u001b[0m \u001b[0;32mnot\u001b[0m \u001b[0;32mNone\u001b[0m\u001b[0;34m:\u001b[0m\u001b[0;34m\u001b[0m\u001b[0;34m\u001b[0m\u001b[0m\n\u001b[1;32m   1338\u001b[0m             \u001b[0;32massert\u001b[0m \u001b[0mcallable\u001b[0m\u001b[0;34m(\u001b[0m\u001b[0mvalue_or_predicate\u001b[0m\u001b[0;34m)\u001b[0m\u001b[0;34m,\u001b[0m \u001b[0;34m\"Predicate required for 3-arg where\"\u001b[0m\u001b[0;34m\u001b[0m\u001b[0;34m\u001b[0m\u001b[0m\n",
      "\u001b[0;32m/opt/conda/lib/python3.8/site-packages/datascience/tables.py\u001b[0m in \u001b[0;36m_get_column\u001b[0;34m(self, column_or_label)\u001b[0m\n\u001b[1;32m   1995\u001b[0m             \u001b[0;32mreturn\u001b[0m \u001b[0mself\u001b[0m\u001b[0;34m[\u001b[0m\u001b[0mc\u001b[0m\u001b[0;34m]\u001b[0m\u001b[0;34m\u001b[0m\u001b[0;34m\u001b[0m\u001b[0m\n\u001b[1;32m   1996\u001b[0m         \u001b[0;32melif\u001b[0m \u001b[0misinstance\u001b[0m\u001b[0;34m(\u001b[0m\u001b[0mc\u001b[0m\u001b[0;34m,\u001b[0m \u001b[0mstr\u001b[0m\u001b[0;34m)\u001b[0m\u001b[0;34m:\u001b[0m\u001b[0;34m\u001b[0m\u001b[0;34m\u001b[0m\u001b[0m\n\u001b[0;32m-> 1997\u001b[0;31m             \u001b[0;32mraise\u001b[0m \u001b[0mValueError\u001b[0m\u001b[0;34m(\u001b[0m\u001b[0;34m'label \"{}\" not in labels {}'\u001b[0m\u001b[0;34m.\u001b[0m\u001b[0mformat\u001b[0m\u001b[0;34m(\u001b[0m\u001b[0mc\u001b[0m\u001b[0;34m,\u001b[0m \u001b[0mself\u001b[0m\u001b[0;34m.\u001b[0m\u001b[0mlabels\u001b[0m\u001b[0;34m)\u001b[0m\u001b[0;34m)\u001b[0m\u001b[0;34m\u001b[0m\u001b[0;34m\u001b[0m\u001b[0m\n\u001b[0m\u001b[1;32m   1998\u001b[0m         \u001b[0;32melse\u001b[0m\u001b[0;34m:\u001b[0m\u001b[0;34m\u001b[0m\u001b[0;34m\u001b[0m\u001b[0m\n\u001b[1;32m   1999\u001b[0m             \u001b[0;32massert\u001b[0m \u001b[0mlen\u001b[0m\u001b[0;34m(\u001b[0m\u001b[0mc\u001b[0m\u001b[0;34m)\u001b[0m \u001b[0;34m==\u001b[0m \u001b[0mself\u001b[0m\u001b[0;34m.\u001b[0m\u001b[0mnum_rows\u001b[0m\u001b[0;34m,\u001b[0m \u001b[0;34m'column length mismatch'\u001b[0m\u001b[0;34m\u001b[0m\u001b[0;34m\u001b[0m\u001b[0m\n",
      "\u001b[0;31mValueError\u001b[0m: label \"POSITION\" not in labels ('PLAYER', 'TEAM', 'SALARY', 'AGE')"
     ]
    }
   ],
   "source": [
    "# ERROR\n",
    "# What happens if you try to use a column that isn't in the table anymore?\n",
    "nba.drop('POSITION').where('POSITION', 'PG')"
   ]
  },
  {
   "cell_type": "markdown",
   "metadata": {},
   "source": [
    "## Numbers ##"
   ]
  },
  {
   "cell_type": "code",
   "execution_count": 14,
   "metadata": {},
   "outputs": [
    {
     "data": {
      "text/plain": [
       "30"
      ]
     },
     "execution_count": 14,
     "metadata": {},
     "output_type": "execute_result"
    }
   ],
   "source": [
    "30"
   ]
  },
  {
   "cell_type": "code",
   "execution_count": 15,
   "metadata": {},
   "outputs": [
    {
     "data": {
      "text/plain": [
       "30"
      ]
     },
     "execution_count": 15,
     "metadata": {},
     "output_type": "execute_result"
    }
   ],
   "source": [
    "# int\n",
    "10 * 3    "
   ]
  },
  {
   "cell_type": "code",
   "execution_count": 16,
   "metadata": {},
   "outputs": [
    {
     "data": {
      "text/plain": [
       "3.3333333333333335"
      ]
     },
     "execution_count": 16,
     "metadata": {},
     "output_type": "execute_result"
    }
   ],
   "source": [
    "# float\n",
    "10 / 3    "
   ]
  },
  {
   "cell_type": "code",
   "execution_count": 17,
   "metadata": {},
   "outputs": [
    {
     "data": {
      "text/plain": [
       "5.0"
      ]
     },
     "execution_count": 17,
     "metadata": {},
     "output_type": "execute_result"
    }
   ],
   "source": [
    "10 / 2"
   ]
  },
  {
   "cell_type": "code",
   "execution_count": 18,
   "metadata": {},
   "outputs": [
    {
     "data": {
      "text/plain": [
       "1000"
      ]
     },
     "execution_count": 18,
     "metadata": {},
     "output_type": "execute_result"
    }
   ],
   "source": [
    "# exponentiate\n",
    "10 ** 3"
   ]
  },
  {
   "cell_type": "code",
   "execution_count": 19,
   "metadata": {},
   "outputs": [
    {
     "data": {
      "text/plain": [
       "3.1622776601683795"
      ]
     },
     "execution_count": 19,
     "metadata": {},
     "output_type": "execute_result"
    }
   ],
   "source": [
    "# square root\n",
    "10 ** 0.5"
   ]
  },
  {
   "cell_type": "code",
   "execution_count": 20,
   "metadata": {},
   "outputs": [
    {
     "data": {
      "text/plain": [
       "2805763342107369230793809808310885724030151698643898788380662816980113897853769505682553341995361840866283163839674938063847465098181599413516030923830315020297429114484842472806037601633183177392342419552281446098882333113360498936060689417981060580169581781517081000887466986920196787365735472976637384790660527656183529108057677628812897898917415727467403873251697100284318113613171090832770107627373429297578100452541331137972394395518879748252497629953169189742546688743838014842998797222488578482742255590278830326264415887042424349338336685586108014796843647297854686632059611017792593114133643766176826645471505135284339608286440790108605114687261446214106703238304626747430320283170505623593598192482183253323227473361217459497593514576103139354263910235117552944853835259328240635891089203247501395301794244132584186874755797831852390704417457044048557568618633160284149583340352686512009611975784239859264336878392387482791049156912854159715516214706166214466230037339823780492774337274675800289580696315819494418004733412855205155027918058344891850668473780787520539851110601937177777258527635476258052342827179765186381834973522303136829852834242679559888371990546547773735142872611383102742753311234958929602179017609453450788021576889968090558526946002867067155433937025164603278496325064732080655085967120552122358643425906339419468088785812576641170399781555198518542228755764090812514788163758877228031474626249982320173230513790766211051807071509018394299594496298553425032888639575233308427922962072691110016410832613254845558533479779137394546533348267260208654147664661662489837722166465535984470300130195361526724657999247737664119545166367970118960539653700728246780841243422865927822029745430687779341494835511048331091708435435810632677284968867671217350609932555531424276428454845446681148799804144451127195396670373733155503688440766376117308145231339204514518114182442669726926958460263504747823171357759585770665369994677944653246927717262087721616975390825217507408220510861018634338133464060418295047933927635868626199925788463191380080935701443847346532746838349449833204183719520425273508461427363268810901816439207520602455792069406367821658839121277649227555623273564677301331404339603368354187279170542954088017099056552277230318062383216542056927422226999811205450549485589246237819874869638917303541644714356081602468616512144027808621669917967523298847733280998188849126660410144516840751121177122218727312917235905337333060556516611924333661893530040067042505379294125436401184352256775565463142705637306783871882313794728831427529583150846149427004802322087788357968992264438692993009809883875465518646172470495839410492599060455716367637440364630131471750106709132465895371670412945256073822697903510522211765697295922053593229276419226531331408317896936830655815873666355197305378708964668209899291344705444276333578719323904170952074328643811404544256843025709425474387814973960542018630128201161272329024792011740745530212579878161378961127918038096648026162029808878747866210894432543002029434565613132355043777385763831238060952363449797871761622541777453653784081456719940419766751192867804269268505636574832199689538986715250742630200523490339094085425178568698903268320220973567490288420919261018482168538171910000711992076873681129307598675285503345960161016391830728260326693428202177160119543736800344297771481079627076988031975978575895647654221558620092991884687091862613605722144271490738163190650508558761186844994717152403269557878581184075275936408939256017646715559306260196259010170427037361073267573147026510628695621128132172515464076418742940103113964611681699407950967774413428184355249041334714765827480675899800235537773385443229622067233523354213261412403375030932576886654499317808172035910623439488923497729990034132955991616175315301110003136655552464696428279778365477406164307525011119783055047664864798818426307604172381073695798688377889193415423645042188927398145864445871680431617772823584658707705057426132797633601281478887542871708884776132993498113629791075212269131263135104211901928478309667400642477145201362433365658578707267018122388906853103264797837550314906826327964589811537800151348078278689526492266541600168152334174087551992509222975658050902151573849522445074588731109036554789680280345720046009120507928152632018078697710120218368147570599141031673300682348326156497244011574817802187099834880327346210624556369660018678859929271654108596951193479453034452114779847850504280525490303492730731848704497321639579545359051407002629069912400518470707512308477494989006390249351273561453957767103749105099486859441823499120103359974562095361878219993785312682108204349115081403854873968693651144816992008787094413654541840750267945428940655147102103776877924495354589674471203663800973702240269677784610346010441824261817763592599870546594987128802020889878623694800247575251661439276157008847529529237192162577463356503617323132760079688627706444510425779441871297035026396768851129501722454220316418777074912838238391162658683371634959415544181384058154251960767217101632139258312150904777623156788937309713540569306765232165671618935868039816292110221657560493742908804867952618200515005539316960724088551539133626302522557345413249384658492371698805093289004717340532810196692880918816862832405941920828302568461913904088702147654713878056218117011839094769918168741678648022940613796829566893389100562532347981860917540264049"
      ]
     },
     "execution_count": 20,
     "metadata": {},
     "output_type": "execute_result"
    }
   ],
   "source": [
    "# Can we represent large integers?\n",
    "1234567 ** 890"
   ]
  },
  {
   "cell_type": "code",
   "execution_count": 21,
   "metadata": {},
   "outputs": [
    {
     "data": {
      "text/plain": [
       "3.3333333333333335"
      ]
     },
     "execution_count": 21,
     "metadata": {},
     "output_type": "execute_result"
    }
   ],
   "source": [
    "# What about floats?\n",
    "10 / 3"
   ]
  },
  {
   "cell_type": "code",
   "execution_count": 22,
   "metadata": {},
   "outputs": [
    {
     "data": {
      "text/plain": [
       "75892745.21548925"
      ]
     },
     "execution_count": 22,
     "metadata": {},
     "output_type": "execute_result"
    }
   ],
   "source": [
    "75892745.215489247589274985712"
   ]
  },
  {
   "cell_type": "code",
   "execution_count": 23,
   "metadata": {},
   "outputs": [
    {
     "data": {
      "text/plain": [
       "0.0"
      ]
     },
     "execution_count": 23,
     "metadata": {},
     "output_type": "execute_result"
    }
   ],
   "source": [
    "75892745.215489247589274985712 - 75892745.21548925"
   ]
  },
  {
   "cell_type": "code",
   "execution_count": 24,
   "metadata": {},
   "outputs": [],
   "source": [
    "# Questions?"
   ]
  },
  {
   "cell_type": "code",
   "execution_count": 25,
   "metadata": {},
   "outputs": [
    {
     "data": {
      "text/plain": [
       "12.999999999999998"
      ]
     },
     "execution_count": 25,
     "metadata": {},
     "output_type": "execute_result"
    }
   ],
   "source": [
    "# May lose some precision\n",
    "(13 ** 0.5) ** 2"
   ]
  },
  {
   "cell_type": "code",
   "execution_count": 26,
   "metadata": {},
   "outputs": [
    {
     "data": {
      "text/plain": [
       "2"
      ]
     },
     "execution_count": 26,
     "metadata": {},
     "output_type": "execute_result"
    }
   ],
   "source": [
    "# Convert between float and int\n",
    "int(10 / 5)"
   ]
  },
  {
   "cell_type": "code",
   "execution_count": 27,
   "metadata": {},
   "outputs": [
    {
     "data": {
      "text/plain": [
       "2"
      ]
     },
     "execution_count": 27,
     "metadata": {},
     "output_type": "execute_result"
    }
   ],
   "source": [
    "int(10 / 4)"
   ]
  },
  {
   "cell_type": "code",
   "execution_count": 28,
   "metadata": {},
   "outputs": [
    {
     "data": {
      "text/plain": [
       "3.0"
      ]
     },
     "execution_count": 28,
     "metadata": {},
     "output_type": "execute_result"
    }
   ],
   "source": [
    "float(3)"
   ]
  },
  {
   "cell_type": "code",
   "execution_count": 29,
   "metadata": {},
   "outputs": [
    {
     "data": {
      "text/plain": [
       "1.5"
      ]
     },
     "execution_count": 29,
     "metadata": {},
     "output_type": "execute_result"
    }
   ],
   "source": [
    "6 / 4"
   ]
  },
  {
   "cell_type": "code",
   "execution_count": 30,
   "metadata": {},
   "outputs": [
    {
     "data": {
      "text/plain": [
       "0.0015"
      ]
     },
     "execution_count": 30,
     "metadata": {},
     "output_type": "execute_result"
    }
   ],
   "source": [
    "6 / 4000"
   ]
  },
  {
   "cell_type": "code",
   "execution_count": 31,
   "metadata": {},
   "outputs": [
    {
     "data": {
      "text/plain": [
       "1.5e-56"
      ]
     },
     "execution_count": 31,
     "metadata": {},
     "output_type": "execute_result"
    }
   ],
   "source": [
    "6 / 400000000000000000000000000000000000000000000000000000000"
   ]
  },
  {
   "cell_type": "code",
   "execution_count": 32,
   "metadata": {},
   "outputs": [
    {
     "data": {
      "text/plain": [
       "6.0"
      ]
     },
     "execution_count": 32,
     "metadata": {},
     "output_type": "execute_result"
    }
   ],
   "source": [
    "400000000000000000000000000000000000000000000000000000000 * 1.5e-56 "
   ]
  },
  {
   "cell_type": "code",
   "execution_count": 33,
   "metadata": {},
   "outputs": [
    {
     "data": {
      "text/plain": [
       "1.5e-56"
      ]
     },
     "execution_count": 33,
     "metadata": {},
     "output_type": "execute_result"
    }
   ],
   "source": [
    "1.5e-56 "
   ]
  },
  {
   "cell_type": "code",
   "execution_count": 34,
   "metadata": {},
   "outputs": [],
   "source": [
    "x = 5"
   ]
  },
  {
   "cell_type": "code",
   "execution_count": 35,
   "metadata": {},
   "outputs": [
    {
     "ename": "SyntaxError",
     "evalue": "invalid syntax (207285602.py, line 1)",
     "output_type": "error",
     "traceback": [
      "\u001b[0;36m  File \u001b[0;32m\"/tmp/ipykernel_134/207285602.py\"\u001b[0;36m, line \u001b[0;32m1\u001b[0m\n\u001b[0;31m    2x\u001b[0m\n\u001b[0m     ^\u001b[0m\n\u001b[0;31mSyntaxError\u001b[0m\u001b[0;31m:\u001b[0m invalid syntax\n"
     ]
    }
   ],
   "source": [
    "2x"
   ]
  },
  {
   "cell_type": "code",
   "execution_count": 36,
   "metadata": {},
   "outputs": [
    {
     "data": {
      "text/plain": [
       "10"
      ]
     },
     "execution_count": 36,
     "metadata": {},
     "output_type": "execute_result"
    }
   ],
   "source": [
    "2 * x"
   ]
  },
  {
   "cell_type": "markdown",
   "metadata": {},
   "source": [
    "## Strings ##"
   ]
  },
  {
   "cell_type": "code",
   "execution_count": 37,
   "metadata": {},
   "outputs": [
    {
     "data": {
      "text/plain": [
       "'Flavor'"
      ]
     },
     "execution_count": 37,
     "metadata": {},
     "output_type": "execute_result"
    }
   ],
   "source": [
    "'Flavor'"
   ]
  },
  {
   "cell_type": "code",
   "execution_count": 38,
   "metadata": {
    "scrolled": true
   },
   "outputs": [
    {
     "ename": "NameError",
     "evalue": "name 'Flavor' is not defined",
     "output_type": "error",
     "traceback": [
      "\u001b[0;31m---------------------------------------------------------------------------\u001b[0m",
      "\u001b[0;31mNameError\u001b[0m                                 Traceback (most recent call last)",
      "\u001b[0;32m/tmp/ipykernel_134/3648826411.py\u001b[0m in \u001b[0;36m<module>\u001b[0;34m\u001b[0m\n\u001b[0;32m----> 1\u001b[0;31m \u001b[0mFlavor\u001b[0m\u001b[0;34m\u001b[0m\u001b[0;34m\u001b[0m\u001b[0m\n\u001b[0m",
      "\u001b[0;31mNameError\u001b[0m: name 'Flavor' is not defined"
     ]
    }
   ],
   "source": [
    "Flavor"
   ]
  },
  {
   "cell_type": "code",
   "execution_count": 39,
   "metadata": {},
   "outputs": [
    {
     "data": {
      "text/plain": [
       "'Flavor'"
      ]
     },
     "execution_count": 39,
     "metadata": {},
     "output_type": "execute_result"
    }
   ],
   "source": [
    "\"Flavor\""
   ]
  },
  {
   "cell_type": "code",
   "execution_count": 40,
   "metadata": {},
   "outputs": [
    {
     "ename": "SyntaxError",
     "evalue": "invalid syntax (2648065634.py, line 1)",
     "output_type": "error",
     "traceback": [
      "\u001b[0;36m  File \u001b[0;32m\"/tmp/ipykernel_134/2648065634.py\"\u001b[0;36m, line \u001b[0;32m1\u001b[0m\n\u001b[0;31m    'Don't always use single quotes'\u001b[0m\n\u001b[0m         ^\u001b[0m\n\u001b[0;31mSyntaxError\u001b[0m\u001b[0;31m:\u001b[0m invalid syntax\n"
     ]
    }
   ],
   "source": [
    "'Don't always use single quotes'"
   ]
  },
  {
   "cell_type": "code",
   "execution_count": 41,
   "metadata": {},
   "outputs": [
    {
     "data": {
      "text/plain": [
       "\"Don't always use single quotes\""
      ]
     },
     "execution_count": 41,
     "metadata": {},
     "output_type": "execute_result"
    }
   ],
   "source": [
    "\"Don't always use single quotes\""
   ]
  },
  {
   "cell_type": "code",
   "execution_count": 42,
   "metadata": {},
   "outputs": [
    {
     "data": {
      "text/plain": [
       "'strawberry'"
      ]
     },
     "execution_count": 42,
     "metadata": {},
     "output_type": "execute_result"
    }
   ],
   "source": [
    "# Concatenation\n",
    "'straw' + 'berry' "
   ]
  },
  {
   "cell_type": "code",
   "execution_count": 43,
   "metadata": {},
   "outputs": [
    {
     "data": {
      "text/plain": [
       "'ChrisPaul'"
      ]
     },
     "execution_count": 43,
     "metadata": {},
     "output_type": "execute_result"
    }
   ],
   "source": [
    "# Spaces aren't added for you\n",
    "'Chris' + 'Paul' "
   ]
  },
  {
   "cell_type": "code",
   "execution_count": 44,
   "metadata": {},
   "outputs": [
    {
     "data": {
      "text/plain": [
       "'Chris Paul'"
      ]
     },
     "execution_count": 44,
     "metadata": {},
     "output_type": "execute_result"
    }
   ],
   "source": [
    "'Chris' + ' ' + 'Paul'"
   ]
  },
  {
   "cell_type": "code",
   "execution_count": 45,
   "metadata": {},
   "outputs": [
    {
     "data": {
      "text/plain": [
       "'hahahahahahahahahahahahahahahahahahahahahahahahahahahahahahahahahahahahahahahahahahahahahahahahahahahahahahahahahahahahahahahahahahahahahahahahahahahahahahahahahahahahahahahahahahahahahahahahahahahaha'"
      ]
     },
     "execution_count": 45,
     "metadata": {},
     "output_type": "execute_result"
    }
   ],
   "source": [
    "'ha' * 100"
   ]
  },
  {
   "cell_type": "code",
   "execution_count": 46,
   "metadata": {},
   "outputs": [
    {
     "ename": "TypeError",
     "evalue": "can't multiply sequence by non-int of type 'float'",
     "output_type": "error",
     "traceback": [
      "\u001b[0;31m---------------------------------------------------------------------------\u001b[0m",
      "\u001b[0;31mTypeError\u001b[0m                                 Traceback (most recent call last)",
      "\u001b[0;32m/tmp/ipykernel_134/1099122530.py\u001b[0m in \u001b[0;36m<module>\u001b[0;34m\u001b[0m\n\u001b[0;32m----> 1\u001b[0;31m \u001b[0;34m'lo'\u001b[0m \u001b[0;34m*\u001b[0m \u001b[0;36m5.5\u001b[0m\u001b[0;34m\u001b[0m\u001b[0;34m\u001b[0m\u001b[0m\n\u001b[0m",
      "\u001b[0;31mTypeError\u001b[0m: can't multiply sequence by non-int of type 'float'"
     ]
    }
   ],
   "source": [
    "'lo' * 5.5"
   ]
  },
  {
   "cell_type": "code",
   "execution_count": 47,
   "metadata": {},
   "outputs": [
    {
     "ename": "TypeError",
     "evalue": "can only concatenate str (not \"int\") to str",
     "output_type": "error",
     "traceback": [
      "\u001b[0;31m---------------------------------------------------------------------------\u001b[0m",
      "\u001b[0;31mTypeError\u001b[0m                                 Traceback (most recent call last)",
      "\u001b[0;32m/tmp/ipykernel_134/52623601.py\u001b[0m in \u001b[0;36m<module>\u001b[0;34m\u001b[0m\n\u001b[0;32m----> 1\u001b[0;31m \u001b[0;34m'ha'\u001b[0m \u001b[0;34m+\u001b[0m \u001b[0;36m10\u001b[0m\u001b[0;34m\u001b[0m\u001b[0;34m\u001b[0m\u001b[0m\n\u001b[0m",
      "\u001b[0;31mTypeError\u001b[0m: can only concatenate str (not \"int\") to str"
     ]
    }
   ],
   "source": [
    "'ha' + 10"
   ]
  },
  {
   "cell_type": "code",
   "execution_count": 48,
   "metadata": {},
   "outputs": [
    {
     "ename": "TypeError",
     "evalue": "can only concatenate str (not \"int\") to str",
     "output_type": "error",
     "traceback": [
      "\u001b[0;31m---------------------------------------------------------------------------\u001b[0m",
      "\u001b[0;31mTypeError\u001b[0m                                 Traceback (most recent call last)",
      "\u001b[0;32m/tmp/ipykernel_134/3791438228.py\u001b[0m in \u001b[0;36m<module>\u001b[0;34m\u001b[0m\n\u001b[0;32m----> 1\u001b[0;31m \u001b[0;34m'data'\u001b[0m \u001b[0;34m+\u001b[0m \u001b[0;36m8\u001b[0m\u001b[0;34m\u001b[0m\u001b[0;34m\u001b[0m\u001b[0m\n\u001b[0m",
      "\u001b[0;31mTypeError\u001b[0m: can only concatenate str (not \"int\") to str"
     ]
    }
   ],
   "source": [
    "'data' + 8"
   ]
  },
  {
   "cell_type": "code",
   "execution_count": 49,
   "metadata": {},
   "outputs": [
    {
     "data": {
      "text/plain": [
       "'data8'"
      ]
     },
     "execution_count": 49,
     "metadata": {},
     "output_type": "execute_result"
    }
   ],
   "source": [
    "'data' + '8'"
   ]
  },
  {
   "cell_type": "code",
   "execution_count": 50,
   "metadata": {},
   "outputs": [
    {
     "data": {
      "text/plain": [
       "'data8'"
      ]
     },
     "execution_count": 50,
     "metadata": {},
     "output_type": "execute_result"
    }
   ],
   "source": [
    "'data' + str(8)"
   ]
  },
  {
   "cell_type": "code",
   "execution_count": 51,
   "metadata": {},
   "outputs": [
    {
     "data": {
      "text/plain": [
       "3"
      ]
     },
     "execution_count": 51,
     "metadata": {},
     "output_type": "execute_result"
    }
   ],
   "source": [
    "# Convert string to int\n",
    "int('3')"
   ]
  },
  {
   "cell_type": "code",
   "execution_count": 52,
   "metadata": {},
   "outputs": [
    {
     "data": {
      "text/plain": [
       "3.0"
      ]
     },
     "execution_count": 52,
     "metadata": {},
     "output_type": "execute_result"
    }
   ],
   "source": [
    "# Convert string to float\n",
    "float('3.0')"
   ]
  },
  {
   "cell_type": "code",
   "execution_count": 53,
   "metadata": {},
   "outputs": [],
   "source": [
    "# Questions?"
   ]
  },
  {
   "cell_type": "markdown",
   "metadata": {},
   "source": [
    "## Types ##"
   ]
  },
  {
   "cell_type": "code",
   "execution_count": 54,
   "metadata": {},
   "outputs": [
    {
     "data": {
      "text/plain": [
       "int"
      ]
     },
     "execution_count": 54,
     "metadata": {},
     "output_type": "execute_result"
    }
   ],
   "source": [
    "type(10)"
   ]
  },
  {
   "cell_type": "code",
   "execution_count": 55,
   "metadata": {},
   "outputs": [],
   "source": [
    "a = 10"
   ]
  },
  {
   "cell_type": "code",
   "execution_count": 56,
   "metadata": {},
   "outputs": [
    {
     "data": {
      "text/plain": [
       "int"
      ]
     },
     "execution_count": 56,
     "metadata": {},
     "output_type": "execute_result"
    }
   ],
   "source": [
    "type(a)"
   ]
  },
  {
   "cell_type": "code",
   "execution_count": 57,
   "metadata": {},
   "outputs": [
    {
     "data": {
      "text/plain": [
       "float"
      ]
     },
     "execution_count": 57,
     "metadata": {},
     "output_type": "execute_result"
    }
   ],
   "source": [
    "type(4.5)"
   ]
  },
  {
   "cell_type": "code",
   "execution_count": 58,
   "metadata": {},
   "outputs": [
    {
     "data": {
      "text/plain": [
       "str"
      ]
     },
     "execution_count": 58,
     "metadata": {},
     "output_type": "execute_result"
    }
   ],
   "source": [
    "type('abc')"
   ]
  },
  {
   "cell_type": "code",
   "execution_count": 59,
   "metadata": {},
   "outputs": [
    {
     "data": {
      "text/plain": [
       "datascience.tables.Table"
      ]
     },
     "execution_count": 59,
     "metadata": {},
     "output_type": "execute_result"
    }
   ],
   "source": [
    "type(nba)"
   ]
  },
  {
   "cell_type": "code",
   "execution_count": 60,
   "metadata": {},
   "outputs": [
    {
     "data": {
      "text/plain": [
       "bool"
      ]
     },
     "execution_count": 60,
     "metadata": {},
     "output_type": "execute_result"
    }
   ],
   "source": [
    "type(True)"
   ]
  },
  {
   "cell_type": "code",
   "execution_count": 61,
   "metadata": {},
   "outputs": [
    {
     "data": {
      "text/plain": [
       "5"
      ]
     },
     "execution_count": 61,
     "metadata": {},
     "output_type": "execute_result"
    }
   ],
   "source": [
    "abs(-5)"
   ]
  },
  {
   "cell_type": "code",
   "execution_count": 62,
   "metadata": {},
   "outputs": [
    {
     "data": {
      "text/plain": [
       "builtin_function_or_method"
      ]
     },
     "execution_count": 62,
     "metadata": {},
     "output_type": "execute_result"
    }
   ],
   "source": [
    "type(abs)"
   ]
  },
  {
   "cell_type": "markdown",
   "metadata": {},
   "source": [
    "## Arrays ##"
   ]
  },
  {
   "cell_type": "code",
   "execution_count": 63,
   "metadata": {},
   "outputs": [],
   "source": [
    "my_array = make_array(1, 2, 3, 4)"
   ]
  },
  {
   "cell_type": "code",
   "execution_count": 64,
   "metadata": {},
   "outputs": [
    {
     "data": {
      "text/plain": [
       "array([1, 2, 3, 4])"
      ]
     },
     "execution_count": 64,
     "metadata": {},
     "output_type": "execute_result"
    }
   ],
   "source": [
    "my_array"
   ]
  },
  {
   "cell_type": "code",
   "execution_count": 65,
   "metadata": {},
   "outputs": [
    {
     "data": {
      "text/plain": [
       "array([2, 4, 6, 8])"
      ]
     },
     "execution_count": 65,
     "metadata": {},
     "output_type": "execute_result"
    }
   ],
   "source": [
    "my_array * 2"
   ]
  },
  {
   "cell_type": "code",
   "execution_count": 66,
   "metadata": {},
   "outputs": [
    {
     "data": {
      "text/plain": [
       "array([ 1,  4,  9, 16])"
      ]
     },
     "execution_count": 66,
     "metadata": {},
     "output_type": "execute_result"
    }
   ],
   "source": [
    "my_array ** 2"
   ]
  },
  {
   "cell_type": "code",
   "execution_count": 67,
   "metadata": {},
   "outputs": [
    {
     "data": {
      "text/plain": [
       "array([2, 3, 4, 5])"
      ]
     },
     "execution_count": 67,
     "metadata": {},
     "output_type": "execute_result"
    }
   ],
   "source": [
    "my_array + 1"
   ]
  },
  {
   "cell_type": "code",
   "execution_count": 68,
   "metadata": {},
   "outputs": [
    {
     "data": {
      "text/plain": [
       "array([1, 2, 3, 4])"
      ]
     },
     "execution_count": 68,
     "metadata": {},
     "output_type": "execute_result"
    }
   ],
   "source": [
    "my_array # array is unchanged, just like when we call show/select/drop on Table"
   ]
  },
  {
   "cell_type": "code",
   "execution_count": 69,
   "metadata": {},
   "outputs": [],
   "source": [
    "another = make_array(5, 6, 7, 8)"
   ]
  },
  {
   "cell_type": "code",
   "execution_count": 70,
   "metadata": {},
   "outputs": [
    {
     "data": {
      "text/plain": [
       "array([ 6,  8, 10, 12])"
      ]
     },
     "execution_count": 70,
     "metadata": {},
     "output_type": "execute_result"
    }
   ],
   "source": [
    "# add together 2 arrays\n",
    "my_array + another"
   ]
  },
  {
   "cell_type": "code",
   "execution_count": 71,
   "metadata": {},
   "outputs": [],
   "source": [
    "yet_another = make_array(5, 6, 7)"
   ]
  },
  {
   "cell_type": "code",
   "execution_count": 72,
   "metadata": {},
   "outputs": [
    {
     "ename": "ValueError",
     "evalue": "operands could not be broadcast together with shapes (4,) (3,) ",
     "output_type": "error",
     "traceback": [
      "\u001b[0;31m---------------------------------------------------------------------------\u001b[0m",
      "\u001b[0;31mValueError\u001b[0m                                Traceback (most recent call last)",
      "\u001b[0;32m/tmp/ipykernel_134/2954929283.py\u001b[0m in \u001b[0;36m<module>\u001b[0;34m\u001b[0m\n\u001b[0;32m----> 1\u001b[0;31m \u001b[0mmy_array\u001b[0m \u001b[0;34m+\u001b[0m \u001b[0myet_another\u001b[0m\u001b[0;34m\u001b[0m\u001b[0;34m\u001b[0m\u001b[0m\n\u001b[0m",
      "\u001b[0;31mValueError\u001b[0m: operands could not be broadcast together with shapes (4,) (3,) "
     ]
    }
   ],
   "source": [
    "my_array + yet_another"
   ]
  },
  {
   "cell_type": "code",
   "execution_count": 73,
   "metadata": {},
   "outputs": [],
   "source": [
    "str_array = make_array('ha', 'he', 'ho')"
   ]
  },
  {
   "cell_type": "code",
   "execution_count": 74,
   "metadata": {},
   "outputs": [
    {
     "data": {
      "text/plain": [
       "array(['ha', 'he', 'ho'], dtype='<U2')"
      ]
     },
     "execution_count": 74,
     "metadata": {},
     "output_type": "execute_result"
    }
   ],
   "source": [
    "str_array"
   ]
  },
  {
   "cell_type": "code",
   "execution_count": 75,
   "metadata": {},
   "outputs": [
    {
     "ename": "UFuncTypeError",
     "evalue": "ufunc 'multiply' did not contain a loop with signature matching types (dtype('<U2'), dtype('int64')) -> None",
     "output_type": "error",
     "traceback": [
      "\u001b[0;31m---------------------------------------------------------------------------\u001b[0m",
      "\u001b[0;31mUFuncTypeError\u001b[0m                            Traceback (most recent call last)",
      "\u001b[0;32m/tmp/ipykernel_134/1392308079.py\u001b[0m in \u001b[0;36m<module>\u001b[0;34m\u001b[0m\n\u001b[0;32m----> 1\u001b[0;31m \u001b[0mstr_array\u001b[0m \u001b[0;34m*\u001b[0m \u001b[0;36m4\u001b[0m\u001b[0;34m\u001b[0m\u001b[0;34m\u001b[0m\u001b[0m\n\u001b[0m",
      "\u001b[0;31mUFuncTypeError\u001b[0m: ufunc 'multiply' did not contain a loop with signature matching types (dtype('<U2'), dtype('int64')) -> None"
     ]
    }
   ],
   "source": [
    "str_array * 4"
   ]
  },
  {
   "cell_type": "code",
   "execution_count": 76,
   "metadata": {},
   "outputs": [
    {
     "data": {
      "text/plain": [
       "array([5, 6, 7])"
      ]
     },
     "execution_count": 76,
     "metadata": {},
     "output_type": "execute_result"
    }
   ],
   "source": [
    "yet_another"
   ]
  },
  {
   "cell_type": "code",
   "execution_count": 77,
   "metadata": {},
   "outputs": [
    {
     "data": {
      "text/plain": [
       "5"
      ]
     },
     "execution_count": 77,
     "metadata": {},
     "output_type": "execute_result"
    }
   ],
   "source": [
    "yet_another.item(0)"
   ]
  },
  {
   "cell_type": "code",
   "execution_count": 78,
   "metadata": {},
   "outputs": [
    {
     "data": {
      "text/plain": [
       "6"
      ]
     },
     "execution_count": 78,
     "metadata": {},
     "output_type": "execute_result"
    }
   ],
   "source": [
    "yet_another.item(1)"
   ]
  },
  {
   "cell_type": "code",
   "execution_count": 79,
   "metadata": {},
   "outputs": [
    {
     "data": {
      "text/plain": [
       "10"
      ]
     },
     "execution_count": 79,
     "metadata": {},
     "output_type": "execute_result"
    }
   ],
   "source": [
    "sum(my_array)"
   ]
  },
  {
   "cell_type": "code",
   "execution_count": 80,
   "metadata": {},
   "outputs": [
    {
     "data": {
      "text/plain": [
       "2.5"
      ]
     },
     "execution_count": 80,
     "metadata": {},
     "output_type": "execute_result"
    }
   ],
   "source": [
    "np.average(my_array)"
   ]
  },
  {
   "cell_type": "code",
   "execution_count": 81,
   "metadata": {},
   "outputs": [
    {
     "data": {
      "text/plain": [
       "4"
      ]
     },
     "execution_count": 81,
     "metadata": {},
     "output_type": "execute_result"
    }
   ],
   "source": [
    "len(my_array)"
   ]
  },
  {
   "cell_type": "markdown",
   "metadata": {},
   "source": [
    "## Columns of Tables are Arrays ##"
   ]
  },
  {
   "cell_type": "code",
   "execution_count": 82,
   "metadata": {},
   "outputs": [
    {
     "data": {
      "text/html": [
       "<table border=\"1\" class=\"dataframe\">\n",
       "    <thead>\n",
       "        <tr>\n",
       "            <th>PLAYER</th> <th>POSITION</th> <th>TEAM</th> <th>SALARY</th> <th>AGE</th>\n",
       "        </tr>\n",
       "    </thead>\n",
       "    <tbody>\n",
       "        <tr>\n",
       "            <td>Stephen Curry      </td> <td>PG      </td> <td>GSW </td> <td>43.0064</td> <td>32  </td>\n",
       "        </tr>\n",
       "        <tr>\n",
       "            <td>Klay Thompson      </td> <td>SG      </td> <td>GSW </td> <td>35.3614</td> <td>30  </td>\n",
       "        </tr>\n",
       "        <tr>\n",
       "            <td>Andrew Wiggins     </td> <td>SF      </td> <td>GSW </td> <td>29.542 </td> <td>25  </td>\n",
       "        </tr>\n",
       "        <tr>\n",
       "            <td>Draymond Green     </td> <td>PF      </td> <td>GSW </td> <td>22.247 </td> <td>30  </td>\n",
       "        </tr>\n",
       "        <tr>\n",
       "            <td>Jr. Kelly Oubre Jr.</td> <td>SF      </td> <td>GSW </td> <td>14.375 </td> <td>24  </td>\n",
       "        </tr>\n",
       "        <tr>\n",
       "            <td>James Wiseman      </td> <td>C       </td> <td>GSW </td> <td>8.73024</td> <td>19  </td>\n",
       "        </tr>\n",
       "        <tr>\n",
       "            <td>Kevon Looney       </td> <td>PF      </td> <td>GSW </td> <td>4.82143</td> <td>24  </td>\n",
       "        </tr>\n",
       "        <tr>\n",
       "            <td>Kent Bazemore      </td> <td>SG      </td> <td>GSW </td> <td>2.32004</td> <td>31  </td>\n",
       "        </tr>\n",
       "        <tr>\n",
       "            <td>Jordan Poole       </td> <td>SG      </td> <td>GSW </td> <td>2.06328</td> <td>21  </td>\n",
       "        </tr>\n",
       "        <tr>\n",
       "            <td>Damion Lee         </td> <td>SG      </td> <td>GSW </td> <td>1.7628 </td> <td>27  </td>\n",
       "        </tr>\n",
       "    </tbody>\n",
       "</table>\n",
       "<p>... (7 rows omitted)</p>"
      ],
      "text/plain": [
       "PLAYER              | POSITION | TEAM | SALARY  | AGE\n",
       "Stephen Curry       | PG       | GSW  | 43.0064 | 32\n",
       "Klay Thompson       | SG       | GSW  | 35.3614 | 30\n",
       "Andrew Wiggins      | SF       | GSW  | 29.542  | 25\n",
       "Draymond Green      | PF       | GSW  | 22.247  | 30\n",
       "Jr. Kelly Oubre Jr. | SF       | GSW  | 14.375  | 24\n",
       "James Wiseman       | C        | GSW  | 8.73024 | 19\n",
       "Kevon Looney        | PF       | GSW  | 4.82143 | 24\n",
       "Kent Bazemore       | SG       | GSW  | 2.32004 | 31\n",
       "Jordan Poole        | SG       | GSW  | 2.06328 | 21\n",
       "Damion Lee          | SG       | GSW  | 1.7628  | 27\n",
       "... (7 rows omitted)"
      ]
     },
     "execution_count": 82,
     "metadata": {},
     "output_type": "execute_result"
    }
   ],
   "source": [
    "warriors = nba.where('TEAM', 'GSW')\n",
    "warriors"
   ]
  },
  {
   "cell_type": "code",
   "execution_count": 83,
   "metadata": {
    "scrolled": true
   },
   "outputs": [
    {
     "data": {
      "text/html": [
       "<table border=\"1\" class=\"dataframe\">\n",
       "    <thead>\n",
       "        <tr>\n",
       "            <th>SALARY</th>\n",
       "        </tr>\n",
       "    </thead>\n",
       "    <tbody>\n",
       "        <tr>\n",
       "            <td>43.0064</td>\n",
       "        </tr>\n",
       "        <tr>\n",
       "            <td>35.3614</td>\n",
       "        </tr>\n",
       "        <tr>\n",
       "            <td>29.542 </td>\n",
       "        </tr>\n",
       "        <tr>\n",
       "            <td>22.247 </td>\n",
       "        </tr>\n",
       "        <tr>\n",
       "            <td>14.375 </td>\n",
       "        </tr>\n",
       "        <tr>\n",
       "            <td>8.73024</td>\n",
       "        </tr>\n",
       "        <tr>\n",
       "            <td>4.82143</td>\n",
       "        </tr>\n",
       "        <tr>\n",
       "            <td>2.32004</td>\n",
       "        </tr>\n",
       "        <tr>\n",
       "            <td>2.06328</td>\n",
       "        </tr>\n",
       "        <tr>\n",
       "            <td>1.7628 </td>\n",
       "        </tr>\n",
       "    </tbody>\n",
       "</table>\n",
       "<p>... (7 rows omitted)</p>"
      ],
      "text/plain": [
       "SALARY\n",
       "43.0064\n",
       "35.3614\n",
       "29.542\n",
       "22.247\n",
       "14.375\n",
       "8.73024\n",
       "4.82143\n",
       "2.32004\n",
       "2.06328\n",
       "1.7628\n",
       "... (7 rows omitted)"
      ]
     },
     "execution_count": 83,
     "metadata": {},
     "output_type": "execute_result"
    }
   ],
   "source": [
    "warriors.select('SALARY')"
   ]
  },
  {
   "cell_type": "code",
   "execution_count": 84,
   "metadata": {},
   "outputs": [
    {
     "data": {
      "text/plain": [
       "datascience.tables.Table"
      ]
     },
     "execution_count": 84,
     "metadata": {},
     "output_type": "execute_result"
    }
   ],
   "source": [
    "type(warriors.select('SALARY'))"
   ]
  },
  {
   "cell_type": "code",
   "execution_count": 85,
   "metadata": {},
   "outputs": [
    {
     "data": {
      "text/plain": [
       "array([4.3006362e+01, 3.5361360e+01, 2.9542010e+01, 2.2246956e+01,\n",
       "       1.4375000e+01, 8.7302400e+00, 4.8214290e+00, 2.3200440e+00,\n",
       "       2.0632800e+00, 1.7627960e+00, 1.5179810e+00, 1.5179810e+00,\n",
       "       1.5179810e+00, 3.5829500e-01, 1.1898300e-01, 1.1898300e-01,\n",
       "       1.1898000e-02])"
      ]
     },
     "execution_count": 85,
     "metadata": {},
     "output_type": "execute_result"
    }
   ],
   "source": [
    "warriors.column('SALARY')"
   ]
  },
  {
   "cell_type": "code",
   "execution_count": 86,
   "metadata": {},
   "outputs": [
    {
     "data": {
      "text/plain": [
       "9.964210529411766"
      ]
     },
     "execution_count": 86,
     "metadata": {},
     "output_type": "execute_result"
    }
   ],
   "source": [
    "np.average(warriors.column('SALARY'))"
   ]
  },
  {
   "cell_type": "code",
   "execution_count": 87,
   "metadata": {},
   "outputs": [
    {
     "data": {
      "text/html": [
       "<table border=\"1\" class=\"dataframe\">\n",
       "    <thead>\n",
       "        <tr>\n",
       "            <th>PLAYER</th> <th>POSITION</th> <th>TEAM</th> <th>SALARY</th> <th>AGE</th>\n",
       "        </tr>\n",
       "    </thead>\n",
       "    <tbody>\n",
       "        <tr>\n",
       "            <td>Pascal Siakam  </td> <td>PF      </td> <td>TOR </td> <td>30.5592</td> <td>26  </td>\n",
       "        </tr>\n",
       "        <tr>\n",
       "            <td>Kyle Lowry     </td> <td>PG      </td> <td>TOR </td> <td>30     </td> <td>34  </td>\n",
       "        </tr>\n",
       "        <tr>\n",
       "            <td>Fred VanVleet  </td> <td>PG      </td> <td>TOR </td> <td>21.25  </td> <td>26  </td>\n",
       "        </tr>\n",
       "        <tr>\n",
       "            <td>Rodney Hood    </td> <td>SF      </td> <td>TOR </td> <td>10.0474</td> <td>27  </td>\n",
       "        </tr>\n",
       "        <tr>\n",
       "            <td>Aron Baynes    </td> <td>C       </td> <td>TOR </td> <td>7      </td> <td>33  </td>\n",
       "        </tr>\n",
       "        <tr>\n",
       "            <td>Chris Boucher  </td> <td>PF      </td> <td>TOR </td> <td>6.5    </td> <td>27  </td>\n",
       "        </tr>\n",
       "        <tr>\n",
       "            <td>OG Anunoby     </td> <td>SF      </td> <td>TOR </td> <td>3.87222</td> <td>23  </td>\n",
       "        </tr>\n",
       "        <tr>\n",
       "            <td>Stanley Johnson</td> <td>SF      </td> <td>TOR </td> <td>3.80415</td> <td>24  </td>\n",
       "        </tr>\n",
       "        <tr>\n",
       "            <td>Malachi Flynn  </td> <td>PG      </td> <td>TOR </td> <td>1.9506 </td> <td>22  </td>\n",
       "        </tr>\n",
       "        <tr>\n",
       "            <td>DeAndre' Bembry</td> <td>SF      </td> <td>TOR </td> <td>1.73714</td> <td>26  </td>\n",
       "        </tr>\n",
       "    </tbody>\n",
       "</table>\n",
       "<p>... (9 rows omitted)</p>"
      ],
      "text/plain": [
       "PLAYER          | POSITION | TEAM | SALARY  | AGE\n",
       "Pascal Siakam   | PF       | TOR  | 30.5592 | 26\n",
       "Kyle Lowry      | PG       | TOR  | 30      | 34\n",
       "Fred VanVleet   | PG       | TOR  | 21.25   | 26\n",
       "Rodney Hood     | SF       | TOR  | 10.0474 | 27\n",
       "Aron Baynes     | C        | TOR  | 7       | 33\n",
       "Chris Boucher   | PF       | TOR  | 6.5     | 27\n",
       "OG Anunoby      | SF       | TOR  | 3.87222 | 23\n",
       "Stanley Johnson | SF       | TOR  | 3.80415 | 24\n",
       "Malachi Flynn   | PG       | TOR  | 1.9506  | 22\n",
       "DeAndre' Bembry | SF       | TOR  | 1.73714 | 26\n",
       "... (9 rows omitted)"
      ]
     },
     "execution_count": 87,
     "metadata": {},
     "output_type": "execute_result"
    }
   ],
   "source": [
    "raptors = nba.where('TEAM', 'TOR')\n",
    "raptors"
   ]
  },
  {
   "cell_type": "code",
   "execution_count": 88,
   "metadata": {},
   "outputs": [
    {
     "data": {
      "text/plain": [
       "3.5939138978328193"
      ]
     },
     "execution_count": 88,
     "metadata": {},
     "output_type": "execute_result"
    }
   ],
   "source": [
    "np.average(warriors.column('SALARY')) - np.average(raptors.column('SALARY'))"
   ]
  },
  {
   "cell_type": "code",
   "execution_count": null,
   "metadata": {},
   "outputs": [],
   "source": []
  }
 ],
 "metadata": {
  "anaconda-cloud": {},
  "kernelspec": {
   "display_name": "Python 3 (ipykernel)",
   "language": "python",
   "name": "python3"
  },
  "language_info": {
   "codemirror_mode": {
    "name": "ipython",
    "version": 3
   },
   "file_extension": ".py",
   "mimetype": "text/x-python",
   "name": "python",
   "nbconvert_exporter": "python",
   "pygments_lexer": "ipython3",
   "version": "3.8.10"
  }
 },
 "nbformat": 4,
 "nbformat_minor": 1
}
