{
 "cells": [
  {
   "cell_type": "markdown",
   "metadata": {},
   "source": [
    "<h1> Lecture 14A\n",
    "\n",
    "Data Science 8, Summer 2021 </h1>"
   ]
  },
  {
   "cell_type": "markdown",
   "metadata": {},
   "source": [
    "<h3>\n",
    "<b>\n",
    "<ul>\n",
    "<li>Models of Randomness (Chance)   </li><br>\n",
    "            \n",
    "<li>Is the model consistent with the Data?  </li><br>\n",
    "</ul>\n",
    "</b>\n",
    "</h3>"
   ]
  },
  {
   "cell_type": "code",
   "execution_count": 1,
   "metadata": {},
   "outputs": [],
   "source": [
    "from datascience import *\n",
    "import numpy as np\n",
    "import warnings\n",
    "warnings.filterwarnings(\"ignore\")\n",
    "\n",
    "%matplotlib inline\n",
    "import matplotlib.pyplot as plots\n",
    "plots.style.use('fivethirtyeight')\n",
    "plots.rcParams[\"patch.force_edgecolor\"] = True\n",
    "\n",
    "#The following allows porting images into a Markdown window\n",
    "from IPython.display import Image"
   ]
  },
  {
   "cell_type": "markdown",
   "metadata": {},
   "source": [
    "SLIDE: Assessing Models"
   ]
  },
  {
   "cell_type": "markdown",
   "metadata": {},
   "source": [
    "## Dreaming of better days"
   ]
  },
  {
   "cell_type": "markdown",
   "metadata": {},
   "source": [
    "<h3>Make an array that contains the population proportions: 5% Ender Pearl, and 95% Other.</h3>"
   ]
  },
  {
   "cell_type": "code",
   "execution_count": 2,
   "metadata": {},
   "outputs": [
    {
     "data": {
      "text/plain": [
       "array([0.05, 0.95])"
      ]
     },
     "execution_count": 2,
     "metadata": {},
     "output_type": "execute_result"
    }
   ],
   "source": [
    "population_proportions = make_array(0.05, .95)\n",
    "population_proportions"
   ]
  },
  {
   "cell_type": "markdown",
   "metadata": {},
   "source": [
    "<h3> Now we take 262 samples from the population. </h3>"
   ]
  },
  {
   "cell_type": "code",
   "execution_count": 3,
   "metadata": {},
   "outputs": [
    {
     "data": {
      "text/plain": [
       "array([0.03816794, 0.96183206])"
      ]
     },
     "execution_count": 3,
     "metadata": {},
     "output_type": "execute_result"
    }
   ],
   "source": [
    "sample_proportions(262, population_proportions)"
   ]
  },
  {
   "cell_type": "markdown",
   "metadata": {},
   "source": [
    "<h4>Run the cell above many times to see how the numbers change, if by much. </h4>"
   ]
  },
  {
   "cell_type": "code",
   "execution_count": 4,
   "metadata": {},
   "outputs": [],
   "source": [
    "def proportions():\n",
    "    return sample_proportions(262, population_proportions)"
   ]
  },
  {
   "cell_type": "code",
   "execution_count": 5,
   "metadata": {},
   "outputs": [
    {
     "data": {
      "text/plain": [
       "array([0.02671756, 0.97328244])"
      ]
     },
     "execution_count": 5,
     "metadata": {},
     "output_type": "execute_result"
    }
   ],
   "source": [
    "proportions()"
   ]
  },
  {
   "cell_type": "markdown",
   "metadata": {},
   "source": [
    "<h3>We need only the first number in the array&mdash;that is, the fraction of ender pearls we receive in the sample.</h3>"
   ]
  },
  {
   "cell_type": "code",
   "execution_count": 6,
   "metadata": {},
   "outputs": [],
   "source": [
    "def ep_proportion():\n",
    "    return sample_proportions(262, population_proportions).item(0) "
   ]
  },
  {
   "cell_type": "code",
   "execution_count": 7,
   "metadata": {},
   "outputs": [
    {
     "data": {
      "text/plain": [
       "0.04198473282442748"
      ]
     },
     "execution_count": 7,
     "metadata": {},
     "output_type": "execute_result"
    }
   ],
   "source": [
    "ep_proportion()"
   ]
  },
  {
   "cell_type": "code",
   "execution_count": 8,
   "metadata": {},
   "outputs": [
    {
     "data": {
      "text/plain": [
       "array([15., 15., 18., 10., 10., 10.,  9., 12., 18., 16., 17., 14., 15.,\n",
       "       21., 16., 12., 20., 11.,  9., 11., 20., 24.,  9., 20.,  9.,  7.,\n",
       "       16., 19., 12., 18., 15.,  7.,  9., 17., 17., 15., 15., 14., 11.,\n",
       "       16., 14., 12., 18.,  9., 15., 17., 17., 15., 10., 13.,  9., 13.,\n",
       "       11., 11., 15., 18., 12., 13., 15., 14., 11., 12., 12., 11.,  7.,\n",
       "        8., 10., 17., 10., 14., 13., 11., 14., 14., 16., 14., 10., 11.,\n",
       "        9., 15., 18., 13., 13., 10., 13., 13., 14.,  6., 13.,  9., 15.,\n",
       "       11., 15.,  9., 13., 14., 18., 13., 14., 14., 11., 16., 17., 18.,\n",
       "       11., 14.,  5., 13., 14., 12.,  7., 16.,  8., 14., 15., 14.,  7.,\n",
       "       16., 15., 11., 12., 12., 17., 18., 13., 14.,  7., 10., 14., 13.,\n",
       "       14., 13.,  9.,  7.,  7., 15.,  9.,  9., 15., 10., 14., 11.,  5.,\n",
       "       12., 11., 16., 14., 12.,  6., 11., 12.,  9., 13., 16., 22., 13.,\n",
       "        8., 15., 19., 11., 13., 15.,  9., 13., 16., 16., 22.,  8., 14.,\n",
       "       13., 14.,  9., 10., 14., 10., 19., 15., 19., 16., 10., 17., 18.,\n",
       "       15., 12.,  9., 12., 14., 10., 10., 13., 11.,  9., 11., 18.,  6.,\n",
       "       11., 15., 17., 16., 10., 12., 20., 16., 15., 14.,  8., 10., 17.,\n",
       "       14.,  8.,  7., 14., 13.,  6., 13., 14., 10., 11., 17.,  7., 11.,\n",
       "       13., 11.,  6., 20., 19., 19.,  7.,  8., 17., 12., 13.,  6., 19.,\n",
       "       16., 11.,  9., 16., 10., 12., 12., 15., 12., 13., 14., 14., 14.,\n",
       "        7., 13., 12.,  8., 13., 20., 16.,  9., 10., 14., 11., 23., 12.,\n",
       "       13., 16., 12., 13., 13., 10., 15.,  9., 11., 15., 12., 15., 16.,\n",
       "       12., 13., 18., 16., 13., 10., 14., 11., 12.,  4.,  8., 18., 17.,\n",
       "       11., 11., 10., 10., 10., 19., 17., 12., 14., 19., 12., 11., 10.,\n",
       "       14., 13., 13., 17., 19., 19.,  8., 14.,  8., 12.,  8.,  7., 11.,\n",
       "       16., 16., 17., 13., 16., 17., 14., 13., 15.,  5., 19., 13., 11.,\n",
       "       17., 15., 10., 16., 13., 14., 12., 14., 10.,  7., 11., 20., 14.,\n",
       "       14., 14., 16., 17., 10., 16., 22., 17., 15., 13., 11.,  9., 13.,\n",
       "       13., 11., 12., 14., 14., 17., 13., 12., 11., 13., 10., 24., 12.,\n",
       "       15., 20., 14.,  5., 16., 13., 14., 20., 12., 13., 16.,  9., 14.,\n",
       "       21.,  8., 16.,  6., 15., 11., 22., 13., 15.,  8., 13., 12., 10.,\n",
       "       16., 13., 10., 19., 19., 15., 16., 20., 14., 12., 13., 11., 21.,\n",
       "        6., 22., 14., 10.,  9., 16., 11., 14., 20.,  9., 10.,  7.,  8.,\n",
       "       12., 10., 13., 11., 12., 15., 15., 12., 17., 14., 16., 16., 10.,\n",
       "        9., 13., 12., 10., 13., 14., 18.,  9.,  9., 13., 15., 15., 14.,\n",
       "       13., 15., 13.,  9., 10., 15., 17., 11., 12., 11., 15., 17., 13.,\n",
       "       16., 20.,  8., 12., 16., 14., 13., 12., 11., 15., 10., 13., 12.,\n",
       "       13., 15., 10., 16., 11., 14., 17., 10., 12., 16., 13., 14., 16.,\n",
       "       17., 17., 15., 10.,  7., 14., 13.,  9., 10., 11., 15.,  9., 15.,\n",
       "       21., 10.,  5.,  8., 12., 16., 13.,  9.,  9., 18., 15., 14., 22.,\n",
       "       12., 16., 13.,  9., 15., 19., 10., 14., 14., 15., 13., 17., 13.,\n",
       "       10., 11., 17., 10., 15.,  7., 16., 16., 15., 13., 18., 21., 15.,\n",
       "       14., 13.,  9., 22., 20., 13., 18., 19.,  9., 10., 15., 10.,  6.,\n",
       "       17., 14., 10., 11., 13., 15.,  7., 11., 15.,  9., 12.,  6.,  5.,\n",
       "       12., 13.,  6., 12., 10., 18., 24.,  7., 18., 14., 14., 11., 17.,\n",
       "       10., 18., 13., 15., 13., 10., 10.,  6., 17., 11., 12., 12., 14.,\n",
       "       10., 10., 10., 14.,  9., 13., 14., 18., 20., 12., 14., 13., 10.,\n",
       "       14., 13., 19., 13., 14., 12., 18., 11., 16., 19.,  9., 10., 19.,\n",
       "       13., 14., 18., 11., 19.,  9., 19., 14., 14., 14., 10., 12.,  9.,\n",
       "       19., 15., 17., 17.,  9.,  8., 13., 13., 12., 13., 12., 12., 16.,\n",
       "       17., 13.,  9., 11., 12., 12., 16., 11., 16., 11., 15., 10., 12.,\n",
       "       11., 13., 15., 11., 15., 12., 16., 17., 13., 23., 13., 13., 18.,\n",
       "       17., 15., 16., 13.,  6., 16., 13., 15., 18., 12.,  9.,  9., 17.,\n",
       "       12., 16., 10., 24., 19.,  8., 11., 18., 11., 11., 10., 12.,  7.,\n",
       "       11., 12., 12., 15., 18., 12.,  8., 16., 12., 12., 15.,  7., 11.,\n",
       "       15., 12., 18., 12.,  9., 10., 12., 18., 16., 10., 11., 10., 12.,\n",
       "       13., 15., 15., 17., 14., 14.,  7., 11., 13.,  8.,  8., 11., 11.,\n",
       "       10., 17.,  8., 16.,  6., 20., 14., 11., 13., 19.,  9., 10., 14.,\n",
       "       13., 12., 11., 13., 10., 19., 12., 15., 15., 18.,  7., 15., 15.,\n",
       "       14., 13.,  8., 15., 11., 19., 10., 13., 19., 15., 17., 17., 11.,\n",
       "        9., 15., 14., 21., 11., 14.,  6., 11., 19., 13., 25., 18., 11.,\n",
       "       14., 10., 18., 13., 12., 12., 11., 11., 15., 25.,  5., 13., 14.,\n",
       "       21., 10., 12., 18., 11., 18., 19.,  9., 11., 14., 11.,  9.,  9.,\n",
       "       13., 11., 16., 20., 13., 14., 13., 17.,  9., 15., 15., 18., 18.,\n",
       "       14., 12., 10., 10., 15.,  7., 13., 20., 11., 11., 15., 13., 10.,\n",
       "       11., 12., 15., 14., 12., 12., 13., 12., 19.,  9., 16., 14., 15.,\n",
       "        8., 13., 18.,  6., 11., 11., 16.,  7., 13., 11., 10., 10., 11.,\n",
       "       18., 16., 15., 13., 16., 15., 14., 10., 12., 17., 10., 17.,  8.,\n",
       "       15., 15., 15., 12., 15., 10., 11., 12., 12.,  9.,  8., 15.,  6.,\n",
       "       11., 11.,  7., 15., 16.,  4., 11., 15., 13., 15., 11.,  7., 10.,\n",
       "       12.,  9., 21., 14., 20.,  6., 10., 10., 10.,  6.,  9., 14., 16.,\n",
       "       13.,  7., 11., 17., 12.,  9.,  9., 16., 13., 17.,  9., 10., 20.,\n",
       "       17., 10., 10., 14., 12., 12., 17., 14., 17., 18., 11., 17., 10.,\n",
       "       14., 14., 14., 12.,  7., 17., 15., 10., 13., 12., 13.,  8., 15.,\n",
       "        8., 17., 20., 11., 12., 17., 13., 14.,  9., 17., 11., 13., 16.,\n",
       "       10., 12., 15., 10.,  8., 14., 11., 10., 12.,  8., 16.,  6., 12.,\n",
       "       10.,  7., 11.,  9., 12., 14., 16., 12., 15.,  8., 20., 11., 13.,\n",
       "        7.,  9., 15.,  6., 17., 12., 11.,  7., 18., 10., 13.,  6.])"
      ]
     },
     "execution_count": 8,
     "metadata": {},
     "output_type": "execute_result"
    }
   ],
   "source": [
    "#Specify the number of trials---that is, the number of times we take a sample\n",
    "num_simulations = 1000\n",
    "\n",
    "num_eps = make_array()\n",
    "\n",
    "for i in np.arange(num_simulations):\n",
    "    num_ep = ep_proportion() * 262 # Multiplication by 262 converts the fraction to an integer\n",
    "    num_eps = np.append(num_eps, num_ep)\n",
    "num_eps"
   ]
  },
  {
   "cell_type": "code",
   "execution_count": 9,
   "metadata": {},
   "outputs": [
    {
     "data": {
      "image/png": "[encoded data removed]",
      "text/plain": [
       "<Figure size 432x288 with 1 Axes>"
      ]
     },
     "metadata": {},
     "output_type": "display_data"
    }
   ],
   "source": [
    "Table().with_column('Number of Ender Pearls Received', \\\n",
    "                    num_eps)\\\n",
    "        .hist(bins=np.arange(0, 50))\n",
    "\n",
    "# out of scope (plots the observed value which was 42!)\n",
    "plots.plot([42,42], [0,0.15], c=\"r\");\n",
    "plots.ylim([0, 0.15]);"
   ]
  },
  {
   "cell_type": "code",
   "execution_count": 10,
   "metadata": {},
   "outputs": [],
   "source": [
    "## Does that seem realistic?\n",
    "## Questions\n",
    "## Slides"
   ]
  },
  {
   "cell_type": "markdown",
   "metadata": {},
   "source": [
    "## Mendel and Pea Flowers ##"
   ]
  },
  {
   "cell_type": "code",
   "execution_count": 11,
   "metadata": {},
   "outputs": [
    {
     "data": {
      "text/plain": [
       "0.7631862217438106"
      ]
     },
     "execution_count": 11,
     "metadata": {},
     "output_type": "execute_result"
    }
   ],
   "source": [
    "## Mendel had 929 plants, of which 709 had purple flowers\n",
    "observed_purples = 709 / 929\n",
    "observed_purples"
   ]
  },
  {
   "cell_type": "code",
   "execution_count": 12,
   "metadata": {},
   "outputs": [
    {
     "data": {
      "text/plain": [
       "array([0.7212056, 0.2787944])"
      ]
     },
     "execution_count": 12,
     "metadata": {},
     "output_type": "execute_result"
    }
   ],
   "source": [
    "predicted_proportions = make_array(.75, .25)\n",
    "sample_proportions(929, predicted_proportions)"
   ]
  },
  {
   "cell_type": "code",
   "execution_count": 13,
   "metadata": {},
   "outputs": [],
   "source": [
    "def purple_flowers():\n",
    "    return sample_proportions(929, predicted_proportions).item(0) * 100"
   ]
  },
  {
   "cell_type": "code",
   "execution_count": 14,
   "metadata": {},
   "outputs": [
    {
     "data": {
      "text/plain": [
       "74.48869752421959"
      ]
     },
     "execution_count": 14,
     "metadata": {},
     "output_type": "execute_result"
    }
   ],
   "source": [
    "purple_flowers()"
   ]
  },
  {
   "cell_type": "code",
   "execution_count": 15,
   "metadata": {},
   "outputs": [],
   "source": [
    "num_simulations=1000\n",
    "\n",
    "purples = make_array()\n",
    "\n",
    "for i in np.arange(num_simulations):\n",
    "    new_purple = purple_flowers()\n",
    "    purples = np.append(purples, new_purple)"
   ]
  },
  {
   "cell_type": "code",
   "execution_count": 16,
   "metadata": {
    "scrolled": true
   },
   "outputs": [
    {
     "data": {
      "image/png": "[encoded data removed]",
      "text/plain": [
       "<Figure size 432x288 with 1 Axes>"
      ]
     },
     "metadata": {},
     "output_type": "display_data"
    }
   ],
   "source": [
    "Table().with_column('Percent of purple flowers in sample of 929', purples).hist()"
   ]
  },
  {
   "cell_type": "code",
   "execution_count": 17,
   "metadata": {
    "scrolled": true
   },
   "outputs": [
    {
     "data": {
      "image/png": "[encoded data removed]",
      "text/plain": [
       "<Figure size 432x288 with 1 Axes>"
      ]
     },
     "metadata": {},
     "output_type": "display_data"
    }
   ],
   "source": [
    "Table().with_column('Discrepancy in sample of 929 if the model is true', abs(purples- 75)).hist()"
   ]
  },
  {
   "cell_type": "markdown",
   "metadata": {},
   "source": [
    "<h3>How close was Mendel's sample to the model's prediction?</h3>"
   ]
  },
  {
   "cell_type": "code",
   "execution_count": 18,
   "metadata": {
    "scrolled": true
   },
   "outputs": [
    {
     "data": {
      "text/plain": [
       "1.318622174381062"
      ]
     },
     "execution_count": 18,
     "metadata": {},
     "output_type": "execute_result"
    }
   ],
   "source": [
    "abs(observed_purples * 100 - 75)"
   ]
  },
  {
   "cell_type": "markdown",
   "metadata": {},
   "source": [
    "<h1> Lecture 14B\n",
    "\n",
    "Data Science 8, Summer 2021 </h1>"
   ]
  },
  {
   "cell_type": "markdown",
   "metadata": {},
   "source": [
    "<h3>\n",
    "<b>\n",
    "<ul> \n",
    "<li>Comparing Distributions  </li><br>\n",
    "\n",
    "<li>Hypothesis Testing  </li><br>\n",
    "</ul>\n",
    "</b>\n",
    "</h3>"
   ]
  },
  {
   "cell_type": "code",
   "execution_count": 19,
   "metadata": {},
   "outputs": [],
   "source": [
    "from datascience import *\n",
    "import numpy as np\n",
    "import warnings\n",
    "warnings.filterwarnings(\"ignore\")\n",
    "\n",
    "%matplotlib inline\n",
    "import matplotlib.pyplot as plots\n",
    "plots.style.use('fivethirtyeight')\n",
    "plots.rcParams[\"patch.force_edgecolor\"] = True\n",
    "\n",
    "#The following allows porting images into a Markdown window\n",
    "from IPython.display import Image"
   ]
  },
  {
   "cell_type": "markdown",
   "metadata": {
    "collapsed": true
   },
   "source": [
    "<h2> Haribo Gummy Bears </h2>\n",
    "\n",
    "<h3> In this case, we have more than two categories. How would we calculate a test statistic for that? </h3>"
   ]
  },
  {
   "cell_type": "code",
   "execution_count": 20,
   "metadata": {
    "scrolled": false
   },
   "outputs": [
    {
     "data": {
      "text/html": [
       "<table border=\"1\" class=\"dataframe\">\n",
       "    <thead>\n",
       "        <tr>\n",
       "            <th>Flavor</th> <th>Expected</th> <th>Observed</th>\n",
       "        </tr>\n",
       "    </thead>\n",
       "    <tbody>\n",
       "        <tr>\n",
       "            <td>Strawberry</td> <td>0.2     </td> <td>0.25    </td>\n",
       "        </tr>\n",
       "        <tr>\n",
       "            <td>Lemon     </td> <td>0.2     </td> <td>0.166667</td>\n",
       "        </tr>\n",
       "        <tr>\n",
       "            <td>Orange    </td> <td>0.2     </td> <td>0.116667</td>\n",
       "        </tr>\n",
       "        <tr>\n",
       "            <td>Raspberry </td> <td>0.2     </td> <td>0.283333</td>\n",
       "        </tr>\n",
       "        <tr>\n",
       "            <td>Pineapple </td> <td>0.2     </td> <td>0.183333</td>\n",
       "        </tr>\n",
       "    </tbody>\n",
       "</table>"
      ],
      "text/plain": [
       "Flavor     | Expected | Observed\n",
       "Strawberry | 0.2      | 0.25\n",
       "Lemon      | 0.2      | 0.166667\n",
       "Orange     | 0.2      | 0.116667\n",
       "Raspberry  | 0.2      | 0.283333\n",
       "Pineapple  | 0.2      | 0.183333"
      ]
     },
     "execution_count": 20,
     "metadata": {},
     "output_type": "execute_result"
    }
   ],
   "source": [
    "bears = Table().with_columns(\n",
    "    'Flavor', make_array('Strawberry', 'Lemon', 'Orange', 'Raspberry', 'Pineapple'),\n",
    "    'Expected', make_array(0.2, 0.2, 0.2, 0.2, 0.2),\n",
    "    'Observed', make_array(15/60, 10/60, 7/60, 17/60, 11/60)\n",
    ")\n",
    "\n",
    "bears"
   ]
  },
  {
   "cell_type": "code",
   "execution_count": 21,
   "metadata": {},
   "outputs": [
    {
     "data": {
      "image/png": "[encoded data removed]",
      "text/plain": [
       "<Figure size 432x288 with 1 Axes>"
      ]
     },
     "metadata": {},
     "output_type": "display_data"
    }
   ],
   "source": [
    "bears.barh('Flavor')"
   ]
  },
  {
   "cell_type": "code",
   "execution_count": 22,
   "metadata": {},
   "outputs": [
    {
     "data": {
      "text/plain": [
       "array([0.2, 0.2, 0.2, 0.2, 0.2])"
      ]
     },
     "execution_count": 22,
     "metadata": {},
     "output_type": "execute_result"
    }
   ],
   "source": [
    "model = make_array(0.2, 0.2, 0.2, 0.2, 0.2)\n",
    "model"
   ]
  },
  {
   "cell_type": "code",
   "execution_count": 23,
   "metadata": {},
   "outputs": [
    {
     "data": {
      "text/plain": [
       "array([0.18333333, 0.21666667, 0.18333333, 0.18333333, 0.23333333])"
      ]
     },
     "execution_count": 23,
     "metadata": {},
     "output_type": "execute_result"
    }
   ],
   "source": [
    "simulation = sample_proportions(60, model)\n",
    "simulation"
   ]
  },
  {
   "cell_type": "code",
   "execution_count": 24,
   "metadata": {},
   "outputs": [
    {
     "data": {
      "image/png": "[encoded data removed]",
      "text/plain": [
       "<Figure size 432x288 with 1 Axes>"
      ]
     },
     "metadata": {},
     "output_type": "display_data"
    }
   ],
   "source": [
    "bears.with_column(\"Simulated\", simulation).barh(\"Flavor\")"
   ]
  },
  {
   "cell_type": "markdown",
   "metadata": {},
   "source": [
    "<h2> Distance Between Distributions </h2>"
   ]
  },
  {
   "cell_type": "code",
   "execution_count": 25,
   "metadata": {},
   "outputs": [
    {
     "data": {
      "text/html": [
       "<table border=\"1\" class=\"dataframe\">\n",
       "    <thead>\n",
       "        <tr>\n",
       "            <th>Flavor</th> <th>Expected</th> <th>Observed</th> <th>Difference</th>\n",
       "        </tr>\n",
       "    </thead>\n",
       "    <tbody>\n",
       "        <tr>\n",
       "            <td>Strawberry</td> <td>0.2     </td> <td>0.25    </td> <td>0.05      </td>\n",
       "        </tr>\n",
       "        <tr>\n",
       "            <td>Lemon     </td> <td>0.2     </td> <td>0.166667</td> <td>-0.0333333</td>\n",
       "        </tr>\n",
       "        <tr>\n",
       "            <td>Orange    </td> <td>0.2     </td> <td>0.116667</td> <td>-0.0833333</td>\n",
       "        </tr>\n",
       "        <tr>\n",
       "            <td>Raspberry </td> <td>0.2     </td> <td>0.283333</td> <td>0.0833333 </td>\n",
       "        </tr>\n",
       "        <tr>\n",
       "            <td>Pineapple </td> <td>0.2     </td> <td>0.183333</td> <td>-0.0166667</td>\n",
       "        </tr>\n",
       "    </tbody>\n",
       "</table>"
      ],
      "text/plain": [
       "Flavor     | Expected | Observed | Difference\n",
       "Strawberry | 0.2      | 0.25     | 0.05\n",
       "Lemon      | 0.2      | 0.166667 | -0.0333333\n",
       "Orange     | 0.2      | 0.116667 | -0.0833333\n",
       "Raspberry  | 0.2      | 0.283333 | 0.0833333\n",
       "Pineapple  | 0.2      | 0.183333 | -0.0166667"
      ]
     },
     "execution_count": 25,
     "metadata": {},
     "output_type": "execute_result"
    }
   ],
   "source": [
    "# Earlier, the difference between observed purple flowers\n",
    "# and the expected values (75%) was our statistic.\n",
    "#\n",
    "# In this case, we need to understand how each of the 5 categories\n",
    "# differs from its expected value according to the model.\n",
    "\n",
    "diffs = bears.column('Observed') - bears.column('Expected')\n",
    "bears_with_difference = bears.with_column('Difference', diffs)\n",
    "bears_with_difference"
   ]
  },
  {
   "cell_type": "code",
   "execution_count": 26,
   "metadata": {},
   "outputs": [
    {
     "data": {
      "text/plain": [
       "-8.326672684688674e-17"
      ]
     },
     "execution_count": 26,
     "metadata": {},
     "output_type": "execute_result"
    }
   ],
   "source": [
    "np.sum(bears_with_difference.column('Difference'))"
   ]
  },
  {
   "cell_type": "markdown",
   "metadata": {},
   "source": [
    "This is zero, for all intents and purposes. "
   ]
  },
  {
   "cell_type": "code",
   "execution_count": 27,
   "metadata": {},
   "outputs": [
    {
     "data": {
      "text/plain": [
       "0.13333333333333336"
      ]
     },
     "execution_count": 27,
     "metadata": {},
     "output_type": "execute_result"
    }
   ],
   "source": [
    "np.sum(abs(bears_with_difference.column('Difference')))/2"
   ]
  },
  {
   "cell_type": "markdown",
   "metadata": {},
   "source": [
    "Why do we divide by 2?"
   ]
  },
  {
   "cell_type": "code",
   "execution_count": 28,
   "metadata": {},
   "outputs": [
    {
     "data": {
      "text/html": [
       "<table border=\"1\" class=\"dataframe\">\n",
       "    <thead>\n",
       "        <tr>\n",
       "            <th>Example</th> <th>Expected</th> <th>Observed</th>\n",
       "        </tr>\n",
       "    </thead>\n",
       "    <tbody>\n",
       "        <tr>\n",
       "            <td>Category 1</td> <td>0.333333</td> <td>0.333333</td>\n",
       "        </tr>\n",
       "        <tr>\n",
       "            <td>Category 2</td> <td>0.333333</td> <td>0.333333</td>\n",
       "        </tr>\n",
       "        <tr>\n",
       "            <td>Category 3</td> <td>0.333333</td> <td>0.333333</td>\n",
       "        </tr>\n",
       "    </tbody>\n",
       "</table>"
      ],
      "text/plain": [
       "Example    | Expected | Observed\n",
       "Category 1 | 0.333333 | 0.333333\n",
       "Category 2 | 0.333333 | 0.333333\n",
       "Category 3 | 0.333333 | 0.333333"
      ]
     },
     "execution_count": 28,
     "metadata": {},
     "output_type": "execute_result"
    }
   ],
   "source": [
    "example1 = Table().with_columns(\n",
    "    'Example', make_array('Category 1', 'Category 2', 'Category 3'),\n",
    "    'Expected', make_array(1/3, 1/3, 1/3),\n",
    "    'Observed', make_array(1/3, 1/3, 1/3)\n",
    ")\n",
    "example1"
   ]
  },
  {
   "cell_type": "code",
   "execution_count": 29,
   "metadata": {},
   "outputs": [
    {
     "data": {
      "text/plain": [
       "0.0"
      ]
     },
     "execution_count": 29,
     "metadata": {},
     "output_type": "execute_result"
    }
   ],
   "source": [
    "sum(abs(example1.column('Observed') -  example1.column('Expected')))"
   ]
  },
  {
   "cell_type": "code",
   "execution_count": 30,
   "metadata": {},
   "outputs": [
    {
     "data": {
      "text/html": [
       "<table border=\"1\" class=\"dataframe\">\n",
       "    <thead>\n",
       "        <tr>\n",
       "            <th>Example</th> <th>Expected</th> <th>Observed</th>\n",
       "        </tr>\n",
       "    </thead>\n",
       "    <tbody>\n",
       "        <tr>\n",
       "            <td>Category 1</td> <td>0       </td> <td>1       </td>\n",
       "        </tr>\n",
       "        <tr>\n",
       "            <td>Category 2</td> <td>1       </td> <td>0       </td>\n",
       "        </tr>\n",
       "        <tr>\n",
       "            <td>Category 3</td> <td>0       </td> <td>0       </td>\n",
       "        </tr>\n",
       "    </tbody>\n",
       "</table>"
      ],
      "text/plain": [
       "Example    | Expected | Observed\n",
       "Category 1 | 0        | 1\n",
       "Category 2 | 1        | 0\n",
       "Category 3 | 0        | 0"
      ]
     },
     "execution_count": 30,
     "metadata": {},
     "output_type": "execute_result"
    }
   ],
   "source": [
    "example2 = Table().with_columns(\n",
    "    'Example', make_array('Category 1', 'Category 2', 'Category 3'),\n",
    "    'Expected', make_array(0, 1, 0),\n",
    "    'Observed', make_array(1, 0, 0)\n",
    ")\n",
    "example2"
   ]
  },
  {
   "cell_type": "code",
   "execution_count": 31,
   "metadata": {},
   "outputs": [
    {
     "data": {
      "text/plain": [
       "2"
      ]
     },
     "execution_count": 31,
     "metadata": {},
     "output_type": "execute_result"
    }
   ],
   "source": [
    "sum(abs(example2.column('Observed') -  example2.column('Expected')))"
   ]
  },
  {
   "cell_type": "code",
   "execution_count": 32,
   "metadata": {},
   "outputs": [
    {
     "data": {
      "text/html": [
       "<table border=\"1\" class=\"dataframe\">\n",
       "    <thead>\n",
       "        <tr>\n",
       "            <th>Flavor</th> <th>Expected</th> <th>Observed</th> <th>Difference</th>\n",
       "        </tr>\n",
       "    </thead>\n",
       "    <tbody>\n",
       "        <tr>\n",
       "            <td>Strawberry</td> <td>0.2     </td> <td>0.25    </td> <td>0.05      </td>\n",
       "        </tr>\n",
       "        <tr>\n",
       "            <td>Lemon     </td> <td>0.2     </td> <td>0.166667</td> <td>-0.0333333</td>\n",
       "        </tr>\n",
       "        <tr>\n",
       "            <td>Orange    </td> <td>0.2     </td> <td>0.116667</td> <td>-0.0833333</td>\n",
       "        </tr>\n",
       "        <tr>\n",
       "            <td>Raspberry </td> <td>0.2     </td> <td>0.283333</td> <td>0.0833333 </td>\n",
       "        </tr>\n",
       "        <tr>\n",
       "            <td>Pineapple </td> <td>0.2     </td> <td>0.183333</td> <td>-0.0166667</td>\n",
       "        </tr>\n",
       "    </tbody>\n",
       "</table>"
      ],
      "text/plain": [
       "Flavor     | Expected | Observed | Difference\n",
       "Strawberry | 0.2      | 0.25     | 0.05\n",
       "Lemon      | 0.2      | 0.166667 | -0.0333333\n",
       "Orange     | 0.2      | 0.116667 | -0.0833333\n",
       "Raspberry  | 0.2      | 0.283333 | 0.0833333\n",
       "Pineapple  | 0.2      | 0.183333 | -0.0166667"
      ]
     },
     "execution_count": 32,
     "metadata": {},
     "output_type": "execute_result"
    }
   ],
   "source": [
    "bears_with_difference"
   ]
  },
  {
   "cell_type": "code",
   "execution_count": 33,
   "metadata": {},
   "outputs": [
    {
     "data": {
      "text/plain": [
       "0.2666666666666667"
      ]
     },
     "execution_count": 33,
     "metadata": {},
     "output_type": "execute_result"
    }
   ],
   "source": [
    "np.sum(abs(bears_with_difference.column(\"Difference\")))"
   ]
  },
  {
   "cell_type": "code",
   "execution_count": 34,
   "metadata": {},
   "outputs": [
    {
     "data": {
      "text/plain": [
       "0.1333333"
      ]
     },
     "execution_count": 34,
     "metadata": {},
     "output_type": "execute_result"
    }
   ],
   "source": [
    "0.05 + 0.0833333 #sum of positive entries"
   ]
  },
  {
   "cell_type": "code",
   "execution_count": 35,
   "metadata": {},
   "outputs": [
    {
     "data": {
      "text/plain": [
       "-0.13333330000000002"
      ]
     },
     "execution_count": 35,
     "metadata": {},
     "output_type": "execute_result"
    }
   ],
   "source": [
    "-0.0333333 - 0.0833333 - 0.0166667 # sum of negative entries"
   ]
  },
  {
   "cell_type": "code",
   "execution_count": 36,
   "metadata": {},
   "outputs": [
    {
     "data": {
      "text/plain": [
       "0.13333333333333336"
      ]
     },
     "execution_count": 36,
     "metadata": {},
     "output_type": "execute_result"
    }
   ],
   "source": [
    "np.sum(abs(bears_with_difference.column('Difference')))/2"
   ]
  },
  {
   "cell_type": "markdown",
   "metadata": {},
   "source": [
    "## Total Variation Distance"
   ]
  },
  {
   "cell_type": "code",
   "execution_count": 37,
   "metadata": {},
   "outputs": [],
   "source": [
    "def tvd(dist1, dist2):\n",
    "    return sum(abs(dist1 - dist2))/2"
   ]
  },
  {
   "cell_type": "code",
   "execution_count": 38,
   "metadata": {
    "scrolled": true
   },
   "outputs": [
    {
     "data": {
      "text/plain": [
       "0.13333333333333336"
      ]
     },
     "execution_count": 38,
     "metadata": {},
     "output_type": "execute_result"
    }
   ],
   "source": [
    "# The TVD of our observed data from their expected values\n",
    "# assuming the model is true\n",
    "observed_stat = tvd(bears.column('Observed'), bears.column('Expected'))\n",
    "observed_stat"
   ]
  },
  {
   "cell_type": "markdown",
   "metadata": {},
   "source": [
    "Same value we got previously. "
   ]
  },
  {
   "cell_type": "markdown",
   "metadata": {},
   "source": [
    "<h3>Let's do the same comparison with the simulated distribution:</h3>"
   ]
  },
  {
   "cell_type": "code",
   "execution_count": 39,
   "metadata": {},
   "outputs": [],
   "source": [
    "model = make_array(0.2, 0.2, 0.2, 0.2, 0.2)"
   ]
  },
  {
   "cell_type": "code",
   "execution_count": 40,
   "metadata": {},
   "outputs": [
    {
     "data": {
      "text/plain": [
       "array([0.08333333, 0.13333333, 0.28333333, 0.23333333, 0.26666667])"
      ]
     },
     "execution_count": 40,
     "metadata": {},
     "output_type": "execute_result"
    }
   ],
   "source": [
    "sample_proportions(60, model)"
   ]
  },
  {
   "cell_type": "code",
   "execution_count": 41,
   "metadata": {},
   "outputs": [
    {
     "data": {
      "text/plain": [
       "0.05"
      ]
     },
     "execution_count": 41,
     "metadata": {},
     "output_type": "execute_result"
    }
   ],
   "source": [
    "# The TVD of a model simluation from its expected values\n",
    "tvd(sample_proportions(60, model), bears.column('Expected'))"
   ]
  },
  {
   "cell_type": "code",
   "execution_count": 42,
   "metadata": {},
   "outputs": [],
   "source": [
    "def simulated_tvd():\n",
    "    return tvd(sample_proportions(60, model), model)"
   ]
  },
  {
   "cell_type": "code",
   "execution_count": 43,
   "metadata": {},
   "outputs": [
    {
     "data": {
      "text/plain": [
       "array([0.08333333, 0.13333333, 0.13333333, ..., 0.15      , 0.2       ,\n",
       "       0.13333333])"
      ]
     },
     "execution_count": 43,
     "metadata": {},
     "output_type": "execute_result"
    }
   ],
   "source": [
    "tvds = make_array()\n",
    "\n",
    "num_simulations = 10000\n",
    "for i in np.arange(num_simulations):\n",
    "    new_tvd = simulated_tvd()\n",
    "    tvds = np.append(tvds, new_tvd)\n",
    "tvds"
   ]
  },
  {
   "cell_type": "code",
   "execution_count": 44,
   "metadata": {},
   "outputs": [
    {
     "name": "stdout",
     "output_type": "stream",
     "text": [
      "Observed TVD: 0.13333333333333336\n"
     ]
    },
    {
     "data": {
      "image/png": "[encoded data removed]",
      "text/plain": [
       "<Figure size 432x288 with 1 Axes>"
      ]
     },
     "metadata": {},
     "output_type": "display_data"
    }
   ],
   "source": [
    "title = 'Simulated TVDs (if model is true)'\n",
    "\n",
    "Table().with_column(title, tvds).hist()\n",
    "print('Observed TVD: ' + str(observed_stat))"
   ]
  },
  {
   "cell_type": "code",
   "execution_count": null,
   "metadata": {},
   "outputs": [],
   "source": []
  }
 ],
 "metadata": {
  "anaconda-cloud": {},
  "kernelspec": {
   "display_name": "Python 3 (ipykernel)",
   "language": "python",
   "name": "python3"
  },
  "language_info": {
   "codemirror_mode": {
    "name": "ipython",
    "version": 3
   },
   "file_extension": ".py",
   "mimetype": "text/x-python",
   "name": "python",
   "nbconvert_exporter": "python",
   "pygments_lexer": "ipython3",
   "version": "3.8.10"
  }
 },
 "nbformat": 4,
 "nbformat_minor": 1
}
