{
 "cells": [
  {
   "cell_type": "code",
   "execution_count": 1,
   "metadata": {
    "deletable": false,
    "editable": false
   },
   "outputs": [],
   "source": [
    "# Initialize Otter\n",
    "import otter\n",
    "grader = otter.Notebook(\"hw09.ipynb\")"
   ]
  },
  {
   "cell_type": "markdown",
   "metadata": {},
   "source": [
    "# Homework 9: Bootstrap, Resampling, CLT"
   ]
  },
  {
   "cell_type": "markdown",
   "metadata": {},
   "source": [
    "**Author**: Yanay Rosen\n",
    "\n",
    "**Helpful Resource:**\n",
    "- [Python Reference](http://data8.org/su21/python-reference.html): Cheat sheet of helpful array & table methods used in Data 8!\n",
    "\n",
    "**Reading**: \n",
    "* [Estimation](https://inferentialthinking.com/chapters/13/Estimation.html)\n",
    "* [Why the mean matters](https://inferentialthinking.com/chapters/14/Why_the_Mean_Matters.html)"
   ]
  },
  {
   "cell_type": "markdown",
   "metadata": {},
   "source": [
    "Please complete this notebook by filling in the cells provided. Before you begin, execute the following cell to load the necessary libraries. Each time you start your server, you will need to execute this cell again to load the tests.\n",
    "\n",
    "For all problems that you must write explanations and sentences for, you **must** provide your answer in the designated space. **Moreover, throughout this homework and all future ones, please be sure to not re-assign variables throughout the notebook!** For example, if you use `max_temperature` in your answer to one question, do not reassign it later on. Otherwise, you will fail tests that you thought you were passing previously!\n",
    "\n",
    "**Deadline:**\n",
    "\n",
    "This assignment is due Wednesday, 7/28 at 11:59 P.M. PDT. Late work will not be accepted as per the [policies](http://data8.org/su21/policies.html) page.\n",
    "\n",
    "**Note: This homework has hidden tests on it. That means even though tests may say 100% passed, doesn't mean your final grade will be 100%. We will be running more tests for correctness once everyone turns in the homework.**\n",
    "\n",
    "Directly sharing answers is not okay, but discussing problems with the course staff or with other students is encouraged. Refer to the policies page to learn more about how to learn cooperatively.\n",
    "\n",
    "You should start early so that you have time to get help if you're stuck. Office hours are held Monday-Friday. The schedule appears on [http://data8.org/su21/office-hours.html](http://data8.org/sp21/office-hours.html)."
   ]
  },
  {
   "cell_type": "code",
   "execution_count": 2,
   "metadata": {
    "scrolled": true
   },
   "outputs": [],
   "source": [
    "# Don't change this cell; just run it. \n",
    "\n",
    "import numpy as np\n",
    "from datascience import *\n",
    "\n",
    "# These lines do some fancy plotting magic.\",\n",
    "import matplotlib\n",
    "%matplotlib inline\n",
    "import matplotlib.pyplot as plt\n",
    "plt.style.use('fivethirtyeight')\n",
    "import warnings\n",
    "warnings.simplefilter('ignore', FutureWarning)"
   ]
  },
  {
   "cell_type": "markdown",
   "metadata": {},
   "source": [
    "## 1. Preliminaries\n",
    "\n",
    "Orville has collected some data about the number of kernels of microwave popcorn that pop when he microwaves a bag for 3 minutes. **`n` is the total number of kernels popped out of 460 kernels.**\n",
    "\n",
    "We normally investigate the random variation among our estimates by simulating a sampling procedure from the population many times and computing estimates from each sample that we generate.  In real life, if Orville had known what the population looked like, he would have known `n` and would not have had any reason to think about random sampling. However, he didn't know what the population looked like, so he couldn't have run the simulations that we normally do. \n",
    "\n",
    "Simulating a sampling procedure many times was a useful exercise in *understanding random variation* for an estimate, but it's not as useful as a tool for practical data analysis.\n",
    "\n",
    "Let's flip that sampling idea on its head to make it practical. **Given *just* a random sample of popcorn kernels, we'll estimate `n`, and then we'll use simulation to find out how accurate our estimate probably is, without ever looking at the whole population.**  This is an example of *statistical inference*.\n",
    "\n",
    "We (popcorn eaters/Orville) want to know the number of popcorn kernels that will pop when we microwave a bag for 3 minutes. That number is `n`.\n",
    "\n",
    "We only see the results from microwaving one bag (assumed to be a random sample with replacement from among all possible bags), so we have to use estimation."
   ]
  },
  {
   "cell_type": "markdown",
   "metadata": {
    "deletable": false,
    "editable": false
   },
   "source": [
    "#### Question 1.1\n",
    "Is `n` a population parameter or a statistic?  If we use our random sample to compute a number that is an estimate of `n`, is that a population parameter or a statistic?\n",
    "\n",
    "Set `n` and `N_estimate` to either the string `\"parameter\"` or `\"statistic\"` to indicate whether each value is a parameter or a statistic. **(3 Points)**\n",
    "\n",
    "<!--\n",
    "BEGIN QUESTION\n",
    "name: q1_1\n",
    "manual: false\n",
    "points:\n",
    " - 0\n",
    " - 0\n",
    " - 3\n",
    "-->"
   ]
  },
  {
   "cell_type": "code",
   "execution_count": 3,
   "metadata": {},
   "outputs": [],
   "source": [
    "n = 'parameter'\n",
    "N_estimate = 'statistic'"
   ]
  },
  {
   "cell_type": "code",
   "execution_count": 4,
   "metadata": {
    "deletable": false,
    "editable": false
   },
   "outputs": [
    {
     "data": {
      "text/html": [
       "<p><strong><pre style='display: inline;'>q1_1</pre></strong> passed!</p>"
      ],
      "text/plain": [
       "q1_1 results: All test cases passed!"
      ]
     },
     "execution_count": 4,
     "metadata": {},
     "output_type": "execute_result"
    }
   ],
   "source": [
    "grader.check(\"q1_1\")"
   ]
  },
  {
   "cell_type": "markdown",
   "metadata": {},
   "source": [
    "To make the situation realistic, we're going to hide the true (expected) number of popped kernels from you.  You'll have access only to random sample `observations`. `observations` has a column called `popped` with value `1` if that kernel popped and `0` if it did not.\n",
    "\n",
    "**Dataset Details:**\n",
    "- Origin: This data is fake. It was randomly generated following the parameters in this report: http://polymerambassadors.org/pdf/microwavepop.pdf so it is reasonably plausible.\n",
    "- Extra Context: None."
   ]
  },
  {
   "cell_type": "code",
   "execution_count": 5,
   "metadata": {},
   "outputs": [
    {
     "data": {
      "text/html": [
       "<table border=\"1\" class=\"dataframe\">\n",
       "    <thead>\n",
       "        <tr>\n",
       "            <th>Popped</th>\n",
       "        </tr>\n",
       "    </thead>\n",
       "    <tbody>\n",
       "        <tr>\n",
       "            <td>1     </td>\n",
       "        </tr>\n",
       "        <tr>\n",
       "            <td>0     </td>\n",
       "        </tr>\n",
       "        <tr>\n",
       "            <td>1     </td>\n",
       "        </tr>\n",
       "        <tr>\n",
       "            <td>1     </td>\n",
       "        </tr>\n",
       "        <tr>\n",
       "            <td>1     </td>\n",
       "        </tr>\n",
       "        <tr>\n",
       "            <td>1     </td>\n",
       "        </tr>\n",
       "        <tr>\n",
       "            <td>1     </td>\n",
       "        </tr>\n",
       "        <tr>\n",
       "            <td>1     </td>\n",
       "        </tr>\n",
       "        <tr>\n",
       "            <td>1     </td>\n",
       "        </tr>\n",
       "        <tr>\n",
       "            <td>1     </td>\n",
       "        </tr>\n",
       "    </tbody>\n",
       "</table>\n",
       "<p>... (450 rows omitted)</p>"
      ],
      "text/plain": [
       "Popped\n",
       "1\n",
       "0\n",
       "1\n",
       "1\n",
       "1\n",
       "1\n",
       "1\n",
       "1\n",
       "1\n",
       "1\n",
       "... (450 rows omitted)"
      ]
     },
     "execution_count": 5,
     "metadata": {},
     "output_type": "execute_result"
    }
   ],
   "source": [
    "observations = Table.read_table(\"popcorn.csv\")\n",
    "observations"
   ]
  },
  {
   "cell_type": "markdown",
   "metadata": {
    "deletable": false,
    "editable": false
   },
   "source": [
    "#### Question 1.2\n",
    "Logically, it makes sense to estimate the sum of the population using the sum of our sample. Write a line of code that computes that statistic.  \n",
    "\n",
    "Compute an estimate of `n` called `sum_estimate`. **(3 Points)**\n",
    "\n",
    "<!--\n",
    "BEGIN QUESTION\n",
    "name: q1_2\n",
    "manual: false\n",
    "points:\n",
    " - 0\n",
    " - 3\n",
    "-->"
   ]
  },
  {
   "cell_type": "code",
   "execution_count": 6,
   "metadata": {
    "deletable": false
   },
   "outputs": [
    {
     "data": {
      "text/plain": [
       "429"
      ]
     },
     "execution_count": 6,
     "metadata": {},
     "output_type": "execute_result"
    }
   ],
   "source": [
    "sum_estimate = sum(observations.column(\"Popped\"))\n",
    "sum_estimate"
   ]
  },
  {
   "cell_type": "code",
   "execution_count": 7,
   "metadata": {
    "deletable": false,
    "editable": false
   },
   "outputs": [
    {
     "data": {
      "text/html": [
       "<p><strong><pre style='display: inline;'>q1_2</pre></strong> passed!</p>"
      ],
      "text/plain": [
       "q1_2 results: All test cases passed!"
      ]
     },
     "execution_count": 7,
     "metadata": {},
     "output_type": "execute_result"
    }
   ],
   "source": [
    "grader.check(\"q1_2\")"
   ]
  },
  {
   "cell_type": "markdown",
   "metadata": {
    "deletable": false,
    "editable": false
   },
   "source": [
    "#### Question 1.3\n",
    "It can take a while to manually count out the 460 kernels in a bag, so we also want an estimate that would require us to just count some of the kernels. Write a function called sum115 to estimate `n` based on just the first 115 popcorn kernels.\n",
    "\n",
    "Compute a new estimate of `n` called `sum_115_estimate`. **(4 Points)**\n",
    "\n",
    "<!--\n",
    "BEGIN QUESTION\n",
    "name: q1_3\n",
    "manual: false\n",
    "points:\n",
    " - 0\n",
    " - 0\n",
    " - 4\n",
    "-->"
   ]
  },
  {
   "cell_type": "code",
   "execution_count": 8,
   "metadata": {},
   "outputs": [
    {
     "data": {
      "text/plain": [
       "420"
      ]
     },
     "execution_count": 8,
     "metadata": {},
     "output_type": "execute_result"
    }
   ],
   "source": [
    "def sum115(kernels_arr):\n",
    "    return sum(kernels_arr) * 4\n",
    "\n",
    "sum_115_estimate = sum115(observations.column('Popped').take(np.arange(115)))\n",
    "sum_115_estimate"
   ]
  },
  {
   "cell_type": "code",
   "execution_count": 9,
   "metadata": {
    "deletable": false,
    "editable": false
   },
   "outputs": [
    {
     "data": {
      "text/html": [
       "<p><strong><pre style='display: inline;'>q1_3</pre></strong> passed!</p>"
      ],
      "text/plain": [
       "q1_3 results: All test cases passed!"
      ]
     },
     "execution_count": 9,
     "metadata": {},
     "output_type": "execute_result"
    }
   ],
   "source": [
    "grader.check(\"q1_3\")"
   ]
  },
  {
   "cell_type": "markdown",
   "metadata": {
    "deletable": false,
    "editable": false
   },
   "source": [
    "#### Question 1.4\n",
    "Assign either `1` or `2` to `smaller_variance` if you think:\n",
    "\n",
    "1. sum based estimate \n",
    "2. sum115 based estimate will have smaller variance. \n",
    "\n",
    "**(3 Points)**\n",
    "\n",
    "<!--\n",
    "BEGIN QUESTION\n",
    "name: q1_4\n",
    "manual: false\n",
    "points:\n",
    " - 0\n",
    " - 3\n",
    "-->"
   ]
  },
  {
   "cell_type": "code",
   "execution_count": 10,
   "metadata": {},
   "outputs": [
    {
     "data": {
      "text/plain": [
       "2"
      ]
     },
     "execution_count": 10,
     "metadata": {},
     "output_type": "execute_result"
    }
   ],
   "source": [
    "smaller_variance = 2\n",
    "smaller_variance"
   ]
  },
  {
   "cell_type": "code",
   "execution_count": 11,
   "metadata": {
    "deletable": false,
    "editable": false
   },
   "outputs": [
    {
     "data": {
      "text/html": [
       "<p><strong><pre style='display: inline;'>q1_4</pre></strong> passed!</p>"
      ],
      "text/plain": [
       "q1_4 results: All test cases passed!"
      ]
     },
     "execution_count": 11,
     "metadata": {},
     "output_type": "execute_result"
    }
   ],
   "source": [
    "grader.check(\"q1_4\")"
   ]
  },
  {
   "cell_type": "markdown",
   "metadata": {},
   "source": [
    "## 2. Resampling\n",
    "To do this, we'll use resampling.  That is, we won't draw new samples from our population.  Rather we sample from our current sample, or \"resample.\"\n",
    "\n",
    "Why does that make sense?\n",
    "\n",
    "When we try to find the value of a population parameter, we ideally would like to use the whole population. However, we often only have access to one sample and we must use that to estimate the parameter instead.\n",
    "\n",
    "Here, we would like to use the population of kernels to draw more samples and run a simulation about estimates of `n`.  But we still only have our sample.  So, we **use our sample in place of the population** to run the simulation. We resample from our original sample with replacement as many times as there are elements in the original sample. This resampling technique is called *bootstrapping*. \n",
    "\n",
    "Note that in order for bootstrapping to work well, you must start with a large, random sample. Then the Law of Large Numbers says that with high probability, your sample is representative of the population."
   ]
  },
  {
   "cell_type": "markdown",
   "metadata": {
    "deletable": false,
    "editable": false
   },
   "source": [
    "#### Question 2.1\n",
    "Write a function called `simulate_resample`. The function should take one argument `tbl`, which is a table like `observations`. The function should generate and return a resample from the observed kernels in `tbl`. **(3 Points)**\n",
    "\n",
    "<!--\n",
    "BEGIN QUESTION\n",
    "name: q2_1\n",
    "manual: false\n",
    "points:\n",
    " - 0\n",
    " - 0\n",
    " - 3\n",
    "-->"
   ]
  },
  {
   "cell_type": "code",
   "execution_count": 12,
   "metadata": {
    "deletable": false
   },
   "outputs": [
    {
     "data": {
      "text/html": [
       "<table border=\"1\" class=\"dataframe\">\n",
       "    <thead>\n",
       "        <tr>\n",
       "            <th>Popped</th>\n",
       "        </tr>\n",
       "    </thead>\n",
       "    <tbody>\n",
       "        <tr>\n",
       "            <td>1     </td>\n",
       "        </tr>\n",
       "        <tr>\n",
       "            <td>1     </td>\n",
       "        </tr>\n",
       "        <tr>\n",
       "            <td>1     </td>\n",
       "        </tr>\n",
       "        <tr>\n",
       "            <td>1     </td>\n",
       "        </tr>\n",
       "        <tr>\n",
       "            <td>1     </td>\n",
       "        </tr>\n",
       "        <tr>\n",
       "            <td>1     </td>\n",
       "        </tr>\n",
       "        <tr>\n",
       "            <td>1     </td>\n",
       "        </tr>\n",
       "        <tr>\n",
       "            <td>1     </td>\n",
       "        </tr>\n",
       "        <tr>\n",
       "            <td>1     </td>\n",
       "        </tr>\n",
       "        <tr>\n",
       "            <td>1     </td>\n",
       "        </tr>\n",
       "    </tbody>\n",
       "</table>\n",
       "<p>... (450 rows omitted)</p>"
      ],
      "text/plain": [
       "Popped\n",
       "1\n",
       "1\n",
       "1\n",
       "1\n",
       "1\n",
       "1\n",
       "1\n",
       "1\n",
       "1\n",
       "1\n",
       "... (450 rows omitted)"
      ]
     },
     "execution_count": 12,
     "metadata": {},
     "output_type": "execute_result"
    }
   ],
   "source": [
    "def simulate_resample(tbl):\n",
    "    return tbl.sample()\n",
    "\n",
    "simulate_resample(observations) # Don't delete this line"
   ]
  },
  {
   "cell_type": "code",
   "execution_count": 13,
   "metadata": {
    "deletable": false,
    "editable": false
   },
   "outputs": [
    {
     "data": {
      "text/html": [
       "<p><strong><pre style='display: inline;'>q2_1</pre></strong> passed!</p>"
      ],
      "text/plain": [
       "q2_1 results: All test cases passed!"
      ]
     },
     "execution_count": 13,
     "metadata": {},
     "output_type": "execute_result"
    }
   ],
   "source": [
    "grader.check(\"q2_1\")"
   ]
  },
  {
   "cell_type": "markdown",
   "metadata": {},
   "source": [
    "We'll use many resamples at once to see what estimates typically look like.  However, we don't often pay attention to single resamples, so it's easy to misunderstand them.  Let's first answer some questions about our resample."
   ]
  },
  {
   "cell_type": "markdown",
   "metadata": {
    "deletable": false,
    "editable": false
   },
   "source": [
    "#### Question 2.2\n",
    "Which of the following statements are true?\n",
    "\n",
    "\n",
    "1. The resample can contain the same popcorn kernel multiple times.\n",
    "2. The resample can contain popcorn kernels that were not in the original sample.\n",
    "3. The resample contains either zero or one copy of each popcorn kernel.\n",
    "4. The resample has exactly the same sample size as the original sample.\n",
    "5. The histogram of the resample can look somewhat different from the histogram of the original sample.\n",
    "\n",
    "Assign `true_statements` to an **array** of the number(s) corresponding to correct statements. **(5 Points)**\n",
    "\n",
    "*Note:* The \"original sample\" refers to `observations`, and the \"resample\" refers to the output of one call of `simulate_resample()`. \n",
    "\n",
    "<!--\n",
    "BEGIN QUESTION\n",
    "name: q2_2\n",
    "manual: false\n",
    "points:\n",
    " - 0\n",
    " - 5\n",
    "-->"
   ]
  },
  {
   "cell_type": "code",
   "execution_count": 14,
   "metadata": {
    "deletable": false
   },
   "outputs": [],
   "source": [
    "true_statements = make_array(1, 4, 5)"
   ]
  },
  {
   "cell_type": "code",
   "execution_count": 15,
   "metadata": {
    "deletable": false,
    "editable": false
   },
   "outputs": [
    {
     "data": {
      "text/html": [
       "<p><strong><pre style='display: inline;'>q2_2</pre></strong> passed!</p>"
      ],
      "text/plain": [
       "q2_2 results: All test cases passed!"
      ]
     },
     "execution_count": 15,
     "metadata": {},
     "output_type": "execute_result"
    }
   ],
   "source": [
    "grader.check(\"q2_2\")"
   ]
  },
  {
   "cell_type": "markdown",
   "metadata": {
    "deletable": false,
    "editable": false
   },
   "source": [
    "Now let's write a function to do many resamples at once.\n",
    "\n",
    "#### Question 2.3\n",
    "Write a function called `sample_estimates`.  It should take 3 arguments:\n",
    "1. `popcorn_tbl`: A table from which the data should be sampled.  The table will look like `observations`. \n",
    "2. `statistic`: A *function* that takes in an array of kernels as its argument and computes a statistic from the array (i.e. returns a calculated number). \n",
    "3. `repetitions`: The number of simulations to perform.\n",
    "\n",
    "*Hint: You should use the function `simulate_resample` which you defined in Question 2.1*\n",
    "\n",
    "The function should simulate `repetitions` number of samples **with replacement** from the given table. For each of those samples, it should compute the statistic on that sample. Then it should **return an array** containing each of those statistics.  The code below provides an example use of your function and describes how you can verify that you've written it correctly. **(6 Points)**\n",
    "\n",
    "<!--\n",
    "BEGIN QUESTION\n",
    "name: q2_3\n",
    "manual: false\n",
    "points:\n",
    " - 0\n",
    " - 0\n",
    " - 0\n",
    " - 6\n",
    "-->"
   ]
  },
  {
   "cell_type": "code",
   "execution_count": 16,
   "metadata": {
    "for_assignment_type": "solution"
   },
   "outputs": [
    {
     "data": {
      "image/png": "[encoded data removed]",
      "text/plain": [
       "<Figure size 432x288 with 1 Axes>"
      ]
     },
     "metadata": {},
     "output_type": "display_data"
    }
   ],
   "source": [
    "def sample_estimates(popcorn_tbl, statistic, repetitions):\n",
    "    result_stats = make_array()\n",
    "    for i in np.arange(repetitions):\n",
    "        one_stat = statistic(simulate_resample(popcorn_tbl).column('Popped'))\n",
    "        result_stats = np.append(result_stats, one_stat)\n",
    "    return result_stats\n",
    "\n",
    "# DON'T CHANGE THE CODE BELOW THIS COMMENT! (If you do, you will fail the hidden test.)\n",
    "# This is just an example to test your function.\n",
    "# This should generate an empirical histogram of sum-based estimates\n",
    "# of n from samples of size 230 if n is 159.  This should be very roughly bell shaped and centered at about 164\n",
    "# answer, make sure that's what you see!\n",
    "num_repetitions = 500\n",
    "one_sample = Table.read_table(\"one_sample.csv\")\n",
    "example_estimates = sample_estimates(\n",
    "    one_sample,\n",
    "    sum,\n",
    "    num_repetitions)\n",
    "Table().with_column(\"sum-based estimate\", example_estimates).hist()"
   ]
  },
  {
   "cell_type": "code",
   "execution_count": 17,
   "metadata": {
    "deletable": false,
    "editable": false
   },
   "outputs": [
    {
     "data": {
      "text/html": [
       "<p><strong><pre style='display: inline;'>q2_3</pre></strong> passed!</p>"
      ],
      "text/plain": [
       "q2_3 results: All test cases passed!"
      ]
     },
     "execution_count": 17,
     "metadata": {},
     "output_type": "execute_result"
    }
   ],
   "source": [
    "grader.check(\"q2_3\")"
   ]
  },
  {
   "cell_type": "markdown",
   "metadata": {},
   "source": [
    "Now we can go back to the sample we actually observed (the table `observations`) and estimate how much our estimates of `n` would have varied from sample to sample."
   ]
  },
  {
   "cell_type": "markdown",
   "metadata": {
    "deletable": false,
    "editable": false
   },
   "source": [
    "#### Question 2.4\n",
    "Using the bootstrap and the sample `observations`, simulate the approximate distribution of *sum-based estimates* of `n`.  Use 3000 replications and save the estimates in an array called `bootstrap_sum_based_estimates`. **(3 Points)**\n",
    "\n",
    "We have provided code that plots a histogram, allowing you to visualize the simulated estimates.\n",
    "\n",
    "*Note: we want sum-based estimates, not sum115-based estimates*\n",
    "\n",
    "<!--\n",
    "BEGIN QUESTION\n",
    "name: q2_4\n",
    "manual: false\n",
    "points:\n",
    " - 0\n",
    " - 3\n",
    "-->"
   ]
  },
  {
   "cell_type": "code",
   "execution_count": 18,
   "metadata": {
    "deletable": false
   },
   "outputs": [
    {
     "data": {
      "image/png": "[encoded data removed]",
      "text/plain": [
       "<Figure size 432x288 with 1 Axes>"
      ]
     },
     "metadata": {},
     "output_type": "display_data"
    }
   ],
   "source": [
    "bootstrap_sum_based_estimates = sample_estimates(observations, sum, 3000)\n",
    "\n",
    "# Don't change the code below! This plots bootstrap_mean_based_estimates.\n",
    "Table().with_column(\"sum-based estimate\", bootstrap_sum_based_estimates).hist(bins=10) "
   ]
  },
  {
   "cell_type": "code",
   "execution_count": 19,
   "metadata": {
    "deletable": false,
    "editable": false
   },
   "outputs": [
    {
     "data": {
      "text/html": [
       "<p><strong><pre style='display: inline;'>q2_4</pre></strong> passed!</p>"
      ],
      "text/plain": [
       "q2_4 results: All test cases passed!"
      ]
     },
     "execution_count": 19,
     "metadata": {},
     "output_type": "execute_result"
    }
   ],
   "source": [
    "grader.check(\"q2_4\")"
   ]
  },
  {
   "cell_type": "markdown",
   "metadata": {
    "deletable": false,
    "editable": false
   },
   "source": [
    "#### Question 2.5\n",
    "Using the bootstrap and the sample `observations`, simulate the approximate distribution of *sum115 estimates* of `n`.  Use 3000 replications and save the estimates in an array called `bootstrap_sum115_estimates`. **(3 Points)**\n",
    "\n",
    "We have provided code that plots a histogram, allowing you to visualize the simulated estimates.\n",
    "\n",
    "*Hint:* Similar to the question above, you should pass in a function as your second argument. In this case, you want **sum115** estimates.\n",
    "\n",
    "<!--\n",
    "BEGIN QUESTION\n",
    "name: q2_5\n",
    "manual: false\n",
    "points:\n",
    " - 0\n",
    " - 3\n",
    "-->"
   ]
  },
  {
   "cell_type": "code",
   "execution_count": 20,
   "metadata": {
    "scrolled": false
   },
   "outputs": [
    {
     "data": {
      "image/png": "[encoded data removed]",
      "text/plain": [
       "<Figure size 432x288 with 1 Axes>"
      ]
     },
     "metadata": {},
     "output_type": "display_data"
    }
   ],
   "source": [
    "bootstrap_sum115_estimates = sample_estimates(observations.take(np.arange(115)), sum115, 3000)\n",
    "\n",
    "# Don't change the code below! This plots bootstrap_sum115_estimates.\n",
    "Table().with_column(\"sum115-estimates of the number of popped kernels\", bootstrap_sum115_estimates).hist(bins=10) "
   ]
  },
  {
   "cell_type": "code",
   "execution_count": 21,
   "metadata": {
    "deletable": false,
    "editable": false
   },
   "outputs": [
    {
     "data": {
      "text/html": [
       "<p><strong><pre style='display: inline;'>q2_5</pre></strong> passed!</p>"
      ],
      "text/plain": [
       "q2_5 results: All test cases passed!"
      ]
     },
     "execution_count": 21,
     "metadata": {},
     "output_type": "execute_result"
    }
   ],
   "source": [
    "grader.check(\"q2_5\")"
   ]
  },
  {
   "cell_type": "markdown",
   "metadata": {
    "deletable": false,
    "editable": false
   },
   "source": [
    "<!-- BEGIN QUESTION -->\n",
    "\n",
    "#### Question 2.6\n",
    "`n` was actually 432! Recall that **`n` is the population sum**. Compare the histograms of estimates you generated in 2.4 and 2.5 and answer the following questions:\n",
    "\n",
    "1. How does the distribution of values for the sum-based estimates differ from the sum115 based estimates? Do both distributions contain the true sum value?\n",
    "2. Which estimator do you think will work well for other distributions?\n",
    "\n",
    "**(5 Points)**\n",
    "\n",
    "<!--\n",
    "BEGIN QUESTION\n",
    "name: q2_6\n",
    "manual: true\n",
    "-->"
   ]
  },
  {
   "cell_type": "markdown",
   "metadata": {},
   "source": [
    "_The distribution of values for sum-based estimates is bell-shaped and more narrowed whereas the distribution for sum115 based estimates is wider and somewhat bell-shaped compared to sum-based estimate. Both distributions does contain the true parameter. Because sum-based estimates is bell-shaped it is more likely to work well for other distrubutions because by definition of normal distribution, the bell-shaped curve captures most of the important data where mean and medium are the same. We also see this in the histogram from 2.4 that the mean and median are aproximately the same and that aproximately was the true parameter._"
   ]
  },
  {
   "cell_type": "markdown",
   "metadata": {},
   "source": [
    "<!-- END QUESTION -->\n",
    "\n",
    "\n",
    "\n",
    "## 3. Computing Intervals"
   ]
  },
  {
   "cell_type": "markdown",
   "metadata": {
    "deletable": false,
    "editable": false
   },
   "source": [
    "#### Question 3.1\n",
    "Compute an interval that covers the middle 95% of the **sum-based bootstrap estimates**.  Assign your values to `left_end_1` and `right_end_1`. \n",
    "\n",
    "*Hint:* Use the `percentile` function! Read up on its documentation [here](http://data8.org/su21/python-reference.html).\n",
    "\n",
    "Verify that your interval looks like it covers 95% of the area in the histogram. The red dot on the histogram is the value of the parameter (432). **(4 Points)**\n",
    "\n",
    "<!--\n",
    "BEGIN QUESTION\n",
    "name: q3_1\n",
    "manual: false\n",
    "points:\n",
    " - 0\n",
    " - 2\n",
    " - 2\n",
    "-->"
   ]
  },
  {
   "cell_type": "code",
   "execution_count": 22,
   "metadata": {
    "deletable": false
   },
   "outputs": [
    {
     "name": "stdout",
     "output_type": "stream",
     "text": [
      "Middle 95% of bootstrap estimates: [418.000000, 439.000000]\n"
     ]
    },
    {
     "data": {
      "image/png": "[encoded data removed]",
      "text/plain": [
       "<Figure size 432x288 with 1 Axes>"
      ]
     },
     "metadata": {},
     "output_type": "display_data"
    }
   ],
   "source": [
    "left_end_1 = percentile(2.5, bootstrap_sum_based_estimates)\n",
    "right_end_1 = percentile(97.5, bootstrap_sum_based_estimates)\n",
    "print(\"Middle 95% of bootstrap estimates: [{:f}, {:f}]\".format(left_end_1, right_end_1))\n",
    "\n",
    "# Don't change the code below! It draws your interval and N on the histogram of sum-based estimates.\n",
    "import matplotlib.pyplot as plt\n",
    "Table().with_column(\"sum-based estimate\", bootstrap_sum_based_estimates).hist(bins=10) \n",
    "plt.plot(make_array(left_end_1, right_end_1), make_array(0, 0), color='yellow', lw=3, zorder=1)\n",
    "plt.scatter(432, -0.001, color='red', s=30, zorder=2);"
   ]
  },
  {
   "cell_type": "code",
   "execution_count": 23,
   "metadata": {
    "deletable": false,
    "editable": false
   },
   "outputs": [
    {
     "data": {
      "text/html": [
       "<p><strong><pre style='display: inline;'>q3_1</pre></strong> passed!</p>"
      ],
      "text/plain": [
       "q3_1 results: All test cases passed!"
      ]
     },
     "execution_count": 23,
     "metadata": {},
     "output_type": "execute_result"
    }
   ],
   "source": [
    "grader.check(\"q3_1\")"
   ]
  },
  {
   "cell_type": "markdown",
   "metadata": {
    "deletable": false,
    "editable": false
   },
   "source": [
    "#### Question 3.2\n",
    "Write code that simulates the sampling and bootstrapping process again, as follows **(6 Points)**:\n",
    "\n",
    "1. Generate a new set of random observations that Orville might have seen by sampling from the `population` table we have created for you below. Your sample should have the same number of rows as the original `observations` sample.\n",
    "2. Compute an estimate of `n` from these new observations, using `sum115_based_estimator`.\n",
    "3. Using only the new observations, compute 9,000 bootstrap estimates of `n`. You can use a function you previously defined to do this.\n",
    "4. Plot these bootstrap estimates (this line of code is given to you) and compute an interval covering the middle 95%.\n",
    "\n",
    "*Note:* Traditionally, when we bootstrap using a sample from the population, that sample is usually a simple random sample (i.e., sampled uniformly at random from the population without replacement). However, if the population size is big enough, the difference between sampling with replacement and without replacement is negligible. Think about why that's the case! This is why when we define `new_observations`, we sample with replacement.\n",
    "\n",
    "<!--\n",
    "BEGIN QUESTION\n",
    "name: q3_2\n",
    "manual: false\n",
    "points:\n",
    " - 3\n",
    " - 3\n",
    "-->"
   ]
  },
  {
   "cell_type": "code",
   "execution_count": 24,
   "metadata": {},
   "outputs": [
    {
     "name": "stdout",
     "output_type": "stream",
     "text": [
      "New sum115-based estimate: 440.000000\n",
      "Middle 95% of bootstrap estimates: [420.000000, 456.000000]\n"
     ]
    },
    {
     "data": {
      "image/png": "[encoded data removed]",
      "text/plain": [
       "<Figure size 432x288 with 1 Axes>"
      ]
     },
     "metadata": {},
     "output_type": "display_data"
    }
   ],
   "source": [
    "# DO NOT CHANGE THESE LINES\n",
    "from scipy.stats import bernoulli\n",
    "population = Table().with_column(\"Popped\", bernoulli.rvs(p=432/460, size=100000))\n",
    "# YOUR CODE BELOW HERE\n",
    "\n",
    "new_observations = population.sample(observations.num_rows)\n",
    "new_sum115_based_estimate = int(sum115(new_observations.take(np.arange(115)).column('Popped')))\n",
    "new_bootstrap_estimates = sample_estimates(new_observations.take(np.arange(115)), sum115, 9000)\n",
    "Table().with_column(\"sum115-based estimate\", new_bootstrap_estimates).hist(bins=10)\n",
    "new_left_end = percentile(2.5, new_bootstrap_estimates)\n",
    "new_right_end = percentile(97.5, new_bootstrap_estimates)\n",
    "\n",
    "# Don't change code below this line!\n",
    "print(\"New sum115-based estimate: {:f}\".format(new_sum115_based_estimate))\n",
    "print(\"Middle 95% of bootstrap estimates: [{:f}, {:f}]\".format(new_left_end, new_right_end))\n",
    "\n",
    "plt.plot(make_array(new_left_end, new_right_end), make_array(0, 0), color='yellow', lw=3, zorder=1)\n",
    "plt.scatter(432, -0.001, color='red', s=30, zorder=2);"
   ]
  },
  {
   "cell_type": "code",
   "execution_count": 25,
   "metadata": {
    "deletable": false,
    "editable": false
   },
   "outputs": [
    {
     "data": {
      "text/html": [
       "<p><strong><pre style='display: inline;'>q3_2</pre></strong> passed!</p>"
      ],
      "text/plain": [
       "q3_2 results: All test cases passed!"
      ]
     },
     "execution_count": 25,
     "metadata": {},
     "output_type": "execute_result"
    }
   ],
   "source": [
    "grader.check(\"q3_2\")"
   ]
  },
  {
   "cell_type": "markdown",
   "metadata": {
    "deletable": false,
    "editable": false
   },
   "source": [
    "<!-- BEGIN QUESTION -->\n",
    "\n",
    "#### Question 3.3\n",
    "Does the interval covering the middle 95% of the new bootstrap estimates include `n`?  If you ran that cell 2000 times and generated 2000 intervals, how many of those intervals would you expect to include `n`? **(5 Points)**\n",
    "\n",
    "<!--\n",
    "BEGIN QUESTION\n",
    "name: q3_3\n",
    "manual: true\n",
    "-->"
   ]
  },
  {
   "cell_type": "markdown",
   "metadata": {},
   "source": [
    "_Yes the interval covering the middle 95% of the new bootstrap estimates includes n as we can see from the histogram above. If we ran that cell 2000 times and generated 2000 intervals, we would expect 95% of 2000 which is 1900 of those intervals to include n._"
   ]
  },
  {
   "cell_type": "markdown",
   "metadata": {},
   "source": [
    "<!-- END QUESTION -->\n",
    "\n",
    "\n",
    "\n",
    "Let's look at what happens when we use a small number of resamples:\n",
    "\n",
    "<img src=\"smallrepsumhist.png\" width=\"525\"/>\n",
    "\n",
    "This histogram and confidence interval was generated using 10 resamples of `new_observations`."
   ]
  },
  {
   "cell_type": "markdown",
   "metadata": {
    "deletable": false,
    "editable": false
   },
   "source": [
    "<!-- BEGIN QUESTION -->\n",
    "\n",
    "#### Question 3.4\n",
    "In the cell below, explain why this histogram and confidence interval look different from the ones you generated previously in Question 3.2 where the number of resamples was 10,000. **(5 Points)**\n",
    "\n",
    "<!--\n",
    "BEGIN QUESTION\n",
    "name: q3_4\n",
    "manual: true\n",
    "-->"
   ]
  },
  {
   "cell_type": "markdown",
   "metadata": {},
   "source": [
    "_By the law of large numbers when the #of resamples approaches infinity the sample mean of the normal distribution (bell-shaped) equals to the population parameter which means that the smaller the # of resample the less likely it is to look like a normal distribution and the less likely it is that the sample mean of the distribution equals the population parameter._"
   ]
  },
  {
   "cell_type": "markdown",
   "metadata": {},
   "source": [
    "<!-- END QUESTION -->\n",
    "\n",
    "\n",
    "\n",
    "## 4. CLT Math"
   ]
  },
  {
   "cell_type": "markdown",
   "metadata": {
    "deletable": false,
    "editable": false
   },
   "source": [
    "#### Question 4.1\n",
    "Does CLT apply to sum-based-bootstrap-estimates? If you think it does, assign `True` to `sum_clt`, else assign `False`. **(3 Points)**\n",
    "\n",
    "<!--\n",
    "BEGIN QUESTION\n",
    "name: q4_1\n",
    "manual: false\n",
    "points:\n",
    " - 0\n",
    " - 3\n",
    "-->"
   ]
  },
  {
   "cell_type": "code",
   "execution_count": 26,
   "metadata": {},
   "outputs": [],
   "source": [
    "sum_clt = True"
   ]
  },
  {
   "cell_type": "code",
   "execution_count": 27,
   "metadata": {
    "deletable": false,
    "editable": false
   },
   "outputs": [
    {
     "data": {
      "text/html": [
       "<p><strong><pre style='display: inline;'>q4_1</pre></strong> passed!</p>"
      ],
      "text/plain": [
       "q4_1 results: All test cases passed!"
      ]
     },
     "execution_count": 27,
     "metadata": {},
     "output_type": "execute_result"
    }
   ],
   "source": [
    "grader.check(\"q4_1\")"
   ]
  },
  {
   "cell_type": "markdown",
   "metadata": {
    "deletable": false,
    "editable": false
   },
   "source": [
    "#### Question 4.2\n",
    "Let's define a new estimator function for the sum. This new estimator will do the following:\n",
    "\n",
    "1. Take the mean of the kernel's popped values (remember these are either 0 or 1).\n",
    "2. Multiply the mean by the sample size (460)\n",
    "\n",
    "Does CLT apply to this new-estimator-based-bootstrap-estimates? If you think it does, assign `True` to `new_clt`, else assign `False`. **(3 Points)**\n",
    "\n",
    "<!--\n",
    "BEGIN QUESTION\n",
    "name: q4_2\n",
    "manual: false\n",
    "points:\n",
    " - 0\n",
    " - 3\n",
    "-->"
   ]
  },
  {
   "cell_type": "code",
   "execution_count": 28,
   "metadata": {},
   "outputs": [],
   "source": [
    "new_clt = True"
   ]
  },
  {
   "cell_type": "code",
   "execution_count": 29,
   "metadata": {
    "deletable": false,
    "editable": false
   },
   "outputs": [
    {
     "data": {
      "text/html": [
       "<p><strong><pre style='display: inline;'>q4_2</pre></strong> passed!</p>"
      ],
      "text/plain": [
       "q4_2 results: All test cases passed!"
      ]
     },
     "execution_count": 29,
     "metadata": {},
     "output_type": "execute_result"
    }
   ],
   "source": [
    "grader.check(\"q4_2\")"
   ]
  },
  {
   "cell_type": "markdown",
   "metadata": {
    "deletable": false,
    "editable": false
   },
   "source": [
    "#### Question 4.3\n",
    "\n",
    "What happens to the width of a histogram when we multiply its values by some number `a`? What does this tell us about the standard deviation of the values after we multiply the values by `a`?\n",
    "\n",
    "Complete the following sentence:\n",
    "\n",
    "\"The standard deviation of the values `blank_1` by a factor of `blank_2`.\"\n",
    "\n",
    "Assign `blank_1` to either `\"increases\"` or `\"decreases\"`, and assign `blank_2` to a string corresponding to the factor they change by. **(3 Points)**\n",
    "\n",
    "<!--\n",
    "BEGIN QUESTION\n",
    "name: q4_3\n",
    "manual: false\n",
    "points:\n",
    " - 0\n",
    " - 2\n",
    " - 1\n",
    "-->"
   ]
  },
  {
   "cell_type": "code",
   "execution_count": 30,
   "metadata": {},
   "outputs": [
    {
     "name": "stdout",
     "output_type": "stream",
     "text": [
      "The standard deviation of the values increases by a factor of sqrt(a).\n"
     ]
    }
   ],
   "source": [
    "blank_1 = 'increases'\n",
    "blank_2 = 'sqrt(a)'\n",
    "\n",
    "# Don't change this line!\n",
    "print(f\"The standard deviation of the values {blank_1} by a factor of {blank_2}.\")"
   ]
  },
  {
   "cell_type": "code",
   "execution_count": 31,
   "metadata": {
    "deletable": false,
    "editable": false
   },
   "outputs": [
    {
     "data": {
      "text/html": [
       "<p><strong><pre style='display: inline;'>q4_3</pre></strong> passed!</p>"
      ],
      "text/plain": [
       "q4_3 results: All test cases passed!"
      ]
     },
     "execution_count": 31,
     "metadata": {},
     "output_type": "execute_result"
    }
   ],
   "source": [
    "grader.check(\"q4_3\")"
   ]
  },
  {
   "cell_type": "markdown",
   "metadata": {
    "deletable": false,
    "editable": false
   },
   "source": [
    "<!-- BEGIN QUESTION -->\n",
    "\n",
    "#### Question 4.4\n",
    "Of the two estimates, sum and sum115, which will have the highest standard deviation? Explain.\n",
    "\n",
    "Then, state the standard deviation of the sample sum. **(7 Points)**\n",
    "\n",
    "<!--\n",
    "BEGIN QUESTION\n",
    "name: q4_4\n",
    "manual: true\n",
    "-->"
   ]
  },
  {
   "cell_type": "markdown",
   "metadata": {},
   "source": [
    "_Sum115 will have the highest standard deviation because the values it can take is wider compared to sum. The standard deviation of the sample sum is: SD = Population SD / sqrt(sample_size)._"
   ]
  },
  {
   "cell_type": "markdown",
   "metadata": {
    "collapsed": true
   },
   "source": [
    "<!-- END QUESTION -->\n",
    "\n",
    "\n",
    "\n",
    "## 5. The CLT and Book Reviews\n",
    "\n",
    "Your friend has recommended you a book, so you look for it on an online marketplace. You decide to look at reviews for the book just to be sure that it's worth buying. Let's say that on Amazon, the book only has 80% positive reviews. On GoodReads, it has 95% positive reviews. You decide to investigate a bit further by looking at the percentage of positive reviews for the book on 5 different websites that you know of, and you collect these positive review percentages in a table called `reviews.csv`.\n",
    "\n",
    "**NOTE: For this section only, we've made all the tests public.**"
   ]
  },
  {
   "cell_type": "markdown",
   "metadata": {},
   "source": [
    "Here, we've loaded in the table for you."
   ]
  },
  {
   "cell_type": "code",
   "execution_count": 32,
   "metadata": {
    "deletable": false,
    "editable": false
   },
   "outputs": [
    {
     "data": {
      "text/html": [
       "<table border=\"1\" class=\"dataframe\">\n",
       "    <thead>\n",
       "        <tr>\n",
       "            <th>Positive Review Percentage</th>\n",
       "        </tr>\n",
       "    </thead>\n",
       "    <tbody>\n",
       "        <tr>\n",
       "            <td>80                        </td>\n",
       "        </tr>\n",
       "        <tr>\n",
       "            <td>96                        </td>\n",
       "        </tr>\n",
       "        <tr>\n",
       "            <td>33                        </td>\n",
       "        </tr>\n",
       "        <tr>\n",
       "            <td>65                        </td>\n",
       "        </tr>\n",
       "        <tr>\n",
       "            <td>95                        </td>\n",
       "        </tr>\n",
       "    </tbody>\n",
       "</table>"
      ],
      "text/plain": [
       "Positive Review Percentage\n",
       "80\n",
       "96\n",
       "33\n",
       "65\n",
       "95"
      ]
     },
     "execution_count": 32,
     "metadata": {},
     "output_type": "execute_result"
    }
   ],
   "source": [
    "reviews = Table.read_table(\"reviews.csv\") \n",
    "reviews"
   ]
  },
  {
   "cell_type": "markdown",
   "metadata": {
    "deletable": false,
    "editable": false
   },
   "source": [
    "**Question 5.1**. Calculate the average percentage of positive reviews from your sample and assign it to `initial_sample_mean`. **(3 Points)**\n",
    "\n",
    "<!--\n",
    "BEGIN QUESTION\n",
    "name: q5_1\n",
    "manual: false\n",
    "points:\n",
    " - 3\n",
    "-->"
   ]
  },
  {
   "cell_type": "code",
   "execution_count": 33,
   "metadata": {},
   "outputs": [
    {
     "data": {
      "text/plain": [
       "73.8"
      ]
     },
     "execution_count": 33,
     "metadata": {},
     "output_type": "execute_result"
    }
   ],
   "source": [
    "initial_sample_mean = np.mean(reviews.column(\"Positive Review Percentage\"))\n",
    "initial_sample_mean"
   ]
  },
  {
   "cell_type": "code",
   "execution_count": 34,
   "metadata": {
    "deletable": false,
    "editable": false
   },
   "outputs": [
    {
     "data": {
      "text/html": [
       "<p><strong><pre style='display: inline;'>q5_1</pre></strong> passed!</p>"
      ],
      "text/plain": [
       "q5_1 results: All test cases passed!"
      ]
     },
     "execution_count": 34,
     "metadata": {},
     "output_type": "execute_result"
    }
   ],
   "source": [
    "grader.check(\"q5_1\")"
   ]
  },
  {
   "cell_type": "markdown",
   "metadata": {
    "deletable": false,
    "editable": false
   },
   "source": [
    "You've calculated the average percentage of positive reviews from your sample, so now you want to do some inference using this information. \n",
    "\n",
    "**Question 5.2**. First, simulate 5000 bootstrap resamples of the positive review percentages. For each bootstrap resample, calculate the resample mean and store the resampled means in an array called `resample_positive_percentages`. Then, plot a histogram of the resampled means. **(5 Points)**\n",
    "\n",
    "<!--\n",
    "BEGIN QUESTION\n",
    "name: q5_2\n",
    "manual: false\n",
    "points:\n",
    " - 0\n",
    " - 5\n",
    "-->"
   ]
  },
  {
   "cell_type": "code",
   "execution_count": 50,
   "metadata": {},
   "outputs": [
    {
     "data": {
      "image/png": "[encoded data removed]",
      "text/plain": [
       "<Figure size 432x288 with 1 Axes>"
      ]
     },
     "metadata": {},
     "output_type": "display_data"
    }
   ],
   "source": [
    "resample_positive_percentages = make_array()\n",
    "\n",
    "for i in np.arange(5000):\n",
    "    resample = reviews.sample()\n",
    "    resample_avg_positive = np.mean(resample.column(\"Positive Review Percentage\"))\n",
    "    resample_positive_percentages = np.append(resample_positive_percentages, resample_avg_positive)\n",
    "    \n",
    "# Do NOT change these lines.\n",
    "(Table().with_column(\"Average % of Positive Reviews in Resamples\", \n",
    "                     resample_positive_percentages).hist(\"Average % of Positive Reviews in Resamples\"))"
   ]
  },
  {
   "cell_type": "code",
   "execution_count": 36,
   "metadata": {
    "deletable": false,
    "editable": false
   },
   "outputs": [
    {
     "data": {
      "text/html": [
       "<p><strong><pre style='display: inline;'>q5_2</pre></strong> passed!</p>"
      ],
      "text/plain": [
       "q5_2 results: All test cases passed!"
      ]
     },
     "execution_count": 36,
     "metadata": {},
     "output_type": "execute_result"
    }
   ],
   "source": [
    "grader.check(\"q5_2\")"
   ]
  },
  {
   "cell_type": "markdown",
   "metadata": {
    "deletable": false,
    "editable": false
   },
   "source": [
    "According to the Central Limit Theorem, the probability distribution of the sum or average of a *large random sample* drawn with replacement will be roughly normal, regardless of the distribution of the population from which the sample is drawn. \n",
    "\n",
    "**Question 5.3**. Note the statement about the sample being large and random. Is this sample large and random? Give a brief explanation.\n",
    "\n",
    "Assign `True` or `False` to `is_large` and `is_random`. **(3 Points)**\n",
    "\n",
    "\n",
    "*Note: The setup at the beginning of this exercise explains how the sample was gathered.*\n",
    "\n",
    "<!--\n",
    "BEGIN QUESTION\n",
    "name: q5_3\n",
    "manual: false\n",
    "points:\n",
    " - 0\n",
    " - 1\n",
    " - 2\n",
    "-->"
   ]
  },
  {
   "cell_type": "code",
   "execution_count": 41,
   "metadata": {},
   "outputs": [],
   "source": [
    "is_large = False\n",
    "is_random = False"
   ]
  },
  {
   "cell_type": "code",
   "execution_count": 42,
   "metadata": {
    "deletable": false,
    "editable": false
   },
   "outputs": [
    {
     "data": {
      "text/html": [
       "<p><strong><pre style='display: inline;'>q5_3</pre></strong> passed!</p>"
      ],
      "text/plain": [
       "q5_3 results: All test cases passed!"
      ]
     },
     "execution_count": 42,
     "metadata": {},
     "output_type": "execute_result"
    }
   ],
   "source": [
    "grader.check(\"q5_3\")"
   ]
  },
  {
   "cell_type": "markdown",
   "metadata": {
    "deletable": false,
    "editable": false
   },
   "source": [
    "**Question 5.4**. What is the shape of the empirical distribution of the average percentage of positive reviews based on our original sample? What value is the distribution centered at? Assign your answer to the variable `initial_sample_mean_distribution`--your answer should be either `1`, `2`, `3`, or `4` corresponding to the following choices:\n",
    "\n",
    "*Hint: Look at the histogram you made in Question 4.2. Run the cell that generated the histogram a few times to check your intuition.*\n",
    "\n",
    "1. The distribution is approximately normal because of the Central Limit Theorem, and it is centered at the original sample mean.\n",
    "2. The distribution is not necessarily normal because the Central Limit Theorem may not apply, and it is centered at the original sample mean.\n",
    "3. The distribution is approximately normal because of the Central Limit Theorem, but it is not centered at the original sample mean.\n",
    "4. The distribution is not necessarily normal because the Central Limit Theorem may not apply, and it is not centered at the original sample mean.\n",
    "\n",
    "**(3 Points)**\n",
    "\n",
    "<!--\n",
    "BEGIN QUESTION\n",
    "name: q5_4\n",
    "manual: false\n",
    "points:\n",
    " - 0\n",
    " - 3\n",
    "-->"
   ]
  },
  {
   "cell_type": "code",
   "execution_count": 59,
   "metadata": {},
   "outputs": [],
   "source": [
    "initial_sample_mean_distribution = 2"
   ]
  },
  {
   "cell_type": "code",
   "execution_count": 60,
   "metadata": {
    "deletable": false,
    "editable": false
   },
   "outputs": [
    {
     "data": {
      "text/html": [
       "<p><strong><pre style='display: inline;'>q5_4</pre></strong> passed!</p>"
      ],
      "text/plain": [
       "q5_4 results: All test cases passed!"
      ]
     },
     "execution_count": 60,
     "metadata": {},
     "output_type": "execute_result"
    }
   ],
   "source": [
    "grader.check(\"q5_4\")"
   ]
  },
  {
   "cell_type": "markdown",
   "metadata": {
    "deletable": false,
    "editable": false
   },
   "source": [
    "Though you have an estimate of the true percentage of positive reviews (the sample mean), you want to measure how variable this estimate is. \n",
    "\n",
    "**Question 5.5**. Find the standard deviation of your resampled average positive review percentages, which you stored in `resample_positive_percentages`, and assign the result to the variable `resampled_means_variability`. **(3 Points)**\n",
    "\n",
    "A convenient way to calculate standard deviation is found [here](https://www.inferentialthinking.com/chapters/14/2/Variability.html#Standard-Deviation) in the textbook. You can also read up on how it relates to variance.\n",
    "\n",
    "<!--\n",
    "BEGIN QUESTION\n",
    "name: q5_5\n",
    "manual: false\n",
    "points:\n",
    " - 0\n",
    " - 3\n",
    "-->"
   ]
  },
  {
   "cell_type": "code",
   "execution_count": 61,
   "metadata": {},
   "outputs": [
    {
     "data": {
      "text/plain": [
       "10.333829416358682"
      ]
     },
     "execution_count": 61,
     "metadata": {},
     "output_type": "execute_result"
    }
   ],
   "source": [
    "resampled_means_variability = np.std(resample_positive_percentages)\n",
    "resampled_means_variability"
   ]
  },
  {
   "cell_type": "code",
   "execution_count": 62,
   "metadata": {
    "deletable": false,
    "editable": false
   },
   "outputs": [
    {
     "data": {
      "text/html": [
       "<p><strong><pre style='display: inline;'>q5_5</pre></strong> passed!</p>"
      ],
      "text/plain": [
       "q5_5 results: All test cases passed!"
      ]
     },
     "execution_count": 62,
     "metadata": {},
     "output_type": "execute_result"
    }
   ],
   "source": [
    "grader.check(\"q5_5\")"
   ]
  },
  {
   "cell_type": "markdown",
   "metadata": {},
   "source": [
    "This estimate is pretty variable! To make the estimate less variable, let's say you found a way to randomly sample reputable marketplaces from across the web which sell this book. Let's say that there are up to 150 of these marketplaces. The percentages of positive reviews are loaded into the table `more_reviews`."
   ]
  },
  {
   "cell_type": "code",
   "execution_count": 63,
   "metadata": {
    "deletable": false,
    "editable": false
   },
   "outputs": [
    {
     "data": {
      "text/html": [
       "<table border=\"1\" class=\"dataframe\">\n",
       "    <thead>\n",
       "        <tr>\n",
       "            <th>Positive Review Percentage</th>\n",
       "        </tr>\n",
       "    </thead>\n",
       "    <tbody>\n",
       "        <tr>\n",
       "            <td>75                        </td>\n",
       "        </tr>\n",
       "        <tr>\n",
       "            <td>79                        </td>\n",
       "        </tr>\n",
       "        <tr>\n",
       "            <td>90                        </td>\n",
       "        </tr>\n",
       "        <tr>\n",
       "            <td>73                        </td>\n",
       "        </tr>\n",
       "        <tr>\n",
       "            <td>92                        </td>\n",
       "        </tr>\n",
       "        <tr>\n",
       "            <td>86                        </td>\n",
       "        </tr>\n",
       "        <tr>\n",
       "            <td>100                       </td>\n",
       "        </tr>\n",
       "        <tr>\n",
       "            <td>100                       </td>\n",
       "        </tr>\n",
       "        <tr>\n",
       "            <td>64                        </td>\n",
       "        </tr>\n",
       "        <tr>\n",
       "            <td>61                        </td>\n",
       "        </tr>\n",
       "    </tbody>\n",
       "</table>\n",
       "<p>... (140 rows omitted)</p>"
      ],
      "text/plain": [
       "Positive Review Percentage\n",
       "75\n",
       "79\n",
       "90\n",
       "73\n",
       "92\n",
       "86\n",
       "100\n",
       "100\n",
       "64\n",
       "61\n",
       "... (140 rows omitted)"
      ]
     },
     "execution_count": 63,
     "metadata": {},
     "output_type": "execute_result"
    }
   ],
   "source": [
    "# Just run this cell\n",
    "more_reviews = Table.read_table(\"more_reviews.csv\")\n",
    "more_reviews"
   ]
  },
  {
   "cell_type": "markdown",
   "metadata": {
    "collapsed": true
   },
   "source": [
    "In the next few questions, we'll test an important result of the Central Limit Theorem. According to the CLT, the standard deviation of all possible sample means can be calculated using the following formula:\n",
    "\n",
    "$$\n",
    "\\text{SD of all possible sample means} = \\dfrac{\\text{Population SD}}{\\sqrt{\\text{sample size}}}\n",
    "$$\n",
    "\n",
    "This formula gives us another way to approximate the SD of the sample means other than calculating it empirically. We can test how well this formula works by calculating the SD of sample means for different sample sizes.\n",
    "\n",
    "The following code calculates the SD of sample means using the CLT and empirically for a range of sample sizes. Then, it plots a scatter plot comparing the SD of the sample means calculated with both methods. Each point corresponds to a different sample size. "
   ]
  },
  {
   "cell_type": "code",
   "execution_count": 64,
   "metadata": {
    "deletable": false,
    "editable": false
   },
   "outputs": [
    {
     "data": {
      "image/png": "[encoded data removed]",
      "text/plain": [
       "<Figure size 360x360 with 1 Axes>"
      ]
     },
     "metadata": {},
     "output_type": "display_data"
    }
   ],
   "source": [
    "# Just run this cell. It's not necessary for you to read this code, but you can do 99% of this on your own!\n",
    "# Note: this cell might take a bit to run.\n",
    "\n",
    "def empirical_sample_mean_sd(n):\n",
    "    sample_means = make_array()\n",
    "    for i in np.arange(500):\n",
    "        sample = more_reviews.sample(n).column('Positive Review Percentage') \n",
    "        sample_mean = np.mean(sample) \n",
    "        sample_means = np.append(sample_means, sample_mean) \n",
    "    return np.std(sample_means)\n",
    "\n",
    "def predict_sample_mean_sd(n):\n",
    "    return np.std(more_reviews.column(0)) / (n**0.5)\n",
    "\n",
    "sd_table = Table().with_column('Sample Size', np.arange(1,151))\n",
    "predicted = sd_table.apply(predict_sample_mean_sd, 'Sample Size')\n",
    "empirical = sd_table.apply(empirical_sample_mean_sd, 'Sample Size')\n",
    "sd_table = sd_table.with_columns('Predicted SD', predicted, 'Empirical SD', empirical)\n",
    "sd_table.scatter('Sample Size')\n",
    "plt.ylabel(\"SD of Sample Mean\");"
   ]
  },
  {
   "cell_type": "markdown",
   "metadata": {
    "deletable": false,
    "editable": false
   },
   "source": [
    "Oftentimes, when conducting statistical inference, you'll want your estimate of a population parameter to have a certain accuracy. It is common to measure the accuracy of an estimate using the SD of the estimate--as the SD goes down, your estimate becomes less variable. As a result, the width of the confidence interval for your estimate decreases (think about why this is true). We know from the Central Limit Theorem that when we estimate a sample mean, the SD of the sample mean decreases as the sample size increases (again, think about why this is true).   \n",
    "\n",
    "**Question 5.6**. Assign the numbers corresponding to all true statements to an array called `sample_mean_sd_statements`. \n",
    "\n",
    "**Note**: This [section](https://www.inferentialthinking.com/chapters/10/2/Sampling_from_a_Population.html) of the textbook illustrates an example of the Law of Large Numbers at work. Note that the Law of Large Numbers is the same as the Law of Averages.\n",
    "\n",
    "1. The law of large numbers tells us that the distribution of a large random sample should resemble the distribution from which it is drawn.\n",
    "2. The law of large numbers guarantees that empirical and predicted sample mean SDs will be exactly equal to each other when the sample size is large.\n",
    "3. The law of large numbers guarantees that empirical and predicted sample mean SDs will be approximately equal to each other when the sample size is large.\n",
    "4. The plot above shows that as our sample size increases, our estimate for the true percentage of positive reviews becomes more accurate.\n",
    "5. The plot above shows that the size of the population affects the SD of the sample means.\n",
    "6. The SD of the sample means is proportional to the square root of the sample size. \n",
    "7. The SD of the sample means is proportional to 1 divided by the square root of the sample size. \n",
    "\n",
    "**(6 Points)**\n",
    "\n",
    "<!--\n",
    "BEGIN QUESTION\n",
    "name: q5_6\n",
    "manual: false\n",
    "points:\n",
    " - 0\n",
    " - 6\n",
    "-->"
   ]
  },
  {
   "cell_type": "code",
   "execution_count": 69,
   "metadata": {},
   "outputs": [],
   "source": [
    "sample_mean_sd_statements = make_array(1, 4, 7)"
   ]
  },
  {
   "cell_type": "code",
   "execution_count": 70,
   "metadata": {
    "deletable": false,
    "editable": false
   },
   "outputs": [
    {
     "data": {
      "text/html": [
       "<p><strong><pre style='display: inline;'>q5_6</pre></strong> passed!</p>"
      ],
      "text/plain": [
       "q5_6 results: All test cases passed!"
      ]
     },
     "execution_count": 70,
     "metadata": {},
     "output_type": "execute_result"
    }
   ],
   "source": [
    "grader.check(\"q5_6\")"
   ]
  },
  {
   "cell_type": "markdown",
   "metadata": {
    "deletable": false,
    "editable": false
   },
   "source": [
    "**Question 5.7**. Imagine you are asked to estimate the true average percentage of positive reviews for this book and you have not yet taken a sample of review websites. Which of these is the best way to decide how large your sample should be to achieve a certain level of accuracy for your estimate of the true average percentage of positive reviews? Assign `sample_size_calculation` to either `1`, `2`, or `3` corresponding to the statements below.\n",
    "\n",
    "*Note: Assume you know the population SD or can estimate it with reasonable accuracy.*\n",
    "1. Take many random samples of different sizes, then calculate empirical confidence intervals using the bootstrap until you reach your desired accuracy. \n",
    "2. Use the Central Limit Theorem to calculate what sample size you need in advance. \n",
    "3. Randomly pick a sample size and hope for the best.\n",
    "\n",
    "**(3 Points)**\n",
    "\n",
    "<!--\n",
    "BEGIN QUESTION\n",
    "name: q5_7\n",
    "manual: false\n",
    "points:\n",
    " - 0\n",
    " - 3\n",
    "-->"
   ]
  },
  {
   "cell_type": "code",
   "execution_count": 77,
   "metadata": {},
   "outputs": [],
   "source": [
    "sample_size_calculation = 2"
   ]
  },
  {
   "cell_type": "code",
   "execution_count": 78,
   "metadata": {
    "deletable": false,
    "editable": false
   },
   "outputs": [
    {
     "data": {
      "text/html": [
       "<p><strong><pre style='display: inline;'>q5_7</pre></strong> passed!</p>"
      ],
      "text/plain": [
       "q5_7 results: All test cases passed!"
      ]
     },
     "execution_count": 78,
     "metadata": {},
     "output_type": "execute_result"
    }
   ],
   "source": [
    "grader.check(\"q5_7\")"
   ]
  },
  {
   "cell_type": "markdown",
   "metadata": {},
   "source": [
    "### 6. Parametric Bootstrapping [OPTIONAL]\n",
    "### All the following content is explicitly **NOT** in scope for this class. We just think it's a fun preview of future material you may encounter as a data scientist!"
   ]
  },
  {
   "cell_type": "markdown",
   "metadata": {},
   "source": [
    "In this class we bootstrap by resampling from our sample. In broader statistics, this is called a \"non-parametric boostrap\". That is, we don't know the distribution or make a guess about the parameter to generate our resamples, we just use the sample as a representation of the population.\n",
    "\n",
    "It turns out there's another kind of boostrapping one can do, called a \"parametric boostrap\". (parametric- involving a parameter).\n",
    "\n",
    "In future data science classes you will see how different distributions, such as a normal distribution, are defined by mathematical formulas. These distributions are defined by their specific values, parameters. This is the same kind of parameter as we refer to in this class!"
   ]
  },
  {
   "cell_type": "markdown",
   "metadata": {},
   "source": [
    "Run the following cell to see the distribution of a normal variable with different parameters."
   ]
  },
  {
   "cell_type": "code",
   "execution_count": 79,
   "metadata": {},
   "outputs": [
    {
     "name": "stdout",
     "output_type": "stream",
     "text": [
      "Mean of samples: '42.121283865757825, STD of samples: '20.845914231601824'\n"
     ]
    },
    {
     "data": {
      "image/png": "[encoded data removed]",
      "text/plain": [
       "<Figure size 432x288 with 1 Axes>"
      ]
     },
     "metadata": {},
     "output_type": "display_data"
    }
   ],
   "source": [
    "# Change the value of parameters! The sd must be > 0\n",
    "mean = 42\n",
    "sd = 21\n",
    "# Don't change these lines below\n",
    "from scipy.stats import norm\n",
    "samples = norm.rvs(loc=mean, scale=sd, size=5000)\n",
    "Table().with_column(\"Sampled Values\", samples).hist(bins=20)\n",
    "print(f\"Mean of samples: '{np.mean(samples)}, STD of samples: '{np.std(samples)}'\")"
   ]
  },
  {
   "cell_type": "markdown",
   "metadata": {},
   "source": [
    "So how does the parametric bootstrap work? We sample some data, like normal, (non-parametric) bootstrapping. Then, instead of resampling from this data, we instead guess the distribution of our population, for example, guessing that it is normally distributed, and then we make a guess for the parameters of that distribution using our sample.\n",
    "\n",
    "We then draw resamples from the population defined by this distribution that we guessed at, instead of from our sample data. We can use these resample to calculate CIs just as we would with our original resamples."
   ]
  },
  {
   "cell_type": "code",
   "execution_count": 80,
   "metadata": {},
   "outputs": [],
   "source": [
    "# Let's use the observations table!\n",
    "guess_at_sd = np.std(observations.column(0))\n",
    "guess_at_mean = np.mean(observations.column(0))\n",
    "# We are going to use that as our parameter for generating the distribution, \n",
    "# and we are going to use a normal distribution as our guess for the shape.\n",
    "\n",
    "# Let's walk through the bootstrap process now!\n",
    "bootstrapped_sums = make_array()\n",
    "num_sims = 1000\n",
    "np.random.seed(8) # DO NOT CHANGE THIS LINE; This makes sure the random numbers you get are predictable\n",
    "for i in np.arange(num_sims):\n",
    "    sample = norm.rvs(loc=guess_at_mean, scale=guess_at_sd, size=observations.num_rows) # This samples from the distribution we guessed\n",
    "    bootstrapped_sums = np.append(bootstrapped_sums, np.sum(sample))"
   ]
  },
  {
   "cell_type": "markdown",
   "metadata": {},
   "source": [
    "Awesome! Now let's look at the confidence interval we generated using that method."
   ]
  },
  {
   "cell_type": "code",
   "execution_count": 81,
   "metadata": {},
   "outputs": [
    {
     "name": "stdout",
     "output_type": "stream",
     "text": [
      "95% CI Lower Bound 418.8968914921205 Upper Bound 439.4895102699006\n"
     ]
    }
   ],
   "source": [
    "print(f\"95% CI Lower Bound {percentile(2.5, bootstrapped_sums)} Upper Bound {percentile(97.5, bootstrapped_sums)}\")"
   ]
  },
  {
   "cell_type": "markdown",
   "metadata": {},
   "source": [
    "We generated a CI contains the true parameter, 432, just like when we could do with a normal (non-parametric) bootstrapping!\n",
    "\n",
    "Hopefully this material is interesting! Remember this is completely out of scope! If you have any questions about this material please use the piazza thread and not office hours."
   ]
  },
  {
   "cell_type": "markdown",
   "metadata": {
    "deletable": false,
    "editable": false
   },
   "source": [
    "---\n",
    "\n",
    "To double-check your work, the cell below will rerun all of the autograder tests."
   ]
  },
  {
   "cell_type": "code",
   "execution_count": 82,
   "metadata": {
    "deletable": false,
    "editable": false
   },
   "outputs": [
    {
     "data": {
      "text/html": [
       "<p><strong><pre style='display: inline;'>q1_1</pre></strong> passed!</p>\n",
       "\n",
       "<p><strong><pre style='display: inline;'>q1_2</pre></strong> passed!</p>\n",
       "\n",
       "<p><strong><pre style='display: inline;'>q1_3</pre></strong> passed!</p>\n",
       "\n",
       "<p><strong><pre style='display: inline;'>q1_4</pre></strong> passed!</p>\n",
       "\n",
       "<p><strong><pre style='display: inline;'>q2_1</pre></strong> passed!</p>\n",
       "\n",
       "<p><strong><pre style='display: inline;'>q2_2</pre></strong> passed!</p>\n",
       "\n",
       "<p><strong><pre style='display: inline;'>q2_3</pre></strong> passed!</p>\n",
       "\n",
       "<p><strong><pre style='display: inline;'>q2_4</pre></strong> passed!</p>\n",
       "\n",
       "<p><strong><pre style='display: inline;'>q2_5</pre></strong> passed!</p>\n",
       "\n",
       "<p><strong><pre style='display: inline;'>q3_1</pre></strong> passed!</p>\n",
       "\n",
       "<p><strong><pre style='display: inline;'>q3_2</pre></strong> passed!</p>\n",
       "\n",
       "<p><strong><pre style='display: inline;'>q4_1</pre></strong> passed!</p>\n",
       "\n",
       "<p><strong><pre style='display: inline;'>q4_2</pre></strong> passed!</p>\n",
       "\n",
       "<p><strong><pre style='display: inline;'>q4_3</pre></strong> passed!</p>\n",
       "\n",
       "<p><strong><pre style='display: inline;'>q5_1</pre></strong> passed!</p>\n",
       "\n",
       "<p><strong><pre style='display: inline;'>q5_2</pre></strong> passed!</p>\n",
       "\n",
       "<p><strong><pre style='display: inline;'>q5_3</pre></strong> passed!</p>\n",
       "\n",
       "<p><strong><pre style='display: inline;'>q5_4</pre></strong> passed!</p>\n",
       "\n",
       "<p><strong><pre style='display: inline;'>q5_5</pre></strong> passed!</p>\n",
       "\n",
       "<p><strong><pre style='display: inline;'>q5_6</pre></strong> passed!</p>\n",
       "\n",
       "<p><strong><pre style='display: inline;'>q5_7</pre></strong> passed!</p>\n",
       "\n"
      ],
      "text/plain": [
       "q1_1 results: All test cases passed!\n",
       "\n",
       "q1_2 results: All test cases passed!\n",
       "\n",
       "q1_3 results: All test cases passed!\n",
       "\n",
       "q1_4 results: All test cases passed!\n",
       "\n",
       "q2_1 results: All test cases passed!\n",
       "\n",
       "q2_2 results: All test cases passed!\n",
       "\n",
       "q2_3 results: All test cases passed!\n",
       "\n",
       "q2_4 results: All test cases passed!\n",
       "\n",
       "q2_5 results: All test cases passed!\n",
       "\n",
       "q3_1 results: All test cases passed!\n",
       "\n",
       "q3_2 results: All test cases passed!\n",
       "\n",
       "q4_1 results: All test cases passed!\n",
       "\n",
       "q4_2 results: All test cases passed!\n",
       "\n",
       "q4_3 results: All test cases passed!\n",
       "\n",
       "q5_1 results: All test cases passed!\n",
       "\n",
       "q5_2 results: All test cases passed!\n",
       "\n",
       "q5_3 results: All test cases passed!\n",
       "\n",
       "q5_4 results: All test cases passed!\n",
       "\n",
       "q5_5 results: All test cases passed!\n",
       "\n",
       "q5_6 results: All test cases passed!\n",
       "\n",
       "q5_7 results: All test cases passed!\n"
      ]
     },
     "execution_count": 82,
     "metadata": {},
     "output_type": "execute_result"
    }
   ],
   "source": [
    "grader.check_all()"
   ]
  },
  {
   "cell_type": "markdown",
   "metadata": {
    "deletable": false,
    "editable": false
   },
   "source": [
    "## Submission\n",
    "\n",
    "Make sure you have run all cells in your notebook in order before running the cell below, so that all images/graphs appear in the output. The cell below will generate a zip file for you to submit. **Please save before exporting!**"
   ]
  },
  {
   "cell_type": "code",
   "execution_count": 83,
   "metadata": {
    "deletable": false,
    "editable": false
   },
   "outputs": [
    {
     "data": {
      "text/html": [
       "\n",
       "                <p>Your submission has been exported. Click <a href=\"hw09.zip\" target=\"_blank\">here</a>\n",
       "                to download the zip file.</p>\n",
       "                "
      ],
      "text/plain": [
       "<IPython.core.display.HTML object>"
      ]
     },
     "metadata": {},
     "output_type": "display_data"
    }
   ],
   "source": [
    "# Save your notebook first, then run this cell to export your submission.\n",
    "grader.export(pdf=False)"
   ]
  },
  {
   "cell_type": "markdown",
   "metadata": {},
   "source": [
    " "
   ]
  }
 ],
 "metadata": {
  "kernelspec": {
   "display_name": "Python 3 (ipykernel)",
   "language": "python",
   "name": "python3"
  },
  "language_info": {
   "codemirror_mode": {
    "name": "ipython",
    "version": 3
   },
   "file_extension": ".py",
   "mimetype": "text/x-python",
   "name": "python",
   "nbconvert_exporter": "python",
   "pygments_lexer": "ipython3",
   "version": "3.8.10"
  }
 },
 "nbformat": 4,
 "nbformat_minor": 5
}
