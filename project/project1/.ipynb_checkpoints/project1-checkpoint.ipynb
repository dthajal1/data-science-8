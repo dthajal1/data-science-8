{
 "cells": [
  {
   "cell_type": "code",
   "execution_count": 1,
   "id": "0a501964",
   "metadata": {
    "deletable": false,
    "editable": false
   },
   "outputs": [],
   "source": [
    "# Initialize Otter\n",
    "import otter\n",
    "grader = otter.Notebook(\"project1.ipynb\")"
   ]
  },
  {
   "cell_type": "markdown",
   "id": "b8b35187",
   "metadata": {},
   "source": [
    "### Logistics\n",
    "\n",
    "**Corresponding Author.** Yanay Rosen (yanayrosen (at) berkeley)\n",
    "\n",
    "**Deadline.** Saturday 7/10 at 11:59pm P.T.\n",
    "\n",
    "**Checkpoint.** For full credit on the checkpoint, you must complete the first 2 sections, pass all public autograder tests for those sections, and submit to the Gradescope Checkpoint assignment by 11:59pm P.T. on Thursday, 7/08. **This is worth 5% of your entire project grade**. After you've submitted the checkpoint, you may still change your answers before the project deadline - only your final submission, to the Project 1 assignment, will be graded for correctness. We recommend that you start the project as soon as possible.\n",
    "\n",
    "**Partners.** You may work with one other partner; your partner must be from your assigned lab section. **Only one of you is allowed to submit the project. If both partners submit, you will be docked 10% of your project grade, and we will use whichever submission yields you fewer points.** \n",
    "\n",
    "On Gradescope, the person who submits should also designate their partner so that both of you receive credit. Feel free to split up the work between your partner, share what you complete with each other in a google document, and share your screen in a Zoom call as you work together.\n",
    "\n",
    "**[Watch this tutorial video](https://drive.google.com/file/d/19hdMiqeO6svyPxOtAfHMDOj99HorcO5_/view?usp=sharing) on how to add a project partner on Gradescope.**\n",
    "\n",
    "**Rules.** Don't share your code with anybody but your partner. You are welcome to discuss questions with other students, but don't share the answers. The experience of solving the problems in this project will prepare you for exams (and life). If someone asks you for the answer, resist! Instead, you can demonstrate how you would solve a similar problem.\n",
    "\n",
    "**Support.** You are not alone! Come to office hours, post on Piazza, and talk to your classmates. If you want to ask about the details of your solution to a problem, make a private Piazza post and the staff will respond. If you're ever feeling overwhelmed or don't know how to make progress, email your TA or tutor for help. You can find contact information for the staff on the [course website](http://data8.org/su21/staff.html).\n",
    "\n",
    "**Tests.** The tests that are given are **not comprehensive** and passing the tests for a question **does not** mean that you answered the question correctly. Tests usually only check that your table has the correct column labels. However, more tests will be applied to verify the correctness of your submission in order to assign your final score, so be careful and check your work! You might want to create your own checks along the way to see if your answers make sense. Additionally, before you submit, make sure that none of your cells take a very long time to run (several minutes).\n",
    "\n",
    "**Free Response Questions:** Make sure that you put the answers to the written questions in the indicated cell we provide. **Every free response question should include an explanation** that adequately answers the question.\n",
    "\n",
    "**Advice.** Develop your answers incrementally. To perform a complicated table manipulation, break it up into steps, perform each step on a different line, give a new name to each result, and check that each intermediate result is what you expect. You can add any additional names or functions you want to the provided cells. Make sure that you are using distinct and meaningful variable names throughout the notebook. Along that line, **DO NOT** reuse the variable names that we use when we grade your answers. For example, in Question 1 of the New Technology section we ask you to assign an answer to `sc`. Do not reassign the variable name `sc` to anything else in your notebook, otherwise there is the chance that our tests grade against what `sc` was reassigned to.\n",
    "\n",
    "**You should have scratch paper or some other place to work out problems before trying them in the notebook. This will greatly improve your ability to solve some of the more difficult questions.**\n",
    "\n",
    "**Before you start the project, you should read through the [Tabular Thinking Guide](https://drive.google.com/file/d/1ncT6mP_-5UYx1F21_iDsVQVyWJjbE4l8/view?usp=sharing)**\n",
    "\n",
    "You **never** have to use just one line in this project or any others. Use intermediate variables and multiple lines as much as you would like!"
   ]
  },
  {
   "cell_type": "code",
   "execution_count": 2,
   "id": "latter-banana",
   "metadata": {},
   "outputs": [],
   "source": [
    "from datascience import *\n",
    "import numpy as np\n",
    "\n",
    "%matplotlib inline\n",
    "import matplotlib.pyplot as plots\n",
    "plots.style.use('fivethirtyeight')"
   ]
  },
  {
   "cell_type": "markdown",
   "id": "continuous-parks",
   "metadata": {},
   "source": [
    "# Project 1: The Power of Data"
   ]
  },
  {
   "cell_type": "markdown",
   "id": "870b0bba",
   "metadata": {},
   "source": [
    "### In this project you will use table manipulations and visualizations to help biologists determine which specific cells in our lungs are associated with the disease cystic fibrosis."
   ]
  },
  {
   "cell_type": "markdown",
   "id": "daily-supervisor",
   "metadata": {},
   "source": [
    "In the past few decades, new computational, mathematical and scientific innovations have contributed to an exponential increase in the volume, variety and velocity of data generation.\n",
    "\n",
    "Among the countless scientific fields embracing 'big data', biological sciences presents an impressive avenue for leveraging data science.\n",
    "\n",
    "In the following project you will use data science to understand a large quantity of data, across many variables, and single out a future avenue for biological research on cystic fibrosis.\n",
    "\n",
    "***Note: If you have any concerns related to the subject of the project, please email the instructors!***"
   ]
  },
  {
   "cell_type": "markdown",
   "id": "185f7dfb",
   "metadata": {},
   "source": [
    "### Domain Emphasis"
   ]
  },
  {
   "cell_type": "markdown",
   "id": "trained-guinea",
   "metadata": {},
   "source": [
    "Understanding the domain you are working in is critical to success as a Data Scientist.\n",
    "\n",
    "Since one of the goals of Data 8 is to teach you technical fundamentals of data science, agnostic of any specific field, none of our assignments require any specific domain knowledge. \n",
    "\n",
    "That being said, we think assignments are more **engaging** if you understand some of the domain specific reasoning behind them. \n",
    "\n",
    "### Basic Biology Overview\n",
    "\n",
    "1. All living things are made up of cells.\n",
    "2. All cells in an organism share the same genetic code called \"DNA\", the molecular instructions for all functions of living things. The molecules that encode our DNA are called \"Base Pairs\".\n",
    "3. Cells are different because they implement different parts of the DNA at different times. DNA is actually implemented—\"expressed\"— in the cell when parts of it are converted to \"RNA\". Sections of RNA are then converted to proteins.\n",
    "4. Sections of DNA are called \"Genes\". Genes are portions of DNA that we have identified as coding for specific proteins: molecules that have some function in the body. For example, the protein hemoglobin carries oxygen in your blood.\n",
    "\n",
    "**So as a summary:**\n",
    "\n",
    "$$\\text{DNA} \\rightarrow \\text{RNA} \\rightarrow \\text{Protein} \\rightarrow \\text{Function}$$"
   ]
  },
  {
   "cell_type": "markdown",
   "id": "qualified-marriage",
   "metadata": {},
   "source": [
    "# 1. New Technology"
   ]
  },
  {
   "cell_type": "markdown",
   "id": "35ade583",
   "metadata": {},
   "source": [
    "### In this section of the project we will learn about a new technology that has increased the power of biological analysis. We will first assess how popular this technology is."
   ]
  },
  {
   "cell_type": "markdown",
   "id": "86063fab",
   "metadata": {},
   "source": [
    "The amount of data governing living organisms is staggering.\n",
    "\n",
    "While the [Human Genome Project](https://en.wikipedia.org/wiki/Human_Genome_Project) successfully sequenced the 3+ billion base pairs that compose human DNA in 2003, knowing our genetic code does not tell us how it is actually implemented and interpreted in our bodies. \n",
    "\n",
    "Every cell in your body has the same DNA<sup>1</sup>, but a neuron cell in your brain looks and behaves very differently from a stomach cell, a skin cell, a white blood cell or a cell in your lungs.\n",
    "\n",
    "*$ ^{1}$Individual cells may have a tiny amount of variation due to mutation.*"
   ]
  },
  {
   "cell_type": "markdown",
   "id": "ec5cf0fa",
   "metadata": {},
   "source": [
    "[**Brain Cells**](https://upload.wikimedia.org/wikipedia/commons/thumb/5/56/Human_astrocyte.png/1200px-Human_astrocyte.png)\n",
    "![Brain Cells](brain_cells.png)"
   ]
  },
  {
   "cell_type": "markdown",
   "id": "d682432a",
   "metadata": {},
   "source": [
    "[**Stomach Cells**](https://upload.wikimedia.org/wikipedia/commons/thumb/1/10/Chief_cells.JPG/1200px-Chief_cells.JPG)\n",
    "![Stomach Cells](stomach_cells.jpg)"
   ]
  },
  {
   "cell_type": "markdown",
   "id": "surgical-language",
   "metadata": {},
   "source": [
    "In 2009, biologists began developing new techniques to analyze how our genome is actually expressed in individual cells. These new techniques enable scientists to better understand complex biological phenomena at unprecedented resolutions. \n",
    "\n",
    "One of these technologies is called \"Single Cell RNA Sequencing\" (scRNA-seq).\n",
    "\n",
    "**By investigating RNA expression in individual cells, we can better understand how cells are actually functioning and where certain diseases may arise.**"
   ]
  },
  {
   "cell_type": "markdown",
   "id": "0831ef58",
   "metadata": {},
   "source": [
    "If you are interested in a little bit more info about this technology, you can watch the following video, but it's not necessary for the completion of the project:"
   ]
  },
  {
   "cell_type": "code",
   "execution_count": 3,
   "id": "c023bfa4",
   "metadata": {},
   "outputs": [
    {
     "data": {
      "text/html": [
       "\n",
       "<iframe width=\"600\" height=\"480\" src=\"https://www.youtube.com/embed/DWcFTjrEBDg\" title=\"YouTube video player\" frameborder=\"0\" allow=\"accelerometer; autoplay; clipboard-write; encrypted-media; gyroscope; picture-in-picture\" allowfullscreen>\n",
       "</iframe>\n"
      ],
      "text/plain": [
       "<IPython.core.display.HTML object>"
      ]
     },
     "execution_count": 3,
     "metadata": {},
     "output_type": "execute_result"
    }
   ],
   "source": [
    "from IPython.display import HTML\n",
    "HTML('''\n",
    "<iframe width=\"600\" height=\"480\" src=\"https://www.youtube.com/embed/DWcFTjrEBDg\" title=\"YouTube video player\" frameborder=\"0\" allow=\"accelerometer; autoplay; clipboard-write; encrypted-media; gyroscope; picture-in-picture\" allowfullscreen>\n",
    "</iframe>\n",
    "''')"
   ]
  },
  {
   "cell_type": "markdown",
   "id": "liked-battle",
   "metadata": {},
   "source": [
    "Let's take a look at the popularity of this technology over the past few years.\n",
    "\n",
    "**A really useful research tool for determining popularity is [Google Trends](https://trends.google.com/trends/).**\n",
    "\n",
    "Google Trends lets you compare the popularity of search terms on Google.\n"
   ]
  },
  {
   "cell_type": "code",
   "execution_count": 4,
   "id": "joined-dryer",
   "metadata": {},
   "outputs": [
    {
     "data": {
      "text/html": [
       "<table border=\"1\" class=\"dataframe\">\n",
       "    <thead>\n",
       "        <tr>\n",
       "            <th>Month</th> <th>Interest over time</th>\n",
       "        </tr>\n",
       "    </thead>\n",
       "    <tbody>\n",
       "        <tr>\n",
       "            <td>2004-01</td> <td>0                 </td>\n",
       "        </tr>\n",
       "        <tr>\n",
       "            <td>2004-02</td> <td>0                 </td>\n",
       "        </tr>\n",
       "        <tr>\n",
       "            <td>2004-03</td> <td>0                 </td>\n",
       "        </tr>\n",
       "        <tr>\n",
       "            <td>2004-04</td> <td>0                 </td>\n",
       "        </tr>\n",
       "        <tr>\n",
       "            <td>2004-05</td> <td>30                </td>\n",
       "        </tr>\n",
       "        <tr>\n",
       "            <td>2004-06</td> <td>0                 </td>\n",
       "        </tr>\n",
       "        <tr>\n",
       "            <td>2004-07</td> <td>0                 </td>\n",
       "        </tr>\n",
       "        <tr>\n",
       "            <td>2004-08</td> <td>0                 </td>\n",
       "        </tr>\n",
       "        <tr>\n",
       "            <td>2004-09</td> <td>0                 </td>\n",
       "        </tr>\n",
       "        <tr>\n",
       "            <td>2004-10</td> <td>0                 </td>\n",
       "        </tr>\n",
       "        <tr>\n",
       "            <td>2004-11</td> <td>0                 </td>\n",
       "        </tr>\n",
       "        <tr>\n",
       "            <td>2004-12</td> <td>51                </td>\n",
       "        </tr>\n",
       "        <tr>\n",
       "            <td>2005-01</td> <td>0                 </td>\n",
       "        </tr>\n",
       "        <tr>\n",
       "            <td>2005-02</td> <td>0                 </td>\n",
       "        </tr>\n",
       "        <tr>\n",
       "            <td>2005-03</td> <td>20                </td>\n",
       "        </tr>\n",
       "    </tbody>\n",
       "</table>\n",
       "<p>... (193 rows omitted)</p>"
      ],
      "text/plain": [
       "<IPython.core.display.HTML object>"
      ]
     },
     "metadata": {},
     "output_type": "display_data"
    }
   ],
   "source": [
    "# Load in the following data\n",
    "sc = Table.read_table(\"single_cell_sequencing_pop.csv\").relabeled(1, \"Interest over time\")\n",
    "sc.show(15)"
   ]
  },
  {
   "cell_type": "markdown",
   "id": "rough-enzyme",
   "metadata": {},
   "source": [
    "The `sc` table contains the `Interest over time` for the search topic \"Single Cell Sequencing\", worldwide, broken down by `month`. Google trends defines Interest over time as:\n",
    "\n",
    "> Numbers represent search interest relative to the highest point on the chart for the given region and time. A value of 100 is the peak popularity for the term. A value of 50 means that the term is half as popular. A score of 0 means there was not enough data for this term."
   ]
  },
  {
   "cell_type": "markdown",
   "id": "6e5ae40f",
   "metadata": {},
   "source": [
    "**Dataset Details:**\n",
    "- Origin: The dataset can be found [here](https://trends.google.com/trends/explore?date=all&q=%2Fm%2F0_t__77) **[We've already downloaded it for you]**\n",
    "- Extra Context: Google is not the predominant search engine in every country. Google may not be the primary tool used for scientific research. We're not sure of the accuracy of these reports."
   ]
  },
  {
   "cell_type": "markdown",
   "id": "administrative-inspection",
   "metadata": {
    "deletable": false,
    "editable": false
   },
   "source": [
    "**Question 1.** The first month in the data set is January 2004. In order to visualize this data, we need to convert the month column to floats. Add a column called `Time` to the `sc` table with a decimal representation of the month. \n",
    "\n",
    "For example, the first month in the dataset, January 2004, should be represented as `2004.0`, the fifth month in the dataset should be `2004.3333` and the thirteenth month in the dataset should be `2005`. **(6 Points)**\n",
    "\n",
    "<!--\n",
    "BEGIN QUESTION\n",
    "name: q1_1\n",
    "manual: false\n",
    "points:\n",
    " - 0\n",
    " - 0\n",
    " - 0\n",
    " - 0\n",
    " - 6\n",
    "-->"
   ]
  },
  {
   "cell_type": "code",
   "execution_count": 5,
   "id": "direct-consideration",
   "metadata": {
    "scrolled": true
   },
   "outputs": [
    {
     "data": {
      "text/html": [
       "<table border=\"1\" class=\"dataframe\">\n",
       "    <thead>\n",
       "        <tr>\n",
       "            <th>Month</th> <th>Interest over time</th> <th>Time</th>\n",
       "        </tr>\n",
       "    </thead>\n",
       "    <tbody>\n",
       "        <tr>\n",
       "            <td>2004-01</td> <td>0                 </td> <td>2004   </td>\n",
       "        </tr>\n",
       "        <tr>\n",
       "            <td>2004-02</td> <td>0                 </td> <td>2004.08</td>\n",
       "        </tr>\n",
       "        <tr>\n",
       "            <td>2004-03</td> <td>0                 </td> <td>2004.17</td>\n",
       "        </tr>\n",
       "        <tr>\n",
       "            <td>2004-04</td> <td>0                 </td> <td>2004.25</td>\n",
       "        </tr>\n",
       "        <tr>\n",
       "            <td>2004-05</td> <td>30                </td> <td>2004.33</td>\n",
       "        </tr>\n",
       "        <tr>\n",
       "            <td>2004-06</td> <td>0                 </td> <td>2004.42</td>\n",
       "        </tr>\n",
       "        <tr>\n",
       "            <td>2004-07</td> <td>0                 </td> <td>2004.5 </td>\n",
       "        </tr>\n",
       "        <tr>\n",
       "            <td>2004-08</td> <td>0                 </td> <td>2004.58</td>\n",
       "        </tr>\n",
       "        <tr>\n",
       "            <td>2004-09</td> <td>0                 </td> <td>2004.67</td>\n",
       "        </tr>\n",
       "        <tr>\n",
       "            <td>2004-10</td> <td>0                 </td> <td>2004.75</td>\n",
       "        </tr>\n",
       "    </tbody>\n",
       "</table>\n",
       "<p>... (198 rows omitted)</p>"
      ],
      "text/plain": [
       "Month   | Interest over time | Time\n",
       "2004-01 | 0                  | 2004\n",
       "2004-02 | 0                  | 2004.08\n",
       "2004-03 | 0                  | 2004.17\n",
       "2004-04 | 0                  | 2004.25\n",
       "2004-05 | 30                 | 2004.33\n",
       "2004-06 | 0                  | 2004.42\n",
       "2004-07 | 0                  | 2004.5\n",
       "2004-08 | 0                  | 2004.58\n",
       "2004-09 | 0                  | 2004.67\n",
       "2004-10 | 0                  | 2004.75\n",
       "... (198 rows omitted)"
      ]
     },
     "execution_count": 5,
     "metadata": {},
     "output_type": "execute_result"
    }
   ],
   "source": [
    "# HINT: Try to use array arithmetic\n",
    "# HINT: How long should the array you add to the table be?\n",
    "# The sc table has one row for every month in the time frame... \n",
    "# how can you access the number of months?\n",
    "\n",
    "\n",
    "def month_col_to_float(month_col):\n",
    "    '''Converts month column to floats.\n",
    "    \n",
    "    For example, the first month in the dataset, January 2004, should be represented as 2004.0, \n",
    "    the fifth month in the dataset should be 2004.3333 and the thirteenth month in the dataset \n",
    "    should be 2005.\n",
    "    '''\n",
    "    year_month = month_col.replace(\"-\", \" \").split(\" \")\n",
    "    index = int(year_month[1])\n",
    "    return float(year_month[0]) + month_floats.item(index - 1)\n",
    "    \n",
    "\n",
    "month_floats = np.arange(0, 12) / 12\n",
    "sc = sc.with_column(\"Time\", sc.apply(month_col_to_float, \"Month\"))\n",
    "sc"
   ]
  },
  {
   "cell_type": "code",
   "execution_count": 6,
   "id": "a6ca1bed",
   "metadata": {
    "deletable": false,
    "editable": false
   },
   "outputs": [
    {
     "data": {
      "text/html": [
       "<p><strong><pre style='display: inline;'>q1_1</pre></strong> passed!</p>"
      ],
      "text/plain": [
       "q1_1 results: All test cases passed!"
      ]
     },
     "execution_count": 6,
     "metadata": {},
     "output_type": "execute_result"
    }
   ],
   "source": [
    "grader.check(\"q1_1\")"
   ]
  },
  {
   "cell_type": "markdown",
   "id": "bearing-telling",
   "metadata": {
    "deletable": false,
    "editable": false
   },
   "source": [
    "<!-- BEGIN QUESTION -->\n",
    "\n",
    "**Question 2:** Visualize the popularity of the search term 'Single Cell Sequencing' over the entire time range. **(3 Points)**\n",
    "\n",
    "<!--\n",
    "BEGIN QUESTION\n",
    "name: q1_2\n",
    "manual: true\n",
    "-->"
   ]
  },
  {
   "cell_type": "code",
   "execution_count": 7,
   "id": "incident-namibia",
   "metadata": {},
   "outputs": [
    {
     "data": {
      "image/png": "[encoded data removed]",
      "text/plain": [
       "<Figure size 432x432 with 1 Axes>"
      ]
     },
     "metadata": {},
     "output_type": "display_data"
    }
   ],
   "source": [
    "sc.plot(\"Time\", \"Interest over time\")\n",
    "\n",
    "# DON'T CHANGE THIS LINE OF CODE\n",
    "plots.xticks(np.arange(2004, 2022), rotation = 45); "
   ]
  },
  {
   "cell_type": "markdown",
   "id": "studied-spice",
   "metadata": {
    "deletable": false,
    "editable": false
   },
   "source": [
    "<!-- END QUESTION -->\n",
    "\n",
    "**Question 3.** What was the most popular month for this search term in 2018? Assign the corresponding string value from the `Month` column to `most_popular`. **(3 Points)**\n",
    "\n",
    "<!--\n",
    "BEGIN QUESTION\n",
    "name: q1_3\n",
    "manual: false\n",
    "points:\n",
    " - 0\n",
    " - 0\n",
    " - 3\n",
    "-->"
   ]
  },
  {
   "cell_type": "code",
   "execution_count": 8,
   "id": "extensive-symposium",
   "metadata": {},
   "outputs": [
    {
     "data": {
      "text/plain": [
       "'2018-10'"
      ]
     },
     "execution_count": 8,
     "metadata": {},
     "output_type": "execute_result"
    }
   ],
   "source": [
    "def set_most_popular_to_true(popularity_col):\n",
    "    return most_popular_value == popularity_col\n",
    "\n",
    "twenty_eighteen = sc.where(\"Time\", are.between(2018, 2019))\n",
    "\n",
    "most_popular_value = max(twenty_eighteen.column(\"Interest over time\"))\n",
    "is_most_popular = twenty_eighteen.with_column(\"Is most popular\", \n",
    "                                              twenty_eighteen.apply(set_most_popular_to_true, \"Interest over time\"))\n",
    "\n",
    "\n",
    "most_popular = is_most_popular.where(\"Is most popular\", are.equal_to(True)).column(\"Month\").item(0)\n",
    "most_popular"
   ]
  },
  {
   "cell_type": "code",
   "execution_count": 9,
   "id": "615069ef",
   "metadata": {
    "deletable": false,
    "editable": false
   },
   "outputs": [
    {
     "data": {
      "text/html": [
       "<p><strong><pre style='display: inline;'>q1_3</pre></strong> passed!</p>"
      ],
      "text/plain": [
       "q1_3 results: All test cases passed!"
      ]
     },
     "execution_count": 9,
     "metadata": {},
     "output_type": "execute_result"
    }
   ],
   "source": [
    "grader.check(\"q1_3\")"
   ]
  },
  {
   "cell_type": "markdown",
   "id": "pediatric-instruction",
   "metadata": {
    "deletable": false,
    "editable": false
   },
   "source": [
    "**Question 4.** Oftentimes when working with data that is associated with times and dates, it is useful to take a \"Rolling Average\", which reports the value as the average value of the `k` previous points.  **(8 Points)**\n",
    "\n",
    "If there aren't k values before the value you want the rolling average of, the rolling average value should be 0.\n",
    "\n",
    "Define the function `rolling_average`, which takes in the integer arguments `i` and `k`, and returns the `k` rolling average of the `Interest over time` values for the `i`th row in the popularity table.\n",
    "\n",
    "*Hint: If we want to take the rolling average of the previous k = 3 points for row with index i = 10, which rows do we want to be taking the Interest over time average for? (Rows with index 7, 8 and 9. Note that we do not include the value from the row with index 10).*\n",
    "\n",
    "**Hint: If you're having trouble with this question, fill in the following picture:**\n",
    "\n",
    "<img src=\"rolling_average.png\">\n",
    "\n",
    "<!--\n",
    "BEGIN QUESTION\n",
    "name: q1_4\n",
    "manual: false\n",
    "points:\n",
    " - 0\n",
    " - 0\n",
    " - 8\n",
    "-->"
   ]
  },
  {
   "cell_type": "code",
   "execution_count": 10,
   "id": "owned-graduate",
   "metadata": {},
   "outputs": [
    {
     "data": {
      "text/plain": [
       "6.75"
      ]
     },
     "execution_count": 10,
     "metadata": {},
     "output_type": "execute_result"
    }
   ],
   "source": [
    "def rolling_average(i, k):\n",
    "    '''The k-rolling average for the ith row in the sc table.'''\n",
    "    # should this be < or <=? Come back and check\n",
    "    if (i - k) < 0:\n",
    "        return 0\n",
    "    k_previous_row_indices = np.arange(i - k, i)\n",
    "    tbl_k_rows = sc.take(k_previous_row_indices)\n",
    "    return np.average(tbl_k_rows.column(\"Interest over time\"))\n",
    "\n",
    "# The k=12 rolling average for month 13\n",
    "second_rolling_average = rolling_average(13, 12)\n",
    "second_rolling_average"
   ]
  },
  {
   "cell_type": "code",
   "execution_count": 11,
   "id": "c9968590",
   "metadata": {
    "deletable": false,
    "editable": false
   },
   "outputs": [
    {
     "data": {
      "text/html": [
       "<p><strong><pre style='display: inline;'>q1_4</pre></strong> passed!</p>"
      ],
      "text/plain": [
       "q1_4 results: All test cases passed!"
      ]
     },
     "execution_count": 11,
     "metadata": {},
     "output_type": "execute_result"
    }
   ],
   "source": [
    "grader.check(\"q1_4\")"
   ]
  },
  {
   "cell_type": "markdown",
   "id": "continued-technician",
   "metadata": {
    "deletable": false,
    "editable": false
   },
   "source": [
    "<!-- BEGIN QUESTION -->\n",
    "\n",
    "**Question 5.** Visualize the rolling average with `k=12` popularity of the search term 'Single Cell Sequencing' over the entire time range. **(5 Points)**\n",
    "\n",
    "*Hint: The table `row_numbers` should be helpful!*\n",
    "\n",
    "<!--\n",
    "BEGIN QUESTION\n",
    "name: q1_5\n",
    "manual: true\n",
    "-->"
   ]
  },
  {
   "cell_type": "code",
   "execution_count": 12,
   "id": "reflected-falls",
   "metadata": {
    "scrolled": false
   },
   "outputs": [
    {
     "data": {
      "image/png": "[encoded data removed]",
      "text/plain": [
       "<Figure size 432x432 with 1 Axes>"
      ]
     },
     "metadata": {},
     "output_type": "display_data"
    }
   ],
   "source": [
    "row_numbers = Table().with_columns(\"i\", np.arange(sc.num_rows), \"k\", 12)\n",
    "\n",
    "rolling_averages = row_numbers.apply(rolling_average, \"i\", \"k\")\n",
    "# check if this is right\n",
    "sc_with_rolling_avgs = sc.with_column(\"rolling averages\", rolling_averages)\n",
    "sc_with_rolling_avgs.plot(\"Time\", \"rolling averages\")\n",
    "\n",
    "# DON'T CHANGE THIS LINE OF CODE\n",
    "plots.xticks(np.arange(2004, 2022), rotation = 45);"
   ]
  },
  {
   "cell_type": "markdown",
   "id": "rubber-night",
   "metadata": {
    "deletable": false,
    "editable": false
   },
   "source": [
    "<!-- END QUESTION -->\n",
    "\n",
    "<!-- BEGIN QUESTION -->\n",
    "\n",
    "**Question 6.** What does this graph demonstrate about the popularity of Single Cell Sequencing? Does the dip in popularity of the search term around the end of 2020 indicate that fewer people are using the technology? **(3 Points)**\n",
    "\n",
    "<!--\n",
    "BEGIN QUESTION\n",
    "name: q1_6\n",
    "manual: true\n",
    "-->"
   ]
  },
  {
   "cell_type": "markdown",
   "id": "0e6e0df9",
   "metadata": {},
   "source": [
    "_This grapgh demonstrates that the popularity of Single Cell Sequencing has been increasing since 2004. The dip in popularity of the search term aroudn teh end of 2020 doesn't necessarily indicate that fewer people are using the technology. It might be that they are already familiar with the technology and doesn't search for that topic anymore. They might not be using google to search those terms, etc._"
   ]
  },
  {
   "cell_type": "markdown",
   "id": "caroline-extreme",
   "metadata": {},
   "source": [
    "<!-- END QUESTION -->\n",
    "\n",
    "\n",
    "\n",
    "# 2. Single Cell RNA Sequencing Data"
   ]
  },
  {
   "cell_type": "markdown",
   "id": "ad01cd00",
   "metadata": {},
   "source": [
    "### Now that you have learned a bit about this new technology, you're going to use real Single Cell RNA Sequencing (scRNA-seq) data to investigate cystic fibrosis. First, however, we need to load in the data."
   ]
  },
  {
   "cell_type": "markdown",
   "id": "05b25f66",
   "metadata": {},
   "source": [
    "This section of the project and section 3 are based on the paper [A revised airway epithelial hierarchy includes CFTR-expressing ionocytes](https://pubmed.ncbi.nlm.nih.gov/30069044/) and corresponding [data](https://singlecell.broadinstitute.org/single_cell/study/SCP163/airway-epithelium#study-summary).\n",
    "\n",
    ">\"The airways of the lung are the primary sites of disease in asthma and cystic fibrosis.\" (Montoro et al)\n",
    "\n",
    "Many diseases impact the function of the cells in our lungs, including cystic fibrosis.\n",
    "\n",
    ">\"Cystic fibrosis (CF) is a genetic disorder that affects mostly the lungs, but also the pancreas, liver, kidneys, and intestine. Long-term issues include difficulty breathing and coughing up mucus as a result of frequent lung infections.\" [Wikipedia](https://en.wikipedia.org/wiki/Cystic_fibrosis)\n",
    "\n",
    "Using Single Cell Sequencing and data science, biologists in the paper were able to identify a small subset of lung cells that appear to be the primary instigators of cystic fibrosis. By identifying these cells, scientists will be able to target drugs to cure cystic fibrosis with more accuracy. \n",
    "\n",
    "**You will work to identify these same cells!**"
   ]
  },
  {
   "cell_type": "markdown",
   "id": "071ea799",
   "metadata": {},
   "source": [
    "### Data Format"
   ]
  },
  {
   "cell_type": "markdown",
   "id": "f2092a21",
   "metadata": {},
   "source": [
    "Single Cell RNA Sequencing (scRNA-seq) data is generally stored in a special data-saving format called the \"Market Exchange Format\" (MEX).\n",
    "\n",
    "scRNA-seq experiments collect a gene RNA expression value for every single cell, and every gene, in a sample of tissue. Since gene RNA expression values are 0 for many gene-cell pairs, the MEX format does not store these values."
   ]
  },
  {
   "cell_type": "markdown",
   "id": "23c79a54",
   "metadata": {},
   "source": [
    "Let's take a look at the data from the study. The biologists analyzed 7193 mouse cells.\n",
    "\n",
    "Run the following cells to read in the `matrix`, `cells` and `genes` tables.\n",
    "\n",
    "**Dataset Details:**\n",
    "- Origin: This dataset was sourced from [here](https://singlecell.broadinstitute.org/single_cell/study/SCP163/airway-epithelium#study-summary). **Not required:** To access the data, you can login with a google account. To replicate the expression data, you can download the required files listed in data_gen.ipynb and data_gen_2.ipynb. **[You don't have to do this, we've already done it for you]**\n",
    "- Extra Context: There is no other context for this data."
   ]
  },
  {
   "cell_type": "code",
   "execution_count": 13,
   "id": "final-community",
   "metadata": {},
   "outputs": [],
   "source": [
    "matrix = Table.read_table(\"matrix.csv\")\n",
    "cells = Table.read_table(\"cells.csv\")\n",
    "genes = Table.read_table(\"genes.csv\")"
   ]
  },
  {
   "cell_type": "markdown",
   "id": "rural-material",
   "metadata": {},
   "source": [
    "The `matrix` table contains one row **for each pair of Gene and Cell that had an RNA expression above 0**. Instead of using the names of the genes and cells, the `matrix` table instead refers to them by their numbers, stored in the `Gene Number` and `Cell Number` columns."
   ]
  },
  {
   "cell_type": "code",
   "execution_count": 14,
   "id": "genetic-communist",
   "metadata": {
    "scrolled": true
   },
   "outputs": [
    {
     "data": {
      "text/html": [
       "<table border=\"1\" class=\"dataframe\">\n",
       "    <thead>\n",
       "        <tr>\n",
       "            <th>Gene Number</th> <th>Cell Number</th> <th>Expression</th>\n",
       "        </tr>\n",
       "    </thead>\n",
       "    <tbody>\n",
       "        <tr>\n",
       "            <td>9          </td> <td>2          </td> <td>1.07      </td>\n",
       "        </tr>\n",
       "        <tr>\n",
       "            <td>8          </td> <td>5          </td> <td>0.8       </td>\n",
       "        </tr>\n",
       "        <tr>\n",
       "            <td>8          </td> <td>8          </td> <td>0.81      </td>\n",
       "        </tr>\n",
       "        <tr>\n",
       "            <td>8          </td> <td>10         </td> <td>3.81      </td>\n",
       "        </tr>\n",
       "        <tr>\n",
       "            <td>9          </td> <td>10         </td> <td>2.42      </td>\n",
       "        </tr>\n",
       "        <tr>\n",
       "            <td>8          </td> <td>11         </td> <td>1.35      </td>\n",
       "        </tr>\n",
       "        <tr>\n",
       "            <td>9          </td> <td>12         </td> <td>1.38      </td>\n",
       "        </tr>\n",
       "        <tr>\n",
       "            <td>8          </td> <td>13         </td> <td>0.72      </td>\n",
       "        </tr>\n",
       "        <tr>\n",
       "            <td>9          </td> <td>14         </td> <td>0.74      </td>\n",
       "        </tr>\n",
       "        <tr>\n",
       "            <td>9          </td> <td>18         </td> <td>1.68      </td>\n",
       "        </tr>\n",
       "    </tbody>\n",
       "</table>\n",
       "<p>... (4345 rows omitted)</p>"
      ],
      "text/plain": [
       "Gene Number | Cell Number | Expression\n",
       "9           | 2           | 1.07\n",
       "8           | 5           | 0.8\n",
       "8           | 8           | 0.81\n",
       "8           | 10          | 3.81\n",
       "9           | 10          | 2.42\n",
       "8           | 11          | 1.35\n",
       "9           | 12          | 1.38\n",
       "8           | 13          | 0.72\n",
       "9           | 14          | 0.74\n",
       "9           | 18          | 1.68\n",
       "... (4345 rows omitted)"
      ]
     },
     "execution_count": 14,
     "metadata": {},
     "output_type": "execute_result"
    }
   ],
   "source": [
    "matrix"
   ]
  },
  {
   "cell_type": "markdown",
   "id": "worse-proxy",
   "metadata": {},
   "source": [
    "The names of the cells and genes are stored in the `cells` and `genes` tables, along with their corresponding numbers."
   ]
  },
  {
   "cell_type": "code",
   "execution_count": 27,
   "id": "bearing-discipline",
   "metadata": {},
   "outputs": [
    {
     "data": {
      "text/html": [
       "<table border=\"1\" class=\"dataframe\">\n",
       "    <thead>\n",
       "        <tr>\n",
       "            <th>Cell Name</th> <th>Cell Number</th>\n",
       "        </tr>\n",
       "    </thead>\n",
       "    <tbody>\n",
       "        <tr>\n",
       "            <td>WT_M1_GCTTGAGAAGTCGT</td> <td>1          </td>\n",
       "        </tr>\n",
       "        <tr>\n",
       "            <td>WT_M1_GGAACACTTTCGTT</td> <td>2          </td>\n",
       "        </tr>\n",
       "        <tr>\n",
       "            <td>WT_M1_GGAATGCTTCGACA</td> <td>3          </td>\n",
       "        </tr>\n",
       "        <tr>\n",
       "            <td>WT_M1_GGACAACTCTGAGT</td> <td>4          </td>\n",
       "        </tr>\n",
       "        <tr>\n",
       "            <td>WT_M1_GGACAACTTCGCTC</td> <td>5          </td>\n",
       "        </tr>\n",
       "        <tr>\n",
       "            <td>WT_M1_GGACATTGTCTGGA</td> <td>6          </td>\n",
       "        </tr>\n",
       "        <tr>\n",
       "            <td>WT_M1_GGACCCGAAGAGTA</td> <td>7          </td>\n",
       "        </tr>\n",
       "        <tr>\n",
       "            <td>WT_M1_GGACCTCTGGTTCA</td> <td>8          </td>\n",
       "        </tr>\n",
       "        <tr>\n",
       "            <td>WT_M1_GGACTATGCGCCTT</td> <td>9          </td>\n",
       "        </tr>\n",
       "        <tr>\n",
       "            <td>WT_M1_GGAGCAGATGGAGG</td> <td>10         </td>\n",
       "        </tr>\n",
       "    </tbody>\n",
       "</table>\n",
       "<p>... (7183 rows omitted)</p>"
      ],
      "text/plain": [
       "Cell Name            | Cell Number\n",
       "WT_M1_GCTTGAGAAGTCGT | 1\n",
       "WT_M1_GGAACACTTTCGTT | 2\n",
       "WT_M1_GGAATGCTTCGACA | 3\n",
       "WT_M1_GGACAACTCTGAGT | 4\n",
       "WT_M1_GGACAACTTCGCTC | 5\n",
       "WT_M1_GGACATTGTCTGGA | 6\n",
       "WT_M1_GGACCCGAAGAGTA | 7\n",
       "WT_M1_GGACCTCTGGTTCA | 8\n",
       "WT_M1_GGACTATGCGCCTT | 9\n",
       "WT_M1_GGAGCAGATGGAGG | 10\n",
       "... (7183 rows omitted)"
      ]
     },
     "execution_count": 27,
     "metadata": {},
     "output_type": "execute_result"
    }
   ],
   "source": [
    "cells"
   ]
  },
  {
   "cell_type": "code",
   "execution_count": 16,
   "id": "bottom-medicine",
   "metadata": {},
   "outputs": [
    {
     "data": {
      "text/html": [
       "<table border=\"1\" class=\"dataframe\">\n",
       "    <thead>\n",
       "        <tr>\n",
       "            <th>Gene Name</th> <th>Gene Number</th>\n",
       "        </tr>\n",
       "    </thead>\n",
       "    <tbody>\n",
       "        <tr>\n",
       "            <td>P2ry14   </td> <td>1          </td>\n",
       "        </tr>\n",
       "        <tr>\n",
       "            <td>Atp6v0d2 </td> <td>2          </td>\n",
       "        </tr>\n",
       "        <tr>\n",
       "            <td>Stap1    </td> <td>3          </td>\n",
       "        </tr>\n",
       "        <tr>\n",
       "            <td>Cftr     </td> <td>4          </td>\n",
       "        </tr>\n",
       "        <tr>\n",
       "            <td>Ascl3    </td> <td>5          </td>\n",
       "        </tr>\n",
       "        <tr>\n",
       "            <td>Moxd1    </td> <td>6          </td>\n",
       "        </tr>\n",
       "        <tr>\n",
       "            <td>Foxi1    </td> <td>7          </td>\n",
       "        </tr>\n",
       "        <tr>\n",
       "            <td>Asgr1    </td> <td>8          </td>\n",
       "        </tr>\n",
       "        <tr>\n",
       "            <td>Atp6v1c2 </td> <td>9          </td>\n",
       "        </tr>\n",
       "    </tbody>\n",
       "</table>"
      ],
      "text/plain": [
       "Gene Name | Gene Number\n",
       "P2ry14    | 1\n",
       "Atp6v0d2  | 2\n",
       "Stap1     | 3\n",
       "Cftr      | 4\n",
       "Ascl3     | 5\n",
       "Moxd1     | 6\n",
       "Foxi1     | 7\n",
       "Asgr1     | 8\n",
       "Atp6v1c2  | 9"
      ]
     },
     "execution_count": 16,
     "metadata": {},
     "output_type": "execute_result"
    }
   ],
   "source": [
    "genes"
   ]
  },
  {
   "cell_type": "markdown",
   "id": "mechanical-context",
   "metadata": {
    "deletable": false,
    "editable": false
   },
   "source": [
    "**Question 1.** Assign `num_obs` to the number of possible cell and gene pairs in the experiment. A cell and gene pair is known as an observation (be sure to count RNA expression values that are equal to 0). **(3 Points)**\n",
    "\n",
    "<!--\n",
    "BEGIN QUESTION\n",
    "name: q2_1\n",
    "manual: false\n",
    "points:\n",
    " - 0\n",
    " - 0\n",
    " - 3\n",
    "-->"
   ]
  },
  {
   "cell_type": "code",
   "execution_count": 17,
   "id": "canadian-digit",
   "metadata": {},
   "outputs": [
    {
     "data": {
      "text/plain": [
       "64737"
      ]
     },
     "execution_count": 17,
     "metadata": {},
     "output_type": "execute_result"
    }
   ],
   "source": [
    "num_obs = genes.num_rows * cells.num_rows\n",
    "num_obs"
   ]
  },
  {
   "cell_type": "code",
   "execution_count": 18,
   "id": "5c19c993",
   "metadata": {
    "deletable": false,
    "editable": false
   },
   "outputs": [
    {
     "data": {
      "text/html": [
       "<p><strong><pre style='display: inline;'>q2_1</pre></strong> passed!</p>"
      ],
      "text/plain": [
       "q2_1 results: All test cases passed!"
      ]
     },
     "execution_count": 18,
     "metadata": {},
     "output_type": "execute_result"
    }
   ],
   "source": [
    "grader.check(\"q2_1\")"
   ]
  },
  {
   "cell_type": "markdown",
   "id": "cardiac-insider",
   "metadata": {
    "deletable": false,
    "editable": false
   },
   "source": [
    "**Question 2.** Cell Numbers and Gene Numbers can be difficult to work with. Assign `matrix_with_names` to a copy of the `matrix` table but with the *names* of Cells and Genes instead of numbers. The new table should have the columns `Cell`, `Gene` and `Expression`. **(5 Points)**\n",
    "\n",
    "<!--\n",
    "BEGIN QUESTION\n",
    "name: q2_2\n",
    "manual: false\n",
    "points:\n",
    " - 0\n",
    " - 0\n",
    " - 0\n",
    " - 0\n",
    " - 2\n",
    " - 3\n",
    "-->"
   ]
  },
  {
   "cell_type": "code",
   "execution_count": 24,
   "id": "stuck-reality",
   "metadata": {},
   "outputs": [
    {
     "data": {
      "text/html": [
       "<table border=\"1\" class=\"dataframe\">\n",
       "    <thead>\n",
       "        <tr>\n",
       "            <th>Cell</th> <th>Gene</th> <th>Expression</th>\n",
       "        </tr>\n",
       "    </thead>\n",
       "    <tbody>\n",
       "        <tr>\n",
       "            <td>WT_M1_TACGAGTGAGCCAT</td> <td>P2ry14</td> <td>0.82      </td>\n",
       "        </tr>\n",
       "        <tr>\n",
       "            <td>WT_M1_TTGCATTGACCGAT</td> <td>P2ry14</td> <td>0.46      </td>\n",
       "        </tr>\n",
       "        <tr>\n",
       "            <td>WT_M2_AACTCACTGAACTC</td> <td>P2ry14</td> <td>1.95      </td>\n",
       "        </tr>\n",
       "        <tr>\n",
       "            <td>WT_M2_ACCACCTGAAAGTG</td> <td>P2ry14</td> <td>1.8       </td>\n",
       "        </tr>\n",
       "        <tr>\n",
       "            <td>WT_M2_ACGACAACTGGTGT</td> <td>P2ry14</td> <td>1.53      </td>\n",
       "        </tr>\n",
       "    </tbody>\n",
       "</table>\n",
       "<p>... (4350 rows omitted)</p>"
      ],
      "text/plain": [
       "<IPython.core.display.HTML object>"
      ]
     },
     "metadata": {},
     "output_type": "display_data"
    }
   ],
   "source": [
    "matrix_with_cell_names = matrix.join(\"Cell Number\", cells, \"Cell Number\").relabeled(\"Cell Name\", \"Cell\")\n",
    "matrix_with_gene_names = matrix_with_cell_names.join(\"Gene Number\", genes, \"Gene Number\").relabeled(\"Gene Name\", \"Gene\")\n",
    "\n",
    "matrix_with_names = matrix_with_gene_names.select(\"Cell\", \"Gene\", \"Expression\")\n",
    "matrix_with_names.show(5)"
   ]
  },
  {
   "cell_type": "code",
   "execution_count": 25,
   "id": "2d27f75c",
   "metadata": {
    "deletable": false,
    "editable": false
   },
   "outputs": [
    {
     "data": {
      "text/html": [
       "<p><strong><pre style='display: inline;'>q2_2</pre></strong> passed!</p>"
      ],
      "text/plain": [
       "q2_2 results: All test cases passed!"
      ]
     },
     "execution_count": 25,
     "metadata": {},
     "output_type": "execute_result"
    }
   ],
   "source": [
    "grader.check(\"q2_2\")"
   ]
  },
  {
   "cell_type": "markdown",
   "id": "negative-applicant",
   "metadata": {
    "deletable": false,
    "editable": false
   },
   "source": [
    "**Question 3.** We use cell and gene numbers instead of names to save space. How many characters in total are used to store the names of cells and the names of genes in all of `matrix_with_names`? Assign that value to `num_chars`. **(4 Points)**\n",
    "\n",
    "*Hint: How do you count the number of characters in a string?*\n",
    "\n",
    "<!--\n",
    "BEGIN QUESTION\n",
    "name: q2_3\n",
    "manual: false\n",
    "points:\n",
    " - 0\n",
    " - 4\n",
    "-->"
   ]
  },
  {
   "cell_type": "code",
   "execution_count": 39,
   "id": "simple-haven",
   "metadata": {
    "scrolled": true
   },
   "outputs": [
    {
     "data": {
      "text/plain": [
       "121756"
      ]
     },
     "execution_count": 39,
     "metadata": {},
     "output_type": "execute_result"
    }
   ],
   "source": [
    "num_gene_chars = len(\"\".join(matrix_with_names.column(\"Gene\")))\n",
    "num_cell_chars = len(\"\".join(matrix_with_names.column(\"Cell\")))\n",
    "\n",
    "num_chars = num_gene_chars + num_cell_chars\n",
    "num_chars"
   ]
  },
  {
   "cell_type": "code",
   "execution_count": 40,
   "id": "11de06d7",
   "metadata": {
    "deletable": false,
    "editable": false
   },
   "outputs": [
    {
     "data": {
      "text/html": [
       "<p><strong><pre style='display: inline;'>q2_3</pre></strong> passed!</p>"
      ],
      "text/plain": [
       "q2_3 results: All test cases passed!"
      ]
     },
     "execution_count": 40,
     "metadata": {},
     "output_type": "execute_result"
    }
   ],
   "source": [
    "grader.check(\"q2_3\")"
   ]
  },
  {
   "cell_type": "markdown",
   "id": "ahead-heath",
   "metadata": {
    "deletable": false,
    "editable": false
   },
   "source": [
    "**Question 4.** In order to perform more data analysis, it would be helpful to have a table that lists all the pairs of genes and cells, including those where the expression value is 0. **(6 Points)**\n",
    "\n",
    "Assign `dense_matrix` to a table that has a column for cell names called `Cell`, and a column for each gene name. Each row should contain the expression values for the corresponding cell if there is any expression, or 0 if there is no expression.\n",
    "\n",
    "*Hint: The `first_or_zero` function should be helpful!*\n",
    "\n",
    "<!--\n",
    "BEGIN QUESTION\n",
    "name: q2_4\n",
    "manual: false\n",
    "points:\n",
    " - 0\n",
    " - 0\n",
    " - 0\n",
    " - 6\n",
    "-->"
   ]
  },
  {
   "cell_type": "code",
   "execution_count": 48,
   "id": "specialized-phone",
   "metadata": {},
   "outputs": [
    {
     "data": {
      "text/html": [
       "<table border=\"1\" class=\"dataframe\">\n",
       "    <thead>\n",
       "        <tr>\n",
       "            <th>Cell</th> <th>Ascl3</th> <th>Asgr1</th> <th>Atp6v0d2</th> <th>Atp6v1c2</th> <th>Cftr</th> <th>Foxi1</th> <th>Moxd1</th> <th>P2ry14</th> <th>Stap1</th>\n",
       "        </tr>\n",
       "    </thead>\n",
       "    <tbody>\n",
       "        <tr>\n",
       "            <td>Foxj1GFP_M1_AAAGATCTTGCATG</td> <td>0    </td> <td>0    </td> <td>0       </td> <td>1.63    </td> <td>0   </td> <td>0    </td> <td>0    </td> <td>0     </td> <td>0    </td>\n",
       "        </tr>\n",
       "        <tr>\n",
       "            <td>Foxj1GFP_M1_AACCGATGAGATCC</td> <td>0    </td> <td>0    </td> <td>0       </td> <td>1.17    </td> <td>0   </td> <td>0    </td> <td>0    </td> <td>0     </td> <td>0    </td>\n",
       "        </tr>\n",
       "        <tr>\n",
       "            <td>Foxj1GFP_M1_AACGGTACAACTGC</td> <td>0    </td> <td>0    </td> <td>0       </td> <td>1.52    </td> <td>0   </td> <td>0    </td> <td>0    </td> <td>0     </td> <td>0    </td>\n",
       "        </tr>\n",
       "        <tr>\n",
       "            <td>Foxj1GFP_M1_AATAGGGATTCGTT</td> <td>0    </td> <td>0    </td> <td>0       </td> <td>2.17    </td> <td>0   </td> <td>0    </td> <td>0    </td> <td>0     </td> <td>0    </td>\n",
       "        </tr>\n",
       "        <tr>\n",
       "            <td>Foxj1GFP_M1_AATCAAACGGCATT</td> <td>0    </td> <td>0    </td> <td>0       </td> <td>2.46    </td> <td>0   </td> <td>0    </td> <td>0    </td> <td>0     </td> <td>0    </td>\n",
       "        </tr>\n",
       "        <tr>\n",
       "            <td>Foxj1GFP_M1_AATCCGGAGGTCAT</td> <td>0    </td> <td>0    </td> <td>0       </td> <td>1.56    </td> <td>0   </td> <td>0    </td> <td>0    </td> <td>0     </td> <td>0    </td>\n",
       "        </tr>\n",
       "        <tr>\n",
       "            <td>Foxj1GFP_M1_AATCCTACGGTGAG</td> <td>0    </td> <td>0    </td> <td>0       </td> <td>2.72    </td> <td>0   </td> <td>0    </td> <td>0    </td> <td>0     </td> <td>0    </td>\n",
       "        </tr>\n",
       "        <tr>\n",
       "            <td>Foxj1GFP_M1_AATCTCTGAACAGA</td> <td>0    </td> <td>0    </td> <td>0       </td> <td>2.47    </td> <td>0   </td> <td>0    </td> <td>0    </td> <td>0     </td> <td>0    </td>\n",
       "        </tr>\n",
       "        <tr>\n",
       "            <td>Foxj1GFP_M1_AATGGCTGAGTGTC</td> <td>0    </td> <td>0    </td> <td>0       </td> <td>1.26    </td> <td>0   </td> <td>0    </td> <td>0    </td> <td>0     </td> <td>0    </td>\n",
       "        </tr>\n",
       "        <tr>\n",
       "            <td>Foxj1GFP_M1_AATGTCCTAGCACT</td> <td>0    </td> <td>0    </td> <td>0       </td> <td>1.5     </td> <td>0   </td> <td>0    </td> <td>0    </td> <td>0     </td> <td>0    </td>\n",
       "        </tr>\n",
       "    </tbody>\n",
       "</table>\n",
       "<p>... (3697 rows omitted)</p>"
      ],
      "text/plain": [
       "Cell                       | Ascl3 | Asgr1 | Atp6v0d2 | Atp6v1c2 | Cftr | Foxi1 | Moxd1 | P2ry14 | Stap1\n",
       "Foxj1GFP_M1_AAAGATCTTGCATG | 0     | 0     | 0        | 1.63     | 0    | 0     | 0     | 0      | 0\n",
       "Foxj1GFP_M1_AACCGATGAGATCC | 0     | 0     | 0        | 1.17     | 0    | 0     | 0     | 0      | 0\n",
       "Foxj1GFP_M1_AACGGTACAACTGC | 0     | 0     | 0        | 1.52     | 0    | 0     | 0     | 0      | 0\n",
       "Foxj1GFP_M1_AATAGGGATTCGTT | 0     | 0     | 0        | 2.17     | 0    | 0     | 0     | 0      | 0\n",
       "Foxj1GFP_M1_AATCAAACGGCATT | 0     | 0     | 0        | 2.46     | 0    | 0     | 0     | 0      | 0\n",
       "Foxj1GFP_M1_AATCCGGAGGTCAT | 0     | 0     | 0        | 1.56     | 0    | 0     | 0     | 0      | 0\n",
       "Foxj1GFP_M1_AATCCTACGGTGAG | 0     | 0     | 0        | 2.72     | 0    | 0     | 0     | 0      | 0\n",
       "Foxj1GFP_M1_AATCTCTGAACAGA | 0     | 0     | 0        | 2.47     | 0    | 0     | 0     | 0      | 0\n",
       "Foxj1GFP_M1_AATGGCTGAGTGTC | 0     | 0     | 0        | 1.26     | 0    | 0     | 0     | 0      | 0\n",
       "Foxj1GFP_M1_AATGTCCTAGCACT | 0     | 0     | 0        | 1.5      | 0    | 0     | 0     | 0      | 0\n",
       "... (3697 rows omitted)"
      ]
     },
     "execution_count": 48,
     "metadata": {},
     "output_type": "execute_result"
    }
   ],
   "source": [
    "def first_or_zero(arr):\n",
    "    '''Returns the first value in the array or 0 if the array is empty.'''\n",
    "    if (len(arr) == 0):\n",
    "        return 0\n",
    "    else:\n",
    "        return arr.item(0)\n",
    "    \n",
    "dense_matrix = matrix_with_names.pivot(\"Gene\", \"Cell\", \"Expression\", first_or_zero)\n",
    "dense_matrix"
   ]
  },
  {
   "cell_type": "code",
   "execution_count": 49,
   "id": "aa75d78a",
   "metadata": {
    "deletable": false,
    "editable": false
   },
   "outputs": [
    {
     "data": {
      "text/html": [
       "<p><strong><pre style='display: inline;'>q2_4</pre></strong> passed!</p>"
      ],
      "text/plain": [
       "q2_4 results: All test cases passed!"
      ]
     },
     "execution_count": 49,
     "metadata": {},
     "output_type": "execute_result"
    }
   ],
   "source": [
    "grader.check(\"q2_4\")"
   ]
  },
  {
   "cell_type": "markdown",
   "id": "3ed803ff",
   "metadata": {},
   "source": [
    "### Marker Genes"
   ]
  },
  {
   "cell_type": "markdown",
   "id": "f41d2762",
   "metadata": {},
   "source": [
    "The gene Cftr has been associated with cystic fibrosis. The table `dense_matrix` contains the expression of 8 genes of interest including Cftr. We call these genes \"marker genes\". "
   ]
  },
  {
   "cell_type": "markdown",
   "id": "fce9d353",
   "metadata": {},
   "source": [
    "The biologists wanted to study the effect of using genetic engineering to \"turn off\" the `Foxi1` gene in some of the mice in the study (we'll see why in part 3).\n",
    "\n",
    "Some of the cells start with the 2-letter prefix \"WT\". \"WT\" stands for \"Wild type\", which indicates that the cells come from mice *that were not genetically engineered*. (Wild type can be thought of as the control group).\n",
    "\n",
    "First, in only the wild type group (control), we want to understand the association between expression of the genes Cftr and Foxi1. \n",
    "\n",
    "*If we looked at the non-wild type group, all the values for `Foxi1` would be 0, since we turned it off in those mice.*"
   ]
  },
  {
   "cell_type": "markdown",
   "id": "recreational-helicopter",
   "metadata": {
    "deletable": false,
    "editable": false
   },
   "source": [
    "<!-- BEGIN QUESTION -->\n",
    "\n",
    "**Question 5.** Visualize the association between expression of the genes `Cftr` and `Foxi1` in cells that start with `\"WT\"`. **(5 Points)**\n",
    "\n",
    "*Hint: The `first_two_letters` function should be helpful!*\n",
    "\n",
    "<!--\n",
    "BEGIN QUESTION\n",
    "name: q2_5\n",
    "manual: true\n",
    "-->"
   ]
  },
  {
   "cell_type": "code",
   "execution_count": 57,
   "id": "split-wheel",
   "metadata": {
    "scrolled": false
   },
   "outputs": [
    {
     "data": {
      "image/png": "[encoded data removed]",
      "text/plain": [
       "<Figure size 360x360 with 1 Axes>"
      ]
     },
     "metadata": {},
     "output_type": "display_data"
    }
   ],
   "source": [
    "def first_two_letters(string):\n",
    "    '''Returns the first two characters of a string'''\n",
    "    return string[0:2]\n",
    "\n",
    "with_prefixes = dense_matrix.with_column(\"Cell Name Prefix\", dense_matrix.apply(first_two_letters, \"Cell\")).drop(\"Cell\")\n",
    "wt_cells = with_prefixes.where(\"Cell Name Prefix\", are.equal_to(\"WT\"))\n",
    "wt_cells_genes_cftr_foxi1 = wt_cells.select(\"Cell Name Prefix\", \"Cftr\", \"Foxi1\")\n",
    "wt_cells_genes_cftr_foxi1.scatter(\"Cftr\", \"Foxi1\")"
   ]
  },
  {
   "cell_type": "markdown",
   "id": "f28c1f1a",
   "metadata": {},
   "source": [
    "<!-- END QUESTION -->\n",
    "\n",
    "\n",
    "\n",
    "You should see a positive association in the expression between these two genes.\n",
    "\n",
    "### Now that you have successfully loaded in the study data, and started some initial data exploration, you are ready to start investigating the study's findings with regards to cystic fibrosis!"
   ]
  },
  {
   "cell_type": "markdown",
   "id": "59a3aa93",
   "metadata": {},
   "source": [
    "# Checkpoint (due Thursday 7/08 by 11:59 PM PT)\n",
    "#### Congratulations, you have reached the checkpoint! Run the following cells and submit to the gradescope assignment corresponding to the checkpoint:  <u>Project 1 Checkpoint</u> .\n",
    "\n",
    "### NOTE: this checkpoint does not represent the halfway point of the project. You are **highly** encouraged to continue on to the next section early."
   ]
  },
  {
   "cell_type": "markdown",
   "id": "4929ef53",
   "metadata": {},
   "source": [
    "---\n",
    "\n",
    "To double-check your work, the cell below will rerun all of the autograder tests for sections 1 and 2."
   ]
  },
  {
   "cell_type": "code",
   "execution_count": 58,
   "id": "ebf93aa7",
   "metadata": {},
   "outputs": [
    {
     "data": {
      "text/html": [
       "<p><strong><pre style='display: inline;'>q1_1</pre></strong> passed!</p>"
      ],
      "text/plain": [
       "q1_1 results: All test cases passed!"
      ]
     },
     "metadata": {},
     "output_type": "display_data"
    },
    {
     "data": {
      "text/html": [
       "<p><strong><pre style='display: inline;'>q1_3</pre></strong> passed!</p>"
      ],
      "text/plain": [
       "q1_3 results: All test cases passed!"
      ]
     },
     "metadata": {},
     "output_type": "display_data"
    },
    {
     "data": {
      "text/html": [
       "<p><strong><pre style='display: inline;'>q1_4</pre></strong> passed!</p>"
      ],
      "text/plain": [
       "q1_4 results: All test cases passed!"
      ]
     },
     "metadata": {},
     "output_type": "display_data"
    },
    {
     "data": {
      "text/html": [
       "<p><strong><pre style='display: inline;'>q2_1</pre></strong> passed!</p>"
      ],
      "text/plain": [
       "q2_1 results: All test cases passed!"
      ]
     },
     "metadata": {},
     "output_type": "display_data"
    },
    {
     "data": {
      "text/html": [
       "<p><strong><pre style='display: inline;'>q2_2</pre></strong> passed!</p>"
      ],
      "text/plain": [
       "q2_2 results: All test cases passed!"
      ]
     },
     "metadata": {},
     "output_type": "display_data"
    },
    {
     "data": {
      "text/html": [
       "<p><strong><pre style='display: inline;'>q2_3</pre></strong> passed!</p>"
      ],
      "text/plain": [
       "q2_3 results: All test cases passed!"
      ]
     },
     "metadata": {},
     "output_type": "display_data"
    },
    {
     "data": {
      "text/html": [
       "<p><strong><pre style='display: inline;'>q2_4</pre></strong> passed!</p>"
      ],
      "text/plain": [
       "q2_4 results: All test cases passed!"
      ]
     },
     "metadata": {},
     "output_type": "display_data"
    }
   ],
   "source": [
    "checkpoint_tests = [\"q1_1\", \"q1_3\", \"q1_4\", \"q2_1\", \"q2_2\", \"q2_3\", \"q2_4\"]\n",
    "for test in checkpoint_tests:\n",
    "    display(grader.check(test))"
   ]
  },
  {
   "cell_type": "markdown",
   "id": "88c254c1",
   "metadata": {},
   "source": [
    "## Submission\n",
    "\n",
    "Make sure you have run all cells in your notebook in order before running the cell below, so that all images/graphs appear in the output. The cell below will generate a zip file for you to submit. **Please save before exporting!**"
   ]
  },
  {
   "cell_type": "code",
   "execution_count": 45,
   "id": "ba6e59b3",
   "metadata": {},
   "outputs": [],
   "source": [
    "# Save your notebook first, then run this cell to export your submission.\n",
    "grader.export(pdf=False)"
   ]
  },
  {
   "cell_type": "markdown",
   "id": "arabic-perception",
   "metadata": {},
   "source": [
    "# 3. Cystic Fibrosis"
   ]
  },
  {
   "cell_type": "markdown",
   "id": "a7663e35",
   "metadata": {},
   "source": [
    "### Now that you have processed the data from the experiment, we can determine which specific cells are associated with cystic fibrosis."
   ]
  },
  {
   "cell_type": "markdown",
   "id": "sharing-madonna",
   "metadata": {},
   "source": [
    "In addition to expression data, the biologists also collected other information about each cell, which will help us determine the type of cell associated with cystic fibrosis.\n",
    "\n",
    "Run the following cells to load in the `tsne` table and the `metadata` table.\n",
    "\n",
    "The `tsne` table contains the `Name` of each cell, and summary numerical values, `X` and `Y`.\n",
    "\n",
    "The `metadata` table contains more metrics about each cell. \n",
    "\n",
    "**You will see the term 'metadata' a lot in data science- it means \"a set of data that describes and gives information about other data.\"**\n",
    "\n",
    "**Dataset Details:**\n",
    "- Origin: This dataset was sourced from [here](https://singlecell.broadinstitute.org/single_cell/study/SCP163/airway-epithelium#study-summary). **Not required:** To access the data, you can login with a google account. To replicate the expression data, you can download the required files listed in data_gen.ipynb and data_gen_2.ipynb. **[You don't have to do this, we've already done it for you]**\n",
    "- Extra Context: There is no other context for this data."
   ]
  },
  {
   "cell_type": "code",
   "execution_count": 46,
   "id": "random-dimension",
   "metadata": {},
   "outputs": [],
   "source": [
    "tsne = Table.read_table(\"tsne.tsv\", sep=\"\\t\")\n",
    "tsne"
   ]
  },
  {
   "cell_type": "code",
   "execution_count": 47,
   "id": "floating-occasions",
   "metadata": {
    "scrolled": false
   },
   "outputs": [],
   "source": [
    "metadata = Table.read_table(\"metadata.tsv\", sep=\"\\t\")\n",
    "metadata"
   ]
  },
  {
   "cell_type": "markdown",
   "id": "0f90bd30",
   "metadata": {},
   "source": [
    "### Let's explore the other data the biologists collected."
   ]
  },
  {
   "cell_type": "markdown",
   "id": "coastal-bacon",
   "metadata": {
    "deletable": false,
    "editable": false
   },
   "source": [
    "<!-- BEGIN QUESTION -->\n",
    "\n",
    "**Question 1.** Visualize the number of cells of each type in each mouse. **(5 Points)**\n",
    "\n",
    "The information about which mouse a cell came from is stored in the `mouse` column of the `metadata` table.\n",
    "\n",
    "A cell type is one of `\"Basal\"`, `\"Ciliated\"`, `\"Club\"`, `\"Goblet\"`, `\"Ionocyte\"`, `\"Neuroendocrine\"` or `\"Tuft\"`. This information is stored in the `cluster` column of the `metadata` table. \n",
    "\n",
    "There were 6 different mice in the sample. Information about which mouse each cell comes from is stored in the `mouse` column of the `metadata` table.\n",
    "\n",
    "<!--\n",
    "BEGIN QUESTION\n",
    "name: q3_1\n",
    "manual: true\n",
    "-->"
   ]
  },
  {
   "cell_type": "code",
   "execution_count": 48,
   "id": "concerned-heading",
   "metadata": {
    "scrolled": false
   },
   "outputs": [],
   "source": [
    "# What kind of visualization do you want to make? \n",
    "# Can you make that visualization overlaid?\n",
    "# The Staff solution used one line of code!\n",
    "...\n",
    "..."
   ]
  },
  {
   "cell_type": "markdown",
   "id": "white-student",
   "metadata": {
    "deletable": false,
    "editable": false
   },
   "source": [
    "<!-- END QUESTION -->\n",
    "\n",
    "<!-- BEGIN QUESTION -->\n",
    "\n",
    "**Question 2.** Visualize the association between the average `Basal_score` and average `Club_score` for each unique `cluster` and `mouse` pair. **(6 Points)**\n",
    "\n",
    "<!--\n",
    "BEGIN QUESTION\n",
    "name: q3_2\n",
    "manual: true\n",
    "-->"
   ]
  },
  {
   "cell_type": "code",
   "execution_count": 49,
   "id": "understood-direction",
   "metadata": {
    "scrolled": true
   },
   "outputs": [],
   "source": [
    "..."
   ]
  },
  {
   "cell_type": "markdown",
   "id": "later-passion",
   "metadata": {
    "deletable": false,
    "editable": false
   },
   "source": [
    "<!-- END QUESTION -->\n",
    "\n",
    "<!-- BEGIN QUESTION -->\n",
    "\n",
    "**Question 3.** Create a scatter plot of `Y` (as the y axis) vs `X` (as the x axis) for every cell. Color the scatter plot by the `cluster` of the cells. The `tsne` table should be helpful. **(4 Points)**\n",
    "\n",
    "*Hint: Remember the group argument of tbl.scatter!*\n",
    "\n",
    "<!--\n",
    "BEGIN QUESTION\n",
    "name: q3_3\n",
    "manual: true\n",
    "-->"
   ]
  },
  {
   "cell_type": "code",
   "execution_count": 50,
   "id": "nominated-recycling",
   "metadata": {
    "scrolled": true
   },
   "outputs": [],
   "source": [
    "...\n",
    "\n",
    "# DON'T CHANGE THIS LINE\n",
    "plots.plot(-43, -7, marker='o', markerfacecolor='None', \n",
    "         markeredgecolor='r', markersize=30, markeredgewidth=5, linestyle='none');"
   ]
  },
  {
   "cell_type": "markdown",
   "id": "9341cd77",
   "metadata": {},
   "source": [
    "<!-- END QUESTION -->\n",
    "\n",
    "\n",
    "\n",
    "#### We marked a specific area of your scatter plot with a large red circle. These few cells (less than 30) were identified as a rare cell type called \"Pulmonary Ionocytes\"."
   ]
  },
  {
   "cell_type": "markdown",
   "id": "divine-architecture",
   "metadata": {},
   "source": [
    "Recall that the gene Cftr has been associated with cystic fibrosis. The table `dense_matrix`, that you created in part 2, contains expression of 8 genes of interest including Cftr. We call these genes \"marker genes\". "
   ]
  },
  {
   "cell_type": "code",
   "execution_count": 51,
   "id": "0eec07ec",
   "metadata": {},
   "outputs": [],
   "source": [
    "dense_matrix"
   ]
  },
  {
   "cell_type": "markdown",
   "id": "distinguished-stationery",
   "metadata": {
    "deletable": false,
    "editable": false
   },
   "source": [
    "**Question 4.** Create a table called `proportions` with two columns. The first column should be called `cluster` and have one row for each unique value in the `cluster` column of `metadata`. The second column should be called `Proportion Cftr > 0` and should correspond to the proportion of cells of that cluster type that have a Cftr expression value above 0. **(7 Points)**\n",
    "\n",
    "*Hint: Read the comments in the code cell! It might be easier to read the second grouping of comments first.*\n",
    "\n",
    "<!--\n",
    "BEGIN QUESTION\n",
    "name: q3_4\n",
    "manual: false\n",
    "points:\n",
    " - 0\n",
    " - 0\n",
    " - 7\n",
    "-->"
   ]
  },
  {
   "cell_type": "code",
   "execution_count": 52,
   "id": "moral-alloy",
   "metadata": {
    "scrolled": true
   },
   "outputs": [],
   "source": [
    "# We need to determine which cells have Cftr greater than 0, \n",
    "# and then aggregate that information by cluster!\n",
    "with_markers = ...\n",
    "with_cftr_above_0 = ...\n",
    "cluster_and_above_0 = ...\n",
    "\n",
    "# To calculate the proportion of cells above 0, we need the number above 0 and the total number of cells!\n",
    "# num_true_per_cluster and num_per_cluster should be arrays.\n",
    "num_true_per_cluster = ...\n",
    "num_per_cluster = ...\n",
    "\n",
    "# The proportions table needs to have a column called \"cluster\" for the clusters\n",
    "# and a column called \"Proportion Cftr > 0\" with the proportions!\n",
    "proportions = ...\n",
    "\n",
    "# Don't change these lines\n",
    "proportions = proportions.select(\"cluster\", \"Proportion Cftr > 0\")\n",
    "proportions.barh(\"cluster\", \"Proportion Cftr > 0\")"
   ]
  },
  {
   "cell_type": "code",
   "execution_count": null,
   "id": "72a58fb2",
   "metadata": {
    "deletable": false,
    "editable": false
   },
   "outputs": [],
   "source": [
    "grader.check(\"q3_4\")"
   ]
  },
  {
   "cell_type": "markdown",
   "id": "bf05e697",
   "metadata": {},
   "source": [
    "### It seems like ionocytes have a much higher expression of the Cftr gene than any other cell type. "
   ]
  },
  {
   "cell_type": "markdown",
   "id": "thermal-projector",
   "metadata": {},
   "source": [
    "To test this hypothesis, the biologists genetically engineered mice to \"turn off\" the `Foxi1` gene in some of the mice in the study.\n",
    "\n",
    "The gene Foxi1 is positively associated with the formation of pulmonary ionocytes. \n",
    "\n",
    "**The study found that in the genetically engineered mice, there was an 87.6% reduction in Cftr expression compared to non-genetically engineered (\"wild type\"/control) mice.**"
   ]
  },
  {
   "cell_type": "markdown",
   "id": "approved-surface",
   "metadata": {
    "deletable": false,
    "editable": false
   },
   "source": [
    "<!-- BEGIN QUESTION -->\n",
    "\n",
    "**Question 5.** Based on these results, the results from part 3 question 4, and the results from part 2 question 5, are Pulmonary ionocytes associated with Cftr expression? Is Foxi1 expression associated with Cftr expression? Does Foxi1 expression cause Cftr expression? Why or why not? **(4 Points)**\n",
    "\n",
    "<!--\n",
    "BEGIN QUESTION\n",
    "name: q3_5\n",
    "manual: true\n",
    "-->"
   ]
  },
  {
   "cell_type": "markdown",
   "id": "b7806462",
   "metadata": {},
   "source": [
    "_Type your answer here, replacing this text._"
   ]
  },
  {
   "cell_type": "markdown",
   "id": "committed-lightweight",
   "metadata": {
    "deletable": false,
    "editable": false
   },
   "source": [
    "<!-- END QUESTION -->\n",
    "\n",
    "<!-- BEGIN QUESTION -->\n",
    "\n",
    "**Question 6.** Why do you think the scientists studied mice? Do you think the results on mice let us make claims about humans? **(5 Points)**\n",
    "\n",
    "*Note: As stated at the beginning of the project, you do not need any outside knowledge of biology to answer this question or any other questions. If you have biology knowledge, feel free to use it to answer this question, but it will not impact your score.*\n",
    "\n",
    "<!--\n",
    "BEGIN QUESTION\n",
    "name: q3_6\n",
    "manual: true\n",
    "-->"
   ]
  },
  {
   "cell_type": "markdown",
   "id": "cdf73296",
   "metadata": {},
   "source": [
    "_Type your answer here, replacing this text._"
   ]
  },
  {
   "cell_type": "markdown",
   "id": "6cffdee5",
   "metadata": {},
   "source": [
    "<!-- END QUESTION -->\n",
    "\n",
    "\n",
    "\n",
    "### The genes included in the `dense_matrix` table were chosen because previous research associated them with cystic fibrosis. \n",
    "\n",
    "### We want to visualize the expression of these genes in each cell type, in order to conclusively highlight ionocytes as a target for future research and medicine."
   ]
  },
  {
   "cell_type": "markdown",
   "id": "1d5c895d",
   "metadata": {},
   "source": [
    "You are going to produce a special kind of visualization called a \"Dot Plot\". First, we need to define a few functions."
   ]
  },
  {
   "cell_type": "markdown",
   "id": "visible-breeding",
   "metadata": {
    "deletable": false,
    "editable": false
   },
   "source": [
    "**Question 7.** Complete the `proportion_above_0` and `non_zero_mean` functions so they work as described in their docstrings. **(4 Points)**\n",
    "\n",
    "<!--\n",
    "BEGIN QUESTION\n",
    "name: q3_7\n",
    "manual: false\n",
    "points:\n",
    " - 2\n",
    " - 2\n",
    "-->"
   ]
  },
  {
   "cell_type": "code",
   "execution_count": 56,
   "id": "133496e4",
   "metadata": {},
   "outputs": [],
   "source": [
    "def proportion_above_0(arr):\n",
    "    '''\n",
    "    Returns the proportion of values in array arr that are above 0.\n",
    "    \n",
    "    >>> proportion_above_0(make_array(0, 0, 2, -6, 0.01)) == 0.4\n",
    "    >>> proportion_above_0(make_array(0, 0, 0)) == 0\n",
    "    '''\n",
    "    ...\n",
    "\n",
    "def non_zero_mean(arr):\n",
    "    '''\n",
    "    Returns the mean of the nonzero values in array arr. \n",
    "    Assume none of the values are negative.\n",
    "    \n",
    "    >>> non_zero_mean(make_array(0, 1, 3, 0, 5)) == 3\n",
    "    >>> non_zero_mean(make_array(0, 0, 0)) == 0\n",
    "    '''\n",
    "    numerator = ...\n",
    "    denominator = ...\n",
    "    \n",
    "    # DON'T CHANGE THIS CODE\n",
    "    if denominator == 0:\n",
    "        return 0\n",
    "    return numerator / denominator\n",
    "\n",
    "# Example calls to the functions\n",
    "proportion_above_0(make_array(0, 0, 2, -6, 0.01)), non_zero_mean(make_array(0, 1, 3, 0, 5))"
   ]
  },
  {
   "cell_type": "code",
   "execution_count": null,
   "id": "defc3f7d",
   "metadata": {
    "deletable": false,
    "editable": false
   },
   "outputs": [],
   "source": [
    "grader.check(\"q3_7\")"
   ]
  },
  {
   "cell_type": "markdown",
   "id": "1b371e15",
   "metadata": {
    "deletable": false,
    "editable": false
   },
   "source": [
    "**Question 8.** Complete the following cell so that the `values` function performs as specified in its docstring. **(9 Points)**\n",
    "\n",
    "**NOTE:** \n",
    "\n",
    "This is a long question. To finish it, we recommend you first:\n",
    "- Take a peek at the `values` function. What intermediate tables would make writing this function easier?\n",
    "\n",
    "Then, define the following tables:\n",
    "- `markers_with_clusters`\n",
    "- `clusters_proportion_above_0`\n",
    "- `clusters_non_zero_avg_expr`\n",
    "\n",
    "After you are confident about these tables, try completing the values function!\n",
    "\n",
    "<!--\n",
    "BEGIN QUESTION\n",
    "name: q3_8\n",
    "manual: false\n",
    "points:\n",
    " - 0\n",
    " - 2\n",
    " - 2\n",
    " - 2\n",
    " - 3\n",
    "-->"
   ]
  },
  {
   "cell_type": "code",
   "execution_count": 59,
   "id": "7199922b",
   "metadata": {},
   "outputs": [],
   "source": [
    "# We need info about both the expression values and the clusters\n",
    "markers_with_clusters = ...\n",
    "markers_with_clusters.show(2)\n",
    "\n",
    "# We need info about the proportion of cells with expression above zero, in every gene, for each cluster\n",
    "clusters_proportion_above_0 = ...\n",
    "clusters_proportion_above_0.show(2)\n",
    "\n",
    "# We need info about the average non zero mean expression, in every gene, for each cluster\n",
    "clusters_non_zero_avg_expr = ...\n",
    "clusters_non_zero_avg_expr.show(2)\n",
    "\n",
    "def values(cluster, gene):\n",
    "    '''\n",
    "    Returns an array of the avg nonzero expression \n",
    "    and the proportion nonzero, for a specific cluster and gene.\n",
    "    '''\n",
    "    # Get the values for the specific cluster and gene\n",
    "    # Have the column names changed?\n",
    "    # You might want to add in extra lines of code here to shorten individual lines.\n",
    "    non_zero_avg_val = ...\n",
    "    proportion_above_0_val = ...\n",
    "    # Don't change this line!\n",
    "    return make_array(non_zero_avg_val, proportion_above_0_val)\n",
    "\n",
    "# An example call to the function\n",
    "values(\"Ionocyte\", \"Cftr\")"
   ]
  },
  {
   "cell_type": "code",
   "execution_count": null,
   "id": "e8bdff71",
   "metadata": {
    "deletable": false,
    "editable": false
   },
   "outputs": [],
   "source": [
    "grader.check(\"q3_8\")"
   ]
  },
  {
   "cell_type": "markdown",
   "id": "fresh-jacksonville",
   "metadata": {},
   "source": [
    "Run the following cell to plot a dot plot of the marker genes. \n",
    "\n",
    "- The dot plot has one dot per pair of cluster and marker gene. \n",
    "\n",
    "- The size of the dot corresponds to the proportion of cells in that cluster that have expression levels above zero in that gene. \n",
    "\n",
    "- The color of the dot corresponds to the average nonzero expression level of cells in that cluster. \n",
    "\n",
    "- You don't need to write any code for this question- all the code you wrote is in questions 7 and 8."
   ]
  },
  {
   "cell_type": "code",
   "execution_count": 65,
   "id": "surgical-supplier",
   "metadata": {},
   "outputs": [],
   "source": [
    "# DON'T CHANGE THIS CODE\n",
    "# PLOTS THE DOT PLOT\n",
    "clusters = np.unique(metadata.column(\"cluster\"))\n",
    "x_axis_ticks = np.arange(0, len(clusters))\n",
    "genes_uniq = [\"Stap1\", \"P2ry14\", \"Moxd1\", \"Foxi1\", \"Cftr\", \"Atp6v1c2\", \"Atp6v0d2\", \"Asgr1\", \"Ascl3\"]\n",
    "y_axis_ticks = np.arange(0, len(genes_uniq))\n",
    "mesh = np.meshgrid(x_axis_ticks, y_axis_ticks)\n",
    "plots.figure(figsize=(2.5,4))\n",
    "\n",
    "sizes = np.zeros_like(mesh[0], dtype=float)\n",
    "colors = np.zeros_like(mesh[0], dtype=float)\n",
    "\n",
    "for i, c in enumerate(clusters):\n",
    "    for j, g in enumerate(genes_uniq):\n",
    "        vals = values(c, g)\n",
    "        m = vals[0]\n",
    "        p = vals[1]\n",
    "        \n",
    "        sizes[j, i] = p\n",
    "        colors[j, i] = m\n",
    "\n",
    "\n",
    "sizes = 7 + (sizes * (120/np.max(sizes)))\n",
    "plots.scatter(mesh[0], mesh[1], s=sizes, c=colors, cmap=\"jet\");\n",
    "\n",
    "plots.xticks(x_axis_ticks, clusters, rotation = 90);\n",
    "plots.yticks(y_axis_ticks, genes_uniq);\n",
    "plots.colorbar();\n",
    "plots.title(\"Marker Genes vs Cluster\");"
   ]
  },
  {
   "cell_type": "markdown",
   "id": "bbbded33",
   "metadata": {},
   "source": [
    "### As you can see, ionocytes are indeed associated with our marker genes, and thus associated with cystic fibrosis. With this knowledge in hand, we can design future experiments to analyze the effects of medicines targeted at this cell type, and work towards treating cystic fibrosis. "
   ]
  },
  {
   "cell_type": "markdown",
   "id": "8c3db646",
   "metadata": {},
   "source": [
    "# Congrats, you have finished Project 1!\n",
    "\n",
    "Using your table manipulation and visualization skills you have:\n",
    "- Analyzed the popularity of a new technology, scRNA-seq, using rolling averages\n",
    "- Manipulated scRNA-seq data into a usable format\n",
    "- Identified an association between a novel cell type, ionocytes, and the disease cystic fibrosis, opening the way for future research."
   ]
  },
  {
   "cell_type": "markdown",
   "id": "a44f2780",
   "metadata": {
    "deletable": false,
    "editable": false
   },
   "source": [
    "---\n",
    "\n",
    "To double-check your work, the cell below will rerun all of the autograder tests."
   ]
  },
  {
   "cell_type": "code",
   "execution_count": null,
   "id": "74a041c4",
   "metadata": {
    "deletable": false,
    "editable": false
   },
   "outputs": [],
   "source": [
    "grader.check_all()"
   ]
  },
  {
   "cell_type": "markdown",
   "id": "af49dc77",
   "metadata": {
    "deletable": false,
    "editable": false
   },
   "source": [
    "## Submission\n",
    "\n",
    "Make sure you have run all cells in your notebook in order before running the cell below, so that all images/graphs appear in the output. The cell below will generate a zip file for you to submit. **Please save before exporting!**"
   ]
  },
  {
   "cell_type": "code",
   "execution_count": null,
   "id": "26fd1ae8",
   "metadata": {
    "deletable": false,
    "editable": false
   },
   "outputs": [],
   "source": [
    "# Save your notebook first, then run this cell to export your submission.\n",
    "grader.export(pdf=False)"
   ]
  },
  {
   "cell_type": "markdown",
   "id": "d187d620",
   "metadata": {},
   "source": [
    " "
   ]
  }
 ],
 "metadata": {
  "kernelspec": {
   "display_name": "Python 3 (ipykernel)",
   "language": "python",
   "name": "python3"
  },
  "language_info": {
   "codemirror_mode": {
    "name": "ipython",
    "version": 3
   },
   "file_extension": ".py",
   "mimetype": "text/x-python",
   "name": "python",
   "nbconvert_exporter": "python",
   "pygments_lexer": "ipython3",
   "version": "3.8.10"
  }
 },
 "nbformat": 4,
 "nbformat_minor": 5
}
